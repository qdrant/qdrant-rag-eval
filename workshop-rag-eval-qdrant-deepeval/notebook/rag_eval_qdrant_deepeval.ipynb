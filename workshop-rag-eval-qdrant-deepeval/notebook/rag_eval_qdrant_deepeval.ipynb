{
 "cells": [
  {
   "cell_type": "markdown",
   "metadata": {
    "id": "tbY_IXyvvSoz"
   },
   "source": [
    "### **1. Import relevant packages**"
   ]
  },
  {
   "cell_type": "code",
   "execution_count": 1,
   "metadata": {
    "id": "iMyjSqevU1_v"
   },
   "outputs": [
    {
     "name": "stdout",
     "output_type": "stream",
     "text": [
      "/Users/atitaarora/.zshenv:2: command too long: /Users/atitaarora/qdrant/workspace/qdrant-rag-eval/workshop-rag-eval-oxford-llm2024/oxford-rag-eval/bin:/opt/homebrew/bin:/opt/homebrew/sbin:/usr/local/bin:/System/Cryptexes/App/usr/bin:/usr/bin:/bin:/usr/sbin:/sbin:/var/run/com.apple.security.cryptexd/codex.system/bootstrap/usr/local/bin:/var/run/com.apple.security.cryptexd/codex.system/bootstrap/usr/bin:/var/run/com.apple.security.cryptexd/codex.system/bootstrap/usr/appleinternal/bin:/Library/Apple/usr/bin:/Users/atitaarora/.cargo/bin:/Applications/iTerm.app/Contents/Resources/utilities=/Users/atitaarora/qdrant/workspace/qdrant-rag-eval/workshop-rag-eval-oxford-llm2024/oxford-rag-eval/bin:/opt/homebrew/bin:/opt/homebrew/sbin:/usr/local/bin:/System/Cryptexes/App/usr/bin:/usr/bin:/bin:/usr/sbin:/sbin:/var/run/com.apple.security.cryptexd/codex.system/bootstrap/usr/local/bin:/var/run/com.apple.security.cryptexd/codex.system/bootstrap/usr/bin:/var/run/com.apple.security.cryptexd/codex.system/bootstrap/usr/appleinternal/bin:/Library/Apple/usr/bin:/Users/atitaarora/.cargo/bin:/Applications/iTerm.app/Contents/Resources/utilities+,,/Users/atitaarora/Library/Python/3.10/bin\n",
      "Collecting deepeval\n",
      "  Downloading deepeval-1.3.4-py3-none-any.whl.metadata (977 bytes)\n",
      "Requirement already satisfied: requests in ./oxford-rag-eval/lib/python3.12/site-packages (from deepeval) (2.32.3)\n",
      "Requirement already satisfied: tqdm in ./oxford-rag-eval/lib/python3.12/site-packages (from deepeval) (4.66.5)\n",
      "Collecting pytest (from deepeval)\n",
      "  Downloading pytest-8.3.3-py3-none-any.whl.metadata (7.5 kB)\n",
      "Collecting tabulate (from deepeval)\n",
      "  Using cached tabulate-0.9.0-py3-none-any.whl.metadata (34 kB)\n",
      "Requirement already satisfied: typer in ./oxford-rag-eval/lib/python3.12/site-packages (from deepeval) (0.12.5)\n",
      "Requirement already satisfied: rich in ./oxford-rag-eval/lib/python3.12/site-packages (from deepeval) (13.8.1)\n",
      "Requirement already satisfied: protobuf in ./oxford-rag-eval/lib/python3.12/site-packages (from deepeval) (5.28.2)\n",
      "Requirement already satisfied: pydantic in ./oxford-rag-eval/lib/python3.12/site-packages (from deepeval) (2.9.2)\n",
      "Collecting sentry-sdk (from deepeval)\n",
      "  Downloading sentry_sdk-2.15.0-py2.py3-none-any.whl.metadata (9.7 kB)\n",
      "Collecting pytest-repeat (from deepeval)\n",
      "  Downloading pytest_repeat-0.9.3-py3-none-any.whl.metadata (4.9 kB)\n",
      "Collecting pytest-xdist (from deepeval)\n",
      "  Downloading pytest_xdist-3.6.1-py3-none-any.whl.metadata (4.3 kB)\n",
      "Requirement already satisfied: portalocker in ./oxford-rag-eval/lib/python3.12/site-packages (from deepeval) (2.10.1)\n",
      "Requirement already satisfied: langchain in ./oxford-rag-eval/lib/python3.12/site-packages (from deepeval) (0.2.16)\n",
      "Requirement already satisfied: langchain-core in ./oxford-rag-eval/lib/python3.12/site-packages (from deepeval) (0.2.41)\n",
      "Requirement already satisfied: langchain-openai in ./oxford-rag-eval/lib/python3.12/site-packages (from deepeval) (0.1.25)\n",
      "Requirement already satisfied: ragas in ./oxford-rag-eval/lib/python3.12/site-packages (from deepeval) (0.1.20)\n",
      "Collecting docx2txt~=0.8 (from deepeval)\n",
      "  Downloading docx2txt-0.8.tar.gz (2.8 kB)\n",
      "  Installing build dependencies ... \u001b[?25ldone\n",
      "\u001b[?25h  Getting requirements to build wheel ... \u001b[?25ldone\n",
      "\u001b[?25h  Preparing metadata (pyproject.toml) ... \u001b[?25ldone\n",
      "\u001b[?25hCollecting importlib-metadata>=6.0.2 (from deepeval)\n",
      "  Downloading importlib_metadata-8.5.0-py3-none-any.whl.metadata (4.8 kB)\n",
      "Collecting tenacity~=8.4.1 (from deepeval)\n",
      "  Downloading tenacity-8.4.2-py3-none-any.whl.metadata (1.2 kB)\n",
      "Collecting opentelemetry-api~=1.24.0 (from deepeval)\n",
      "  Downloading opentelemetry_api-1.24.0-py3-none-any.whl.metadata (1.3 kB)\n",
      "Collecting opentelemetry-sdk~=1.24.0 (from deepeval)\n",
      "  Downloading opentelemetry_sdk-1.24.0-py3-none-any.whl.metadata (1.4 kB)\n",
      "Collecting opentelemetry-exporter-otlp-proto-grpc~=1.24.0 (from deepeval)\n",
      "  Downloading opentelemetry_exporter_otlp_proto_grpc-1.24.0-py3-none-any.whl.metadata (2.2 kB)\n",
      "Collecting grpcio~=1.63.0 (from deepeval)\n",
      "  Downloading grpcio-1.63.2-cp312-cp312-macosx_10_9_universal2.whl.metadata (3.2 kB)\n",
      "Collecting zipp>=3.20 (from importlib-metadata>=6.0.2->deepeval)\n",
      "  Downloading zipp-3.20.2-py3-none-any.whl.metadata (3.7 kB)\n",
      "Requirement already satisfied: deprecated>=1.2.6 in ./oxford-rag-eval/lib/python3.12/site-packages (from opentelemetry-api~=1.24.0->deepeval) (1.2.14)\n",
      "Collecting importlib-metadata>=6.0.2 (from deepeval)\n",
      "  Using cached importlib_metadata-7.0.0-py3-none-any.whl.metadata (4.9 kB)\n",
      "Collecting googleapis-common-protos~=1.52 (from opentelemetry-exporter-otlp-proto-grpc~=1.24.0->deepeval)\n",
      "  Using cached googleapis_common_protos-1.65.0-py2.py3-none-any.whl.metadata (1.5 kB)\n",
      "Collecting opentelemetry-exporter-otlp-proto-common==1.24.0 (from opentelemetry-exporter-otlp-proto-grpc~=1.24.0->deepeval)\n",
      "  Downloading opentelemetry_exporter_otlp_proto_common-1.24.0-py3-none-any.whl.metadata (1.7 kB)\n",
      "Collecting opentelemetry-proto==1.24.0 (from opentelemetry-exporter-otlp-proto-grpc~=1.24.0->deepeval)\n",
      "  Downloading opentelemetry_proto-1.24.0-py3-none-any.whl.metadata (2.2 kB)\n",
      "Collecting protobuf (from deepeval)\n",
      "  Downloading protobuf-4.25.5-cp37-abi3-macosx_10_9_universal2.whl.metadata (541 bytes)\n",
      "Collecting opentelemetry-semantic-conventions==0.45b0 (from opentelemetry-sdk~=1.24.0->deepeval)\n",
      "  Downloading opentelemetry_semantic_conventions-0.45b0-py3-none-any.whl.metadata (2.2 kB)\n",
      "Requirement already satisfied: typing-extensions>=3.7.4 in ./oxford-rag-eval/lib/python3.12/site-packages (from opentelemetry-sdk~=1.24.0->deepeval) (4.12.2)\n",
      "Requirement already satisfied: PyYAML>=5.3 in ./oxford-rag-eval/lib/python3.12/site-packages (from langchain->deepeval) (6.0.2)\n",
      "Requirement already satisfied: SQLAlchemy<3,>=1.4 in ./oxford-rag-eval/lib/python3.12/site-packages (from langchain->deepeval) (2.0.35)\n",
      "Requirement already satisfied: aiohttp<4.0.0,>=3.8.3 in ./oxford-rag-eval/lib/python3.12/site-packages (from langchain->deepeval) (3.10.5)\n",
      "Requirement already satisfied: langchain-text-splitters<0.3.0,>=0.2.0 in ./oxford-rag-eval/lib/python3.12/site-packages (from langchain->deepeval) (0.2.4)\n",
      "Requirement already satisfied: langsmith<0.2.0,>=0.1.17 in ./oxford-rag-eval/lib/python3.12/site-packages (from langchain->deepeval) (0.1.125)\n",
      "Requirement already satisfied: numpy<2.0.0,>=1.26.0 in ./oxford-rag-eval/lib/python3.12/site-packages (from langchain->deepeval) (1.26.4)\n",
      "Requirement already satisfied: jsonpatch<2.0,>=1.33 in ./oxford-rag-eval/lib/python3.12/site-packages (from langchain-core->deepeval) (1.33)\n",
      "Requirement already satisfied: packaging<25,>=23.2 in ./oxford-rag-eval/lib/python3.12/site-packages (from langchain-core->deepeval) (24.1)\n",
      "Requirement already satisfied: annotated-types>=0.6.0 in ./oxford-rag-eval/lib/python3.12/site-packages (from pydantic->deepeval) (0.7.0)\n",
      "Requirement already satisfied: pydantic-core==2.23.4 in ./oxford-rag-eval/lib/python3.12/site-packages (from pydantic->deepeval) (2.23.4)\n",
      "Requirement already satisfied: charset-normalizer<4,>=2 in ./oxford-rag-eval/lib/python3.12/site-packages (from requests->deepeval) (3.3.2)\n",
      "Requirement already satisfied: idna<4,>=2.5 in ./oxford-rag-eval/lib/python3.12/site-packages (from requests->deepeval) (3.10)\n",
      "Requirement already satisfied: urllib3<3,>=1.21.1 in ./oxford-rag-eval/lib/python3.12/site-packages (from requests->deepeval) (2.2.3)\n",
      "Requirement already satisfied: certifi>=2017.4.17 in ./oxford-rag-eval/lib/python3.12/site-packages (from requests->deepeval) (2024.8.30)\n",
      "Requirement already satisfied: openai<2.0.0,>=1.40.0 in ./oxford-rag-eval/lib/python3.12/site-packages (from langchain-openai->deepeval) (1.47.0)\n",
      "Requirement already satisfied: tiktoken<1,>=0.7 in ./oxford-rag-eval/lib/python3.12/site-packages (from langchain-openai->deepeval) (0.7.0)\n",
      "Collecting iniconfig (from pytest->deepeval)\n",
      "  Downloading iniconfig-2.0.0-py3-none-any.whl.metadata (2.6 kB)\n",
      "Collecting pluggy<2,>=1.5 (from pytest->deepeval)\n",
      "  Using cached pluggy-1.5.0-py3-none-any.whl.metadata (4.8 kB)\n",
      "Collecting execnet>=2.1 (from pytest-xdist->deepeval)\n",
      "  Downloading execnet-2.1.1-py3-none-any.whl.metadata (2.9 kB)\n",
      "Requirement already satisfied: datasets in ./oxford-rag-eval/lib/python3.12/site-packages (from ragas->deepeval) (2.21.0)\n",
      "Requirement already satisfied: langchain-community in ./oxford-rag-eval/lib/python3.12/site-packages (from ragas->deepeval) (0.2.17)\n",
      "Requirement already satisfied: pysbd>=0.3.4 in ./oxford-rag-eval/lib/python3.12/site-packages (from ragas->deepeval) (0.3.4)\n",
      "Requirement already satisfied: nest-asyncio in ./oxford-rag-eval/lib/python3.12/site-packages (from ragas->deepeval) (1.6.0)\n",
      "Requirement already satisfied: appdirs in ./oxford-rag-eval/lib/python3.12/site-packages (from ragas->deepeval) (1.4.4)\n",
      "Requirement already satisfied: markdown-it-py>=2.2.0 in ./oxford-rag-eval/lib/python3.12/site-packages (from rich->deepeval) (3.0.0)\n",
      "Requirement already satisfied: pygments<3.0.0,>=2.13.0 in ./oxford-rag-eval/lib/python3.12/site-packages (from rich->deepeval) (2.18.0)\n",
      "Requirement already satisfied: click>=8.0.0 in ./oxford-rag-eval/lib/python3.12/site-packages (from typer->deepeval) (8.1.7)\n",
      "Requirement already satisfied: shellingham>=1.3.0 in ./oxford-rag-eval/lib/python3.12/site-packages (from typer->deepeval) (1.5.4)\n",
      "Requirement already satisfied: aiohappyeyeballs>=2.3.0 in ./oxford-rag-eval/lib/python3.12/site-packages (from aiohttp<4.0.0,>=3.8.3->langchain->deepeval) (2.4.0)\n",
      "Requirement already satisfied: aiosignal>=1.1.2 in ./oxford-rag-eval/lib/python3.12/site-packages (from aiohttp<4.0.0,>=3.8.3->langchain->deepeval) (1.3.1)\n",
      "Requirement already satisfied: attrs>=17.3.0 in ./oxford-rag-eval/lib/python3.12/site-packages (from aiohttp<4.0.0,>=3.8.3->langchain->deepeval) (24.2.0)\n",
      "Requirement already satisfied: frozenlist>=1.1.1 in ./oxford-rag-eval/lib/python3.12/site-packages (from aiohttp<4.0.0,>=3.8.3->langchain->deepeval) (1.4.1)\n",
      "Requirement already satisfied: multidict<7.0,>=4.5 in ./oxford-rag-eval/lib/python3.12/site-packages (from aiohttp<4.0.0,>=3.8.3->langchain->deepeval) (6.1.0)\n",
      "Requirement already satisfied: yarl<2.0,>=1.0 in ./oxford-rag-eval/lib/python3.12/site-packages (from aiohttp<4.0.0,>=3.8.3->langchain->deepeval) (1.11.1)\n",
      "Requirement already satisfied: wrapt<2,>=1.10 in ./oxford-rag-eval/lib/python3.12/site-packages (from deprecated>=1.2.6->opentelemetry-api~=1.24.0->deepeval) (1.16.0)\n",
      "Requirement already satisfied: jsonpointer>=1.9 in ./oxford-rag-eval/lib/python3.12/site-packages (from jsonpatch<2.0,>=1.33->langchain-core->deepeval) (3.0.0)\n",
      "Requirement already satisfied: httpx<1,>=0.23.0 in ./oxford-rag-eval/lib/python3.12/site-packages (from langsmith<0.2.0,>=0.1.17->langchain->deepeval) (0.27.2)\n",
      "Requirement already satisfied: orjson<4.0.0,>=3.9.14 in ./oxford-rag-eval/lib/python3.12/site-packages (from langsmith<0.2.0,>=0.1.17->langchain->deepeval) (3.10.7)\n",
      "Requirement already satisfied: mdurl~=0.1 in ./oxford-rag-eval/lib/python3.12/site-packages (from markdown-it-py>=2.2.0->rich->deepeval) (0.1.2)\n",
      "Requirement already satisfied: anyio<5,>=3.5.0 in ./oxford-rag-eval/lib/python3.12/site-packages (from openai<2.0.0,>=1.40.0->langchain-openai->deepeval) (4.6.0)\n",
      "Requirement already satisfied: distro<2,>=1.7.0 in ./oxford-rag-eval/lib/python3.12/site-packages (from openai<2.0.0,>=1.40.0->langchain-openai->deepeval) (1.9.0)\n",
      "Requirement already satisfied: jiter<1,>=0.4.0 in ./oxford-rag-eval/lib/python3.12/site-packages (from openai<2.0.0,>=1.40.0->langchain-openai->deepeval) (0.5.0)\n",
      "Requirement already satisfied: sniffio in ./oxford-rag-eval/lib/python3.12/site-packages (from openai<2.0.0,>=1.40.0->langchain-openai->deepeval) (1.3.1)\n",
      "Requirement already satisfied: regex>=2022.1.18 in ./oxford-rag-eval/lib/python3.12/site-packages (from tiktoken<1,>=0.7->langchain-openai->deepeval) (2024.9.11)\n",
      "Requirement already satisfied: filelock in ./oxford-rag-eval/lib/python3.12/site-packages (from datasets->ragas->deepeval) (3.16.1)\n",
      "Requirement already satisfied: pyarrow>=15.0.0 in ./oxford-rag-eval/lib/python3.12/site-packages (from datasets->ragas->deepeval) (17.0.0)\n",
      "Requirement already satisfied: dill<0.3.9,>=0.3.0 in ./oxford-rag-eval/lib/python3.12/site-packages (from datasets->ragas->deepeval) (0.3.8)\n",
      "Requirement already satisfied: pandas in ./oxford-rag-eval/lib/python3.12/site-packages (from datasets->ragas->deepeval) (2.2.3)\n",
      "Requirement already satisfied: xxhash in ./oxford-rag-eval/lib/python3.12/site-packages (from datasets->ragas->deepeval) (3.5.0)\n",
      "Requirement already satisfied: multiprocess in ./oxford-rag-eval/lib/python3.12/site-packages (from datasets->ragas->deepeval) (0.70.16)\n",
      "Requirement already satisfied: fsspec<=2024.6.1,>=2023.1.0 in ./oxford-rag-eval/lib/python3.12/site-packages (from fsspec[http]<=2024.6.1,>=2023.1.0->datasets->ragas->deepeval) (2024.6.1)\n",
      "Requirement already satisfied: huggingface-hub>=0.21.2 in ./oxford-rag-eval/lib/python3.12/site-packages (from datasets->ragas->deepeval) (0.25.0)\n",
      "Requirement already satisfied: dataclasses-json<0.7,>=0.5.7 in ./oxford-rag-eval/lib/python3.12/site-packages (from langchain-community->ragas->deepeval) (0.6.7)\n",
      "Requirement already satisfied: marshmallow<4.0.0,>=3.18.0 in ./oxford-rag-eval/lib/python3.12/site-packages (from dataclasses-json<0.7,>=0.5.7->langchain-community->ragas->deepeval) (3.22.0)\n",
      "Requirement already satisfied: typing-inspect<1,>=0.4.0 in ./oxford-rag-eval/lib/python3.12/site-packages (from dataclasses-json<0.7,>=0.5.7->langchain-community->ragas->deepeval) (0.9.0)\n",
      "Requirement already satisfied: httpcore==1.* in ./oxford-rag-eval/lib/python3.12/site-packages (from httpx<1,>=0.23.0->langsmith<0.2.0,>=0.1.17->langchain->deepeval) (1.0.5)\n",
      "Requirement already satisfied: h11<0.15,>=0.13 in ./oxford-rag-eval/lib/python3.12/site-packages (from httpcore==1.*->httpx<1,>=0.23.0->langsmith<0.2.0,>=0.1.17->langchain->deepeval) (0.14.0)\n",
      "Requirement already satisfied: python-dateutil>=2.8.2 in ./oxford-rag-eval/lib/python3.12/site-packages (from pandas->datasets->ragas->deepeval) (2.9.0.post0)\n",
      "Requirement already satisfied: pytz>=2020.1 in ./oxford-rag-eval/lib/python3.12/site-packages (from pandas->datasets->ragas->deepeval) (2024.2)\n",
      "Requirement already satisfied: tzdata>=2022.7 in ./oxford-rag-eval/lib/python3.12/site-packages (from pandas->datasets->ragas->deepeval) (2024.1)\n",
      "Requirement already satisfied: six>=1.5 in ./oxford-rag-eval/lib/python3.12/site-packages (from python-dateutil>=2.8.2->pandas->datasets->ragas->deepeval) (1.16.0)\n",
      "Requirement already satisfied: mypy-extensions>=0.3.0 in ./oxford-rag-eval/lib/python3.12/site-packages (from typing-inspect<1,>=0.4.0->dataclasses-json<0.7,>=0.5.7->langchain-community->ragas->deepeval) (1.0.0)\n",
      "Downloading deepeval-1.3.4-py3-none-any.whl (389 kB)\n",
      "Downloading grpcio-1.63.2-cp312-cp312-macosx_10_9_universal2.whl (10.1 MB)\n",
      "\u001b[2K   \u001b[38;2;114;156;31m━━━━━━━━━━━━━━━━━━━━━━━━━━━━━━━━━━━━━━━━\u001b[0m \u001b[32m10.1/10.1 MB\u001b[0m \u001b[31m12.3 MB/s\u001b[0m eta \u001b[36m0:00:00\u001b[0mMB/s\u001b[0m eta \u001b[36m0:00:01\u001b[0m:01\u001b[0m\n",
      "\u001b[?25hDownloading opentelemetry_api-1.24.0-py3-none-any.whl (60 kB)\n",
      "Using cached importlib_metadata-7.0.0-py3-none-any.whl (23 kB)\n",
      "Downloading opentelemetry_exporter_otlp_proto_grpc-1.24.0-py3-none-any.whl (18 kB)\n",
      "Downloading opentelemetry_exporter_otlp_proto_common-1.24.0-py3-none-any.whl (17 kB)\n",
      "Downloading opentelemetry_proto-1.24.0-py3-none-any.whl (50 kB)\n",
      "Downloading opentelemetry_sdk-1.24.0-py3-none-any.whl (106 kB)\n",
      "Downloading opentelemetry_semantic_conventions-0.45b0-py3-none-any.whl (36 kB)\n",
      "Downloading protobuf-4.25.5-cp37-abi3-macosx_10_9_universal2.whl (394 kB)\n",
      "Downloading tenacity-8.4.2-py3-none-any.whl (28 kB)\n",
      "Downloading pytest-8.3.3-py3-none-any.whl (342 kB)\n",
      "Downloading pytest_repeat-0.9.3-py3-none-any.whl (4.2 kB)\n",
      "Downloading pytest_xdist-3.6.1-py3-none-any.whl (46 kB)\n",
      "Downloading sentry_sdk-2.15.0-py2.py3-none-any.whl (310 kB)\n",
      "Using cached tabulate-0.9.0-py3-none-any.whl (35 kB)\n",
      "Downloading execnet-2.1.1-py3-none-any.whl (40 kB)\n",
      "Using cached googleapis_common_protos-1.65.0-py2.py3-none-any.whl (220 kB)\n",
      "Using cached pluggy-1.5.0-py3-none-any.whl (20 kB)\n",
      "Downloading zipp-3.20.2-py3-none-any.whl (9.2 kB)\n",
      "Downloading iniconfig-2.0.0-py3-none-any.whl (5.9 kB)\n",
      "Building wheels for collected packages: docx2txt\n",
      "  Building wheel for docx2txt (pyproject.toml) ... \u001b[?25ldone\n",
      "\u001b[?25h  Created wheel for docx2txt: filename=docx2txt-0.8-py3-none-any.whl size=3960 sha256=6e3a956dc2bbd7c194acc2b1109754bf02fbc341c8c1e2014b13918b7de952e5\n",
      "  Stored in directory: /Users/atitaarora/Library/Caches/pip/wheels/6f/81/48/001bbc0109c15e18c009eee300022f42d1e070e54f1d00b218\n",
      "Successfully built docx2txt\n",
      "Installing collected packages: docx2txt, zipp, tenacity, tabulate, sentry-sdk, protobuf, pluggy, opentelemetry-semantic-conventions, iniconfig, grpcio, execnet, pytest, opentelemetry-proto, importlib-metadata, googleapis-common-protos, pytest-xdist, pytest-repeat, opentelemetry-exporter-otlp-proto-common, opentelemetry-api, opentelemetry-sdk, opentelemetry-exporter-otlp-proto-grpc, deepeval\n",
      "  Attempting uninstall: tenacity\n",
      "    Found existing installation: tenacity 8.5.0\n",
      "    Uninstalling tenacity-8.5.0:\n",
      "      Successfully uninstalled tenacity-8.5.0\n",
      "  Attempting uninstall: protobuf\n",
      "    Found existing installation: protobuf 5.28.2\n",
      "    Uninstalling protobuf-5.28.2:\n",
      "      Successfully uninstalled protobuf-5.28.2\n",
      "  Attempting uninstall: grpcio\n",
      "    Found existing installation: grpcio 1.66.1\n",
      "    Uninstalling grpcio-1.66.1:\n",
      "      Successfully uninstalled grpcio-1.66.1\n",
      "\u001b[31mERROR: pip's dependency resolver does not currently take into account all the packages that are installed. This behaviour is the source of the following dependency conflicts.\n",
      "grpcio-tools 1.66.1 requires grpcio>=1.66.1, but you have grpcio 1.63.2 which is incompatible.\n",
      "grpcio-tools 1.66.1 requires protobuf<6.0dev,>=5.26.1, but you have protobuf 4.25.5 which is incompatible.\u001b[0m\u001b[31m\n",
      "\u001b[0mSuccessfully installed deepeval-1.3.4 docx2txt-0.8 execnet-2.1.1 googleapis-common-protos-1.65.0 grpcio-1.63.2 importlib-metadata-7.0.0 iniconfig-2.0.0 opentelemetry-api-1.24.0 opentelemetry-exporter-otlp-proto-common-1.24.0 opentelemetry-exporter-otlp-proto-grpc-1.24.0 opentelemetry-proto-1.24.0 opentelemetry-sdk-1.24.0 opentelemetry-semantic-conventions-0.45b0 pluggy-1.5.0 protobuf-4.25.5 pytest-8.3.3 pytest-repeat-0.9.3 pytest-xdist-3.6.1 sentry-sdk-2.15.0 tabulate-0.9.0 tenacity-8.4.2 zipp-3.20.2\n"
     ]
    }
   ],
   "source": [
    "#!pip install openai qdrant-client fastembed datasets langchain python-dotenv \n",
    "!pip install deepeval"
   ]
  },
  {
   "cell_type": "code",
   "execution_count": null,
   "metadata": {
    "id": "OjiIsv1fdI98"
   },
   "outputs": [],
   "source": [
    "# Get a FREE forever cluster at https://cloud.qdrant.io/\n",
    "# More info: https://qdrant.tech/documentation/cloud/create-cluster/\n",
    "QDRANT_URL = \"<URL>\"\n",
    "QDRANT_API_KEY = \"<API_KEY>\"\n",
    "# Get your key from https://platform.openai.com/api-keys\n",
    "OPENAI_API_KEY = \"<API_KEY>\""
   ]
  },
  {
   "cell_type": "code",
   "execution_count": null,
   "metadata": {
    "id": "_A1rBXAowQ22"
   },
   "outputs": [],
   "source": [
    "import os\n",
    "import json\n",
    "import openai\n",
    "from tqdm.notebook import tqdm\n",
    "from datasets import load_dataset\n",
    "from qdrant_client import QdrantClient"
   ]
  },
  {
   "cell_type": "code",
   "execution_count": null,
   "metadata": {},
   "outputs": [],
   "source": [
    "load_dotenv()"
   ]
  },
  {
   "cell_type": "code",
   "execution_count": null,
   "metadata": {
    "id": "hZl3eaEC1O1m"
   },
   "outputs": [],
   "source": [
    "dataset = load_dataset(\"atitaarora/qdrant_doc\", split=\"train\")\n"
   ]
  },
  {
   "cell_type": "code",
   "execution_count": null,
   "metadata": {
    "id": "TXpn1xZF4_y6"
   },
   "outputs": [],
   "source": [
    "from langchain.text_splitter import RecursiveCharacterTextSplitter\n",
    "from langchain.docstore.document import Document as LangchainDocument\n",
    "\n",
    "langchain_docs = [\n",
    "    LangchainDocument(page_content=doc[\"text\"], metadata={\"source\": doc[\"source\"]})\n",
    "    for doc in tqdm(dataset)\n",
    "]\n"
   ]
  },
  {
   "cell_type": "code",
   "execution_count": null,
   "metadata": {
    "colab": {
     "base_uri": "https://localhost:8080/"
    },
    "id": "OLWqwoszGI3z",
    "outputId": "6706077c-b0b0-4fc3-beb2-7750bff1ae7e"
   },
   "outputs": [
    {
     "data": {
      "text/plain": [
       "9267"
      ]
     },
     "execution_count": 13,
     "metadata": {},
     "output_type": "execute_result"
    }
   ],
   "source": [
    "text_splitter = RecursiveCharacterTextSplitter(\n",
    "    chunk_size=512,\n",
    "    chunk_overlap=50,\n",
    "    add_start_index=True,\n",
    "    separators=[\"\\n\\n\", \"\\n\", \".\", \" \", \"\"],\n",
    ")\n",
    "\n",
    "docs_processed = []\n",
    "for doc in langchain_docs:\n",
    "    docs_processed += text_splitter.split_documents([doc])\n",
    "len(docs_processed)"
   ]
  },
  {
   "cell_type": "code",
   "execution_count": null,
   "metadata": {
    "id": "Ymq23aPCIA7j"
   },
   "outputs": [],
   "source": [
    "client = QdrantClient(\n",
    "    url=QDRANT_URL,\n",
    "    api_key=QDRANT_API_KEY\n",
    ")"
   ]
  },
  {
   "cell_type": "code",
   "execution_count": null,
   "metadata": {
    "id": "xLLsfOsgJRJ3"
   },
   "outputs": [],
   "source": [
    "COLLECTION_NAME = \"qdrant-deepeval\""
   ]
  },
  {
   "cell_type": "code",
   "execution_count": null,
   "metadata": {
    "colab": {
     "base_uri": "https://localhost:8080/"
    },
    "id": "d2_E_VKqIvu7",
    "outputId": "daa7e040-4b0f-453e-ecf5-f789e393221c"
   },
   "outputs": [
    {
     "name": "stdout",
     "output_type": "stream",
     "text": [
      "content :  9267\n",
      "metadata :  9267\n"
     ]
    }
   ],
   "source": [
    "docs_contents = []\n",
    "docs_metadatas = []\n",
    "\n",
    "for doc in docs_processed:\n",
    "    if hasattr(doc, 'page_content') and hasattr(doc, 'metadata'):\n",
    "        docs_contents.append(doc.page_content)\n",
    "        docs_metadatas.append(doc.metadata)\n",
    "    else:\n",
    "        # Handle the case where attributes are missing\n",
    "        print(\"Warning: Some documents do not have 'page_content' or 'metadata' attributes.\")\n",
    "\n",
    "len(docs_contents)\n",
    "len(docs_metadatas)"
   ]
  },
  {
   "cell_type": "code",
   "execution_count": null,
   "metadata": {
    "id": "RwdEyzvOK5mZ"
   },
   "outputs": [],
   "source": [
    "client.add(collection_name=COLLECTION_NAME, metadata=docs_metadatas, documents=docs_contents)"
   ]
  },
  {
   "cell_type": "code",
   "execution_count": null,
   "metadata": {
    "id": "OFOxzL3PN8xp"
   },
   "outputs": [],
   "source": [
    "client.count(collection_name=COLLECTION_NAME).count"
   ]
  },
  {
   "cell_type": "code",
   "execution_count": null,
   "metadata": {
    "id": "Fnne48JLWe-H"
   },
   "outputs": [],
   "source": [
    "from openai import OpenAI\n",
    "openai_client = OpenAI(api_key=OPENAI_API_KEY)"
   ]
  },
  {
   "cell_type": "code",
   "execution_count": null,
   "metadata": {
    "id": "unnDrJjPWxDQ"
   },
   "outputs": [],
   "source": [
    "def query_with_context(query,limit):\n",
    "\n",
    "    ## Fetch context from Qdrant\n",
    "    search_result = client.query(collection_name=COLLECTION_NAME, query_text=query, limit=limit)\n",
    "\n",
    "    contexts = [\n",
    "        \"document: \"+r.document+\",source: \"+r.metadata['source'] for r in search_result\n",
    "    ]\n",
    "    prompt_start = (\n",
    "        \"\"\" You're assisting a user who has a question based on the documentation.\n",
    "        Your goal is to provide a clear and concise response that addresses their query while referencing relevant information\n",
    "        from the documentation.\n",
    "        Remember to:\n",
    "        Understand the user's question thoroughly.\n",
    "        If the user's query is general (e.g., \"hi,\" \"good morning\"),\n",
    "        greet them normally and avoid using the context from the documentation.\n",
    "        If the user's query is specific and related to the documentation, locate and extract the pertinent information.\n",
    "        Craft a response that directly addresses the user's query and provides accurate information\n",
    "        referring the relevant source and page from the 'source' field of fetched context from the documentation to support your answer.\n",
    "        Use a friendly and professional tone in your response.\n",
    "        If you cannot find the answer in the provided context, do not pretend to know it.\n",
    "        Instead, respond with \"I don't know\".\n",
    "\n",
    "        Context:\\n\"\"\"\n",
    "    )\n",
    "\n",
    "    prompt_end = (\n",
    "        f\"\\n\\nQuestion: {query}\\nAnswer:\"\n",
    "    )\n",
    "\n",
    "    prompt = (\n",
    "        prompt_start + \"\\n\\n---\\n\\n\".join(contexts) +\n",
    "        prompt_end\n",
    "    )\n",
    "\n",
    "    res = openai_client.completions.create(\n",
    "        model=\"gpt-3.5-turbo-instruct\",\n",
    "        prompt=prompt,\n",
    "        temperature=0,\n",
    "        max_tokens=636,\n",
    "        top_p=1,\n",
    "        frequency_penalty=0,\n",
    "        presence_penalty=0,\n",
    "        stop=None\n",
    "    )\n",
    "\n",
    "    return (contexts , res.choices[0].text)"
   ]
  },
  {
   "cell_type": "code",
   "execution_count": null,
   "metadata": {
    "id": "qT2ei7fXNJbu"
   },
   "outputs": [],
   "source": [
    "question = \"what is quantization?\""
   ]
  },
  {
   "cell_type": "code",
   "execution_count": null,
   "metadata": {
    "id": "3XckjhWANJbu"
   },
   "outputs": [],
   "source": [
    "context , rag_response = query_with_context(question, 3)\n",
    "print(rag_response)"
   ]
  },
  {
   "cell_type": "code",
   "execution_count": null,
   "metadata": {
    "id": "gQnaLMIcv3X-"
   },
   "outputs": [],
   "source": [
    "qdrant_qna_dataset = load_dataset(\"atitaarora/qdrant_doc_qna\", split=\"train\")\n",
    "\n",
    "EVAL_SIZE = 10\n",
    "RETRIEVAL_SIZE = 3"
   ]
  },
  {
   "cell_type": "code",
   "execution_count": null,
   "metadata": {
    "id": "LR-j6qQBQSkM"
   },
   "outputs": [],
   "source": [
    "from deepeval.metrics import (\n",
    "    AnswerRelevancyMetric,\n",
    "    FaithfulnessMetric,\n",
    "    ContextualPrecisionMetric,\n",
    "    ContextualRecallMetric,\n",
    "    ContextualRelevancyMetric\n",
    ")"
   ]
  },
  {
   "cell_type": "code",
   "execution_count": null,
   "metadata": {
    "id": "DlywVtkFQYPr"
   },
   "outputs": [],
   "source": [
    "from datasets import Dataset\n",
    "from deepeval.test_case import LLMTestCase\n",
    "\n",
    "\n",
    "def create_deepeval_dataset(dataset, eval_size,retrieval_window_size):\n",
    "    test_cases = []\n",
    "    for i in range(eval_size):\n",
    "        entry = dataset[i]\n",
    "        question = entry[\"question\"]\n",
    "        answer = entry[\"answer\"]\n",
    "        context, rag_response = query_with_context(question, retrieval_window_size)\n",
    "        test_case = LLMTestCase(\n",
    "            input=question,\n",
    "            actual_output=rag_response,\n",
    "            expected_output=answer,\n",
    "            retrieval_context=context,\n",
    "        )\n",
    "        test_cases.append(test_case)\n",
    "    return test_cases\n",
    "\n"
   ]
  },
  {
   "cell_type": "code",
   "execution_count": null,
   "metadata": {
    "id": "34HkEljeRc_9"
   },
   "outputs": [],
   "source": [
    "test_cases = create_deepeval_dataset(qdrant_qna_dataset, EVAL_SIZE, RETRIEVAL_SIZE)"
   ]
  },
  {
   "cell_type": "code",
   "execution_count": 51,
   "metadata": {
    "colab": {
     "base_uri": "https://localhost:8080/"
    },
    "id": "ri5xQJFsab9T",
    "outputId": "665dcfa3-d6c6-49c2-c8b0-3547d42653bb"
   },
   "outputs": [
    {
     "name": "stdout",
     "output_type": "stream",
     "text": [
      "Welcome to \u001b[1mDeepEval\u001b[0m!\n",
      "Login and grab your API key here: \u001b]8;id=816109;https://app.confident-ai.com\u001b\\\u001b[4;94mhttps://app.confident-ai.com\u001b[0m\u001b]8;;\u001b\\ \n",
      "Paste your API Key: zZEY2IKxuVegV0Ob1VySEHM3VNh1JC0xcUc1BNehKTM=\n",
      "Congratulations! Login successful 🙌 \n",
      "If you are new to DeepEval, follow our quickstart tutorial here: \n",
      "\u001b]8;id=591976;https://docs.confident-ai.com/docs/getting-started\u001b\\\u001b[1;4;94mhttps://docs.confident-ai.com/docs/getting-started\u001b[0m\u001b]8;;\u001b\\\n"
     ]
    }
   ],
   "source": [
    "!deepeval login"
   ]
  },
  {
   "cell_type": "code",
   "execution_count": null,
   "metadata": {
    "id": "P4pyn_lpR6wc"
   },
   "outputs": [],
   "source": [
    "from deepeval import evaluate\n",
    "\n",
    "evaluate(\n",
    "    test_cases=test_cases,\n",
    "    metrics=[\n",
    "        AnswerRelevancyMetric(),\n",
    "        FaithfulnessMetric(),\n",
    "        ContextualPrecisionMetric(),\n",
    "        ContextualRecallMetric(),\n",
    "        ContextualRelevancyMetric(),\n",
    "    ],\n",
    ")"
   ]
  }
 ],
 "metadata": {
  "colab": {
   "provenance": []
  },
  "kernelspec": {
   "display_name": "Python 3 (ipykernel)",
   "language": "python",
   "name": "python3"
  },
  "language_info": {
   "codemirror_mode": {
    "name": "ipython",
    "version": 3
   },
   "file_extension": ".py",
   "mimetype": "text/x-python",
   "name": "python",
   "nbconvert_exporter": "python",
   "pygments_lexer": "ipython3",
   "version": "3.12.5"
  }
 },
 "nbformat": 4,
 "nbformat_minor": 4
}
