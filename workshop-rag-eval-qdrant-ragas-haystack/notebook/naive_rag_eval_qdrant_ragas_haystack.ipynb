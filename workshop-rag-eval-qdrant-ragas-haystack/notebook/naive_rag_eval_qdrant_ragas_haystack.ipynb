{
 "cells": [
  {
   "cell_type": "markdown",
   "metadata": {
    "id": "io4-9iTZrfgp"
   },
   "source": [
    "# **Evaluating a RAG Application using Qdrant and RAGAS**\n",
    "\n",
    "**Introduction**\n",
    "\n",
    "Creating a foundation for a Retrieval-Augmented Generation (RAG) pipeline is often straightforward. However, optimizing and tweaking it for production and ensuring top-notch response quality presents formidable hurdles. Given the multitude of tools and parameters available, identifying the ideal configuration can feel overwhelming.\n",
    "\n",
    "In this notebook, we delve into the evaluation, visualization, and analysis of RAG systems using a blend of open-source libraries. Our toolkit includes [Haystack]() [RAGAS](https://docs.ragas.io/) for evaluation and Qdrant for context augmentation, serving as a vector database to construct the RAG pipeline.\n",
    "\n",
    "Throughout this article, we'll leverage data sourced from [Qdrant](https://qdrant.tech/)'s documentation and articles to create an assistant capable of answering queries about Qdrant. Additionally, we'll explore methods for generating synthetic test data, including those provided by RAGAS.\n",
    "\n",
    "❗This notebook requires **OpenAI Key**"
   ]
  },
  {
   "cell_type": "code",
   "execution_count": 1,
   "metadata": {
    "id": "SdCFYSfAvBmx"
   },
   "outputs": [],
   "source": [
    "#pip install qdrant_client datasets langchain pandas fastembed==0.2.6 qdrant-client[fastembed] ragas-haystack matplotlib openai"
   ]
  },
  {
   "cell_type": "markdown",
   "metadata": {
    "id": "tbY_IXyvvSoz"
   },
   "source": [
    "### **1. Import relevant packages**"
   ]
  },
  {
   "cell_type": "code",
   "execution_count": 2,
   "metadata": {
    "colab": {
     "base_uri": "https://localhost:8080/"
    },
    "id": "_A1rBXAowQ22",
    "outputId": "63bf4e83-7c8d-4f05-9b86-21c370386635"
   },
   "outputs": [],
   "source": [
    "import os\n",
    "import json\n",
    "import openai\n",
    "import pandas as pd\n",
    "import qdrant_client\n",
    "from getpass import getpass\n",
    "from tqdm.notebook import tqdm\n",
    "from datasets import load_dataset\n",
    "from typing import Optional, List, Tuple\n",
    "from qdrant_client import QdrantClient, models\n",
    "from qdrant_client.http.models import PointStruct\n",
    "from langchain_core.language_models import BaseChatModel"
   ]
  },
  {
   "cell_type": "code",
   "execution_count": 3,
   "metadata": {
    "id": "t7-Yc2IWdQvq"
   },
   "outputs": [],
   "source": [
    "from dotenv import load_dotenv\n",
    "from haystack import Pipeline\n",
    "from haystack_integrations.components.evaluators.ragas import RagasEvaluator, RagasMetric"
   ]
  },
  {
   "cell_type": "code",
   "execution_count": 6,
   "metadata": {},
   "outputs": [
    {
     "data": {
      "text/plain": [
       "True"
      ]
     },
     "execution_count": 6,
     "metadata": {},
     "output_type": "execute_result"
    }
   ],
   "source": [
    "## Load environment variables\n",
    "load_dotenv()"
   ]
  },
  {
   "cell_type": "markdown",
   "metadata": {
    "id": "QSUcsgP-xLQr"
   },
   "source": [
    "### **2. Setup your openai key**"
   ]
  },
  {
   "cell_type": "code",
   "execution_count": 24,
   "metadata": {
    "id": "q1uaUw9VxKSa"
   },
   "outputs": [],
   "source": [
    "if not (openai_api_key := os.environ.get(\"OPENAI_API_KEY\")):\n",
    "    openai_api_key = getpass(\"🔑 Enter your OpenAI API key: \")\n",
    "openai.api_key = openai_api_key\n",
    "os.environ[\"OPENAI_API_KEY\"] = openai_api_key"
   ]
  },
  {
   "cell_type": "markdown",
   "metadata": {
    "id": "vbjLlIPYxYgU"
   },
   "source": [
    "### **3.  Retrieve the documents / dataset to be used**"
   ]
  },
  {
   "cell_type": "code",
   "execution_count": 25,
   "metadata": {
    "colab": {
     "base_uri": "https://localhost:8080/"
    },
    "id": "hZl3eaEC1O1m",
    "outputId": "62cde42d-70cc-4452-f401-493488787f70"
   },
   "outputs": [],
   "source": [
    "\n",
    "dataset = load_dataset(\"atitaarora/qdrant_doc\", split=\"train\")\n"
   ]
  },
  {
   "cell_type": "markdown",
   "metadata": {
    "id": "vlbBeHMD41I7"
   },
   "source": [
    "### **4. Process dataset as langchain document for further processing**"
   ]
  },
  {
   "cell_type": "code",
   "execution_count": 9,
   "metadata": {
    "colab": {
     "base_uri": "https://localhost:8080/",
     "height": 66,
     "referenced_widgets": [
      "f6deefc2d4ca47c0a6181dfc267c92f7",
      "1f1498e72c5f4e538ef43266775fdb0f",
      "feb4f8904b304e4fa729368a125cb9fb",
      "11074ed977964e83b6f2c208313d192d",
      "ea3efae027354224948451791afd1f99",
      "143ec26042a54df7a72a29663e454c42",
      "d75958797e3044c08285e629f8b911d3",
      "be3564cf8fbd4fdc812fc30748ac0ef3",
      "8882b8a8aada43d1be7171f230a24e15",
      "bcc4904d2a0945f1b8a7b82f74f0e745",
      "fb0dd385be3e44ba8c13edd5e730756a"
     ]
    },
    "id": "TXpn1xZF4_y6",
    "outputId": "7ae45a5f-ff05-4d53-9d67-511d1777a473"
   },
   "outputs": [
    {
     "data": {
      "application/vnd.jupyter.widget-view+json": {
       "model_id": "ab5f3afd52b0412fb1fad62ffe3a46fb",
       "version_major": 2,
       "version_minor": 0
      },
      "text/plain": [
       "  0%|          | 0/240 [00:00<?, ?it/s]"
      ]
     },
     "metadata": {},
     "output_type": "display_data"
    },
    {
     "data": {
      "text/plain": [
       "240"
      ]
     },
     "execution_count": 9,
     "metadata": {},
     "output_type": "execute_result"
    }
   ],
   "source": [
    "from langchain.text_splitter import RecursiveCharacterTextSplitter\n",
    "from langchain.docstore.document import Document as LangchainDocument\n",
    "\n",
    "## Dataset to langchain document\n",
    "langchain_docs = [\n",
    "    LangchainDocument(page_content=doc[\"text\"], metadata={\"source\": doc[\"source\"]})\n",
    "    for doc in tqdm(dataset)\n",
    "]\n",
    "\n",
    "len(langchain_docs)"
   ]
  },
  {
   "cell_type": "markdown",
   "metadata": {
    "id": "6UJcYaJRDzxQ"
   },
   "source": [
    "### **5. (Optional) Baseline Test Evaluation Dataset Generation using Ragas**\n",
    "\n",
    "We can use the testdataset generator from RAGAS or use synthetic evaluation dataset generation through T5 or OpenAI as part of other notebooks."
   ]
  },
  {
   "cell_type": "code",
   "execution_count": null,
   "metadata": {
    "id": "uYCosYpbD7sc"
   },
   "outputs": [],
   "source": [
    "from langchain.document_loaders import DirectoryLoader\n",
    "from ragas.testset.generator import TestsetGenerator\n",
    "from ragas.testset.evolutions import simple, reasoning, multi_context\n",
    "\n",
    "generator = TestsetGenerator.with_openai()\n",
    "testset = generator.generate_with_langchain_docs(langchain_docs[:10], test_size=10,\n",
    "                                                 raise_exceptions=False, with_debugging_logs=False,\n",
    "                                                 distributions={simple: 0.5, reasoning: 0.25, multi_context: 0.25})"
   ]
  },
  {
   "cell_type": "markdown",
   "metadata": {
    "id": "MA0zLkDbGzgV"
   },
   "source": [
    "### **5a. Evaluation dataset to Pandas for better visualization**"
   ]
  },
  {
   "cell_type": "code",
   "execution_count": null,
   "metadata": {
    "colab": {
     "base_uri": "https://localhost:8080/",
     "height": 537
    },
    "id": "YUe7Z6haGwJu",
    "outputId": "7dbbdf99-3891-4e55-999c-3270fb2757e0"
   },
   "outputs": [
    {
     "data": {
      "application/vnd.google.colaboratory.intrinsic+json": {
       "summary": "{\n  \"name\": \"df\",\n  \"rows\": 10,\n  \"fields\": [\n    {\n      \"column\": \"question\",\n      \"properties\": {\n        \"dtype\": \"string\",\n        \"num_unique_values\": 9,\n        \"samples\": [\n          \"What does the SentenceTransformer model do in the startup search demo and how does it contribute to semantic search?\",\n          \"What is the purpose of the Qdrant vector search engine?\",\n          \"What model is used in the startup search demo for converting startup descriptions into vectors for semantic search?\"\n        ],\n        \"semantic_type\": \"\",\n        \"description\": \"\"\n      }\n    },\n    {\n      \"column\": \"contexts\",\n      \"properties\": {\n        \"dtype\": \"object\",\n        \"semantic_type\": \"\",\n        \"description\": \"\"\n      }\n    },\n    {\n      \"column\": \"ground_truth\",\n      \"properties\": {\n        \"dtype\": \"string\",\n        \"num_unique_values\": 9,\n        \"samples\": [\n          \"The SentenceTransformer model in the startup search demo converts short descriptions of startups into vectors, which are then uploaded to the Qdrant vector search engine. This model plays a crucial role in performing semantic search by processing text input and using its output to query Qdrant for similar vectors.\",\n          \"This demo uses short descriptions of startups to perform a semantic search. Each startup description is converted into a vector using a pre-trained SentenceTransformer model and uploaded to the Qdrant vector search engine. The demo service processes text input with the same model and uses its output to query Qdrant for similar vectors. The purpose of the Qdrant vector search engine is to enable semantic search based on startup descriptions.\",\n          \"A pre-trained SentenceTransformer model is used in the startup search demo for converting startup descriptions into vectors for semantic search.\"\n        ],\n        \"semantic_type\": \"\",\n        \"description\": \"\"\n      }\n    },\n    {\n      \"column\": \"evolution_type\",\n      \"properties\": {\n        \"dtype\": \"category\",\n        \"num_unique_values\": 3,\n        \"samples\": [\n          \"simple\",\n          \"reasoning\",\n          \"multi_context\"\n        ],\n        \"semantic_type\": \"\",\n        \"description\": \"\"\n      }\n    },\n    {\n      \"column\": \"metadata\",\n      \"properties\": {\n        \"dtype\": \"object\",\n        \"semantic_type\": \"\",\n        \"description\": \"\"\n      }\n    },\n    {\n      \"column\": \"episode_done\",\n      \"properties\": {\n        \"dtype\": \"boolean\",\n        \"num_unique_values\": 1,\n        \"samples\": [\n          true\n        ],\n        \"semantic_type\": \"\",\n        \"description\": \"\"\n      }\n    }\n  ]\n}",
       "type": "dataframe",
       "variable_name": "df"
      },
      "text/html": [
       "\n",
       "  <div id=\"df-c2333132-7171-4ae3-9a30-ba4b0d0d4851\" class=\"colab-df-container\">\n",
       "    <div>\n",
       "<style scoped>\n",
       "    .dataframe tbody tr th:only-of-type {\n",
       "        vertical-align: middle;\n",
       "    }\n",
       "\n",
       "    .dataframe tbody tr th {\n",
       "        vertical-align: top;\n",
       "    }\n",
       "\n",
       "    .dataframe thead th {\n",
       "        text-align: right;\n",
       "    }\n",
       "</style>\n",
       "<table border=\"1\" class=\"dataframe\">\n",
       "  <thead>\n",
       "    <tr style=\"text-align: right;\">\n",
       "      <th></th>\n",
       "      <th>question</th>\n",
       "      <th>contexts</th>\n",
       "      <th>ground_truth</th>\n",
       "      <th>evolution_type</th>\n",
       "      <th>metadata</th>\n",
       "      <th>episode_done</th>\n",
       "    </tr>\n",
       "  </thead>\n",
       "  <tbody>\n",
       "    <tr>\n",
       "      <th>0</th>\n",
       "      <td>What is the process of downloading and running...</td>\n",
       "      <td>[---\\n\\ntitle: Quickstart\\n\\nweight: 11\\n\\nali...</td>\n",
       "      <td>First, download the latest Qdrant image from D...</td>\n",
       "      <td>simple</td>\n",
       "      <td>[{'source': 'documentation/quick-start.md'}]</td>\n",
       "      <td>True</td>\n",
       "    </tr>\n",
       "    <tr>\n",
       "      <th>1</th>\n",
       "      <td>What is the purpose of the Qdrant vector searc...</td>\n",
       "      <td>[---\\n\\ndraft: false\\n\\ntitle: Startup Search\\...</td>\n",
       "      <td>This demo uses short descriptions of startups ...</td>\n",
       "      <td>simple</td>\n",
       "      <td>[{'source': 'demo/demo-1.md'}]</td>\n",
       "      <td>True</td>\n",
       "    </tr>\n",
       "    <tr>\n",
       "      <th>2</th>\n",
       "      <td>How do you load data into a Qdrant collection?</td>\n",
       "      <td>[---\\n\\ntitle: Quickstart\\n\\nweight: 11\\n\\nali...</td>\n",
       "      <td>nan</td>\n",
       "      <td>simple</td>\n",
       "      <td>[{'source': 'documentation/quick-start.md'}]</td>\n",
       "      <td>True</td>\n",
       "    </tr>\n",
       "    <tr>\n",
       "      <th>3</th>\n",
       "      <td>What is the purpose of the Startup Search demo?</td>\n",
       "      <td>[---\\n\\ndraft: false\\n\\ntitle: Startup Search\\...</td>\n",
       "      <td>This demo uses short descriptions of startups ...</td>\n",
       "      <td>simple</td>\n",
       "      <td>[{'source': 'demo/demo-1.md'}]</td>\n",
       "      <td>True</td>\n",
       "    </tr>\n",
       "    <tr>\n",
       "      <th>4</th>\n",
       "      <td>What are the next steps after conducting a vec...</td>\n",
       "      <td>[ string_value: \"London\"\\n\\n  }\\n\\n}\\n\\nscore:...</td>\n",
       "      <td>Now that you know how Qdrant works, the next s...</td>\n",
       "      <td>simple</td>\n",
       "      <td>[{'source': 'documentation/quick-start.md'}]</td>\n",
       "      <td>True</td>\n",
       "    </tr>\n",
       "    <tr>\n",
       "      <th>5</th>\n",
       "      <td>What model is used in the startup search demo ...</td>\n",
       "      <td>[---\\n\\ndraft: false\\n\\ntitle: Startup Search\\...</td>\n",
       "      <td>A pre-trained SentenceTransformer model is use...</td>\n",
       "      <td>reasoning</td>\n",
       "      <td>[{'source': 'demo/demo-1.md'}]</td>\n",
       "      <td>True</td>\n",
       "    </tr>\n",
       "    <tr>\n",
       "      <th>6</th>\n",
       "      <td>What's the name of the collection created with...</td>\n",
       "      <td>[---\\n\\ntitle: Quickstart\\n\\nweight: 11\\n\\nali...</td>\n",
       "      <td>test_collection</td>\n",
       "      <td>reasoning</td>\n",
       "      <td>[{'source': 'documentation/quick-start.md'}]</td>\n",
       "      <td>True</td>\n",
       "    </tr>\n",
       "    <tr>\n",
       "      <th>7</th>\n",
       "      <td>What does the SentenceTransformer model do in ...</td>\n",
       "      <td>[---\\n\\ndraft: false\\n\\ntitle: Startup Search\\...</td>\n",
       "      <td>The SentenceTransformer model in the startup s...</td>\n",
       "      <td>multi_context</td>\n",
       "      <td>[{'source': 'demo/demo-1.md'}, {'source': 'dem...</td>\n",
       "      <td>True</td>\n",
       "    </tr>\n",
       "    <tr>\n",
       "      <th>8</th>\n",
       "      <td>What is the purpose of using short description...</td>\n",
       "      <td>[---\\n\\ndraft: false\\n\\ntitle: Startup Search\\...</td>\n",
       "      <td>The purpose of using short descriptions of sta...</td>\n",
       "      <td>multi_context</td>\n",
       "      <td>[{'source': 'demo/demo-1.md'}]</td>\n",
       "      <td>True</td>\n",
       "    </tr>\n",
       "    <tr>\n",
       "      <th>9</th>\n",
       "      <td>What is the purpose of the Qdrant vector searc...</td>\n",
       "      <td>[---\\n\\ndraft: false\\n\\ntitle: Startup Search\\...</td>\n",
       "      <td>This demo uses short descriptions of startups ...</td>\n",
       "      <td>simple</td>\n",
       "      <td>[{'source': 'demo/demo-1.md'}]</td>\n",
       "      <td>True</td>\n",
       "    </tr>\n",
       "  </tbody>\n",
       "</table>\n",
       "</div>\n",
       "    <div class=\"colab-df-buttons\">\n",
       "\n",
       "  <div class=\"colab-df-container\">\n",
       "    <button class=\"colab-df-convert\" onclick=\"convertToInteractive('df-c2333132-7171-4ae3-9a30-ba4b0d0d4851')\"\n",
       "            title=\"Convert this dataframe to an interactive table.\"\n",
       "            style=\"display:none;\">\n",
       "\n",
       "  <svg xmlns=\"http://www.w3.org/2000/svg\" height=\"24px\" viewBox=\"0 -960 960 960\">\n",
       "    <path d=\"M120-120v-720h720v720H120Zm60-500h600v-160H180v160Zm220 220h160v-160H400v160Zm0 220h160v-160H400v160ZM180-400h160v-160H180v160Zm440 0h160v-160H620v160ZM180-180h160v-160H180v160Zm440 0h160v-160H620v160Z\"/>\n",
       "  </svg>\n",
       "    </button>\n",
       "\n",
       "  <style>\n",
       "    .colab-df-container {\n",
       "      display:flex;\n",
       "      gap: 12px;\n",
       "    }\n",
       "\n",
       "    .colab-df-convert {\n",
       "      background-color: #E8F0FE;\n",
       "      border: none;\n",
       "      border-radius: 50%;\n",
       "      cursor: pointer;\n",
       "      display: none;\n",
       "      fill: #1967D2;\n",
       "      height: 32px;\n",
       "      padding: 0 0 0 0;\n",
       "      width: 32px;\n",
       "    }\n",
       "\n",
       "    .colab-df-convert:hover {\n",
       "      background-color: #E2EBFA;\n",
       "      box-shadow: 0px 1px 2px rgba(60, 64, 67, 0.3), 0px 1px 3px 1px rgba(60, 64, 67, 0.15);\n",
       "      fill: #174EA6;\n",
       "    }\n",
       "\n",
       "    .colab-df-buttons div {\n",
       "      margin-bottom: 4px;\n",
       "    }\n",
       "\n",
       "    [theme=dark] .colab-df-convert {\n",
       "      background-color: #3B4455;\n",
       "      fill: #D2E3FC;\n",
       "    }\n",
       "\n",
       "    [theme=dark] .colab-df-convert:hover {\n",
       "      background-color: #434B5C;\n",
       "      box-shadow: 0px 1px 3px 1px rgba(0, 0, 0, 0.15);\n",
       "      filter: drop-shadow(0px 1px 2px rgba(0, 0, 0, 0.3));\n",
       "      fill: #FFFFFF;\n",
       "    }\n",
       "  </style>\n",
       "\n",
       "    <script>\n",
       "      const buttonEl =\n",
       "        document.querySelector('#df-c2333132-7171-4ae3-9a30-ba4b0d0d4851 button.colab-df-convert');\n",
       "      buttonEl.style.display =\n",
       "        google.colab.kernel.accessAllowed ? 'block' : 'none';\n",
       "\n",
       "      async function convertToInteractive(key) {\n",
       "        const element = document.querySelector('#df-c2333132-7171-4ae3-9a30-ba4b0d0d4851');\n",
       "        const dataTable =\n",
       "          await google.colab.kernel.invokeFunction('convertToInteractive',\n",
       "                                                    [key], {});\n",
       "        if (!dataTable) return;\n",
       "\n",
       "        const docLinkHtml = 'Like what you see? Visit the ' +\n",
       "          '<a target=\"_blank\" href=https://colab.research.google.com/notebooks/data_table.ipynb>data table notebook</a>'\n",
       "          + ' to learn more about interactive tables.';\n",
       "        element.innerHTML = '';\n",
       "        dataTable['output_type'] = 'display_data';\n",
       "        await google.colab.output.renderOutput(dataTable, element);\n",
       "        const docLink = document.createElement('div');\n",
       "        docLink.innerHTML = docLinkHtml;\n",
       "        element.appendChild(docLink);\n",
       "      }\n",
       "    </script>\n",
       "  </div>\n",
       "\n",
       "\n",
       "<div id=\"df-9d5ce024-e4f9-489b-b99a-5c79673f24fb\">\n",
       "  <button class=\"colab-df-quickchart\" onclick=\"quickchart('df-9d5ce024-e4f9-489b-b99a-5c79673f24fb')\"\n",
       "            title=\"Suggest charts\"\n",
       "            style=\"display:none;\">\n",
       "\n",
       "<svg xmlns=\"http://www.w3.org/2000/svg\" height=\"24px\"viewBox=\"0 0 24 24\"\n",
       "     width=\"24px\">\n",
       "    <g>\n",
       "        <path d=\"M19 3H5c-1.1 0-2 .9-2 2v14c0 1.1.9 2 2 2h14c1.1 0 2-.9 2-2V5c0-1.1-.9-2-2-2zM9 17H7v-7h2v7zm4 0h-2V7h2v10zm4 0h-2v-4h2v4z\"/>\n",
       "    </g>\n",
       "</svg>\n",
       "  </button>\n",
       "\n",
       "<style>\n",
       "  .colab-df-quickchart {\n",
       "      --bg-color: #E8F0FE;\n",
       "      --fill-color: #1967D2;\n",
       "      --hover-bg-color: #E2EBFA;\n",
       "      --hover-fill-color: #174EA6;\n",
       "      --disabled-fill-color: #AAA;\n",
       "      --disabled-bg-color: #DDD;\n",
       "  }\n",
       "\n",
       "  [theme=dark] .colab-df-quickchart {\n",
       "      --bg-color: #3B4455;\n",
       "      --fill-color: #D2E3FC;\n",
       "      --hover-bg-color: #434B5C;\n",
       "      --hover-fill-color: #FFFFFF;\n",
       "      --disabled-bg-color: #3B4455;\n",
       "      --disabled-fill-color: #666;\n",
       "  }\n",
       "\n",
       "  .colab-df-quickchart {\n",
       "    background-color: var(--bg-color);\n",
       "    border: none;\n",
       "    border-radius: 50%;\n",
       "    cursor: pointer;\n",
       "    display: none;\n",
       "    fill: var(--fill-color);\n",
       "    height: 32px;\n",
       "    padding: 0;\n",
       "    width: 32px;\n",
       "  }\n",
       "\n",
       "  .colab-df-quickchart:hover {\n",
       "    background-color: var(--hover-bg-color);\n",
       "    box-shadow: 0 1px 2px rgba(60, 64, 67, 0.3), 0 1px 3px 1px rgba(60, 64, 67, 0.15);\n",
       "    fill: var(--button-hover-fill-color);\n",
       "  }\n",
       "\n",
       "  .colab-df-quickchart-complete:disabled,\n",
       "  .colab-df-quickchart-complete:disabled:hover {\n",
       "    background-color: var(--disabled-bg-color);\n",
       "    fill: var(--disabled-fill-color);\n",
       "    box-shadow: none;\n",
       "  }\n",
       "\n",
       "  .colab-df-spinner {\n",
       "    border: 2px solid var(--fill-color);\n",
       "    border-color: transparent;\n",
       "    border-bottom-color: var(--fill-color);\n",
       "    animation:\n",
       "      spin 1s steps(1) infinite;\n",
       "  }\n",
       "\n",
       "  @keyframes spin {\n",
       "    0% {\n",
       "      border-color: transparent;\n",
       "      border-bottom-color: var(--fill-color);\n",
       "      border-left-color: var(--fill-color);\n",
       "    }\n",
       "    20% {\n",
       "      border-color: transparent;\n",
       "      border-left-color: var(--fill-color);\n",
       "      border-top-color: var(--fill-color);\n",
       "    }\n",
       "    30% {\n",
       "      border-color: transparent;\n",
       "      border-left-color: var(--fill-color);\n",
       "      border-top-color: var(--fill-color);\n",
       "      border-right-color: var(--fill-color);\n",
       "    }\n",
       "    40% {\n",
       "      border-color: transparent;\n",
       "      border-right-color: var(--fill-color);\n",
       "      border-top-color: var(--fill-color);\n",
       "    }\n",
       "    60% {\n",
       "      border-color: transparent;\n",
       "      border-right-color: var(--fill-color);\n",
       "    }\n",
       "    80% {\n",
       "      border-color: transparent;\n",
       "      border-right-color: var(--fill-color);\n",
       "      border-bottom-color: var(--fill-color);\n",
       "    }\n",
       "    90% {\n",
       "      border-color: transparent;\n",
       "      border-bottom-color: var(--fill-color);\n",
       "    }\n",
       "  }\n",
       "</style>\n",
       "\n",
       "  <script>\n",
       "    async function quickchart(key) {\n",
       "      const quickchartButtonEl =\n",
       "        document.querySelector('#' + key + ' button');\n",
       "      quickchartButtonEl.disabled = true;  // To prevent multiple clicks.\n",
       "      quickchartButtonEl.classList.add('colab-df-spinner');\n",
       "      try {\n",
       "        const charts = await google.colab.kernel.invokeFunction(\n",
       "            'suggestCharts', [key], {});\n",
       "      } catch (error) {\n",
       "        console.error('Error during call to suggestCharts:', error);\n",
       "      }\n",
       "      quickchartButtonEl.classList.remove('colab-df-spinner');\n",
       "      quickchartButtonEl.classList.add('colab-df-quickchart-complete');\n",
       "    }\n",
       "    (() => {\n",
       "      let quickchartButtonEl =\n",
       "        document.querySelector('#df-9d5ce024-e4f9-489b-b99a-5c79673f24fb button');\n",
       "      quickchartButtonEl.style.display =\n",
       "        google.colab.kernel.accessAllowed ? 'block' : 'none';\n",
       "    })();\n",
       "  </script>\n",
       "</div>\n",
       "    </div>\n",
       "  </div>\n"
      ],
      "text/plain": [
       "                                            question  \\\n",
       "0  What is the process of downloading and running...   \n",
       "1  What is the purpose of the Qdrant vector searc...   \n",
       "2     How do you load data into a Qdrant collection?   \n",
       "3    What is the purpose of the Startup Search demo?   \n",
       "4  What are the next steps after conducting a vec...   \n",
       "5  What model is used in the startup search demo ...   \n",
       "6  What's the name of the collection created with...   \n",
       "7  What does the SentenceTransformer model do in ...   \n",
       "8  What is the purpose of using short description...   \n",
       "9  What is the purpose of the Qdrant vector searc...   \n",
       "\n",
       "                                            contexts  \\\n",
       "0  [---\\n\\ntitle: Quickstart\\n\\nweight: 11\\n\\nali...   \n",
       "1  [---\\n\\ndraft: false\\n\\ntitle: Startup Search\\...   \n",
       "2  [---\\n\\ntitle: Quickstart\\n\\nweight: 11\\n\\nali...   \n",
       "3  [---\\n\\ndraft: false\\n\\ntitle: Startup Search\\...   \n",
       "4  [ string_value: \"London\"\\n\\n  }\\n\\n}\\n\\nscore:...   \n",
       "5  [---\\n\\ndraft: false\\n\\ntitle: Startup Search\\...   \n",
       "6  [---\\n\\ntitle: Quickstart\\n\\nweight: 11\\n\\nali...   \n",
       "7  [---\\n\\ndraft: false\\n\\ntitle: Startup Search\\...   \n",
       "8  [---\\n\\ndraft: false\\n\\ntitle: Startup Search\\...   \n",
       "9  [---\\n\\ndraft: false\\n\\ntitle: Startup Search\\...   \n",
       "\n",
       "                                        ground_truth evolution_type  \\\n",
       "0  First, download the latest Qdrant image from D...         simple   \n",
       "1  This demo uses short descriptions of startups ...         simple   \n",
       "2                                                nan         simple   \n",
       "3  This demo uses short descriptions of startups ...         simple   \n",
       "4  Now that you know how Qdrant works, the next s...         simple   \n",
       "5  A pre-trained SentenceTransformer model is use...      reasoning   \n",
       "6                                    test_collection      reasoning   \n",
       "7  The SentenceTransformer model in the startup s...  multi_context   \n",
       "8  The purpose of using short descriptions of sta...  multi_context   \n",
       "9  This demo uses short descriptions of startups ...         simple   \n",
       "\n",
       "                                            metadata  episode_done  \n",
       "0       [{'source': 'documentation/quick-start.md'}]          True  \n",
       "1                     [{'source': 'demo/demo-1.md'}]          True  \n",
       "2       [{'source': 'documentation/quick-start.md'}]          True  \n",
       "3                     [{'source': 'demo/demo-1.md'}]          True  \n",
       "4       [{'source': 'documentation/quick-start.md'}]          True  \n",
       "5                     [{'source': 'demo/demo-1.md'}]          True  \n",
       "6       [{'source': 'documentation/quick-start.md'}]          True  \n",
       "7  [{'source': 'demo/demo-1.md'}, {'source': 'dem...          True  \n",
       "8                     [{'source': 'demo/demo-1.md'}]          True  \n",
       "9                     [{'source': 'demo/demo-1.md'}]          True  "
      ]
     },
     "execution_count": 7,
     "metadata": {},
     "output_type": "execute_result"
    }
   ],
   "source": [
    "df = testset.to_pandas()\n",
    "df.head(10)"
   ]
  },
  {
   "cell_type": "markdown",
   "metadata": {
    "id": "WsLXXncpHRz9"
   },
   "source": [
    "### **5b. Export the evaluation dataset to csv (if needed)**"
   ]
  },
  {
   "cell_type": "code",
   "execution_count": null,
   "metadata": {
    "id": "p9xfsy1BHZv-"
   },
   "outputs": [],
   "source": [
    "from pathlib import Path\n",
    "filepath = Path('sample_question_ragas_101.csv')\n",
    "filepath.parent.mkdir(parents=True, exist_ok=True)\n",
    "df.to_csv(filepath)"
   ]
  },
  {
   "cell_type": "markdown",
   "metadata": {
    "id": "WDXhb870F_Du"
   },
   "source": [
    "### **6. Document chunk processing**\n",
    "\n",
    "Processing each document with desired **TEXT_SPLITTER_ALGO , CHUNK_SIZE , CHUNK_OVERLAP** etc"
   ]
  },
  {
   "cell_type": "code",
   "execution_count": 32,
   "metadata": {
    "id": "OLWqwoszGI3z"
   },
   "outputs": [],
   "source": [
    "text_splitter = RecursiveCharacterTextSplitter(\n",
    "    chunk_size=512,\n",
    "    chunk_overlap=50,\n",
    "    add_start_index=True,\n",
    "    separators=[\"\\n\\n\", \"\\n\", \".\", \" \", \"\"],\n",
    ")\n",
    "\n",
    "docs_processed = []\n",
    "for doc in langchain_docs:\n",
    "    docs_processed += text_splitter.split_documents([doc])"
   ]
  },
  {
   "cell_type": "code",
   "execution_count": 33,
   "metadata": {
    "colab": {
     "base_uri": "https://localhost:8080/"
    },
    "id": "s-U4raQJeNbD",
    "outputId": "351c28f0-abe6-443f-c008-9518c1534d8c"
   },
   "outputs": [
    {
     "data": {
      "text/plain": [
       "4431"
      ]
     },
     "execution_count": 33,
     "metadata": {},
     "output_type": "execute_result"
    }
   ],
   "source": [
    "len(docs_processed)"
   ]
  },
  {
   "cell_type": "markdown",
   "metadata": {
    "id": "9JSfRcxOHzL7"
   },
   "source": [
    "### **7. Setting up Qdrant**\n",
    "\n",
    "Set up the qdrant client and then create a collection so that our documents can be stored."
   ]
  },
  {
   "cell_type": "code",
   "execution_count": 13,
   "metadata": {
    "id": "Ymq23aPCIA7j"
   },
   "outputs": [],
   "source": [
    "\n",
    "##Uncomment to initialise qdrant client in memory\n",
    "#client = qdrant_client.QdrantClient(\n",
    "#    location=\":memory:\",\n",
    "#)\n",
    "\n",
    "##Uncomment below to connect to Qdrant Cloud\n",
    "client = qdrant_client.QdrantClient(\n",
    "    os.environ.get(\"QDRANT_URL\"),\n",
    "    api_key=os.environ.get(\"QDRANT_API_KEY\"),\n",
    ")\n",
    "\n",
    "## Uncomment below to connect to local Qdrant\n",
    "#client = qdrant_client.QdrantClient(\"http://localhost:6333\")"
   ]
  },
  {
   "cell_type": "code",
   "execution_count": 30,
   "metadata": {
    "id": "xLLsfOsgJRJ3"
   },
   "outputs": [],
   "source": [
    "## Collection name that will be used throughtout in the notebook\n",
    "COLLECTION_NAME = \"qdrant-docs-ragas-haystack-mxbai\""
   ]
  },
  {
   "cell_type": "code",
   "execution_count": 31,
   "metadata": {
    "colab": {
     "base_uri": "https://localhost:8080/"
    },
    "id": "FNduakyeInzn",
    "outputId": "27ccdd46-e27f-4ad6-d218-cefdababae43"
   },
   "outputs": [
    {
     "data": {
      "text/plain": [
       "CollectionsResponse(collections=[CollectionDescription(name='qdrant-docs-ragas-haystack'), CollectionDescription(name='qdrant_docs_arize_dense'), CollectionDescription(name='qdrant_docs_arize_hybrid')])"
      ]
     },
     "execution_count": 31,
     "metadata": {},
     "output_type": "execute_result"
    }
   ],
   "source": [
    "## General Collection level operations\n",
    "\n",
    "## Get information about existing collections\n",
    "client.get_collections()\n",
    "\n",
    "## Get information about specific collection\n",
    "#collection_info = client.get_collection(COLLECTION_NAME)\n",
    "#print(collection_info)\n",
    "\n",
    "## Deleting collection , if need be\n",
    "#client.delete_collection(COLLECTION_NAME)"
   ]
  },
  {
   "cell_type": "code",
   "execution_count": 18,
   "metadata": {
    "colab": {
     "base_uri": "https://localhost:8080/",
     "height": 551
    },
    "id": "u3ZeplTaLUhD",
    "outputId": "c56f3ecb-2546-4c62-c935-d23829ee80b0"
   },
   "outputs": [
    {
     "data": {
      "text/html": [
       "<div>\n",
       "<style scoped>\n",
       "    .dataframe tbody tr th:only-of-type {\n",
       "        vertical-align: middle;\n",
       "    }\n",
       "\n",
       "    .dataframe tbody tr th {\n",
       "        vertical-align: top;\n",
       "    }\n",
       "\n",
       "    .dataframe thead th {\n",
       "        text-align: right;\n",
       "    }\n",
       "</style>\n",
       "<table border=\"1\" class=\"dataframe\">\n",
       "  <thead>\n",
       "    <tr style=\"text-align: right;\">\n",
       "      <th></th>\n",
       "      <th>model</th>\n",
       "      <th>dim</th>\n",
       "      <th>description</th>\n",
       "      <th>size_in_GB</th>\n",
       "      <th>sources</th>\n",
       "    </tr>\n",
       "  </thead>\n",
       "  <tbody>\n",
       "    <tr>\n",
       "      <th>0</th>\n",
       "      <td>BAAI/bge-base-en</td>\n",
       "      <td>768</td>\n",
       "      <td>Base English model</td>\n",
       "      <td>0.420</td>\n",
       "      <td>{'url': 'https://storage.googleapis.com/qdrant...</td>\n",
       "    </tr>\n",
       "    <tr>\n",
       "      <th>1</th>\n",
       "      <td>BAAI/bge-base-en-v1.5</td>\n",
       "      <td>768</td>\n",
       "      <td>Base English model, v1.5</td>\n",
       "      <td>0.210</td>\n",
       "      <td>{'url': 'https://storage.googleapis.com/qdrant...</td>\n",
       "    </tr>\n",
       "    <tr>\n",
       "      <th>2</th>\n",
       "      <td>BAAI/bge-large-en-v1.5</td>\n",
       "      <td>1024</td>\n",
       "      <td>Large English model, v1.5</td>\n",
       "      <td>1.200</td>\n",
       "      <td>{'hf': 'qdrant/bge-large-en-v1.5-onnx'}</td>\n",
       "    </tr>\n",
       "    <tr>\n",
       "      <th>3</th>\n",
       "      <td>BAAI/bge-small-en</td>\n",
       "      <td>384</td>\n",
       "      <td>Fast English model</td>\n",
       "      <td>0.130</td>\n",
       "      <td>{'url': 'https://storage.googleapis.com/qdrant...</td>\n",
       "    </tr>\n",
       "    <tr>\n",
       "      <th>4</th>\n",
       "      <td>BAAI/bge-small-en-v1.5</td>\n",
       "      <td>384</td>\n",
       "      <td>Fast and Default English model</td>\n",
       "      <td>0.067</td>\n",
       "      <td>{'hf': 'qdrant/bge-small-en-v1.5-onnx-q'}</td>\n",
       "    </tr>\n",
       "    <tr>\n",
       "      <th>5</th>\n",
       "      <td>BAAI/bge-small-zh-v1.5</td>\n",
       "      <td>512</td>\n",
       "      <td>Fast and recommended Chinese model</td>\n",
       "      <td>0.090</td>\n",
       "      <td>{'url': 'https://storage.googleapis.com/qdrant...</td>\n",
       "    </tr>\n",
       "    <tr>\n",
       "      <th>6</th>\n",
       "      <td>sentence-transformers/all-MiniLM-L6-v2</td>\n",
       "      <td>384</td>\n",
       "      <td>Sentence Transformer model, MiniLM-L6-v2</td>\n",
       "      <td>0.090</td>\n",
       "      <td>{'url': 'https://storage.googleapis.com/qdrant...</td>\n",
       "    </tr>\n",
       "    <tr>\n",
       "      <th>7</th>\n",
       "      <td>sentence-transformers/paraphrase-multilingual-...</td>\n",
       "      <td>384</td>\n",
       "      <td>Sentence Transformer model, paraphrase-multili...</td>\n",
       "      <td>0.220</td>\n",
       "      <td>{'hf': 'qdrant/paraphrase-multilingual-MiniLM-...</td>\n",
       "    </tr>\n",
       "    <tr>\n",
       "      <th>8</th>\n",
       "      <td>nomic-ai/nomic-embed-text-v1</td>\n",
       "      <td>768</td>\n",
       "      <td>8192 context length english model</td>\n",
       "      <td>0.520</td>\n",
       "      <td>{'hf': 'nomic-ai/nomic-embed-text-v1'}</td>\n",
       "    </tr>\n",
       "    <tr>\n",
       "      <th>9</th>\n",
       "      <td>nomic-ai/nomic-embed-text-v1.5</td>\n",
       "      <td>768</td>\n",
       "      <td>8192 context length english model</td>\n",
       "      <td>0.520</td>\n",
       "      <td>{'hf': 'nomic-ai/nomic-embed-text-v1.5'}</td>\n",
       "    </tr>\n",
       "    <tr>\n",
       "      <th>10</th>\n",
       "      <td>thenlper/gte-large</td>\n",
       "      <td>1024</td>\n",
       "      <td>Large general text embeddings model</td>\n",
       "      <td>1.200</td>\n",
       "      <td>{'hf': 'qdrant/gte-large-onnx'}</td>\n",
       "    </tr>\n",
       "    <tr>\n",
       "      <th>11</th>\n",
       "      <td>mixedbread-ai/mxbai-embed-large-v1</td>\n",
       "      <td>1024</td>\n",
       "      <td>MixedBread Base sentence embedding model, does...</td>\n",
       "      <td>0.640</td>\n",
       "      <td>{'hf': 'mixedbread-ai/mxbai-embed-large-v1'}</td>\n",
       "    </tr>\n",
       "    <tr>\n",
       "      <th>12</th>\n",
       "      <td>intfloat/multilingual-e5-large</td>\n",
       "      <td>1024</td>\n",
       "      <td>Multilingual model, e5-large. Recommend using ...</td>\n",
       "      <td>2.240</td>\n",
       "      <td>{'url': 'https://storage.googleapis.com/qdrant...</td>\n",
       "    </tr>\n",
       "    <tr>\n",
       "      <th>13</th>\n",
       "      <td>sentence-transformers/paraphrase-multilingual-...</td>\n",
       "      <td>768</td>\n",
       "      <td>Sentence-transformers model for tasks like clu...</td>\n",
       "      <td>1.000</td>\n",
       "      <td>{'hf': 'xenova/paraphrase-multilingual-mpnet-b...</td>\n",
       "    </tr>\n",
       "    <tr>\n",
       "      <th>14</th>\n",
       "      <td>jinaai/jina-embeddings-v2-base-en</td>\n",
       "      <td>768</td>\n",
       "      <td>English embedding model supporting 8192 sequen...</td>\n",
       "      <td>0.520</td>\n",
       "      <td>{'hf': 'xenova/jina-embeddings-v2-base-en'}</td>\n",
       "    </tr>\n",
       "    <tr>\n",
       "      <th>15</th>\n",
       "      <td>jinaai/jina-embeddings-v2-small-en</td>\n",
       "      <td>512</td>\n",
       "      <td>English embedding model supporting 8192 sequen...</td>\n",
       "      <td>0.120</td>\n",
       "      <td>{'hf': 'xenova/jina-embeddings-v2-small-en'}</td>\n",
       "    </tr>\n",
       "  </tbody>\n",
       "</table>\n",
       "</div>"
      ],
      "text/plain": [
       "                                                model   dim  \\\n",
       "0                                    BAAI/bge-base-en   768   \n",
       "1                               BAAI/bge-base-en-v1.5   768   \n",
       "2                              BAAI/bge-large-en-v1.5  1024   \n",
       "3                                   BAAI/bge-small-en   384   \n",
       "4                              BAAI/bge-small-en-v1.5   384   \n",
       "5                              BAAI/bge-small-zh-v1.5   512   \n",
       "6              sentence-transformers/all-MiniLM-L6-v2   384   \n",
       "7   sentence-transformers/paraphrase-multilingual-...   384   \n",
       "8                        nomic-ai/nomic-embed-text-v1   768   \n",
       "9                      nomic-ai/nomic-embed-text-v1.5   768   \n",
       "10                                 thenlper/gte-large  1024   \n",
       "11                 mixedbread-ai/mxbai-embed-large-v1  1024   \n",
       "12                     intfloat/multilingual-e5-large  1024   \n",
       "13  sentence-transformers/paraphrase-multilingual-...   768   \n",
       "14                  jinaai/jina-embeddings-v2-base-en   768   \n",
       "15                 jinaai/jina-embeddings-v2-small-en   512   \n",
       "\n",
       "                                          description  size_in_GB  \\\n",
       "0                                  Base English model       0.420   \n",
       "1                            Base English model, v1.5       0.210   \n",
       "2                           Large English model, v1.5       1.200   \n",
       "3                                  Fast English model       0.130   \n",
       "4                      Fast and Default English model       0.067   \n",
       "5                  Fast and recommended Chinese model       0.090   \n",
       "6            Sentence Transformer model, MiniLM-L6-v2       0.090   \n",
       "7   Sentence Transformer model, paraphrase-multili...       0.220   \n",
       "8                   8192 context length english model       0.520   \n",
       "9                   8192 context length english model       0.520   \n",
       "10                Large general text embeddings model       1.200   \n",
       "11  MixedBread Base sentence embedding model, does...       0.640   \n",
       "12  Multilingual model, e5-large. Recommend using ...       2.240   \n",
       "13  Sentence-transformers model for tasks like clu...       1.000   \n",
       "14  English embedding model supporting 8192 sequen...       0.520   \n",
       "15  English embedding model supporting 8192 sequen...       0.120   \n",
       "\n",
       "                                              sources  \n",
       "0   {'url': 'https://storage.googleapis.com/qdrant...  \n",
       "1   {'url': 'https://storage.googleapis.com/qdrant...  \n",
       "2             {'hf': 'qdrant/bge-large-en-v1.5-onnx'}  \n",
       "3   {'url': 'https://storage.googleapis.com/qdrant...  \n",
       "4           {'hf': 'qdrant/bge-small-en-v1.5-onnx-q'}  \n",
       "5   {'url': 'https://storage.googleapis.com/qdrant...  \n",
       "6   {'url': 'https://storage.googleapis.com/qdrant...  \n",
       "7   {'hf': 'qdrant/paraphrase-multilingual-MiniLM-...  \n",
       "8              {'hf': 'nomic-ai/nomic-embed-text-v1'}  \n",
       "9            {'hf': 'nomic-ai/nomic-embed-text-v1.5'}  \n",
       "10                    {'hf': 'qdrant/gte-large-onnx'}  \n",
       "11       {'hf': 'mixedbread-ai/mxbai-embed-large-v1'}  \n",
       "12  {'url': 'https://storage.googleapis.com/qdrant...  \n",
       "13  {'hf': 'xenova/paraphrase-multilingual-mpnet-b...  \n",
       "14        {'hf': 'xenova/jina-embeddings-v2-base-en'}  \n",
       "15       {'hf': 'xenova/jina-embeddings-v2-small-en'}  "
      ]
     },
     "execution_count": 18,
     "metadata": {},
     "output_type": "execute_result"
    }
   ],
   "source": [
    "## Declaring the intended Embedding Model with Fastembed\n",
    "from fastembed import TextEmbedding\n",
    "\n",
    "pd.DataFrame(TextEmbedding.list_supported_models())"
   ]
  },
  {
   "cell_type": "code",
   "execution_count": 34,
   "metadata": {
    "colab": {
     "base_uri": "https://localhost:8080/",
     "height": 49,
     "referenced_widgets": [
      "05c46198e2834c9a8418dc1b36b90f8c",
      "025bf8865c8e43249437927ce26fb6c8",
      "a1cb3e4346194999b027c0a04c7130f5",
      "d21be397e6c342f8b5949aea3b58dac6",
      "4688bb85158f4208ad3ac2032630d3db",
      "15dbf8ecf1a04f3abc9b360447d2355a",
      "f381f72d201b448b81b4d07ab0762cc8",
      "20267c28236a4e1b9c6dd913caa1a38c",
      "1deb43ae31cc4e169b2ef3075c57fb51",
      "09462996c2c2452f9434985a4f1a6b81",
      "a2039c684d8e4c95adf548aa75e11c69"
     ]
    },
    "id": "ya4x32y2MCDG",
    "outputId": "d26f8664-f80f-4959-eb85-cfbbd0c5bb70"
   },
   "outputs": [
    {
     "data": {
      "application/vnd.jupyter.widget-view+json": {
       "model_id": "567994f8f9e24973b01cd39c7072a5f2",
       "version_major": 2,
       "version_minor": 0
      },
      "text/plain": [
       "Fetching 15 files:   0%|          | 0/15 [00:00<?, ?it/s]"
      ]
     },
     "metadata": {},
     "output_type": "display_data"
    },
    {
     "data": {
      "application/vnd.jupyter.widget-view+json": {
       "model_id": "1851755bd48f48ccb5fa7063066b7756",
       "version_major": 2,
       "version_minor": 0
      },
      "text/plain": [
       "config_sentence_transformers.json:   0%|          | 0.00/171 [00:00<?, ?B/s]"
      ]
     },
     "metadata": {},
     "output_type": "display_data"
    },
    {
     "data": {
      "application/vnd.jupyter.widget-view+json": {
       "model_id": "73904cf8c1234717bc1892fd5db7f60e",
       "version_major": 2,
       "version_minor": 0
      },
      "text/plain": [
       "config.json:   0%|          | 0.00/677 [00:00<?, ?B/s]"
      ]
     },
     "metadata": {},
     "output_type": "display_data"
    },
    {
     "data": {
      "application/vnd.jupyter.widget-view+json": {
       "model_id": "6d692f52380c497e8a269396f515dbfd",
       "version_major": 2,
       "version_minor": 0
      },
      "text/plain": [
       "1_Pooling/config.json:   0%|          | 0.00/297 [00:00<?, ?B/s]"
      ]
     },
     "metadata": {},
     "output_type": "display_data"
    },
    {
     "data": {
      "application/vnd.jupyter.widget-view+json": {
       "model_id": "0fa1311a0ed94af087f528998bd4b117",
       "version_major": 2,
       "version_minor": 0
      },
      "text/plain": [
       "modules.json:   0%|          | 0.00/229 [00:00<?, ?B/s]"
      ]
     },
     "metadata": {},
     "output_type": "display_data"
    },
    {
     "data": {
      "application/vnd.jupyter.widget-view+json": {
       "model_id": "88350f970ed54636ab167f01c307f941",
       "version_major": 2,
       "version_minor": 0
      },
      "text/plain": [
       "model.onnx:   0%|          | 0.00/1.34G [00:00<?, ?B/s]"
      ]
     },
     "metadata": {},
     "output_type": "display_data"
    },
    {
     "data": {
      "application/vnd.jupyter.widget-view+json": {
       "model_id": "9bbcd3612c2a401dafb60be8f19a5413",
       "version_major": 2,
       "version_minor": 0
      },
      "text/plain": [
       "README.md:   0%|          | 0.00/113k [00:00<?, ?B/s]"
      ]
     },
     "metadata": {},
     "output_type": "display_data"
    },
    {
     "data": {
      "application/vnd.jupyter.widget-view+json": {
       "model_id": "6869dc10ddf04db983d19f1955fda216",
       "version_major": 2,
       "version_minor": 0
      },
      "text/plain": [
       "mxbai-embed-large-v1-f16.gguf:   0%|          | 0.00/670M [00:00<?, ?B/s]"
      ]
     },
     "metadata": {},
     "output_type": "display_data"
    },
    {
     "data": {
      "application/vnd.jupyter.widget-view+json": {
       "model_id": "9b6daa37ea414f0abfa5aebb2eec390a",
       "version_major": 2,
       "version_minor": 0
      },
      "text/plain": [
       ".gitattributes:   0%|          | 0.00/1.58k [00:00<?, ?B/s]"
      ]
     },
     "metadata": {},
     "output_type": "display_data"
    },
    {
     "data": {
      "application/vnd.jupyter.widget-view+json": {
       "model_id": "4ac98239fe154897b2eeac6a7c1904b9",
       "version_major": 2,
       "version_minor": 0
      },
      "text/plain": [
       "special_tokens_map.json:   0%|          | 0.00/695 [00:00<?, ?B/s]"
      ]
     },
     "metadata": {},
     "output_type": "display_data"
    },
    {
     "data": {
      "application/vnd.jupyter.widget-view+json": {
       "model_id": "91d7cdf36f824482835dfede89eeaff0",
       "version_major": 2,
       "version_minor": 0
      },
      "text/plain": [
       "sentence_bert_config.json:   0%|          | 0.00/53.0 [00:00<?, ?B/s]"
      ]
     },
     "metadata": {},
     "output_type": "display_data"
    },
    {
     "data": {
      "application/vnd.jupyter.widget-view+json": {
       "model_id": "ee7de6524f5642569a795ddff86fb27c",
       "version_major": 2,
       "version_minor": 0
      },
      "text/plain": [
       "model_quantized.onnx:   0%|          | 0.00/337M [00:00<?, ?B/s]"
      ]
     },
     "metadata": {},
     "output_type": "display_data"
    },
    {
     "data": {
      "application/vnd.jupyter.widget-view+json": {
       "model_id": "79d57c922ec441b5bcab0c1185a7dc3a",
       "version_major": 2,
       "version_minor": 0
      },
      "text/plain": [
       "model_fp16.onnx:   0%|          | 0.00/669M [00:00<?, ?B/s]"
      ]
     },
     "metadata": {},
     "output_type": "display_data"
    },
    {
     "data": {
      "application/vnd.jupyter.widget-view+json": {
       "model_id": "55f5ad32d7ac46b2b0cc818bd17b6cee",
       "version_major": 2,
       "version_minor": 0
      },
      "text/plain": [
       "tokenizer_config.json:   0%|          | 0.00/1.24k [00:00<?, ?B/s]"
      ]
     },
     "metadata": {},
     "output_type": "display_data"
    },
    {
     "data": {
      "application/vnd.jupyter.widget-view+json": {
       "model_id": "0a72f54d8d53414fb2893a9e75efb957",
       "version_major": 2,
       "version_minor": 0
      },
      "text/plain": [
       "vocab.txt:   0%|          | 0.00/232k [00:00<?, ?B/s]"
      ]
     },
     "metadata": {},
     "output_type": "display_data"
    },
    {
     "data": {
      "application/vnd.jupyter.widget-view+json": {
       "model_id": "2281b85606d74ac5b4b3f5013628e80d",
       "version_major": 2,
       "version_minor": 0
      },
      "text/plain": [
       "tokenizer.json:   0%|          | 0.00/711k [00:00<?, ?B/s]"
      ]
     },
     "metadata": {},
     "output_type": "display_data"
    }
   ],
   "source": [
    "##Initilising embedding model\n",
    "#embedding_model = TextEmbedding()\n",
    "\n",
    "## For custom model supported by Fastembed\n",
    "embedding_model = TextEmbedding(model_name=\"mixedbread-ai/mxbai-embed-large-v1\", max_length=1024)\n"
   ]
  },
  {
   "cell_type": "code",
   "execution_count": 35,
   "metadata": {
    "colab": {
     "base_uri": "https://localhost:8080/",
     "height": 35
    },
    "id": "vqsga6_sga6N",
    "outputId": "b8257915-ab27-4a8e-8ec9-a9131d0adeca"
   },
   "outputs": [
    {
     "data": {
      "text/plain": [
       "'mixedbread-ai/mxbai-embed-large-v1'"
      ]
     },
     "execution_count": 35,
     "metadata": {},
     "output_type": "execute_result"
    }
   ],
   "source": [
    "## Print and validate the embedding model used\n",
    "## Using Default Model - BAAI/bge-small-en-v1.5\n",
    "embedding_model.model_name"
   ]
  },
  {
   "cell_type": "markdown",
   "metadata": {
    "id": "zZMhjl1NJz_X"
   },
   "source": [
    "### **8. Processing chunks into text to be processed by [FASTEMBED](https://qdrant.github.io/fastembed/)**"
   ]
  },
  {
   "cell_type": "code",
   "execution_count": 36,
   "metadata": {
    "colab": {
     "base_uri": "https://localhost:8080/"
    },
    "id": "d2_E_VKqIvu7",
    "outputId": "b1b8dbeb-ea68-4296-9a2c-7ba83b3ffc5b"
   },
   "outputs": [
    {
     "name": "stdout",
     "output_type": "stream",
     "text": [
      "content :  4431\n",
      "metadata :  4431\n"
     ]
    }
   ],
   "source": [
    "docs_contents = []\n",
    "docs_metadatas = []\n",
    "\n",
    "for doc in docs_processed:\n",
    "    if hasattr(doc, 'page_content') and hasattr(doc, 'metadata'):\n",
    "        docs_contents.append(doc.page_content)\n",
    "        docs_metadatas.append(doc.metadata)\n",
    "    else:\n",
    "        # Handle the case where attributes are missing\n",
    "        print(\"Warning: Some documents do not have 'page_content' or 'metadata' attributes.\")\n",
    "\n",
    "print(\"content : \",len(docs_contents))\n",
    "print(\"metadata : \",len(docs_metadatas))"
   ]
  },
  {
   "cell_type": "markdown",
   "metadata": {
    "id": "nw_yWHWGK0vX"
   },
   "source": [
    "### **9. Adding document chunks into Qdrant Collection**"
   ]
  },
  {
   "cell_type": "code",
   "execution_count": 37,
   "metadata": {
    "colab": {
     "base_uri": "https://localhost:8080/"
    },
    "id": "RwdEyzvOK5mZ",
    "outputId": "fbb785d7-96b0-4975-bc35-137103a4bf31"
   },
   "outputs": [
    {
     "data": {
      "text/plain": [
       "['d8805c85ee394e4d975b632f9fb2fbfd',\n",
       " 'eb0192ea234b46a79966d60c215ee161',\n",
       " 'bc6b0bb1288f4e0e95afe4f62983af69',\n",
       " '8c9bfaeb873c4064801da11f3236c0d3',\n",
       " 'df204b72e98847048f44fd348bfc9bf6',\n",
       " 'a5c7e406e6794e1789a4105549292122',\n",
       " '370b6afda9824cb893a9cff00c136296',\n",
       " '1b77352fb80d431ab2cef41b29807260',\n",
       " 'f930c11da15340e5a9ceda61d64eb385',\n",
       " '32968fd9b9234310a6ec52a670edb008',\n",
       " '93d4c547b1d549c6a1f0cfdbe1535524',\n",
       " '12f14db6c11840a9a8d36921be2e3f3f',\n",
       " 'f293e0e0cc814acb8cd6898978d95d21',\n",
       " 'd2b3d49677c448609b2d91537713860f',\n",
       " '5b443bcae8b945efaa6cdd99e4f37928',\n",
       " '50bc253360294196ac5ad0602882cb77',\n",
       " '9b23efa0238e4825bc3267fcb702586f',\n",
       " 'd7a88fd29169444daa6d9d32eba34497',\n",
       " 'a220e75d68164d8ba9202f429629d9b6',\n",
       " 'ab5384f386b34d6db7a9bb9c9f241c02',\n",
       " '32a9ece4049e451fbfeeb33e03f058f4',\n",
       " 'c24feba724854deb844adc378b993582',\n",
       " 'c2ba2a228c7e4b258ca676f42cd916fa',\n",
       " '8dfa69aad6e048d78bacf43b333144c3',\n",
       " '635056febb9040959174b57cc5106b32',\n",
       " '25a85b2599284cd0b2af3492a88103db',\n",
       " 'ae15de667dc04ca68619457d4cbaa2f1',\n",
       " 'bb2ac7cd70794359b8e8c4e140d7937a',\n",
       " 'd3395ac30fc84759bdcfc604c2d294db',\n",
       " 'de481d1e569548fda213c0289bae6f74',\n",
       " '7887716f77ae4220a7503a82e4aca0c5',\n",
       " 'ca2648944efa41bc88d6e760e84e5c76',\n",
       " 'b36bcb107d264dfcadee50a09c7b3def',\n",
       " '6e3c65b7235541079deb1e2ba2d6ff4f',\n",
       " '092bf85f961c46f7993200973da34e72',\n",
       " 'b7e00f17d940452caa25dbcacc58fd22',\n",
       " '0d4688816dee462aaabde85251bcf1dd',\n",
       " 'fbee7fd2054b4c1c9499b38b8418e80f',\n",
       " 'f995e0ed7138403ebfe07f2a4a0423be',\n",
       " '8bfb72eea327491994854fd3f06a21f5',\n",
       " '5c5107695e904c1abf84ee078fe46316',\n",
       " '69f9817c761b49aa9ac6f64082501b1f',\n",
       " '4ff2340150c648de8429ea69bad1cc65',\n",
       " 'aebb438d33684c54bc2d1bc01667432b',\n",
       " '0af6268ead8b4f5e9a204365e531a0f5',\n",
       " 'dc496aa5c55c44ea9a39b08307bf90ac',\n",
       " 'dc391a9591194502af22f308791d73f9',\n",
       " 'e95ff8b165894e32b53cedce10623f72',\n",
       " 'da49c6d1448542ea903f4f7b655eac89',\n",
       " 'b3ac25a971b64a5f824ef3bb2072775e',\n",
       " '9a7e6a1ba7224635a288f825c0408692',\n",
       " 'ab77665cac454da0af05dc36ed1008f3',\n",
       " '940432ae6f8b443286b6c95f30910a7f',\n",
       " '76e5814d53f841b187320fb82a25441d',\n",
       " '274c50a1f29b4424a0fc3a5aa23e0d81',\n",
       " 'f51771786bea4e96bba4b7893858f06b',\n",
       " '2d3130472ca049ff9dcbf4eb54ec296a',\n",
       " 'ed32e208633c42b1a778e01fe2ff2c43',\n",
       " '2b307a4fec504a8ca8962b17f92acb86',\n",
       " '9637f59284314b5f9ea8a879ec4692b6',\n",
       " '29d46a59156d48689ad92a7edf7b6d9d',\n",
       " '8813a2af2966476cbe2bbab411b8854e',\n",
       " 'cc186fe0bf7c4cdb8a9f6d1bd93c5660',\n",
       " '6fa7670819e84a2ea9416a7ac8b2f4dc',\n",
       " 'cc6fc21ea8e54d05b9cebaf53ec42c6f',\n",
       " '2e63b6f8900144e8b772b45d1ad98e1f',\n",
       " '93ae78310d594ee6b263bbf87c40bd09',\n",
       " '03949f317b754c6aad1b2631266d9262',\n",
       " '77cdff6b087347868acacec557dcd73e',\n",
       " '150c0d7d76aa42d5ba0a6cd4236e4307',\n",
       " '5d6d418eb2ce48a39e321f7b13fe3b35',\n",
       " '21feaf4e03d34300939416ccfd691c69',\n",
       " '87f36bab60b542e7bfa6b1d100a282ef',\n",
       " '1305c28e40d44ed28dba7b0e52aea93e',\n",
       " '85a2ea682e184ffd8d7c1f7ea308816d',\n",
       " '71043876447c46338f1475946415bc5b',\n",
       " '6bcf426cdab04dcaa689d77557758a73',\n",
       " '7d429f6c45384d659c1d76b553afbb56',\n",
       " '9a0f2f4e25fe48ecbfeb561b14d85e2d',\n",
       " 'b59ebb0a55aa459f97b6450f71fc1224',\n",
       " '6995805ac03e4e8bb1c48edaae0ced79',\n",
       " '348be87b1874435b96cf5cfd215a82dd',\n",
       " 'dfaa6bcc57c24514878138ccaccdf37c',\n",
       " '958c097bd90f4ba2a0885f70dde0d9ee',\n",
       " '7132998f0b564d0eade77dbaf50a518f',\n",
       " '69fcbc4c26984a04b4d5398104bc3844',\n",
       " 'e3e78cf5794049668aabb5804fe69bf9',\n",
       " '6f71f110c8b8448c854d06fb8d7e4cd7',\n",
       " '1ab5bb390d004fcba87eb93bde2f54ef',\n",
       " '36cf6e635eef415db4275d2a027402e7',\n",
       " '8ed09987e353432e912ce34be47d61ae',\n",
       " 'f37e015eab024ec3ab850eb7b214e47d',\n",
       " '4696ff577d554f1d89aba7f95c8f3155',\n",
       " 'bdf3ee7536e34d4796c0bd21a3c45645',\n",
       " 'a234dde5b4104600a964a5ec929f1803',\n",
       " '524d61ae0fac49798129114833e6c1f3',\n",
       " '0b5d021f5512432daa5025b5417e01e7',\n",
       " '53d4c122441a414a9387ee26ff19d493',\n",
       " '667fd4eede894243a82b7aca86ca110f',\n",
       " '40bb6fbdeb61407fb074de96dcf4e6a9',\n",
       " '69f229d2b90149b78bd13e8e7f6f32e3',\n",
       " '22d89cac2490494ebb1d9de16a98f8ac',\n",
       " '94289007222c48d9a846170da344ab3a',\n",
       " '0d48e2eeac3f47a9a0b17ed5d2c9bf9c',\n",
       " '09d609b8a2ab4650a435713b04b7192a',\n",
       " '182bbc24d6c54842a80a38b67993e116',\n",
       " '8cc816775b9e4941969895ec264406bd',\n",
       " '5a9559854fcd42b7acd4a74e6c9100e5',\n",
       " '0fd00e1b72b14c1dafb62277af397f3a',\n",
       " '6e84d39df1da4effa019381a4848f72d',\n",
       " 'ae544000e0024366aec9810ee54fbca9',\n",
       " '2b89a480e5b7447886c656d1e5360212',\n",
       " '9214a9d938f74579ac9e47a57f3fe148',\n",
       " '8a76a6c270b04eb7a3e5e8fa7383df2c',\n",
       " 'c0f08d7d6bea49df81d22e5e7a06e53d',\n",
       " '1f77e2df29544503b60ec8a94b5d1b43',\n",
       " 'cb0103acf75d4e008bf599adf9ad5da3',\n",
       " 'f7b52ca38c5d45fba9840161bc5e723d',\n",
       " 'f914f91b85464623a3348a1f1e6ab1bc',\n",
       " '43f5cc56e6c747f3be1e804fe0d89276',\n",
       " 'c8fd18d74d9c471b85fa2adbd44fcc81',\n",
       " 'be2bacab1aed49f9b584eb04d6517c8d',\n",
       " '86974dffb7524f2a8a03b2818e46ef7f',\n",
       " 'e1e0343a552e47eab81603117b3d80cd',\n",
       " 'd58be15f3ab64a6eae5f30a6ac709ed8',\n",
       " '0b7776a650ee4b1bb5cee4f16355ef70',\n",
       " '4cc8117b5ba44f40bbfee50310cbd2cc',\n",
       " '2812c1bdefc44a3b97097a74b17e9a72',\n",
       " 'ec03973dded649cd9621fe0d092c6675',\n",
       " 'b2fd387c468d41f194b0e4b23cb502f7',\n",
       " '12e94d68ed5c4dd3a60c40bf106162f8',\n",
       " '79cfbb3fef084f4b85881282e8bb13ec',\n",
       " '9ade37d9d9d94a4b94bcae73d8eb69dc',\n",
       " 'ae0dc21905dc4cd5abb673e4218c6a67',\n",
       " '17b613fee52e4052afecdbad4a5dacdf',\n",
       " '15584d0babfd4ce982fc4aca1740cce1',\n",
       " '7df7c0b53c7d4f37a9668f2c347c3269',\n",
       " '36655d78e1484fa8b997aa513506cabf',\n",
       " '49b402f801fc43cd98b2c72d212b898a',\n",
       " '2c25cb56482047f683096eadc74045cc',\n",
       " '88a5faac710943509ead4f72db15ac06',\n",
       " 'd002283940694bbda5186b48f0266582',\n",
       " '592018b855bd4ebebb8bba78d787377f',\n",
       " '1cfbd947500b498bb2f40cb8eb79915a',\n",
       " '2492e1f35a9446539c55c168b1a69a25',\n",
       " 'b6a6dfe2ecb44568b08a2bbc149d8a8e',\n",
       " '033402bb4fba4deda68b82484a972101',\n",
       " 'ab1b6df0f9874b8db04c74ee4ff2a535',\n",
       " '15997583782341509e67bfa352092e08',\n",
       " '60ccb5c9e642419cb5f732d7d3e1d8a7',\n",
       " '8e134cf41e204cbf988fa7628edb26e4',\n",
       " '36c744362c4e4c92b45d8054eb657f38',\n",
       " 'c7fdd3c75e8546448b7d0f7f8541fcef',\n",
       " '817f558bca3448ce97b6cf7db40b475d',\n",
       " '894b5ac1d03a40c28882c8cb2c28a127',\n",
       " 'b05815e79c3c4eb09605c7177c48a516',\n",
       " 'f255abb9647f497bab31c8088885dd12',\n",
       " '501fd3c2146a4cb8990d280a67766668',\n",
       " '5de5f82148a64fe2b3a7279e0557c063',\n",
       " 'ee08711946ab4c9e86899088c56f026f',\n",
       " 'a796c41b066b418ba659110b07251061',\n",
       " '35790c62b79940e5a2fd30cefce9a895',\n",
       " '43f5b14dc0d543c3a58be73440e786ab',\n",
       " '40271300a88c4f2f8e854b7b14c999fb',\n",
       " '5d70a3959fcb4e588b5b923d81a76dd1',\n",
       " '9c12fcd0b3114c8593f127c2efa54845',\n",
       " '86ee1efa7c734b889a4f82ef2acb0acc',\n",
       " 'f6b10c7628054d3986066e6e6de474d9',\n",
       " '9e5e277a30d344f0a0a5cec63ed3fac1',\n",
       " '1a105982b5d249fa8ec637080c0515d9',\n",
       " '369a6052d5ff48f38b4b709a2c75a846',\n",
       " 'a84c987b0cd44a5baa5d2a07a7bba22a',\n",
       " '4d49205c37444571b4c45968c0fae65e',\n",
       " '8dabf34836a840cfb294c3c36df8c7a0',\n",
       " '10acddec34b74171b69839af89e6d0ea',\n",
       " '4ad3f5fcd66b4e53b7d0d6d6d0d4288c',\n",
       " '0106ef87930d4c4fa2b0584a48b2a2c1',\n",
       " 'f8cbb6f91296449da80a4ee155e3d7b0',\n",
       " '1e6fd4c7331442f699786dd08847fd96',\n",
       " 'b527d8d4d60f4a62ab72f6f821614e90',\n",
       " 'd5b7d72ccb624c29b8e5b658a250a198',\n",
       " '68615a340eed40f8bd0333ebd4f2ac96',\n",
       " 'c5fd8b46f1a346ebad7541fe26896b32',\n",
       " '12a9dbf00f6646078d26cbf762f92be5',\n",
       " '191beae07dfc431a87864c2830b68fb2',\n",
       " '61f065b8ae3c44b49f2d777dcb505cd1',\n",
       " '5a6f74042f164627b0eb48c76df6dfec',\n",
       " 'b28d528a73e94e158bea44914a8f01dd',\n",
       " '4cd765498fa141fbac6bcc43a7d656f8',\n",
       " '1043690f9b8d49549c63b93b949c46be',\n",
       " '42225c4d0ec54216bf65a544fcfae094',\n",
       " '84c34fe5d1cd4ef7a1094f453f4440c2',\n",
       " 'a657de6555a74075b3a32352816e30d6',\n",
       " '94e98e13bb9f4afabf133004f082c4cd',\n",
       " '82ae700278a343338a5071b4f35ddb01',\n",
       " 'd22e82cebaf3470f93accbd3c29bf014',\n",
       " '1d3be3bdf9414fb4a472dc9800286960',\n",
       " '5f33f492465a43fb9a663cf38c7a4c93',\n",
       " 'ef64e189feed46979336cef3523ff69f',\n",
       " 'f491dc2eb625494cac13f08a2473306c',\n",
       " '671924a9fc684b23b097a868e23b6cc2',\n",
       " '1bcc4ec46b964cbd8ef06d89af2687c0',\n",
       " '12d2f276519243da8404484198529d32',\n",
       " 'a015a45ee2fb4ad49611c372663390bf',\n",
       " 'c609f36b4aa3456c94eeae23cbbb4c33',\n",
       " 'cbe6e65063894a3d923997dabcf23462',\n",
       " '44b9941d37894cbd955efeef6fbbe874',\n",
       " 'b10f862f9ae34001a58aea0d55b1771b',\n",
       " '9bdaf25e1d7148bc916d026ea88a16aa',\n",
       " 'b7d72ce5f1304f059e09c0e96d591e67',\n",
       " '0adf4b50d0d143eab6fadab1f2ca2373',\n",
       " '34f9b958501e48ccbcf1d6b0cbd0cd0c',\n",
       " 'de541360ac6743199437c26712d1a981',\n",
       " '6f7d9a40fd3d44138a259c61f8b0a2e0',\n",
       " '7a6e5ec8f4a34c04bedefa3996b548da',\n",
       " '8ed5eea515904a81a4d7b6a1db760c65',\n",
       " '6ee951cc6fd543bfb828516f267ac5d9',\n",
       " '78b851826c8543969dbe74df90e03e52',\n",
       " 'a62a51dca6f343a299acf92087a77315',\n",
       " 'e9f42a91fe1d405a89c2a5be467f242d',\n",
       " '8a068d1cf3ca48268051118711fef8aa',\n",
       " 'f23c1eb51d18403a958538d1bc609c2c',\n",
       " '27ef52d3aee64edb8b56d5fbeeb50a59',\n",
       " '5a198adee2c742b491ae3a2afcd0bcca',\n",
       " 'e75563a12a9d4ec595b95a3398ef76ea',\n",
       " '1a0ef31102f343459f74101f7db4aced',\n",
       " 'f539c6bdd4344aa08f1e58b842a0778a',\n",
       " '8e9b141e7f544448adee1cdba62fc684',\n",
       " '88caf086fba140d7b5734d40ee0c99a9',\n",
       " 'ed9f5def6ed84d2e83f399bff40e01e1',\n",
       " '6f4333a3bcdf44c3aed86f30d5a0b412',\n",
       " '8952907014ce41aa9c51f83e93e30def',\n",
       " 'ebc9831986d643378e5b88b888bf8814',\n",
       " '8c6ed659d2934a38aa5c9226dbcc673e',\n",
       " '624bd7e142af48b7977dfe3e7428c0c8',\n",
       " '44e10123b4104974886d20939a9ef1b7',\n",
       " '8547896ecefb40c0be5f1a1e468d532c',\n",
       " 'e520dceedbb540ecbfd8781c39f141ff',\n",
       " 'ea61d89c118e4dfeb899a8851f9d12ee',\n",
       " '6fae700c02444dd3ac47066431568395',\n",
       " '3ffd5781559b434ea54935a28f328db8',\n",
       " 'd04d15fd381e41a0ba586b6ea808b317',\n",
       " '290a1d36215944f4ae4966422d71d1ab',\n",
       " 'da2a97dbe8c241da83c659129ed32cfb',\n",
       " '5a66b9256c6d47d1a3c5499b5548eed1',\n",
       " 'cd0e3711d7a74004b63577b696c1a012',\n",
       " 'c8018361d45f4ab781f07de920e08db9',\n",
       " '3394221b10ef4768ab69a04cd50744f1',\n",
       " '2c5b1e39c1324d1ba392e8dc650e0914',\n",
       " '0c9d922ef8ba466fa8d93b25eebfe210',\n",
       " '68569d168a7c4655a39f0a627748d774',\n",
       " '6075c9b89af9441fb14b806687d821ef',\n",
       " '9d2a89894a1343739575f85238c7538c',\n",
       " 'bc3809aefb0d48bba0790044611b24c6',\n",
       " '339f68288019442f953690cf57a19306',\n",
       " 'ceee9344cb3a4762ba86aabdb017c1fd',\n",
       " 'e9187f22fa2e4d4ea1e8fa9fc2c54d3e',\n",
       " '9eb35eb79d4c4ca68650b409e668349d',\n",
       " '951e3ee232f547878cfaa364859f3af6',\n",
       " '71aa9c1c1b2340fba4061d4025d10c88',\n",
       " '4b502779bca94108ae607e1e876a56ee',\n",
       " 'baeb25e693684cd4bc3f347daa1235d8',\n",
       " 'beb86c5ba29942be89a02670aa1a6d85',\n",
       " 'e9819282046e41c4a679886b06956eab',\n",
       " '60b1b5826f5b4bc89936c5571777e2bd',\n",
       " 'dd0fe7edc4304cff9aa53c4591545b86',\n",
       " 'd4fffeb9b57d426683141f4d890e6393',\n",
       " '5f4e9750a7c34db198eed21444379461',\n",
       " 'ad347406f9eb4610a95940a526b2fedd',\n",
       " '1ec11785b4354278a844be81f989d342',\n",
       " 'dd07fd75ab8a4a30bf1259b50752550c',\n",
       " 'cb839a27e5ff495db92428d0cb28ed64',\n",
       " 'ef199488c6f14ceeb0b3646c01382feb',\n",
       " '2d67e577fb9f4b40a67d64d775eac08d',\n",
       " '01d7a82e390a4f94bb0a4d0e58bc4bc5',\n",
       " '59118046b791441087fcb5c4ebb001ba',\n",
       " 'f9cd4bfb18eb4a2892c0df3aa598c3e5',\n",
       " '5acf3b412e754f87b6d1f51f1888cb16',\n",
       " 'feba974fbb364efcb17018e5dd861351',\n",
       " '0c69ce7fe87c4f859ffe16580846510e',\n",
       " 'd3f0da821b8348b7b4600e7ade9aeda9',\n",
       " '16ed2a0b05954870a5570078bfcd902f',\n",
       " '409f5a102a644511b45a6fae03251971',\n",
       " '609f21c9cb784a18b4493d969dc67c2a',\n",
       " 'c149b0f74fb74b2ab7a9ce817098ebc8',\n",
       " '912ce88b3d3546ed8f2eb62c4583459b',\n",
       " '19d27c58095149c1b13fc222fb200e9c',\n",
       " '54bfaa68cfba4dcb88891bec3238e75e',\n",
       " '923bbd92f6174de19f2e660d27327fbb',\n",
       " '67de8149ecdd4e75b96cc8549ec25b42',\n",
       " '4985fa817f44495aad6cd3b6ab0d5f88',\n",
       " '9ed43c57742940a29e86f3075786ef6e',\n",
       " '863d524a5ca04fa69e555f021d2020c1',\n",
       " 'aec0f47af09042b98a7d292c42450821',\n",
       " '7caf8f911fa549699f846f985ca8dfa8',\n",
       " 'e1e9090990a44137a20c7407442c84d0',\n",
       " '50deacd961984c4e80441ae7e74756d2',\n",
       " '5a3e4cbdc71d4d9a81a45c1e357732ff',\n",
       " '8b2db39b2aa7406fba056a8ce15d5960',\n",
       " '03ccf6c5501e4b408d8268ffac939084',\n",
       " 'ce762a8bef6d40f79e497c1ee437d117',\n",
       " '13fee9a641c3495189464ad5ba8844b2',\n",
       " 'ce911617519e42c98d135f2174138ab5',\n",
       " '676e9d736e9b4d7b896ef8093742c0c5',\n",
       " '7af36026dece4d48957977ee40fd1d9e',\n",
       " 'a4cb97d3a2e04771af41585200b54d03',\n",
       " '6b153198c84049f8be4ff9d9eb9e0d17',\n",
       " '410e35f1cd5046eeb74f895934a024bd',\n",
       " '49b4490195504dfd8c4f9feca4c12019',\n",
       " 'c753ebd33fb545638f71d26d12b4931d',\n",
       " 'e6c36043794a4cf0aa39b498c7761c7a',\n",
       " '0dad875dba0143fdae7e6e0ad38c7c59',\n",
       " '0f6d4a4a66a942c18955fbd494df5c3c',\n",
       " '59ba4f5c9c8a4b09828abed9d4b03aa5',\n",
       " 'c971f7226cae4663a16d6ad8231c7473',\n",
       " '4dc1e7640df447f6a2cf181af0e5dead',\n",
       " '81ca7ef34e034dbb927da72de1f41a14',\n",
       " '54459998a5f64c25b4a2d2bdcade8df2',\n",
       " '4c5e8548cf5d475c81dd35515dc36e91',\n",
       " '308b49ed89e1477fa906aead0ae72549',\n",
       " '937b4d870d904087a7e800a2fedbbf4b',\n",
       " 'eaad510ff49b436da29db63bbe316444',\n",
       " '882d66eea6a347fe940ad2c8b29ee1d5',\n",
       " '369c2560561343c6bf510e01edf5999f',\n",
       " '2bcac78fdbaa40d2aab5bd1d756dc3dc',\n",
       " '96d33c4ac9ce46f7974ffbeed98356a6',\n",
       " '2e1bbd164be0423187d516ce4b1ffa66',\n",
       " '37e741768fb04a868d126b925995ddec',\n",
       " 'b90ae29a8833433f97c0ccf988644381',\n",
       " '7622c7df103b493a9f45571432125eec',\n",
       " 'ed82a1f7330d44a49e5f5bfcf275a762',\n",
       " '7a82b9003c8044478bf38f2825c2da7f',\n",
       " '7014a91b64d74872aa5f343a7ee2be4c',\n",
       " 'eb2567ef41354ce1ac4f7203093a75fa',\n",
       " '7004a3c6385c4c04adbfce8dc2709b31',\n",
       " 'e39c39481c884e28841c2c5ac84d84c5',\n",
       " '83b52e3e871a414bbe68a7f9a0837b6b',\n",
       " 'e4b9eaef1cb04428aa1cfa79c147f14d',\n",
       " '2470ca8110ce49d4a0af01f1d55b0cb9',\n",
       " 'ced3ca04d2e6460aa5f93fb0fcb60d69',\n",
       " '917303607bf64e789a4d208853a788a6',\n",
       " '0a5c99743dd24376bfc99e3ca66cbdee',\n",
       " '6e6d89f364694a5397d6ea55245ccb9d',\n",
       " '9a4e8b5127cc4fda8ac72f58b1e71086',\n",
       " '2a966f274e324d718911805669bc2ef3',\n",
       " '8f4e9758d6754326bb021c9833dfe4ec',\n",
       " '06df1924a4b04955ae5f4ee85162cd08',\n",
       " '507d0679aba442c4b28706a02d676b42',\n",
       " 'd5f8ef30ea0e4c94bb94b97640c9f1d3',\n",
       " '5ad6d0a532904a91ba9d89405cd1e4cf',\n",
       " '740d5e7837b94320bf55b32e58b3a7af',\n",
       " '9a3a615e0ae74f7ca973d679e717469c',\n",
       " 'ab347cccafd1420ab416c1393f370857',\n",
       " 'af4d062e2083497a97a6993275130f1c',\n",
       " 'e9c1fa99c23946c994904a0d1f4cd8f3',\n",
       " '53ac5e85e71248af81100285d857491a',\n",
       " '9917725e32ab48218983e2d585a823b7',\n",
       " '12aa1acefcb34ec09f0273277ba0c31b',\n",
       " '7c97ead486dc452bbd93f048e13af4d6',\n",
       " '0f5b7bf5bbdf404cb927c8d7ee705db3',\n",
       " 'fa7da3e43ac74f3b9cf33de1cce75605',\n",
       " '84338ee7dcb74e7597e844174ae2a5f7',\n",
       " 'cf410c67e79c4b72944b866bf5f784ce',\n",
       " 'f73ea4e358db4c15b3dd99e9fca68543',\n",
       " '4c62d618a77a4a18938b45b6c40542c5',\n",
       " 'd08a56f4c0e8473f9a817deed5b3cb48',\n",
       " '1ec66facdf244e589684e0eff29610a9',\n",
       " '15f2bd0219ad41e09f229a14743614c8',\n",
       " '09b74ba3ae7b460e822b2c72e48be6db',\n",
       " 'ee19bc5f40324bb4ba2a4608e8eddb3b',\n",
       " '483a31adac7d450b89a8ea902751c287',\n",
       " '70cd7ecbb8bf4bf7a768dd8ddc1695f3',\n",
       " 'c5a410635fdf4148ac4d45ec303f8e17',\n",
       " 'de6cb88a6d5e43d7943a4cfd31db493b',\n",
       " '76adaf772a1c4bc7b8f6817752e5120f',\n",
       " '1d4a2daa96694ff6a39b5200592458a1',\n",
       " '42446889eb494dbfa6062f279b82e567',\n",
       " '90d0a57cbc0e42edaa499cf11ccdb9d6',\n",
       " '4558b63ffa07491891df90e7a4c32616',\n",
       " '4de4f23b5c5c4847b6ba7817d7e59f9c',\n",
       " '6df02ebfdaa14444a13118ea32317471',\n",
       " 'da33a17276d741e8b5c615296f168f6d',\n",
       " 'f5e492ffbecc4f419e44c8c49a6d8cc5',\n",
       " '53440d68e9f14932b43637c274b1c51d',\n",
       " '9c377eb4fb6d4ace9fd6f8de4925f5aa',\n",
       " 'e880de20b6d640cfb0e7c87565543e66',\n",
       " 'e769f7120c4745f1b53fa6d2bd270381',\n",
       " '0a5134b16fb04bff8b6c286d8784a08a',\n",
       " '7290a55381fa424bbf00846d9c95863a',\n",
       " '6bcf968b57694330a6fb489785d19d1f',\n",
       " '207619bfa54b47e9ae0e4e2cb5ecb603',\n",
       " '2f252ef583b3412ab92be2524973a8f1',\n",
       " '6dfd0480c7dc42e0a23f8e60f50e1b71',\n",
       " '5632882f37ea4da4b95c1ed215b59cc3',\n",
       " '3e55a1ff9e384d96838b34840339b6c0',\n",
       " '910e6eb0a03448c88da2ece876566638',\n",
       " 'e46fc0e6ce4c4a7eaeb840a30b678792',\n",
       " 'fddd0e99919c432b8c14bfb52b4ea86b',\n",
       " 'ae1c7113d5e24c02b09b9ace4ae158e7',\n",
       " 'c840422f12344fc496173885d3622f91',\n",
       " '901c0e7f092b477daf96a7aa2ce19a3a',\n",
       " 'f2e2df8451b44cf68c9c1641454d1211',\n",
       " 'e6737ac46a014bb2a8fe6a36d82c0a7d',\n",
       " '97e6f41dc57045528bcd3508a4fe5ffe',\n",
       " '7873ce97c2f44f699dfc7cb807a01830',\n",
       " '9b591a5ab64c4688ae926e972fa0d57c',\n",
       " '5a088866546c42689143b07c5da717cb',\n",
       " 'c222890a1eb34f308b06359fbf3d2f98',\n",
       " '6a49098cb2b1499085d7d1a68d1734d7',\n",
       " '35d94cd2454a44d7a3d3de39d5215ad6',\n",
       " '7b1742ce278344b6a5bcdb9346bf8fe8',\n",
       " '0865d1d1f38846d1a0587075c0d34f60',\n",
       " 'db64fef3291148028af07604210e3821',\n",
       " '64d68b51f720436cbc591300ce045085',\n",
       " '1c2974c984004c19aa940e7bded43875',\n",
       " 'f5e3765153c840cc8a99d68afde68621',\n",
       " '0dfb9effadf24e2d911ea81880688e09',\n",
       " '1a908f5895624764ac521d781264368c',\n",
       " '599f85fa61714d009d0823f939f41984',\n",
       " '555baf3973ed4db3a8ecc7997b495995',\n",
       " 'bb176312566c4926acc0a9d7f3897fe7',\n",
       " '0175914544b5402fa3be47d74095b1b0',\n",
       " '7acf6f445ae145dbb7d614310a3cb65f',\n",
       " 'f72e2d43cbfe4bb2a512784f46a6ca1f',\n",
       " '1125fe5b347946459e478d839e2141c8',\n",
       " 'b790dd0d510b4a169a1baeeadaec51a7',\n",
       " '09c06af9392c4ff9be964db73aab3a39',\n",
       " 'ef7c6b01e3c74e7cb2bd5b36e6613912',\n",
       " '6ea8024d880b46bbad1baaa7bf4c89bc',\n",
       " '5e8751b78d754c8089d8ef5e45685bb0',\n",
       " 'eaa1db66c81f46bfaedf54b6a31723d9',\n",
       " '0e01ca3c50e24ad28844109124956cc9',\n",
       " 'fd16789137764e69996481426ae089ab',\n",
       " '0c50049be8374e07a27509ca73e29b16',\n",
       " '9471b94d9b304d63934b7950e4247c9c',\n",
       " 'c6bc9b3e26ec42ebad353390393f5373',\n",
       " 'bdc4a9dc3954479bba3fedd4b2d65486',\n",
       " '84e4ebb097114f35a87bae2245f89c20',\n",
       " '7dd0295782fb4fc3b22dc626ddda7918',\n",
       " 'b7859e42028d455d8c7385030a3fe0ae',\n",
       " '9accc248854144b88f4c2663bc7ec3ba',\n",
       " 'd7c6056a2cab49d48027b8b46a3b832c',\n",
       " '7c2bde829b1c4ba0a0aee8ec9d97e267',\n",
       " 'a37f3bcbf39e41fe9e3ef12eb1965d58',\n",
       " 'c93053c1aa664b3ca8925e00ee228c32',\n",
       " 'b3270699595246e9b77cbc774f148492',\n",
       " '9dd29cffa77b4685bfd854d0ce91b3f7',\n",
       " '5af6243ad7a742dda80c43a680984070',\n",
       " '6a190bc70c844e5582cbf17edffba098',\n",
       " 'ac547e62ee1d431ba6e910ea0e9a50cf',\n",
       " 'e1ed11e135b149ee8d0871295b2b518d',\n",
       " 'b358b2ad80c144d5aab228187ae035bc',\n",
       " 'f8cf2dc83ce144eba02fe4c986c3a132',\n",
       " '0f94d916f1654513809fe0c8d52df102',\n",
       " '2b9b501f57d1489697c798a947c777d6',\n",
       " 'cd70438c57854be2bfd5843bdfb95e3b',\n",
       " 'd356b546fbe34b87bf7163977506d0c3',\n",
       " 'f58467708cdc4238b3ad24495ac93a7d',\n",
       " '1498d967cc584a148308ccd907d5c255',\n",
       " '31a706ef03824113b26e48f7503ba269',\n",
       " '08d67f50d1854ffeb9fa6545f6e43648',\n",
       " '28cb512f384e4b78a53a2d911c317e7c',\n",
       " 'd20ff8c111774b23bcd8e7b2973936fb',\n",
       " 'a05895e683854a06861ca1cfed2a08a8',\n",
       " '71c9c737651f4cf9add3b9ca350df12c',\n",
       " '4b5c8d5e1f87490896827facb6430733',\n",
       " '0445d24c35ec485bb131ce6900261ce5',\n",
       " '954fdfaad8b74c09ab49de5e60cefa62',\n",
       " '26b46494ba384d7a9a23881c6d08fe06',\n",
       " 'ba323453501f49deba671db37ec55d53',\n",
       " '424ceb33997e4fa9a60e38fdb669c701',\n",
       " '2ea2f884ed814e9b9856aa099fec16bc',\n",
       " '3b175360205540539edc50a1b523e54f',\n",
       " 'e99ee49ff0fc448da70f514b8c9f9942',\n",
       " '984b2e58e84d4c07a04a6ccca3c930e2',\n",
       " 'f78f9ca4ddbd4164b6b36790c1cb484e',\n",
       " 'faf610259bbc4ca6ada02f502740ad14',\n",
       " 'e2d2e61a23e345978a5d735648c12f43',\n",
       " 'a48a23175a60408fb5be6dcc1740ad3b',\n",
       " '041d5b6aa817441b82189319f68b8a1b',\n",
       " 'cd0f7972be014381953f191e38d1a482',\n",
       " '6ecb133cc04449b1a9bfd52bd2d73763',\n",
       " 'fda689cfb6bc467fbb7f723194b576b1',\n",
       " '7f34ceea7a8c40bea93867f60ac9f58a',\n",
       " '2fdc071d75b9418fa373959b5b38420c',\n",
       " '9aea7922091b47ab889f06cb0fe2d3dc',\n",
       " 'dd10e6f3bcbc4a6c84c11c513329f8ec',\n",
       " '89b488f01ed94ab194729bb295198dbf',\n",
       " '631c444853d44b64a446192ff94ffece',\n",
       " '7d8ead044952422bb495a0233ffb427c',\n",
       " 'dd5c97c62b6a49c1a66b64645d6ba3d1',\n",
       " '494a8141573f474e9faa08fd11bf06cf',\n",
       " '629dcf54bfaf4e3192392ff8fbefdaea',\n",
       " '42043bdf8b334ab89685d0427ee32994',\n",
       " '324413d03ec1420a8ab5d16c86d884a6',\n",
       " '2519afeebebd4973b5bcd4205c9ebd39',\n",
       " 'd8850f05f0c34b08a65278cca4440b45',\n",
       " '78f4128418374357b85461b07f60338a',\n",
       " 'e9c019c8d2934d78a1c8391c593b908c',\n",
       " '3cef633700c646d581a653c3213a3525',\n",
       " 'ec28b402228a4003b6201228df5e69e4',\n",
       " '450c841b17e94a80b3b0b02035d683a0',\n",
       " '688e3a924b8e40099b64dc71fcb8f74f',\n",
       " 'b4a179efcd774aa09c04bad4a7d73810',\n",
       " '100e8c995ad24f06a9b83f7e3ee306ab',\n",
       " '443e250f0e8d44dda9c7933b5062107f',\n",
       " '856df9da1281431e9e747bb574e42f66',\n",
       " '0f97902060284e39af525c5f25cbe3ad',\n",
       " '34dc9a918d8443578a01e4781aaaefea',\n",
       " '469ec64205b741f192bfd3b6c512504f',\n",
       " '696bdc0f91f54199b41134c80f3a4588',\n",
       " '22a82774bf834dc0b3a68bbc5dfbf7cf',\n",
       " '85fa9c06304047679474d27db907be80',\n",
       " 'dae8c40fb5494fd089b7474e7df02141',\n",
       " 'da8259e4897d4d5c8d8d7a5a306ad339',\n",
       " '27c3604515244bec8204bedf60e90e39',\n",
       " '845b7ec109c04e77b4f94d947a13a6ae',\n",
       " '2410acaabccd4de982a57f71ed881518',\n",
       " '521307026df04b5592bfe2894b62c82b',\n",
       " '619dbd535c0640368d14c8b2f599b03d',\n",
       " 'cb018313027b4c54a335c322e27348fc',\n",
       " '3055d7ddd3a14d89838cda0b17db518d',\n",
       " '81dfbb0b97a24c4c897107eb28b30d63',\n",
       " '87fbd44e81854d38a711e191299536c8',\n",
       " '9ad9e9d800184158b013be53daa86d9f',\n",
       " '26299147652e4355ae07d5d3e4787359',\n",
       " '2741deab047a4bebb14fe77b9b13327f',\n",
       " '893e11a1e765418aa150eb0cb0811135',\n",
       " '7a0db08091214ece9c66acf9813c6e4a',\n",
       " 'eec3fd1d2ae44758a292805452688c49',\n",
       " '149c7ec07f6946abb1568e5fe024f4aa',\n",
       " 'd91526ddb14743b9915de511e2cd1c85',\n",
       " '31e4846541074d61a3b6385b986c453f',\n",
       " '6bdd7273495043b7b8ad935d9654671c',\n",
       " '1b63ffffc186468bba7f3fddcfe8dc3b',\n",
       " 'cea5da718d284cac9d45fc5b6c2508b8',\n",
       " '039d3b3537b04209916c086c18f7d0d0',\n",
       " '55c81ec0353d4955a366e4b460d573c1',\n",
       " '6a019ceda8af4d6aa622a2b4a20c2407',\n",
       " 'e7d769cb6fea495ab415b1596dfd3967',\n",
       " 'd07633d53acb4df7909b17d22b4ec5c7',\n",
       " '50dea4d17cb545bf81e6c7e0e5c10661',\n",
       " 'e3efbfb597b94ec78a36e2d825f8d2a5',\n",
       " '77f3fcdfc04e4e0080f39875340062b3',\n",
       " 'abf8e28a4e6249b8b2147d9ff01cf816',\n",
       " '1b78f1ecaa5a437fbd9f316c2e363ba5',\n",
       " '1bcd7db169e44a4881960c5ba83db2b7',\n",
       " '71c33ca098e34dff9f6362dde2604197',\n",
       " 'c2f5fe8fa705417ba50f475eb134cb69',\n",
       " '44841e08d50d450c9c4dbe8a4c83e201',\n",
       " 'ea47feaaa88a448ba9471b2e539e9095',\n",
       " 'd363728931f14c3aa80761afed26448b',\n",
       " '5bc9e5fbc4474294a76885fea8a9b1fb',\n",
       " 'e5c859e6055c4451a8954f5dd5ac8283',\n",
       " 'b7c582b14f7b4192b99066d13ebf9349',\n",
       " '3bf2220a44b448dd96f53b9fc5b9a5f2',\n",
       " '2dda49e5058f446096c5fa00c8f6ccd3',\n",
       " 'fa7c75f3ccc94ed7989f2a73e07193fe',\n",
       " '3a6beeb607794d3e8205520ebfc2222a',\n",
       " '7777739be9d1472db9c27829ba43a4e5',\n",
       " '88bbb23744ef4b0cafaa9fe019b16290',\n",
       " '4f1509954b8446a6b0bcc02371b3a7b7',\n",
       " '2eb68c2fbb094f84b3bf8aac3a39bc80',\n",
       " '31ae683e15454589916f17fa496cfd29',\n",
       " '4b151b5c96b04423b9128fff4ab3e7d4',\n",
       " '9fbfaff2803040d39e81545c489dc89d',\n",
       " 'c1973f14f5aa47c99b721c8ec91188d9',\n",
       " 'd8ea1e03ac8148db868cd00cc7dd0776',\n",
       " '1c8fb71fb4a34f0681189efdebb23ef0',\n",
       " '5d5982b174cf43cbb418737749792fba',\n",
       " 'bf7e27ec674242dcb69e989e4d5f8a83',\n",
       " '8d2d0130052b411b8beaece06d6ab404',\n",
       " 'b3c56afb273b479ca368331050680fff',\n",
       " '3b375f27cb154aa896030d8ce1912207',\n",
       " 'ed2a0098e8f5449baa82daf132fd4cc8',\n",
       " '55eddfe9eab749a1aa4846090a869e62',\n",
       " '54f16dc20574444cab4b20653763841e',\n",
       " 'f803a1c7d06f4ea2b1292d137f9095e2',\n",
       " '6c6d9d99f89144edad449d11a3bc4b84',\n",
       " 'a785a21c88e248cd91ef9235b4e48385',\n",
       " '8ac746a94d24415499a8232b253f8127',\n",
       " '439e1ad956924270bf6e49622fa0d611',\n",
       " 'be654ad134704eab9718b2a0d19bbfe6',\n",
       " 'c3d4563fd23a466fbda633741514c9de',\n",
       " '835299394c0045ca9ffa33173e048964',\n",
       " 'f74d0bf143b94ee58f2b5d2f027c37a4',\n",
       " 'c6725fcd2cb14f058d454507ac342a1d',\n",
       " 'ef7d10bdeb164acbbde662f5bb2dce18',\n",
       " '596106b531b84470b9929a2c8b55a384',\n",
       " '7b09c14198f34934b78c09b688d0d4c2',\n",
       " '77fb696e847a4546840634c299a3cc4b',\n",
       " 'e516ece26ff24964863a45d5df263b7d',\n",
       " '7e280af091d84ce8bda0ccf26a7fbf69',\n",
       " 'e549bf833c69405ca1d3fcc1173015d9',\n",
       " '8282974764ba4f32b6eaa7e1a6039264',\n",
       " '20f9aa6fa7074728bf2ed157ae46cfb2',\n",
       " 'f57076edd6bf43aca665d468bb444242',\n",
       " '0c07abd55c6c41e2a2e4c24607fd9a92',\n",
       " 'e69bb4d736f14eb48fd0d9de1918d4d1',\n",
       " '3145ac3033d644de844ca6af3fff9e6b',\n",
       " '4304466a42354d57b9f1a1cf563156bf',\n",
       " 'c73e4ea5e7534a10b8175455d227e41d',\n",
       " 'ccf7d504f6f24dd89feff5b897f81054',\n",
       " '700f391ff44b4e5a9d4b49ef0ad916de',\n",
       " 'a022c843f73a45eea4b9a0aafe5049b5',\n",
       " 'b4f8c74a55fc4b5182cfaf89081e3706',\n",
       " '323c712b80394bf3a507f293a62bb72a',\n",
       " '948c7d4b5dd447839da0263db9ddad84',\n",
       " '115ccca6ce8d4480be9ead283cd5cb46',\n",
       " '0e2116db68244bb89fa659fd0d963600',\n",
       " '262d210150124459862aaeee64887126',\n",
       " 'a0c3fa0ac2dd43a99d6000a53532d2a8',\n",
       " '0e5a9d40b11c4f338c6358732f84fb75',\n",
       " 'b4e15740410046b5a0935d61071a11f9',\n",
       " '7d4141f040524649911df5b1ab631be5',\n",
       " '5fe0001fdc2448009650aeaa240d669b',\n",
       " '6f295f87dcdd4497891e9041dde3e352',\n",
       " '6a1469d675d64d339edcb2c204bd2a3c',\n",
       " 'e65f88e1f329462f8bfe9199b8f1d32b',\n",
       " 'c9b90aa90e6247349ed6196442020bb9',\n",
       " '0f72f91f90cc48e99ebe7f4c7241edfc',\n",
       " '8a7909ddfa284e6db2e3e1d6d90e0c62',\n",
       " 'dbc169be780b4b5ca490ddc678a6a19c',\n",
       " '1e9c9423720f4fc697ad0f43316e4e8b',\n",
       " '6fd0581291c246efb39eefca13565cc5',\n",
       " 'cfd5b96be1ca4ca7a7f594abc281ddb9',\n",
       " '6d29c20c8b984e34a424d7d05e226165',\n",
       " '170735d04e2447fca7e54d0e9451be89',\n",
       " '808071e8229e42abbd54cf607e6e5516',\n",
       " 'ddd59ef128b84fa196599d947dc7372c',\n",
       " '7f2434e261814d0fb2dfe89e4f284159',\n",
       " '9f948ab287a74cc99db296f7fe0b70c4',\n",
       " 'fc1e40b45dea458884f536e076133231',\n",
       " '726cbf7ac6504b798b1b7dd3883e5ef3',\n",
       " 'e198575b1ba642c184ea3733145c5621',\n",
       " '994c8a426315422898d685ed5a50f139',\n",
       " '3804667138f84cf0a6e3592bf9999800',\n",
       " 'a5d842bcec264bf2b4c8f05804583b07',\n",
       " 'bb81d9cdd0b94ae5a777c97bdaa7adf2',\n",
       " 'b5d3f44281bf44ad8fda57d5eef4baf3',\n",
       " '4495c1907dba4fce9712eda75e82b0a7',\n",
       " '87e9569fe478423a86be6c8b9a10bc37',\n",
       " '93859489295e4f77af04004a9f3e389a',\n",
       " '43e97a1967d94c6288edbba7211b569c',\n",
       " 'fffea2b5f67f4577afaec7e03e36f19f',\n",
       " '5a54f327d3d247f08a70b9ed0a18902d',\n",
       " 'ae34c02282bd4c48bcbf0a71ef87b681',\n",
       " 'eb3e2ddbd6a64fe4b115c0425a5364b2',\n",
       " 'fcfdaaaf69e543a08d2a1dd8a010077f',\n",
       " '06f8754f9a0c448c846395423908a2db',\n",
       " '9ca13278212748789df0f30158eceb35',\n",
       " '56ff0a6e20a14633927449743bb94873',\n",
       " 'e468088fbc4f47868f690a5188c46629',\n",
       " '824fe392660946a38b6e604700ed15f6',\n",
       " 'a2b658434f14415cb8301726105d0897',\n",
       " '160461c23fc04ec6ba05c61ded0bba24',\n",
       " 'd3248dfe1cda4b3e980a74c1041f45aa',\n",
       " '64d69d2ae07f49fe8438cc44f4557787',\n",
       " 'ea7cee3274bf46f5a025d707dc55876e',\n",
       " 'b6bd2a95b1994584b0e040d21472d58f',\n",
       " '5d8d7194e70543bd98c6ac8cf7fdb848',\n",
       " '71a496d06ba9487c9e509a02e7968385',\n",
       " 'c0c8892300944bf79eef91851c19fe0e',\n",
       " 'e8232d073ef244a9b7fa59409f61ff6d',\n",
       " '66f4e3bc93e64b3db82d2a2e4cc2ca15',\n",
       " '272b844814fe49a4817b45582e3ca99a',\n",
       " '10cbf7d14f3142009481149b92966e98',\n",
       " '7cc6dd85b1be4f9f9d93e91b889a67ce',\n",
       " 'ea00b70eca65401ba20066add9f5a1ea',\n",
       " '125ffa0721214a1ba3bc0267952789f3',\n",
       " 'e9275f6d71bd4bdb927ac6b46b81d584',\n",
       " '8b8db09bb66c41508b318a012c8099c2',\n",
       " '05406b831e0f47cab6b88cdf7b226212',\n",
       " 'c2049265a97746dda7ef1e14599157ee',\n",
       " '4bd11c38325042d2bd4d80974c49c69e',\n",
       " 'f3490c76492140d9ba66dbb954acbb7f',\n",
       " '9b8a2a60f3ff4098bd6862deddc7e019',\n",
       " '56d116b40d514754bcec529dab8b296c',\n",
       " 'c4b524c4dd324da08373cf9b6976c4f4',\n",
       " '4719121eb29a4998b5ced18f9e5023c2',\n",
       " 'e120f6e76d3d409eb6daabdf09a1a87e',\n",
       " '72a2c0ecd47a4797b6231276f0f37989',\n",
       " '85d44d354fa448a09bcd1e06fe2a7241',\n",
       " 'e604d0ac97d94b0a9a862b5110d7ee37',\n",
       " 'f9eaa898d4c447ff8ba117584f814c27',\n",
       " 'c64d0be978b54417be99e202f42f10c1',\n",
       " 'f5f5c2ba043747589d79f796dc2612ec',\n",
       " '5145671050684edd8308f5b664f5b1ab',\n",
       " 'a852b719d1e64c7cb5662f6fdb824e04',\n",
       " '51f6058701e2426e923475d3883edf36',\n",
       " 'a73f6705e9f846e2abba72203f991654',\n",
       " '7a03cdeee7fd433f9f8826fb5778d897',\n",
       " 'bc9d439ba11a40d1931ee99b1e9cfee9',\n",
       " '7572ea109ee04385ac4a767a1bb67f0c',\n",
       " '01887c77bc0c487e8fd7faeadea3698c',\n",
       " '8665de9d0fe241ac8780bad8c95a4c78',\n",
       " '26166b72730d4fdb9bd00445d61b4cc8',\n",
       " '34f7c4970d7a4d048ec1012da4dbe2df',\n",
       " 'fc18256d61c249749141ef8726320ad9',\n",
       " '87fafdc5ec0443fe876f7b896166e651',\n",
       " 'ef5b1bbdca9d475cbc7661d48ef25139',\n",
       " 'c19ba723200d46bcb0df43280bb1113c',\n",
       " '7420416148f5465b9553d7b4cbda0228',\n",
       " '611b8cfc50ea40a68ec13781493e3406',\n",
       " 'cb932e655e894441993c375bb64dff57',\n",
       " '44a7dd4eb6be479cb58a986a263caf22',\n",
       " 'c560f54632c347a59a4aaadc2b484be4',\n",
       " 'ece5d2b0ee5b412db262db0a561adbe7',\n",
       " '3a91fec6969c4cb4875218e26f9b99b3',\n",
       " '6e85c6a546a948d2983b26e9cd48fa24',\n",
       " 'e201b4ca5b6244c4b118e3e68be837a1',\n",
       " '33c13c13e7954273b6d2301ad61d74af',\n",
       " '6ba0807cb971430b8dafb72be616ecf3',\n",
       " '1fd1a8cd8d304335a03a96f208553bdb',\n",
       " '5333f669aa474d4fb5b55b992085c3f9',\n",
       " 'bff26f6a0c4c43709f815a5099eaf314',\n",
       " '53f313b7789b4dd7a3547bafa2a70f79',\n",
       " '6a1720e67fa24f09a47440de0a3a928b',\n",
       " 'e0e9df1f59154ac6b7caac53c008ae97',\n",
       " '152f3cd153b84179952ab82b8d3bbd7d',\n",
       " '664f428436e5492ea57554fd86b0fe70',\n",
       " '5ddd8edf85bc4281ad037716bcc9ba7d',\n",
       " 'c5d32f98cda046b79c0e2b8a07921dd6',\n",
       " '86f9eff545d1450aba9bb5e5c31b82df',\n",
       " 'd5542185884d45aea413fdaf05cebcbd',\n",
       " '29c6e755f50244e5a2d4c2add3c3a431',\n",
       " 'a1275c72c7c44f53a7eca5be4222ab30',\n",
       " '0d3a07b7ad6344608587dde3114f3b09',\n",
       " 'f4b831c9bbd04653a02ea4e6eb0f5e5c',\n",
       " 'c242a2139d31402bb4c11f64f8a64e61',\n",
       " 'f59e3a0c417f4e659f965947503b51b7',\n",
       " 'c74923717ace4633b2ecd2e98ba77ace',\n",
       " '871484d8949b4e509fe6b0ab0fadf62b',\n",
       " '32e4dd17b3cd4429ad78eb1ec75befde',\n",
       " 'ce36f5f53a7740c19a54db75857ec58c',\n",
       " '7e0874c2c7174ed6a14c3f3c56bbaf1a',\n",
       " '54abc740f05e4b8ea270598dfe5ae0dd',\n",
       " '5d768ac2a8584d21b140f93239b3d8f8',\n",
       " 'cce1eaa495a8496da3c4a73a587a1904',\n",
       " '94c01235042848b788efdc65dd9f33f7',\n",
       " '6d2046188e8743ce93e5964fa58572f8',\n",
       " '2cc6b9068d5e4cd9a34285fa1340805e',\n",
       " '6aab0d151b304416a17b64b010784a67',\n",
       " '4f03ef4103104560980800fa832417f8',\n",
       " 'c4e028c0a5644c1283462b13d2b673ff',\n",
       " 'bd11720e71a54b1c8c7ea67d5c90cbd3',\n",
       " 'f26ca54127e148ba8d60bba689c5534b',\n",
       " '898a9473888b45a1b214c48541617d2b',\n",
       " '8a1520d8ee96477a86fac7f5e65b5cb4',\n",
       " 'd6aa6a5231b8416184554a7753350ea3',\n",
       " 'de86126d85a54155aaacce71811ff62c',\n",
       " 'f0116ad0a2f74aa685c80ff870564457',\n",
       " 'aaf8cb245d43489c843f9fce869dab72',\n",
       " '633006a5c1514313968ed6f08c3da482',\n",
       " 'e9c395877c7244b69bbb7f57ed6bd2bb',\n",
       " 'fcac9bc7bd7d46d7aaaf241d0339e29a',\n",
       " 'bd4af64ef8544dc491947d67f3bc1802',\n",
       " '14184eafb5434eefa0e95b733d6c3a17',\n",
       " 'df6bfe0714b245179fc3d3e54f74289d',\n",
       " 'e25a93f513cc4f63a0623a900ceb655d',\n",
       " '93223f04a316443296591a2d0f29e0c0',\n",
       " '4f12141f9b1e4e21ab7a78907c403f97',\n",
       " '7b349b38119247c48a2b2d14a7df1e98',\n",
       " '934d4241388447f2b11660a9b54cc149',\n",
       " '8cb4af80e43d4f2897f9693c9ba18311',\n",
       " '975912fc922c45bfa22e106dda0a9a78',\n",
       " '9b535b67ec834fef89045fec9e175ef8',\n",
       " '146085af7d6747f7bb696480bf103ab3',\n",
       " '3b0ed61493cf4df7855bbe4bf61cf33b',\n",
       " 'c59fd0fa12294d2d9414272cd6dab365',\n",
       " '0bbc906b1cbd46278733e0fb9bd19b1b',\n",
       " 'fa1ae3f5704c4b41ac468851434f15b6',\n",
       " '1411a8a6a89b416ca104cb533019c516',\n",
       " '76acd044d52048c19ab39722f847b4c5',\n",
       " '81cb68e4a2b34ab4a282023747bc6189',\n",
       " 'c05ac0aeeea346f3b5fd1040ef79aeb8',\n",
       " '20eb0da715314b81b023d66900dabacf',\n",
       " 'a8ca1353ece14829b42b4f5127c34a7d',\n",
       " 'b60915e1b64e4218ba07825d05d0db5c',\n",
       " '1decd578d97f4afeb54f9d9193287049',\n",
       " '6903a43198f64883bb4895a65602cdc2',\n",
       " '1efa9e067bf94b5d90e0fb4d43cbe543',\n",
       " '6f4e041c93be41f5ae3b9ee95cebf7ef',\n",
       " '99ad178e26fc42a4ba72e7f0b0d3eaae',\n",
       " '75614b415b7146eeb972d98cd1fd6743',\n",
       " '71a874f988954f98afa40c4fa21345ef',\n",
       " 'a62665ecd1ff42958dca9f52b35e32f7',\n",
       " '8b4b9688341040899785d7b36920957f',\n",
       " '5aaaa18ec5624536b2d41a5eb70a6fc1',\n",
       " '5e9943c37ed74272ae5e90c721358f70',\n",
       " '61d65ca6869d4b008c6f7bc724c5213d',\n",
       " '3aedc520a55d4fb69019a4c2df5e04ac',\n",
       " '59413cab2236408896eb85bdec277623',\n",
       " '331287b55a3140aca91692b437e9ac35',\n",
       " 'a4f58ee3cd4043fdb461bb613dbbf455',\n",
       " '77a8139a33bd4820b43cd912017d1488',\n",
       " '80b915fc910647ef908c9ae381f9336a',\n",
       " 'e71fefb811204a618f05533f9195f08f',\n",
       " '08c103af069d444a972b93bfe944d28f',\n",
       " '8f7ed5c8af344844a655356aa1652563',\n",
       " '05ce50863ebb4441b53b2c42c7eb4e33',\n",
       " 'd50dea13ec7f488397b29bb93feb6a9b',\n",
       " '03b1d84b69734e0b8ffc3c66c5dd9e44',\n",
       " 'f08f5ca3cd65499888ee985dccbe0b2d',\n",
       " '7c4af1920d1949bfae9914bbba5faa26',\n",
       " '9777836b6ff8415cbfe579dd3e4d632c',\n",
       " '5af43c498cb2402d96acd3ac1f9c881b',\n",
       " 'd3ded29a302e40caa09f5a037adc7de7',\n",
       " 'da9a93c1290f44d6b2ed711f1311c545',\n",
       " 'ad4181039cdc46cc897270b565847c12',\n",
       " '6816d24ef1634e81b8fefd1ad2653845',\n",
       " '7944358abb5f4eeda5eaf331608207fd',\n",
       " 'd7595b26187d4f7096aff68f85540c42',\n",
       " 'f554690e646c443caf631797e1fe92f9',\n",
       " 'a5a886c6654e4122b22fc0d150aea0f1',\n",
       " 'dbe00d6ba33d45c5a6b7fad00de5a1fe',\n",
       " 'e82caaccf14b48f8bd57c15254beaed0',\n",
       " '1216ad74b5a049b897f47555aa88b5eb',\n",
       " '6c1f7817ff7e42b2a4e2eadb8317f0e3',\n",
       " 'c301a1026e05486e902f344d3fa13178',\n",
       " '85ed565bdf2a47139277198864b848df',\n",
       " '3fd0627d1940418c943e1576aa53940f',\n",
       " '72bb1e149bca4b7aab8868ed327bebde',\n",
       " 'a0c955aa7f454337a028634100da06ad',\n",
       " 'ab120289e7024bad8741106c7b4fe14c',\n",
       " '917124393c2e4165b3e6d49dff16da93',\n",
       " '20200919161a4a269f1b01dc3a549453',\n",
       " '1a2b1ab510da406f896bb3ac3093e27e',\n",
       " '6e374ad065c343d9aa404069f16004b5',\n",
       " '106d4959daa746268ee7dcf93c5f1978',\n",
       " '757ee17329494b33a14f6fa9d81d374e',\n",
       " '309ea74ca2f9434a9ea44c1316621456',\n",
       " 'b6974c0e063a4e4fafd28cc7a735d65d',\n",
       " 'cfd2e951ee4647b0af86d995eedb9bf3',\n",
       " '8709ff3e4fcb4c76a1b7e3cd892c2997',\n",
       " 'e14872b5fff74ed48232011cdd584626',\n",
       " '6f5c28a37eb34b26892de2af755c2c3c',\n",
       " 'bab7c8c21a634e788772f3f1a2c37e9d',\n",
       " '57a79d0d50964c52a9aeee69780533dc',\n",
       " '399cbfb20c4641849cd155e2d5ec4f66',\n",
       " '1906f76f2d5a41e28917cd7b4eade5a8',\n",
       " '95f35da992634a0f8e7460de8e47b492',\n",
       " '43234b983f93488191ae8991126cd16d',\n",
       " '3c25df299f9e4090b3114e6e4894bce3',\n",
       " '62e2c67006e244dda99bf896d84cbcab',\n",
       " '80cdf42e85e94590a1e712ed85779896',\n",
       " 'a08382b2b755482a8a4df4a79a5d894b',\n",
       " '0f6d4775552a444689e5590d3785e305',\n",
       " 'ef25ca4194f54291b19b981d03ee3990',\n",
       " '0671ced411f348fa97cbf5373e49cb9a',\n",
       " 'f59216039c404c26bf9145704d72a140',\n",
       " '2c8fba79f3b64ca7be8b57ad7d2b9173',\n",
       " 'e6baf33b04654560ab100684dec7b4c1',\n",
       " '893af5778a33426aa81973735a2327e4',\n",
       " 'af31064b48c445b69a990a6725c15252',\n",
       " '3b531814f35e4652be2c30a44dcacf2e',\n",
       " '34d091158f794b53aea59ae65b9770f5',\n",
       " 'c3cd4f06f66142a7979266e0200d820c',\n",
       " 'adf84c8c33cd4a83ab4153cb3b8b744b',\n",
       " '3fa1fb2c30f34f81bc3304458bc9227f',\n",
       " 'a081cb23e34840e3a9b6765cc4da2086',\n",
       " '7ff560b5124f4c0893d7481296801cd5',\n",
       " '2412078ce7d94a468d244197b086771c',\n",
       " '4a39cd0094e641ab867b85bb1f5b2049',\n",
       " 'a5c4367ef3644a42a8fac397a6f2b1b1',\n",
       " 'af63faa5716a49d2945c3dd649696668',\n",
       " '3d26f9014d604ffa8b271425336292ec',\n",
       " '6c1bf776c81f4cd492c03e574e2b834c',\n",
       " 'd5f4728aba67431ea85ad26537e4768e',\n",
       " 'c2d229eee0654bd4b614f2862d965682',\n",
       " '01c3b7926be749e8863cb34f5bce634a',\n",
       " 'e66b967bd023455eab92c4784ebee702',\n",
       " 'f31ad84d9d884dd9bc8ab03c6fd6abc5',\n",
       " 'ab1a722f6cc44384aa2341680c7b9aec',\n",
       " 'a36ebe4c67c248c687fdc3e634366a58',\n",
       " '0dfbb4e6b1f341bba9b6922247ac423c',\n",
       " '61783fdf8969497ba0d80cdf8b67eb85',\n",
       " 'acd5475fcd5c439aa99888ba1e58486f',\n",
       " '984dfb4ebee04b04b7806e8cfaf284ab',\n",
       " 'd68a66985fbd49a895a894fb064d962a',\n",
       " 'a38f5582c5ed4a139b833aeda7cf22f0',\n",
       " 'b9fbf255bcbe45c4a709f7377b5b3c24',\n",
       " 'b42dd74598544b41a03b1d2b778fd419',\n",
       " 'cb1e31068acb48d992af45ebd35a78b7',\n",
       " '0c6248b7d6a3441da8ff5e0aa4215885',\n",
       " '109f6eb59ab3488fb2890c0fd3bc6cc9',\n",
       " '47c2abedd4794800b2a2f38e8fbf3a71',\n",
       " 'b3bb870fd7f64bcd98fe981c60311c6d',\n",
       " 'b05698a10227480ab068cde6023c113a',\n",
       " 'aea0053bf93f4ae18dbc5f0cadad2db4',\n",
       " 'ae485e3764d44c188f677aa7418692c7',\n",
       " '7f1a9b7ea95d40458a7d2e64f88b03c0',\n",
       " '04be1b7a0bf6486e8cb1ef9f383aa71d',\n",
       " '6e9b4625d35a4cd2b6fa7b2da8bbbad6',\n",
       " '261b8c5adb794eaa875d7bcb05d3cf5e',\n",
       " 'e0aee0d9936b4fa181b013241b79f642',\n",
       " 'd33b8f1237f141fe8446e3a0bb9c6be2',\n",
       " 'ae669fe9f3c44670b61ead19e09d26a0',\n",
       " '55c79a4ae62847b3a85385f929067030',\n",
       " '139ca343b8c14e2583d3400ce2a774d7',\n",
       " '046d04b0df5842b3b4cd5b4eaac14c8d',\n",
       " '88e3e12c2f254d74aabad77fc2c48db7',\n",
       " '43bf6ad98b3e4998abeb60f47759dc66',\n",
       " '4d235098ea4b4105ad21643b282f9869',\n",
       " 'b33f54f1c2ea49a383ba987cd12402ff',\n",
       " 'bcfcd84a52764c0b8bc4ad020097eb6a',\n",
       " '78b586a430c346c6855cd81b78ba26c8',\n",
       " 'cd98d9a8719e46ed8ff5dfcf09ed8159',\n",
       " 'e6a3a2d0b3bc4b0ea7a088a4c9f895a2',\n",
       " 'baaa430cb1bb4f5486489b76b137ecd6',\n",
       " 'e7e60ab1fa1a4cd784cb3c27c531a791',\n",
       " 'e1acf1ab10f445c498c7cb34f18b8885',\n",
       " '0a8d40d34ea1447a94d8fe6c956e3cf5',\n",
       " 'ddeb5b5a4e894137b98625d3db67f386',\n",
       " 'ecea3ec2be724437b94d8bee102483cd',\n",
       " '7416b5413be64978abb17b5b68423033',\n",
       " 'b7cf1c8aad88498986e371a5e8353da5',\n",
       " '6be96e887bd24ab3b9b57fdf7f383e3d',\n",
       " '320b8df848be481bb55530941ae30951',\n",
       " '51bf5e224d54418782aa032da9d0c375',\n",
       " '534d389fa914462d84eee706641cfa9b',\n",
       " 'a50ac4bb2bf84ea8b6b89c13148a1c47',\n",
       " '297e7d60da80492888ae9b9265a5150e',\n",
       " 'c741780147074fe18dd62a10555a981b',\n",
       " '69bffb067e0547d3b835288cecf3f0c6',\n",
       " '28af817347284d37abf71e507649e525',\n",
       " '21d61b67a5a447f097135ec5dec1a0e7',\n",
       " 'a68bd9ecaa9441a181f8ed253b32304c',\n",
       " '7f57aa5a35db4e9b983773e842505b78',\n",
       " '0e6f2ff1fec946f998287bd2876fec56',\n",
       " '32660f703c3e4e4d815fb5ca407c34ab',\n",
       " '099af974f8f8409da3b52a211c20810f',\n",
       " '50377fd54f9b4a0ca796cbe2334e41fc',\n",
       " '05b4b66cab9546f7a6748f9b3f8e22cd',\n",
       " '82241464bf0d4058bb22f150861f6903',\n",
       " '9fa565861e8648a99927989ab13eeb5d',\n",
       " 'cb78c0a9ef514516ab777d781185054d',\n",
       " 'a09e42f5b9a3415eb28a1159fb5b9fc6',\n",
       " '36b5c8b247b64972a3b0d4fa32bec9fe',\n",
       " '950206df9d344970822b9af01ea92070',\n",
       " 'eb4d196e1d874650abe5d21f79c54e56',\n",
       " '75fab2680de34e47b8f993a67e1e1ef5',\n",
       " '7a91769d0013432991b43169ca7680bb',\n",
       " '8b377c5186424b018c28293bd402046b',\n",
       " 'b2b857fc27144e0087ad2f43c902feff',\n",
       " 'a5e61ccd9b24414c94c57c9d010acd99',\n",
       " '50f4495fed75457284f5e7d1d43d20a5',\n",
       " 'ad3b0321f9814a5588bb7c29a3577eb4',\n",
       " '37e351e0cee34d02a6e56427aaea8cea',\n",
       " '71997486bf804b19a60bd90d82f3ef56',\n",
       " 'c8d7771e1eaf4efa96adc2861a5d9516',\n",
       " '0d3539215beb410284a8118ab66b0e63',\n",
       " 'cda02a1251d045bf80e68a1ac093aca9',\n",
       " 'f61cfc5410bc4e5d8ce9395ac09ba5b1',\n",
       " '452ebbf061f54c78a3d6d6d3d6ad322e',\n",
       " '6ae06464271b44e7bed79b8bfe2b6f04',\n",
       " '2de23947108c451cb376beba325a3080',\n",
       " '23d8d3416fe1452c97f514ea0931bfbd',\n",
       " '81b64da62f554f8888f80010bab947b6',\n",
       " 'fa5f9e49d393435f89bcbc062b4927f6',\n",
       " '7c9c00aaab7c45bdba9ad5b44f428e91',\n",
       " '3c5e8d884e3f47378e0c880612063481',\n",
       " '160b6acbb9ad436091db1f6a7ca994a0',\n",
       " '645becc9aaf44a9d9d25d6936303163b',\n",
       " 'f6527b58421440739c16c5e5985ad4b5',\n",
       " '26cd9800aaa94858b0e71074aad3b62c',\n",
       " '47f47b2dc4d44adf8c7bb7ee2b44f51f',\n",
       " '3a3eee78fed7432ea851c5c63b78c009',\n",
       " 'b7eaed0f2c8449faa5c5ff2cd459835c',\n",
       " '488aea01c74940de8a7c5c9babb9e65a',\n",
       " '8a9c05e9bc9949969a035bff31ec9d21',\n",
       " '184125a205834000b54db0f3861ee8f5',\n",
       " 'b9679bfc52914f11b262d802c89a9809',\n",
       " 'a27c457637c144d6a372186809149e8e',\n",
       " 'a7ed603d7d224c4799c5f2e175a71d30',\n",
       " 'a17c7fa6fe384e8887317bd21ddc7f71',\n",
       " 'a50600c9457343148d37c1b0b984d8cc',\n",
       " '414e38d767da43c59272f77f4dfd6caa',\n",
       " 'faed4885148e4140be61fcad57e3fa20',\n",
       " 'c6f5a11eb7004470982d47f38dae83cc',\n",
       " 'f61cbb0e984942bdb8039e6b4ab9e158',\n",
       " 'dff45e50777946d1b8e60de63567c8f9',\n",
       " '060035b7087543c6ab56674bcf4b71e9',\n",
       " 'f1a9f4a90f7345af9789bee48dcd46d9',\n",
       " 'bfd6666fc071436ab0f5a4e73b54bc9f',\n",
       " '10cd05d026f84e36a7fa65e7efcf2a63',\n",
       " '19aa499d4fb6493d865de0a93dcb6d17',\n",
       " 'c4e2cb36929a4862999b450da22dde4e',\n",
       " 'ebdea7e3db674267a42d4d5cda1b257e',\n",
       " 'a99b028b1cc14e7f959e982c732bdb1a',\n",
       " '2b9d340aa1aa44be932ed7834e7a9d65',\n",
       " 'cb02c8e67f8a4b81807aade6b4601549',\n",
       " '0198847836c04a1f9e9887be4014a312',\n",
       " '6f8dde9e6fd34f30a25400665ec0e04d',\n",
       " '553172349a0f447cb69ef9a0f427dd7f',\n",
       " 'cf82c0eb3a9b4eb5b1ba9f7ccfa3fddc',\n",
       " '92c4385fb5844b32af4a0cb14c80580f',\n",
       " '92976fffcbcc41f7a6f64997af81c7fc',\n",
       " '7e9e169d389f4e4dabd503ecca011a5f',\n",
       " 'e3894059e12a4f3a8c1b7e60cbb43d07',\n",
       " ...]"
      ]
     },
     "execution_count": 37,
     "metadata": {},
     "output_type": "execute_result"
    }
   ],
   "source": [
    "client.add(collection_name=COLLECTION_NAME, metadata=docs_metadatas, documents=docs_contents)"
   ]
  },
  {
   "cell_type": "code",
   "execution_count": 38,
   "metadata": {
    "colab": {
     "base_uri": "https://localhost:8080/"
    },
    "id": "OFOxzL3PN8xp",
    "outputId": "54c772a9-4ded-4795-981d-99ea7f2e1207"
   },
   "outputs": [
    {
     "data": {
      "text/plain": [
       "CountResult(count=4431)"
      ]
     },
     "execution_count": 38,
     "metadata": {},
     "output_type": "execute_result"
    }
   ],
   "source": [
    "## Ensuring we have expected number of document chunks\n",
    "client.count(collection_name=COLLECTION_NAME)"
   ]
  },
  {
   "cell_type": "markdown",
   "metadata": {
    "id": "0Hc5zeXVWJN_"
   },
   "source": [
    "### **10. Searching for the document**"
   ]
  },
  {
   "cell_type": "code",
   "execution_count": 40,
   "metadata": {
    "colab": {
     "base_uri": "https://localhost:8080/"
    },
    "id": "DjKP_kYkV5Ck",
    "outputId": "fe2b3a61-b458-4942-9839-ffd72e235c9a"
   },
   "outputs": [
    {
     "name": "stdout",
     "output_type": "stream",
     "text": [
      "Id:  d26b54d2-1809-4788-b815-5aed286c17d2\n",
      "Document :  Here, we show how the accuracy of binary quantization is quite good across different dimensions -- for both the models. \n",
      "\n",
      "\n",
      "\n",
      "## Enhanced Performance and Efficiency with Binary Quantization\n",
      "Score :  0.93278515\n",
      "Source :  articles/binary-quantization-openai.md\n",
      "Id:  abbce2fc-f0f0-40d1-bf35-06a598e7a2eb\n",
      "Document :  Demetrios:\n",
      "\n",
      "I see, okay, so basically this is the quantization. And now let's dive into the binary quantization and how it works.\n",
      "\n",
      "\n",
      "\n",
      "Andrey Vasnetsov:\n",
      "Score :  0.9211245\n",
      "Source :  blog/binary-quantization-andrey-vasnetsov-vector-space-talk-001.md\n"
     ]
    }
   ],
   "source": [
    "## Searching for document chunks similar to query for context\n",
    "search_result = client.query(collection_name=COLLECTION_NAME, query_text=\"what is binary quantization\",limit=2)\n",
    "context = [\"document:\"+r.document+\",source:\"+r.metadata['source'] for r in search_result]\n",
    "for res in search_result:\n",
    "    print(\"Id: \", res.id)\n",
    "    print(\"Document : \" , res.document)\n",
    "    print(\"Score : \" , res.score)\n",
    "    print(\"Source : \" , res.metadata['source'])"
   ]
  },
  {
   "cell_type": "markdown",
   "metadata": {
    "id": "vKSaosV1WaEH"
   },
   "source": [
    "### **11. Inititalize OpenAI**"
   ]
  },
  {
   "cell_type": "code",
   "execution_count": 41,
   "metadata": {
    "id": "Fnne48JLWe-H"
   },
   "outputs": [],
   "source": [
    "from openai import OpenAI\n",
    "openai_client = OpenAI(api_key=openai_api_key)"
   ]
  },
  {
   "cell_type": "markdown",
   "metadata": {
    "id": "JhqBR3t7WGf0"
   },
   "source": [
    "### **12. Querying without the context**"
   ]
  },
  {
   "cell_type": "code",
   "execution_count": 20,
   "metadata": {
    "id": "h-X69HiXWQzH"
   },
   "outputs": [],
   "source": [
    "def query_without_context(query):\n",
    "\n",
    "    prompt_start = (\n",
    "        \"\"\" You're assisting a user who has a question based on the documentation.\n",
    "        Your goal is to provide a clear and concise response that addresses their query while referencing relevant information\n",
    "        from the documentation.\n",
    "        Remember to:\n",
    "        Understand the user's question thoroughly.\n",
    "        If the user's query is general (e.g., \"hi,\" \"good morning\"),\n",
    "        greet them normally and avoid using the context from the documentation.\n",
    "        If the user's query is specific and related to the documentation, locate and extract the pertinent information.\n",
    "        Craft a response that directly addresses the user's query and provides accurate information\n",
    "        referring the relevant source and page from the 'source' field of fetched context from the documentation to support your answer.\n",
    "        Use a friendly and professional tone in your response.\n",
    "        If you cannot find the answer in the provided context, do not pretend to know it.\n",
    "        Instead, respond with \"I don't know\".\\n \"\"\"\n",
    "    )\n",
    "\n",
    "    prompt_end = ( f\"\\n\\nQuestion: {query}\\nAnswer:\" )\n",
    "\n",
    "    prompt = ( prompt_start + \"\\n\\n---\\n\\n\" +  prompt_end )\n",
    "\n",
    "    res = openai_client.completions.create(\n",
    "        model=\"gpt-3.5-turbo-instruct\",\n",
    "        prompt=prompt,\n",
    "        temperature=0,\n",
    "        max_tokens=636,\n",
    "        top_p=1,\n",
    "        frequency_penalty=0,\n",
    "        presence_penalty=0,\n",
    "        stop=None\n",
    "    )\n",
    "    return (res.choices[0].text)"
   ]
  },
  {
   "cell_type": "code",
   "execution_count": 21,
   "metadata": {
    "colab": {
     "base_uri": "https://localhost:8080/"
    },
    "id": "NJo9cCF6Wkzj",
    "outputId": "365b4dce-9740-4404-8192-b42c87fab5cb"
   },
   "outputs": [
    {
     "name": "stdout",
     "output_type": "stream",
     "text": [
      " Binary quantization is a process of converting numerical data into binary form, where each value is represented by a sequence of 0s and 1s. This technique is commonly used in machine learning and data compression to reduce the size of data while preserving its essential information. You can learn more about binary quantization and its applications on page 12 of the \"Data Compression\" section in the documentation.\n"
     ]
    }
   ],
   "source": [
    "print (query_without_context(query = \"what is binary quantization?\"))"
   ]
  },
  {
   "cell_type": "code",
   "execution_count": null,
   "metadata": {
    "colab": {
     "base_uri": "https://localhost:8080/"
    },
    "id": "U0zSfcp9WlYO",
    "outputId": "196854b9-f88d-4b70-bc1e-bfb42abe0cad"
   },
   "outputs": [
    {
     "name": "stdout",
     "output_type": "stream",
     "text": [
      " To reproduce the benchmark for Open Source vector databases, you can follow the steps outlined in the documentation on page 5 of the 'Benchmarking' section. This section provides detailed instructions on how to set up and run the benchmark, as well as how to interpret the results. Additionally, you can refer to the 'Benchmarking' section for more information on the benchmarking process and its importance in evaluating vector databases.\n"
     ]
    }
   ],
   "source": [
    "print (query_without_context(query = \"How can one reproduce the benchmark for Open Source vector databases?\"))"
   ]
  },
  {
   "cell_type": "markdown",
   "metadata": {
    "id": "fKioSnZIWqbi"
   },
   "source": [
    "### **13. Querying with Context from Qdrant**"
   ]
  },
  {
   "cell_type": "code",
   "execution_count": 42,
   "metadata": {
    "id": "unnDrJjPWxDQ"
   },
   "outputs": [],
   "source": [
    "def query_with_context(query,limit):\n",
    "\n",
    "    ## Fetch context from Qdrant\n",
    "    search_result = client.query(collection_name=COLLECTION_NAME, query_text=query, limit=limit)\n",
    "\n",
    "    contexts = [\n",
    "        \"document:\"+r.document+\",source:\"+r.metadata['source'] for r in search_result\n",
    "    ]\n",
    "    prompt_start = (\n",
    "        \"\"\" You're assisting a user who has a question based on the documentation.\n",
    "        Your goal is to provide a clear and concise response that addresses their query while referencing relevant information\n",
    "        from the documentation.\n",
    "        Remember to:\n",
    "        Understand the user's question thoroughly.\n",
    "        If the user's query is general (e.g., \"hi,\" \"good morning\"),\n",
    "        greet them normally and avoid using the context from the documentation.\n",
    "        If the user's query is specific and related to the documentation, locate and extract the pertinent information.\n",
    "        Craft a response that directly addresses the user's query and provides accurate information\n",
    "        referring the relevant source and page from the 'source' field of fetched context from the documentation to support your answer.\n",
    "        Use a friendly and professional tone in your response.\n",
    "        If you cannot find the answer in the provided context, do not pretend to know it.\n",
    "        Instead, respond with \"I don't know\".\n",
    "\n",
    "        Context:\\n\"\"\"\n",
    "    )\n",
    "\n",
    "    prompt_end = (\n",
    "        f\"\\n\\nQuestion: {query}\\nAnswer:\"\n",
    "    )\n",
    "\n",
    "    prompt = (\n",
    "        prompt_start + \"\\n\\n---\\n\\n\".join(contexts) +\n",
    "        prompt_end\n",
    "    )\n",
    "\n",
    "    res = openai_client.completions.create(\n",
    "        model=\"gpt-3.5-turbo-instruct\",\n",
    "        prompt=prompt,\n",
    "        temperature=0,\n",
    "        max_tokens=636,\n",
    "        top_p=1,\n",
    "        frequency_penalty=0,\n",
    "        presence_penalty=0,\n",
    "        stop=None\n",
    "    )\n",
    "\n",
    "    return (contexts , res.choices[0].text)"
   ]
  },
  {
   "cell_type": "code",
   "execution_count": 43,
   "metadata": {
    "colab": {
     "base_uri": "https://localhost:8080/"
    },
    "id": "r9QIecjHyB54",
    "outputId": "e4cda103-82a8-41d9-9b2b-96d7b8c59468"
   },
   "outputs": [
    {
     "name": "stderr",
     "output_type": "stream",
     "text": [
      "huggingface/tokenizers: The current process just got forked, after parallelism has already been used. Disabling parallelism to avoid deadlocks...\n",
      "To disable this warning, you can either:\n",
      "\t- Avoid using `tokenizers` before the fork if possible\n",
      "\t- Explicitly set the environment variable TOKENIZERS_PARALLELISM=(true | false)\n"
     ]
    },
    {
     "name": "stdout",
     "output_type": "stream",
     "text": [
      " Quantization is a technique that uses quantum computing to improve the search process in artificial neural networks (ANNs). It involves converting traditional float32 vectors into qbit vectors and creating quantum entanglement between them. This allows for highly efficient vector search algorithms. You can learn more about this in the article \"Quantum Quantization and Entanglement\" in the 'articles' section of the documentation.\n"
     ]
    }
   ],
   "source": [
    "question1 = \"what is quantization?\"\n",
    "RETRIEVAL_WINDOW_SIZE_3 = 3\n",
    "context1 , rag_response1 = query_with_context(question1,RETRIEVAL_WINDOW_SIZE_3)\n",
    "#print(context)\n",
    "print(rag_response1)"
   ]
  },
  {
   "cell_type": "code",
   "execution_count": 47,
   "metadata": {
    "colab": {
     "base_uri": "https://localhost:8080/"
    },
    "id": "E2lh71CIyB54",
    "outputId": "d1a492cc-6704-4c55-a218-888b8dbb0c1b"
   },
   "outputs": [
    {
     "name": "stdout",
     "output_type": "stream",
     "text": [
      " Quantization is an optional feature in Qdrant that enables efficient storage and search of high-dimensional vectors. It compresses data while preserving close to original relative distances between vectors. Different quantization methods have different mechanics and tradeoffs, which are covered in the documentation.\n"
     ]
    }
   ],
   "source": [
    "RETRIEVAL_WINDOW_SIZE_5 = 5\n",
    "context2 , rag_response2 = query_with_context(question1,RETRIEVAL_WINDOW_SIZE_5)\n",
    "#print(context)\n",
    "print(rag_response2)"
   ]
  },
  {
   "cell_type": "code",
   "execution_count": 48,
   "metadata": {
    "colab": {
     "base_uri": "https://localhost:8080/"
    },
    "id": "6WjCWzN7W7AE",
    "outputId": "6173e8be-15a1-4099-e7ba-abe36f4e2ae6"
   },
   "outputs": [
    {
     "name": "stdout",
     "output_type": "stream",
     "text": [
      " To reproduce the benchmark for Open Source vector databases, you can refer to the source code available on Github and follow the instructions in the README.md file. The source code can be found at https://github.com/qdrant/vector-db-benchmark. This information can be found in the 'How to reproduce the benchmark?' section of the 'benchmarks/benchmark-faq.md' page.\n"
     ]
    }
   ],
   "source": [
    "question2 = \"How can one reproduce the benchmark for Open Source vector databases?\"\n",
    "context2_1 , rag_response2_1 = query_with_context(question2,RETRIEVAL_WINDOW_SIZE_3)\n",
    "#print(context)\n",
    "print(rag_response2_1)"
   ]
  },
  {
   "cell_type": "code",
   "execution_count": 49,
   "metadata": {
    "id": "IVvoqCTkyB54",
    "outputId": "7c01e6bc-896d-49e6-9c36-bd3784893ac1"
   },
   "outputs": [
    {
     "name": "stdout",
     "output_type": "stream",
     "text": [
      " To reproduce the benchmark for Open Source vector databases, you can refer to the source code available on Github and follow the instructions in the README.md file. This information can be found in the document \"How to reproduce the benchmark?\" from the source \"benchmarks/benchmark-faq.md\". Additionally, if you have any suggestions or improvements for the benchmark, you can contribute to the project on Github.\n"
     ]
    }
   ],
   "source": [
    "question2 = \"How can one reproduce the benchmark for Open Source vector databases?\"\n",
    "context2_1 , rag_response2_1 = query_with_context(question2,RETRIEVAL_WINDOW_SIZE_5)\n",
    "#print(context)\n",
    "print(rag_response2_1)"
   ]
  },
  {
   "cell_type": "markdown",
   "metadata": {
    "id": "iLkWOGItZX0S"
   },
   "source": [
    "### **14. Prepare the evaluation dataset to evaluate our RAG system**\n",
    "\n",
    "Method to generate the evaluation dataset for the given config of **DATASET , EVALUATION_SIZE and RETRIEVAL_WINDOW_SIZE**"
   ]
  },
  {
   "cell_type": "code",
   "execution_count": 50,
   "metadata": {
    "id": "Hvpes48gj4TC"
   },
   "outputs": [],
   "source": [
    "from datasets import Dataset\n",
    "\n",
    "# RAGAS Expect ['question', 'answer', 'contexts', 'ground_truth'] format\n",
    "'''\n",
    "{\n",
    "    \"question\": ['What is quantization?', ...],\n",
    "    \"answer\": [], ## answer\n",
    "    \"contexts\": [], ## context\n",
    "    \"ground_truth\": ## answer expected\n",
    "}\n",
    "'''\n",
    "def create_eval_dataset(dataset, eval_size,retrieval_window_size):\n",
    "    questions = []\n",
    "    answers = []\n",
    "    contexts = []\n",
    "    ground_truths = []\n",
    "\n",
    "    # Iterate over the first 10 entries\n",
    "    for i in range(eval_size):\n",
    "        entry = dataset[i]\n",
    "        question = entry['question']\n",
    "        answer = entry['answer']\n",
    "        questions.append(question)\n",
    "        ground_truths.append(answer)\n",
    "        context , rag_response = query_with_context(question,retrieval_window_size)\n",
    "        contexts.append(context)\n",
    "        answers.append(rag_response)\n",
    "\n",
    "    rag_response_data = {\n",
    "        \"question\": questions,\n",
    "        \"answer\": answers,\n",
    "        \"contexts\": contexts,\n",
    "        \"ground_truth\": ground_truths\n",
    "    }\n",
    "\n",
    "    return rag_response_data"
   ]
  },
  {
   "cell_type": "code",
   "execution_count": 51,
   "metadata": {
    "id": "gQnaLMIcv3X-",
    "outputId": "493281d6-8c6b-436b-d445-1aaeac3bca0a"
   },
   "outputs": [],
   "source": [
    "## Define the Config for generating the Eval dataset as below :\n",
    "\n",
    "# loading the eval dataset from HF\n",
    "qdrant_qna_dataset = load_dataset(\"atitaarora/qdrant_doc_qna\", split=\"train\")\n",
    "\n",
    "EVAL_SIZE = 10\n",
    "\n",
    "RETRIEVAL_SIZE_3 = 3\n",
    "\n",
    "#print(qdrant_qna_dataset.column_names)\n",
    "\n",
    "## The dataset used to evaluate RAG using RAGAS\n",
    "## Note this is the dataset needed for evaluation hence has to be recreated everytime changes to RAG config is made\n",
    "rag_eval_dataset_512_3 = create_eval_dataset(qdrant_qna_dataset,EVAL_SIZE,RETRIEVAL_SIZE_3)"
   ]
  },
  {
   "cell_type": "code",
   "execution_count": 52,
   "metadata": {
    "colab": {
     "referenced_widgets": [
      "67c3797238e3425ebadd22992fe7a4bd"
     ]
    },
    "id": "ZFIw8KEhyB54",
    "outputId": "69f4090a-0e9b-4da2-e4a3-ab7b2f5614ab"
   },
   "outputs": [
    {
     "data": {
      "application/vnd.jupyter.widget-view+json": {
       "model_id": "8bdec9183eb942e1b2a4d0adc179c36c",
       "version_major": 2,
       "version_minor": 0
      },
      "text/plain": [
       "Creating CSV from Arrow format:   0%|          | 0/1 [00:00<?, ?ba/s]"
      ]
     },
     "metadata": {},
     "output_type": "display_data"
    },
    {
     "data": {
      "text/plain": [
       "25163"
      ]
     },
     "execution_count": 52,
     "metadata": {},
     "output_type": "execute_result"
    }
   ],
   "source": [
    "rag_response_dataset_512_3 = Dataset.from_dict(rag_eval_dataset_512_3)\n",
    "rag_response_dataset_512_3.to_csv('rag_response_512_3.csv')"
   ]
  },
  {
   "cell_type": "markdown",
   "metadata": {
    "id": "te1iegPpW__p"
   },
   "source": [
    "### **15. Lets evaluate , how good is our RAG !!**\n",
    "\n",
    "![image.png](data:image/png;base64,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)"
   ]
  },
  {
   "cell_type": "code",
   "execution_count": 53,
   "metadata": {
    "colab": {
     "base_uri": "https://localhost:8080/",
     "height": 363
    },
    "id": "qPzkNNgKat3R",
    "outputId": "3ea7529e-f43e-42f9-ca15-b6e5d2a1a015"
   },
   "outputs": [
    {
     "data": {
      "text/html": [
       "<div>\n",
       "<style scoped>\n",
       "    .dataframe tbody tr th:only-of-type {\n",
       "        vertical-align: middle;\n",
       "    }\n",
       "\n",
       "    .dataframe tbody tr th {\n",
       "        vertical-align: top;\n",
       "    }\n",
       "\n",
       "    .dataframe thead th {\n",
       "        text-align: right;\n",
       "    }\n",
       "</style>\n",
       "<table border=\"1\" class=\"dataframe\">\n",
       "  <thead>\n",
       "    <tr style=\"text-align: right;\">\n",
       "      <th></th>\n",
       "      <th>question</th>\n",
       "      <th>answer</th>\n",
       "      <th>contexts</th>\n",
       "      <th>ground_truth</th>\n",
       "    </tr>\n",
       "  </thead>\n",
       "  <tbody>\n",
       "    <tr>\n",
       "      <th>0</th>\n",
       "      <td>What is vaccum optimizer ?</td>\n",
       "      <td>The vacuum optimizer is a feature that helps ...</td>\n",
       "      <td>['document:optimizersConfig: new OptimizersCon...</td>\n",
       "      <td>The Vacuum Optimizer is a feature in the Qdran...</td>\n",
       "    </tr>\n",
       "    <tr>\n",
       "      <th>1</th>\n",
       "      <td>Tell me about ‘always_ram’ parameter?</td>\n",
       "      <td>The `always_ram` parameter in the `quantizati...</td>\n",
       "      <td>['document:\"compression\": \"x32\",\\n\\n          ...</td>\n",
       "      <td>In the context of vector quantization in Qdran...</td>\n",
       "    </tr>\n",
       "    <tr>\n",
       "      <th>2</th>\n",
       "      <td>What is difference between scalar and product ...</td>\n",
       "      <td>According to the documentation, the main diff...</td>\n",
       "      <td>['document:But there are some tradeoffs. Produ...</td>\n",
       "      <td>While both methods aim to reduce the memory fo...</td>\n",
       "    </tr>\n",
       "    <tr>\n",
       "      <th>3</th>\n",
       "      <td>What is ‘best_score’ strategy?</td>\n",
       "      <td>The 'best_score' strategy is a new approach i...</td>\n",
       "      <td>['document:#   [ScoredPoint(id=3, version=0, s...</td>\n",
       "      <td>The `best_score` strategy is based on the idea...</td>\n",
       "    </tr>\n",
       "    <tr>\n",
       "      <th>4</th>\n",
       "      <td>How does oversampling helps?</td>\n",
       "      <td>Oversampling helps by equalizing the represen...</td>\n",
       "      <td>['document:oversampling helps equalize the rep...</td>\n",
       "      <td>Defines how many extra vectors should be pre-s...</td>\n",
       "    </tr>\n",
       "    <tr>\n",
       "      <th>5</th>\n",
       "      <td>What is the purpose of ‘CreatePayloadIndexAsync’?</td>\n",
       "      <td>The 'CreatePayloadIndexAsync' function is use...</td>\n",
       "      <td>['document:```java\\n\\nimport io.qdrant.client....</td>\n",
       "      <td>CreatePayloadIndexAsync is a method in the Qdr...</td>\n",
       "    </tr>\n",
       "    <tr>\n",
       "      <th>6</th>\n",
       "      <td>What is the purpose of ef_construct in HNSW ?</td>\n",
       "      <td>The ef_construct parameter in HNSW (Hierarchi...</td>\n",
       "      <td>['document:(\"my_vector\".into()),\\n\\n          ...</td>\n",
       "      <td>In HNSW algorithm the ef_construct parameter i...</td>\n",
       "    </tr>\n",
       "    <tr>\n",
       "      <th>7</th>\n",
       "      <td>How do you use ‘ordering’ parameter?</td>\n",
       "      <td>To use the 'ordering' parameter, you need to ...</td>\n",
       "      <td>['document:```http\\n\\nPUT /collections/{collec...</td>\n",
       "      <td>Write ordering can be specified for any write ...</td>\n",
       "    </tr>\n",
       "    <tr>\n",
       "      <th>8</th>\n",
       "      <td>What is significance of ‘on_disk_payload’ sett...</td>\n",
       "      <td>The 'on_disk_payload' setting in the collecti...</td>\n",
       "      <td>['document:* `on_disk_payload` - defines where...</td>\n",
       "      <td>The `on_disk_payload` setting in the storage c...</td>\n",
       "    </tr>\n",
       "    <tr>\n",
       "      <th>9</th>\n",
       "      <td>What is the impact of ‘write_consistency_facto...</td>\n",
       "      <td>The `write_consistency_factor` determines the...</td>\n",
       "      <td>['document:### Write consistency factor\\n\\n\\n\\...</td>\n",
       "      <td>The `write_consistency_factor` parameter in a ...</td>\n",
       "    </tr>\n",
       "  </tbody>\n",
       "</table>\n",
       "</div>"
      ],
      "text/plain": [
       "                                            question  \\\n",
       "0                         What is vaccum optimizer ?   \n",
       "1              Tell me about ‘always_ram’ parameter?   \n",
       "2  What is difference between scalar and product ...   \n",
       "3                     What is ‘best_score’ strategy?   \n",
       "4                       How does oversampling helps?   \n",
       "5  What is the purpose of ‘CreatePayloadIndexAsync’?   \n",
       "6      What is the purpose of ef_construct in HNSW ?   \n",
       "7               How do you use ‘ordering’ parameter?   \n",
       "8  What is significance of ‘on_disk_payload’ sett...   \n",
       "9  What is the impact of ‘write_consistency_facto...   \n",
       "\n",
       "                                              answer  \\\n",
       "0   The vacuum optimizer is a feature that helps ...   \n",
       "1   The `always_ram` parameter in the `quantizati...   \n",
       "2   According to the documentation, the main diff...   \n",
       "3   The 'best_score' strategy is a new approach i...   \n",
       "4   Oversampling helps by equalizing the represen...   \n",
       "5   The 'CreatePayloadIndexAsync' function is use...   \n",
       "6   The ef_construct parameter in HNSW (Hierarchi...   \n",
       "7   To use the 'ordering' parameter, you need to ...   \n",
       "8   The 'on_disk_payload' setting in the collecti...   \n",
       "9   The `write_consistency_factor` determines the...   \n",
       "\n",
       "                                            contexts  \\\n",
       "0  ['document:optimizersConfig: new OptimizersCon...   \n",
       "1  ['document:\"compression\": \"x32\",\\n\\n          ...   \n",
       "2  ['document:But there are some tradeoffs. Produ...   \n",
       "3  ['document:#   [ScoredPoint(id=3, version=0, s...   \n",
       "4  ['document:oversampling helps equalize the rep...   \n",
       "5  ['document:```java\\n\\nimport io.qdrant.client....   \n",
       "6  ['document:(\"my_vector\".into()),\\n\\n          ...   \n",
       "7  ['document:```http\\n\\nPUT /collections/{collec...   \n",
       "8  ['document:* `on_disk_payload` - defines where...   \n",
       "9  ['document:### Write consistency factor\\n\\n\\n\\...   \n",
       "\n",
       "                                        ground_truth  \n",
       "0  The Vacuum Optimizer is a feature in the Qdran...  \n",
       "1  In the context of vector quantization in Qdran...  \n",
       "2  While both methods aim to reduce the memory fo...  \n",
       "3  The `best_score` strategy is based on the idea...  \n",
       "4  Defines how many extra vectors should be pre-s...  \n",
       "5  CreatePayloadIndexAsync is a method in the Qdr...  \n",
       "6  In HNSW algorithm the ef_construct parameter i...  \n",
       "7  Write ordering can be specified for any write ...  \n",
       "8  The `on_disk_payload` setting in the storage c...  \n",
       "9  The `write_consistency_factor` parameter in a ...  "
      ]
     },
     "execution_count": 53,
     "metadata": {},
     "output_type": "execute_result"
    }
   ],
   "source": [
    "eval_dataset_512_3 = pd.read_csv('rag_response_512_3.csv')\n",
    "eval_dataset_512_3.head(10)"
   ]
  },
  {
   "attachments": {
    "0210edb8-2342-4d38-9293-886783f5f595.png": {
     "image/png": "[encoded data removed]"
    }
   },
   "cell_type": "markdown",
   "metadata": {},
   "source": [
    "### **RAGAS Metrics supported through Haystack**\n",
    "![Screenshot 2024-04-23 at 10.42.36.png](attachment:0210edb8-2342-4d38-9293-886783f5f595.png)"
   ]
  },
  {
   "cell_type": "code",
   "execution_count": 74,
   "metadata": {
    "id": "IQPFbATvyB56"
   },
   "outputs": [],
   "source": [
    "from haystack import Pipeline\n",
    "from haystack_integrations.components.evaluators.ragas import RagasEvaluator, RagasMetric\n",
    "\n",
    "def evaluate_eval_dataset(df):\n",
    "  pipeline = Pipeline()\n",
    "  ##To avoid format mismatch issue\n",
    "  df['contexts'] = df['contexts'].apply(lambda x: eval(x) if isinstance(x, str) else [])\n",
    "\n",
    "  QUESTIONS = df['question'].tolist()\n",
    "  CONTEXTS = df['contexts'].tolist()\n",
    "  ANSWERS = df['answer'].tolist()\n",
    "  GROUND_TRUTHS = df['ground_truth'].tolist()\n",
    "\n",
    "  ## Grades if the answer has any additional irrelevant information for the question asked.\n",
    "  precision_evaluator = RagasEvaluator(metric=RagasMetric.CONTEXT_PRECISION)\n",
    "    \n",
    "  ## Grades how complete the generated response was for the question specified.\n",
    "  recall_evaluator = RagasEvaluator(metric=RagasMetric.CONTEXT_RECALL)\n",
    "    \n",
    "  ## Grades how relevant the provided context was for the question specified.\n",
    "  relevancy_evaluator = RagasEvaluator(metric=RagasMetric.CONTEXT_RELEVANCY)\n",
    "    \n",
    "  ## Grade to what extent the generated answer uses the provided context.\n",
    "  context_utilization_evaluator = RagasEvaluator(metric=RagasMetric.CONTEXT_UTILIZATION)\n",
    "    \n",
    "  ## Grades how factual the generated response was.\n",
    "  faithfullness_evaluator = RagasEvaluator(metric=RagasMetric.FAITHFULNESS)\n",
    "    \n",
    "  ## Grades how relevant the generated response is given the question.\n",
    "  ## The strictness parameter plays a crucial role in maintaining a certain level of self-consistency in predictions, \n",
    "  ## with an ideal range typically falling between 2 to 4.\n",
    "  answer_relevancy_evaluator = RagasEvaluator(metric=RagasMetric.ANSWER_RELEVANCY,\n",
    "                                            metric_params={\"strictness\":3},)\n",
    "    \n",
    "  ## Grades the accuracy of the generated answer when compared to the ground truth.\n",
    "  correctness_evaluator = RagasEvaluator(metric=RagasMetric.ANSWER_CORRECTNESS,\n",
    "                                        metric_params={\"weights\": [0.8,0.9]},)\n",
    "    \n",
    "  ## Grades how similar the generated answer is to the ground truth answer specified.\n",
    "  similarity_evaluator = RagasEvaluator(metric=RagasMetric.ANSWER_SIMILARITY,\n",
    "                                        metric_params={\"threshold\": 0.9},)\n",
    "    \n",
    "  ## Grades generated answers based on custom aspects ('Toxicity' in this case) on a binary scale.\n",
    "  ## Supported aspects - harmfulness, maliciousness, coherence, correctness, conciseness \n",
    "  aspect_critic_evaluator = RagasEvaluator(metric=RagasMetric.ASPECT_CRITIQUE,\n",
    "                            metric_params={\"name\": \"Toxicity\", \"definition\": \"Is this answer toxic for user?\", \"strictness\": 3},)\n",
    "\n",
    "  pipeline.add_component(\"precision_evaluator\", precision_evaluator)\n",
    "  pipeline.add_component(\"recall_evaluator\", recall_evaluator)\n",
    "  pipeline.add_component(\"relevancy_evaluator\", relevancy_evaluator)\n",
    "  pipeline.add_component(\"context_utilization_evaluator\", context_utilization_evaluator)\n",
    "  pipeline.add_component(\"faithfullness_evaluator\", faithfullness_evaluator)\n",
    "  pipeline.add_component(\"correctness_evaluator\", correctness_evaluator)\n",
    "  pipeline.add_component(\"answer_relevancy_evaluator\", answer_relevancy_evaluator)\n",
    "  pipeline.add_component(\"similarity_evaluator\", similarity_evaluator)\n",
    "  pipeline.add_component(\"aspect_critic_evaluator\", aspect_critic_evaluator)\n",
    "\n",
    "  results = pipeline.run(\n",
    "      {\n",
    "          \"precision_evaluator\": {\"questions\": QUESTIONS, \"contexts\": CONTEXTS, \"ground_truths\": GROUND_TRUTHS,},\n",
    "          \"recall_evaluator\": {\"questions\": QUESTIONS, \"contexts\": CONTEXTS, \"ground_truths\": GROUND_TRUTHS,},\n",
    "          \"relevancy_evaluator\": {\"questions\": QUESTIONS, \"contexts\": CONTEXTS,},\n",
    "          \"context_utilization_evaluator\": {\"questions\": QUESTIONS, \"contexts\": CONTEXTS, \"responses\": ANSWERS},\n",
    "          \"faithfullness_evaluator\": {\"questions\": QUESTIONS, \"contexts\": CONTEXTS, \"responses\": ANSWERS},\n",
    "          \"correctness_evaluator\": {\"questions\": QUESTIONS, \"ground_truths\": GROUND_TRUTHS, \"responses\": ANSWERS},\n",
    "          \"answer_relevancy_evaluator\": {\"questions\": QUESTIONS, \"contexts\": CONTEXTS, \"responses\": ANSWERS},\n",
    "          \"similarity_evaluator\": {\"ground_truths\": GROUND_TRUTHS, \"responses\": ANSWERS},\n",
    "          \"aspect_critic_evaluator\": {\"questions\": QUESTIONS, \"contexts\": CONTEXTS, \"responses\": ANSWERS},\n",
    "      }\n",
    "  )\n",
    "  return results"
   ]
  },
  {
   "cell_type": "code",
   "execution_count": 55,
   "metadata": {
    "id": "S1VsBi2axDEG"
   },
   "outputs": [],
   "source": [
    "## Exporting evaluation results to Dataframe for better visibility\n",
    "\n",
    "import pandas as pd\n",
    "\n",
    "def evaluation_results_to_dataframe(evaluation_outputs):\n",
    "    # Initialize a list to hold all the rows of the DataFrame\n",
    "    data_rows = []\n",
    "\n",
    "    # Iterate over each evaluator in the evaluation outputs\n",
    "    for evaluator_name, evaluator_data in evaluation_outputs.items():\n",
    "        # Iterate over each result in this evaluator\n",
    "        for result_index, result in enumerate(evaluator_data['results']):\n",
    "            # Each result is a list with one dictionary\n",
    "            for metric in result:\n",
    "                # Append each metric to the data_rows list as a dictionary\n",
    "                data_rows.append({\n",
    "                    'Evaluator': evaluator_name,\n",
    "                    'Index': result_index,\n",
    "                    'Metric Name': metric['name'],\n",
    "                    'Score': metric['score']\n",
    "                })\n",
    "\n",
    "    # Convert the list of dictionaries to a DataFrame\n",
    "    return pd.DataFrame(data_rows)"
   ]
  },
  {
   "cell_type": "code",
   "execution_count": 56,
   "metadata": {
    "id": "HS1kQKGqzICt"
   },
   "outputs": [],
   "source": [
    "## Merge eval dataset and metrics results dataset for summarised view\n",
    "\n",
    "def merge_eval_and_metrics_dataset(eval_df,metrics_df):\n",
    "  # Add an index column\n",
    "  eval_df.reset_index(inplace=True)\n",
    "  eval_df.rename(columns={'index': 'Index'}, inplace=True)\n",
    "  #eval_df.drop('Index', axis=1,inplace=True)\n",
    "  metrics_summary_df = metrics_df.pivot(index='Index', columns='Evaluator', values='Score')\n",
    "  # Merge the DataFrames on the 'Index' column\n",
    "  final_df = pd.merge(eval_df, metrics_summary_df, on='Index')\n",
    "  #print(final_df)\n",
    "  return final_df"
   ]
  },
  {
   "cell_type": "code",
   "execution_count": 57,
   "metadata": {
    "id": "F2TvrxuK0TGY"
   },
   "outputs": [
    {
     "data": {
      "application/vnd.jupyter.widget-view+json": {
       "model_id": "fc7684da304944e8b0d3db5019f825ad",
       "version_major": 2,
       "version_minor": 0
      },
      "text/plain": [
       "Evaluating:   0%|          | 0/10 [00:00<?, ?it/s]"
      ]
     },
     "metadata": {},
     "output_type": "display_data"
    },
    {
     "data": {
      "application/vnd.jupyter.widget-view+json": {
       "model_id": "b3650b38720948248151212959ab01df",
       "version_major": 2,
       "version_minor": 0
      },
      "text/plain": [
       "Evaluating:   0%|          | 0/10 [00:00<?, ?it/s]"
      ]
     },
     "metadata": {},
     "output_type": "display_data"
    },
    {
     "data": {
      "application/vnd.jupyter.widget-view+json": {
       "model_id": "45679a37bfdb4476aedf5af29b5c7cd6",
       "version_major": 2,
       "version_minor": 0
      },
      "text/plain": [
       "Evaluating:   0%|          | 0/10 [00:00<?, ?it/s]"
      ]
     },
     "metadata": {},
     "output_type": "display_data"
    },
    {
     "data": {
      "application/vnd.jupyter.widget-view+json": {
       "model_id": "eae190ff9b74406aad6fdf0f7637a14d",
       "version_major": 2,
       "version_minor": 0
      },
      "text/plain": [
       "Evaluating:   0%|          | 0/10 [00:00<?, ?it/s]"
      ]
     },
     "metadata": {},
     "output_type": "display_data"
    },
    {
     "name": "stderr",
     "output_type": "stream",
     "text": [
      "Using 'context_precision' without ground truth will be soon depreciated. Use 'context_utilization' instead\n",
      "Using 'context_precision' without ground truth will be soon depreciated. Use 'context_utilization' instead\n",
      "Using 'context_precision' without ground truth will be soon depreciated. Use 'context_utilization' instead\n",
      "Using 'context_precision' without ground truth will be soon depreciated. Use 'context_utilization' instead\n",
      "Using 'context_precision' without ground truth will be soon depreciated. Use 'context_utilization' instead\n",
      "Using 'context_precision' without ground truth will be soon depreciated. Use 'context_utilization' instead\n",
      "Using 'context_precision' without ground truth will be soon depreciated. Use 'context_utilization' instead\n",
      "Using 'context_precision' without ground truth will be soon depreciated. Use 'context_utilization' instead\n",
      "Using 'context_precision' without ground truth will be soon depreciated. Use 'context_utilization' instead\n",
      "Using 'context_precision' without ground truth will be soon depreciated. Use 'context_utilization' instead\n"
     ]
    },
    {
     "data": {
      "application/vnd.jupyter.widget-view+json": {
       "model_id": "4e04beeb2e514d97abc8c7d95be40563",
       "version_major": 2,
       "version_minor": 0
      },
      "text/plain": [
       "Evaluating:   0%|          | 0/10 [00:00<?, ?it/s]"
      ]
     },
     "metadata": {},
     "output_type": "display_data"
    },
    {
     "data": {
      "application/vnd.jupyter.widget-view+json": {
       "model_id": "bfe7959df7784c55808be536ae1056a5",
       "version_major": 2,
       "version_minor": 0
      },
      "text/plain": [
       "Evaluating:   0%|          | 0/10 [00:00<?, ?it/s]"
      ]
     },
     "metadata": {},
     "output_type": "display_data"
    },
    {
     "name": "stderr",
     "output_type": "stream",
     "text": [
      "Task exception was never retrieved\n",
      "future: <Task finished name='Task-123' coro=<AsyncClient.aclose() done, defined at /Users/atitaarora/qdrant/workspace/qdrant-rag-eval/workshop-rag-eval-qdrant-ragas-haystack/ragas-haystack/lib/python3.10/site-packages/httpx/_client.py:2011> exception=RuntimeError('Event loop is closed')>\n",
      "Traceback (most recent call last):\n",
      "  File \"/Users/atitaarora/qdrant/workspace/qdrant-rag-eval/workshop-rag-eval-qdrant-ragas-haystack/ragas-haystack/lib/python3.10/site-packages/httpx/_client.py\", line 2018, in aclose\n",
      "    await self._transport.aclose()\n",
      "  File \"/Users/atitaarora/qdrant/workspace/qdrant-rag-eval/workshop-rag-eval-qdrant-ragas-haystack/ragas-haystack/lib/python3.10/site-packages/httpx/_transports/default.py\", line 385, in aclose\n",
      "    await self._pool.aclose()\n",
      "  File \"/Users/atitaarora/qdrant/workspace/qdrant-rag-eval/workshop-rag-eval-qdrant-ragas-haystack/ragas-haystack/lib/python3.10/site-packages/httpcore/_async/connection_pool.py\", line 313, in aclose\n",
      "    await self._close_connections(closing_connections)\n",
      "  File \"/Users/atitaarora/qdrant/workspace/qdrant-rag-eval/workshop-rag-eval-qdrant-ragas-haystack/ragas-haystack/lib/python3.10/site-packages/httpcore/_async/connection_pool.py\", line 305, in _close_connections\n",
      "    await connection.aclose()\n",
      "  File \"/Users/atitaarora/qdrant/workspace/qdrant-rag-eval/workshop-rag-eval-qdrant-ragas-haystack/ragas-haystack/lib/python3.10/site-packages/httpcore/_async/connection.py\", line 171, in aclose\n",
      "    await self._connection.aclose()\n",
      "  File \"/Users/atitaarora/qdrant/workspace/qdrant-rag-eval/workshop-rag-eval-qdrant-ragas-haystack/ragas-haystack/lib/python3.10/site-packages/httpcore/_async/http11.py\", line 265, in aclose\n",
      "    await self._network_stream.aclose()\n",
      "  File \"/Users/atitaarora/qdrant/workspace/qdrant-rag-eval/workshop-rag-eval-qdrant-ragas-haystack/ragas-haystack/lib/python3.10/site-packages/httpcore/_backends/anyio.py\", line 55, in aclose\n",
      "    await self._stream.aclose()\n",
      "  File \"/Users/atitaarora/qdrant/workspace/qdrant-rag-eval/workshop-rag-eval-qdrant-ragas-haystack/ragas-haystack/lib/python3.10/site-packages/anyio/streams/tls.py\", line 202, in aclose\n",
      "    await self.transport_stream.aclose()\n",
      "  File \"/Users/atitaarora/qdrant/workspace/qdrant-rag-eval/workshop-rag-eval-qdrant-ragas-haystack/ragas-haystack/lib/python3.10/site-packages/anyio/_backends/_asyncio.py\", line 1191, in aclose\n",
      "    self._transport.close()\n",
      "  File \"/Library/Frameworks/Python.framework/Versions/3.10/lib/python3.10/asyncio/selector_events.py\", line 698, in close\n",
      "    self._loop.call_soon(self._call_connection_lost, None)\n",
      "  File \"/Library/Frameworks/Python.framework/Versions/3.10/lib/python3.10/asyncio/base_events.py\", line 750, in call_soon\n",
      "    self._check_closed()\n",
      "  File \"/Library/Frameworks/Python.framework/Versions/3.10/lib/python3.10/asyncio/base_events.py\", line 515, in _check_closed\n",
      "    raise RuntimeError('Event loop is closed')\n",
      "RuntimeError: Event loop is closed\n"
     ]
    },
    {
     "data": {
      "application/vnd.jupyter.widget-view+json": {
       "model_id": "6006066c99304027baf6a9f1a6ae81c3",
       "version_major": 2,
       "version_minor": 0
      },
      "text/plain": [
       "Evaluating:   0%|          | 0/10 [00:00<?, ?it/s]"
      ]
     },
     "metadata": {},
     "output_type": "display_data"
    },
    {
     "data": {
      "application/vnd.jupyter.widget-view+json": {
       "model_id": "78bbd09e0a144a5287696a0b39dbfe5b",
       "version_major": 2,
       "version_minor": 0
      },
      "text/plain": [
       "Evaluating:   0%|          | 0/10 [00:00<?, ?it/s]"
      ]
     },
     "metadata": {},
     "output_type": "display_data"
    },
    {
     "data": {
      "application/vnd.jupyter.widget-view+json": {
       "model_id": "289c66720629478f8b3186397b442f04",
       "version_major": 2,
       "version_minor": 0
      },
      "text/plain": [
       "Evaluating:   0%|          | 0/10 [00:00<?, ?it/s]"
      ]
     },
     "metadata": {},
     "output_type": "display_data"
    },
    {
     "name": "stdout",
     "output_type": "stream",
     "text": [
      "                  Evaluator  Index        Metric Name Score\n",
      "0       precision_evaluator      0  context_precision   1.0\n",
      "1       precision_evaluator      1  context_precision   1.0\n",
      "2       precision_evaluator      2  context_precision   1.0\n",
      "3       precision_evaluator      3  context_precision   1.0\n",
      "4       precision_evaluator      4  context_precision   1.0\n",
      "..                      ...    ...                ...   ...\n",
      "85  aspect_critic_evaluator      5           Toxicity     0\n",
      "86  aspect_critic_evaluator      6           Toxicity     0\n",
      "87  aspect_critic_evaluator      7           Toxicity     0\n",
      "88  aspect_critic_evaluator      8           Toxicity     0\n",
      "89  aspect_critic_evaluator      9           Toxicity     0\n",
      "\n",
      "[90 rows x 4 columns]\n"
     ]
    }
   ],
   "source": [
    "## Run evaluation for Retreival Window Size 3 evaluation dataset\n",
    "results_512_3 = evaluate_eval_dataset(eval_dataset_512_3)\n",
    "evaluation_result_df_512_3 = evaluation_results_to_dataframe(results_512_3)\n",
    "print(evaluation_result_df_512_3)\n",
    "merged_df_512_3 = merge_eval_and_metrics_dataset(eval_dataset_512_3 , evaluation_result_df_512_3)"
   ]
  },
  {
   "cell_type": "code",
   "execution_count": 58,
   "metadata": {},
   "outputs": [
    {
     "data": {
      "text/html": [
       "<div>\n",
       "<style scoped>\n",
       "    .dataframe tbody tr th:only-of-type {\n",
       "        vertical-align: middle;\n",
       "    }\n",
       "\n",
       "    .dataframe tbody tr th {\n",
       "        vertical-align: top;\n",
       "    }\n",
       "\n",
       "    .dataframe thead th {\n",
       "        text-align: right;\n",
       "    }\n",
       "</style>\n",
       "<table border=\"1\" class=\"dataframe\">\n",
       "  <thead>\n",
       "    <tr style=\"text-align: right;\">\n",
       "      <th></th>\n",
       "      <th>Index</th>\n",
       "      <th>question</th>\n",
       "      <th>answer</th>\n",
       "      <th>contexts</th>\n",
       "      <th>ground_truth</th>\n",
       "      <th>answer_relevancy_evaluator</th>\n",
       "      <th>aspect_critic_evaluator</th>\n",
       "      <th>context_utilization_evaluator</th>\n",
       "      <th>correctness_evaluator</th>\n",
       "      <th>faithfullness_evaluator</th>\n",
       "      <th>precision_evaluator</th>\n",
       "      <th>recall_evaluator</th>\n",
       "      <th>relevancy_evaluator</th>\n",
       "      <th>similarity_evaluator</th>\n",
       "    </tr>\n",
       "  </thead>\n",
       "  <tbody>\n",
       "    <tr>\n",
       "      <th>0</th>\n",
       "      <td>0</td>\n",
       "      <td>What is vaccum optimizer ?</td>\n",
       "      <td>The vacuum optimizer is a feature that helps ...</td>\n",
       "      <td>[document:optimizersConfig: new OptimizersConf...</td>\n",
       "      <td>The Vacuum Optimizer is a feature in the Qdran...</td>\n",
       "      <td>0.934623</td>\n",
       "      <td>0</td>\n",
       "      <td>1.0</td>\n",
       "      <td>0.720258</td>\n",
       "      <td>1.0</td>\n",
       "      <td>1.0</td>\n",
       "      <td>1.0</td>\n",
       "      <td>0.066667</td>\n",
       "      <td>True</td>\n",
       "    </tr>\n",
       "    <tr>\n",
       "      <th>1</th>\n",
       "      <td>1</td>\n",
       "      <td>Tell me about ‘always_ram’ parameter?</td>\n",
       "      <td>The `always_ram` parameter in the `quantizati...</td>\n",
       "      <td>[document:\"compression\": \"x32\",\\n\\n           ...</td>\n",
       "      <td>In the context of vector quantization in Qdran...</td>\n",
       "      <td>0.875728</td>\n",
       "      <td>0</td>\n",
       "      <td>1.0</td>\n",
       "      <td>0.86654</td>\n",
       "      <td>1.0</td>\n",
       "      <td>1.0</td>\n",
       "      <td>0.666667</td>\n",
       "      <td>0.1</td>\n",
       "      <td>True</td>\n",
       "    </tr>\n",
       "    <tr>\n",
       "      <th>2</th>\n",
       "      <td>2</td>\n",
       "      <td>What is difference between scalar and product ...</td>\n",
       "      <td>According to the documentation, the main diff...</td>\n",
       "      <td>[document:But there are some tradeoffs. Produc...</td>\n",
       "      <td>While both methods aim to reduce the memory fo...</td>\n",
       "      <td>0.985975</td>\n",
       "      <td>0</td>\n",
       "      <td>1.0</td>\n",
       "      <td>0.799376</td>\n",
       "      <td>1.0</td>\n",
       "      <td>1.0</td>\n",
       "      <td>1.0</td>\n",
       "      <td>0.153846</td>\n",
       "      <td>True</td>\n",
       "    </tr>\n",
       "    <tr>\n",
       "      <th>3</th>\n",
       "      <td>3</td>\n",
       "      <td>What is ‘best_score’ strategy?</td>\n",
       "      <td>The 'best_score' strategy is a new approach i...</td>\n",
       "      <td>[document:#   [ScoredPoint(id=3, version=0, sc...</td>\n",
       "      <td>The `best_score` strategy is based on the idea...</td>\n",
       "      <td>0.988278</td>\n",
       "      <td>0</td>\n",
       "      <td>1.0</td>\n",
       "      <td>0.776145</td>\n",
       "      <td>1.0</td>\n",
       "      <td>1.0</td>\n",
       "      <td>1.0</td>\n",
       "      <td>0.090909</td>\n",
       "      <td>True</td>\n",
       "    </tr>\n",
       "    <tr>\n",
       "      <th>4</th>\n",
       "      <td>4</td>\n",
       "      <td>How does oversampling helps?</td>\n",
       "      <td>Oversampling helps by equalizing the represen...</td>\n",
       "      <td>[document:oversampling helps equalize the repr...</td>\n",
       "      <td>Defines how many extra vectors should be pre-s...</td>\n",
       "      <td>0.983618</td>\n",
       "      <td>0</td>\n",
       "      <td>1.0</td>\n",
       "      <td>0.65497</td>\n",
       "      <td>0.6</td>\n",
       "      <td>1.0</td>\n",
       "      <td>0.666667</td>\n",
       "      <td>0.625</td>\n",
       "      <td>False</td>\n",
       "    </tr>\n",
       "    <tr>\n",
       "      <th>5</th>\n",
       "      <td>5</td>\n",
       "      <td>What is the purpose of ‘CreatePayloadIndexAsync’?</td>\n",
       "      <td>The 'CreatePayloadIndexAsync' function is use...</td>\n",
       "      <td>[document:```java\\n\\nimport io.qdrant.client.Q...</td>\n",
       "      <td>CreatePayloadIndexAsync is a method in the Qdr...</td>\n",
       "      <td>0.925316</td>\n",
       "      <td>0</td>\n",
       "      <td>1.0</td>\n",
       "      <td>0.720873</td>\n",
       "      <td>0.75</td>\n",
       "      <td>1.0</td>\n",
       "      <td>1.0</td>\n",
       "      <td>0.025641</td>\n",
       "      <td>True</td>\n",
       "    </tr>\n",
       "    <tr>\n",
       "      <th>6</th>\n",
       "      <td>6</td>\n",
       "      <td>What is the purpose of ef_construct in HNSW ?</td>\n",
       "      <td>The ef_construct parameter in HNSW (Hierarchi...</td>\n",
       "      <td>[document:(\"my_vector\".into()),\\n\\n           ...</td>\n",
       "      <td>In HNSW algorithm the ef_construct parameter i...</td>\n",
       "      <td>0.955125</td>\n",
       "      <td>0</td>\n",
       "      <td>1.0</td>\n",
       "      <td>0.822068</td>\n",
       "      <td>1.0</td>\n",
       "      <td>1.0</td>\n",
       "      <td>0.333333</td>\n",
       "      <td>0.018519</td>\n",
       "      <td>True</td>\n",
       "    </tr>\n",
       "    <tr>\n",
       "      <th>7</th>\n",
       "      <td>7</td>\n",
       "      <td>How do you use ‘ordering’ parameter?</td>\n",
       "      <td>To use the 'ordering' parameter, you need to ...</td>\n",
       "      <td>[document:```http\\n\\nPUT /collections/{collect...</td>\n",
       "      <td>Write ordering can be specified for any write ...</td>\n",
       "      <td>0.905209</td>\n",
       "      <td>0</td>\n",
       "      <td>1.0</td>\n",
       "      <td>0.815893</td>\n",
       "      <td>1.0</td>\n",
       "      <td>1.0</td>\n",
       "      <td>1.0</td>\n",
       "      <td>0.014085</td>\n",
       "      <td>False</td>\n",
       "    </tr>\n",
       "    <tr>\n",
       "      <th>8</th>\n",
       "      <td>8</td>\n",
       "      <td>What is significance of ‘on_disk_payload’ sett...</td>\n",
       "      <td>The 'on_disk_payload' setting in the collecti...</td>\n",
       "      <td>[document:* `on_disk_payload` - defines where ...</td>\n",
       "      <td>The `on_disk_payload` setting in the storage c...</td>\n",
       "      <td>0.897245</td>\n",
       "      <td>0</td>\n",
       "      <td>1.0</td>\n",
       "      <td>0.643398</td>\n",
       "      <td>1.0</td>\n",
       "      <td>1.0</td>\n",
       "      <td>1.0</td>\n",
       "      <td>0.130435</td>\n",
       "      <td>True</td>\n",
       "    </tr>\n",
       "    <tr>\n",
       "      <th>9</th>\n",
       "      <td>9</td>\n",
       "      <td>What is the impact of ‘write_consistency_facto...</td>\n",
       "      <td>The `write_consistency_factor` determines the...</td>\n",
       "      <td>[document:### Write consistency factor\\n\\n\\n\\n...</td>\n",
       "      <td>The `write_consistency_factor` parameter in a ...</td>\n",
       "      <td>0.905453</td>\n",
       "      <td>0</td>\n",
       "      <td>1.0</td>\n",
       "      <td>0.766193</td>\n",
       "      <td>0.75</td>\n",
       "      <td>1.0</td>\n",
       "      <td>1.0</td>\n",
       "      <td>0.030303</td>\n",
       "      <td>True</td>\n",
       "    </tr>\n",
       "  </tbody>\n",
       "</table>\n",
       "</div>"
      ],
      "text/plain": [
       "   Index                                           question  \\\n",
       "0      0                         What is vaccum optimizer ?   \n",
       "1      1              Tell me about ‘always_ram’ parameter?   \n",
       "2      2  What is difference between scalar and product ...   \n",
       "3      3                     What is ‘best_score’ strategy?   \n",
       "4      4                       How does oversampling helps?   \n",
       "5      5  What is the purpose of ‘CreatePayloadIndexAsync’?   \n",
       "6      6      What is the purpose of ef_construct in HNSW ?   \n",
       "7      7               How do you use ‘ordering’ parameter?   \n",
       "8      8  What is significance of ‘on_disk_payload’ sett...   \n",
       "9      9  What is the impact of ‘write_consistency_facto...   \n",
       "\n",
       "                                              answer  \\\n",
       "0   The vacuum optimizer is a feature that helps ...   \n",
       "1   The `always_ram` parameter in the `quantizati...   \n",
       "2   According to the documentation, the main diff...   \n",
       "3   The 'best_score' strategy is a new approach i...   \n",
       "4   Oversampling helps by equalizing the represen...   \n",
       "5   The 'CreatePayloadIndexAsync' function is use...   \n",
       "6   The ef_construct parameter in HNSW (Hierarchi...   \n",
       "7   To use the 'ordering' parameter, you need to ...   \n",
       "8   The 'on_disk_payload' setting in the collecti...   \n",
       "9   The `write_consistency_factor` determines the...   \n",
       "\n",
       "                                            contexts  \\\n",
       "0  [document:optimizersConfig: new OptimizersConf...   \n",
       "1  [document:\"compression\": \"x32\",\\n\\n           ...   \n",
       "2  [document:But there are some tradeoffs. Produc...   \n",
       "3  [document:#   [ScoredPoint(id=3, version=0, sc...   \n",
       "4  [document:oversampling helps equalize the repr...   \n",
       "5  [document:```java\\n\\nimport io.qdrant.client.Q...   \n",
       "6  [document:(\"my_vector\".into()),\\n\\n           ...   \n",
       "7  [document:```http\\n\\nPUT /collections/{collect...   \n",
       "8  [document:* `on_disk_payload` - defines where ...   \n",
       "9  [document:### Write consistency factor\\n\\n\\n\\n...   \n",
       "\n",
       "                                        ground_truth  \\\n",
       "0  The Vacuum Optimizer is a feature in the Qdran...   \n",
       "1  In the context of vector quantization in Qdran...   \n",
       "2  While both methods aim to reduce the memory fo...   \n",
       "3  The `best_score` strategy is based on the idea...   \n",
       "4  Defines how many extra vectors should be pre-s...   \n",
       "5  CreatePayloadIndexAsync is a method in the Qdr...   \n",
       "6  In HNSW algorithm the ef_construct parameter i...   \n",
       "7  Write ordering can be specified for any write ...   \n",
       "8  The `on_disk_payload` setting in the storage c...   \n",
       "9  The `write_consistency_factor` parameter in a ...   \n",
       "\n",
       "  answer_relevancy_evaluator aspect_critic_evaluator  \\\n",
       "0                   0.934623                       0   \n",
       "1                   0.875728                       0   \n",
       "2                   0.985975                       0   \n",
       "3                   0.988278                       0   \n",
       "4                   0.983618                       0   \n",
       "5                   0.925316                       0   \n",
       "6                   0.955125                       0   \n",
       "7                   0.905209                       0   \n",
       "8                   0.897245                       0   \n",
       "9                   0.905453                       0   \n",
       "\n",
       "  context_utilization_evaluator correctness_evaluator faithfullness_evaluator  \\\n",
       "0                           1.0              0.720258                     1.0   \n",
       "1                           1.0               0.86654                     1.0   \n",
       "2                           1.0              0.799376                     1.0   \n",
       "3                           1.0              0.776145                     1.0   \n",
       "4                           1.0               0.65497                     0.6   \n",
       "5                           1.0              0.720873                    0.75   \n",
       "6                           1.0              0.822068                     1.0   \n",
       "7                           1.0              0.815893                     1.0   \n",
       "8                           1.0              0.643398                     1.0   \n",
       "9                           1.0              0.766193                    0.75   \n",
       "\n",
       "  precision_evaluator recall_evaluator relevancy_evaluator  \\\n",
       "0                 1.0              1.0            0.066667   \n",
       "1                 1.0         0.666667                 0.1   \n",
       "2                 1.0              1.0            0.153846   \n",
       "3                 1.0              1.0            0.090909   \n",
       "4                 1.0         0.666667               0.625   \n",
       "5                 1.0              1.0            0.025641   \n",
       "6                 1.0         0.333333            0.018519   \n",
       "7                 1.0              1.0            0.014085   \n",
       "8                 1.0              1.0            0.130435   \n",
       "9                 1.0              1.0            0.030303   \n",
       "\n",
       "  similarity_evaluator  \n",
       "0                 True  \n",
       "1                 True  \n",
       "2                 True  \n",
       "3                 True  \n",
       "4                False  \n",
       "5                 True  \n",
       "6                 True  \n",
       "7                False  \n",
       "8                 True  \n",
       "9                 True  "
      ]
     },
     "execution_count": 58,
     "metadata": {},
     "output_type": "execute_result"
    }
   ],
   "source": [
    "merged_df_512_3"
   ]
  },
  {
   "cell_type": "markdown",
   "metadata": {
    "id": "aj_q-Yn7yB56"
   },
   "source": [
    "### **17. Improvision step by modifying the number of chunks retrieved to 4 and recreate the evaluation dataset**"
   ]
  },
  {
   "cell_type": "code",
   "execution_count": 60,
   "metadata": {
    "id": "54poVxIuyB56"
   },
   "outputs": [],
   "source": [
    "## Define the Config for generating the Eval dataset as below :\n",
    "\n",
    "# loading the eval dataset from HF\n",
    "#qdrant_qna_dataset = load_dataset(\"atitaarora/qdrant_doc_qna\", split=\"train\")\n",
    "\n",
    "EVAL_SIZE = 10\n",
    "\n",
    "RETRIEVAL_SIZE_4 = 4\n",
    "\n",
    "#print(qdrant_qna_dataset.column_names)\n",
    "\n",
    "## The dataset used to evaluate RAG using RAGAS\n",
    "## Note this is the dataset needed for evaluation hence has to be recreated everytime changes to RAG config is made\n",
    "rag_eval_dataset_512_4 = create_eval_dataset(qdrant_qna_dataset,EVAL_SIZE,RETRIEVAL_SIZE_4)"
   ]
  },
  {
   "cell_type": "code",
   "execution_count": 61,
   "metadata": {
    "colab": {
     "referenced_widgets": [
      "48a8a037bac14c759ddb5318eeb0f380"
     ]
    },
    "id": "F1bG8f20yB56",
    "outputId": "cd5f44c9-5c00-4b07-ea50-173ec4adc0d3"
   },
   "outputs": [
    {
     "data": {
      "application/vnd.jupyter.widget-view+json": {
       "model_id": "c6ee17640ff84da691a830e3802b1393",
       "version_major": 2,
       "version_minor": 0
      },
      "text/plain": [
       "Creating CSV from Arrow format:   0%|          | 0/1 [00:00<?, ?ba/s]"
      ]
     },
     "metadata": {},
     "output_type": "display_data"
    },
    {
     "data": {
      "text/plain": [
       "31419"
      ]
     },
     "execution_count": 61,
     "metadata": {},
     "output_type": "execute_result"
    }
   ],
   "source": [
    "#rag_response_data\n",
    "\n",
    "## The dataset used to evaluate RAG using RAGAS\n",
    "## Note this is the dataset needed for evaluation hence has to be recreated everytime changes to RAG config is made\n",
    "rag_response_dataset_512_4 = Dataset.from_dict(rag_eval_dataset_512_4)\n",
    "## Saving the evaluation dataset offline\n",
    "rag_response_dataset_512_4.to_csv('rag_response_512_4.csv')"
   ]
  },
  {
   "cell_type": "code",
   "execution_count": 62,
   "metadata": {
    "colab": {
     "base_uri": "https://localhost:8080/",
     "height": 363
    },
    "id": "YqK3-vOKyB56",
    "outputId": "04c924bd-d381-4026-f8aa-95131519aa8e"
   },
   "outputs": [
    {
     "data": {
      "text/html": [
       "<div>\n",
       "<style scoped>\n",
       "    .dataframe tbody tr th:only-of-type {\n",
       "        vertical-align: middle;\n",
       "    }\n",
       "\n",
       "    .dataframe tbody tr th {\n",
       "        vertical-align: top;\n",
       "    }\n",
       "\n",
       "    .dataframe thead th {\n",
       "        text-align: right;\n",
       "    }\n",
       "</style>\n",
       "<table border=\"1\" class=\"dataframe\">\n",
       "  <thead>\n",
       "    <tr style=\"text-align: right;\">\n",
       "      <th></th>\n",
       "      <th>question</th>\n",
       "      <th>answer</th>\n",
       "      <th>contexts</th>\n",
       "      <th>ground_truth</th>\n",
       "    </tr>\n",
       "  </thead>\n",
       "  <tbody>\n",
       "    <tr>\n",
       "      <th>0</th>\n",
       "      <td>What is vaccum optimizer ?</td>\n",
       "      <td>The vacuum optimizer is a feature that helps ...</td>\n",
       "      <td>['document:optimizersConfig: new OptimizersCon...</td>\n",
       "      <td>The Vacuum Optimizer is a feature in the Qdran...</td>\n",
       "    </tr>\n",
       "    <tr>\n",
       "      <th>1</th>\n",
       "      <td>Tell me about ‘always_ram’ parameter?</td>\n",
       "      <td>The `always_ram` parameter in the quantizatio...</td>\n",
       "      <td>['document:\"compression\": \"x32\",\\n\\n          ...</td>\n",
       "      <td>In the context of vector quantization in Qdran...</td>\n",
       "    </tr>\n",
       "    <tr>\n",
       "      <th>2</th>\n",
       "      <td>What is difference between scalar and product ...</td>\n",
       "      <td>Scalar quantization is a compression techniqu...</td>\n",
       "      <td>['document:But there are some tradeoffs. Produ...</td>\n",
       "      <td>While both methods aim to reduce the memory fo...</td>\n",
       "    </tr>\n",
       "    <tr>\n",
       "      <th>3</th>\n",
       "      <td>What is ‘best_score’ strategy?</td>\n",
       "      <td>The ‘best_score’ strategy is a new recommenda...</td>\n",
       "      <td>['document:#   [ScoredPoint(id=3, version=0, s...</td>\n",
       "      <td>The `best_score` strategy is based on the idea...</td>\n",
       "    </tr>\n",
       "    <tr>\n",
       "      <th>4</th>\n",
       "      <td>How does oversampling helps?</td>\n",
       "      <td>Oversampling helps by equalizing the represen...</td>\n",
       "      <td>['document:oversampling helps equalize the rep...</td>\n",
       "      <td>Defines how many extra vectors should be pre-s...</td>\n",
       "    </tr>\n",
       "    <tr>\n",
       "      <th>5</th>\n",
       "      <td>What is the purpose of ‘CreatePayloadIndexAsync’?</td>\n",
       "      <td>The 'CreatePayloadIndexAsync' function is use...</td>\n",
       "      <td>['document:```java\\n\\nimport io.qdrant.client....</td>\n",
       "      <td>CreatePayloadIndexAsync is a method in the Qdr...</td>\n",
       "    </tr>\n",
       "    <tr>\n",
       "      <th>6</th>\n",
       "      <td>What is the purpose of ef_construct in HNSW ?</td>\n",
       "      <td>The ef_construct parameter in HNSW (Hierarchi...</td>\n",
       "      <td>['document:(\"my_vector\".into()),\\n\\n          ...</td>\n",
       "      <td>In HNSW algorithm the ef_construct parameter i...</td>\n",
       "    </tr>\n",
       "    <tr>\n",
       "      <th>7</th>\n",
       "      <td>How do you use ‘ordering’ parameter?</td>\n",
       "      <td>To use the 'ordering' parameter, you need to ...</td>\n",
       "      <td>['document:```http\\n\\nPUT /collections/{collec...</td>\n",
       "      <td>Write ordering can be specified for any write ...</td>\n",
       "    </tr>\n",
       "    <tr>\n",
       "      <th>8</th>\n",
       "      <td>What is significance of ‘on_disk_payload’ sett...</td>\n",
       "      <td>The 'on_disk_payload' setting in the 'on_disk...</td>\n",
       "      <td>['document:* `on_disk_payload` - defines where...</td>\n",
       "      <td>The `on_disk_payload` setting in the storage c...</td>\n",
       "    </tr>\n",
       "    <tr>\n",
       "      <th>9</th>\n",
       "      <td>What is the impact of ‘write_consistency_facto...</td>\n",
       "      <td>The `write_consistency_factor` determines the...</td>\n",
       "      <td>['document:### Write consistency factor\\n\\n\\n\\...</td>\n",
       "      <td>The `write_consistency_factor` parameter in a ...</td>\n",
       "    </tr>\n",
       "  </tbody>\n",
       "</table>\n",
       "</div>"
      ],
      "text/plain": [
       "                                            question  \\\n",
       "0                         What is vaccum optimizer ?   \n",
       "1              Tell me about ‘always_ram’ parameter?   \n",
       "2  What is difference between scalar and product ...   \n",
       "3                     What is ‘best_score’ strategy?   \n",
       "4                       How does oversampling helps?   \n",
       "5  What is the purpose of ‘CreatePayloadIndexAsync’?   \n",
       "6      What is the purpose of ef_construct in HNSW ?   \n",
       "7               How do you use ‘ordering’ parameter?   \n",
       "8  What is significance of ‘on_disk_payload’ sett...   \n",
       "9  What is the impact of ‘write_consistency_facto...   \n",
       "\n",
       "                                              answer  \\\n",
       "0   The vacuum optimizer is a feature that helps ...   \n",
       "1   The `always_ram` parameter in the quantizatio...   \n",
       "2   Scalar quantization is a compression techniqu...   \n",
       "3   The ‘best_score’ strategy is a new recommenda...   \n",
       "4   Oversampling helps by equalizing the represen...   \n",
       "5   The 'CreatePayloadIndexAsync' function is use...   \n",
       "6   The ef_construct parameter in HNSW (Hierarchi...   \n",
       "7   To use the 'ordering' parameter, you need to ...   \n",
       "8   The 'on_disk_payload' setting in the 'on_disk...   \n",
       "9   The `write_consistency_factor` determines the...   \n",
       "\n",
       "                                            contexts  \\\n",
       "0  ['document:optimizersConfig: new OptimizersCon...   \n",
       "1  ['document:\"compression\": \"x32\",\\n\\n          ...   \n",
       "2  ['document:But there are some tradeoffs. Produ...   \n",
       "3  ['document:#   [ScoredPoint(id=3, version=0, s...   \n",
       "4  ['document:oversampling helps equalize the rep...   \n",
       "5  ['document:```java\\n\\nimport io.qdrant.client....   \n",
       "6  ['document:(\"my_vector\".into()),\\n\\n          ...   \n",
       "7  ['document:```http\\n\\nPUT /collections/{collec...   \n",
       "8  ['document:* `on_disk_payload` - defines where...   \n",
       "9  ['document:### Write consistency factor\\n\\n\\n\\...   \n",
       "\n",
       "                                        ground_truth  \n",
       "0  The Vacuum Optimizer is a feature in the Qdran...  \n",
       "1  In the context of vector quantization in Qdran...  \n",
       "2  While both methods aim to reduce the memory fo...  \n",
       "3  The `best_score` strategy is based on the idea...  \n",
       "4  Defines how many extra vectors should be pre-s...  \n",
       "5  CreatePayloadIndexAsync is a method in the Qdr...  \n",
       "6  In HNSW algorithm the ef_construct parameter i...  \n",
       "7  Write ordering can be specified for any write ...  \n",
       "8  The `on_disk_payload` setting in the storage c...  \n",
       "9  The `write_consistency_factor` parameter in a ...  "
      ]
     },
     "execution_count": 62,
     "metadata": {},
     "output_type": "execute_result"
    }
   ],
   "source": [
    "eval_dataset_512_4 = pd.read_csv('rag_response_512_4.csv')\n",
    "eval_dataset_512_4.head(10)"
   ]
  },
  {
   "cell_type": "code",
   "execution_count": 63,
   "metadata": {
    "id": "VGdfM2SKyB56"
   },
   "outputs": [
    {
     "data": {
      "application/vnd.jupyter.widget-view+json": {
       "model_id": "7fcfd66857fa4113a65e963287c4a11f",
       "version_major": 2,
       "version_minor": 0
      },
      "text/plain": [
       "Evaluating:   0%|          | 0/10 [00:00<?, ?it/s]"
      ]
     },
     "metadata": {},
     "output_type": "display_data"
    },
    {
     "data": {
      "application/vnd.jupyter.widget-view+json": {
       "model_id": "7345b67f411844f8bb1fb2e3a08ad569",
       "version_major": 2,
       "version_minor": 0
      },
      "text/plain": [
       "Evaluating:   0%|          | 0/10 [00:00<?, ?it/s]"
      ]
     },
     "metadata": {},
     "output_type": "display_data"
    },
    {
     "data": {
      "application/vnd.jupyter.widget-view+json": {
       "model_id": "8de904af83744fe59133f328d74cdb45",
       "version_major": 2,
       "version_minor": 0
      },
      "text/plain": [
       "Evaluating:   0%|          | 0/10 [00:00<?, ?it/s]"
      ]
     },
     "metadata": {},
     "output_type": "display_data"
    },
    {
     "data": {
      "application/vnd.jupyter.widget-view+json": {
       "model_id": "493bfd9926f54973a7e6ac89ba6a6498",
       "version_major": 2,
       "version_minor": 0
      },
      "text/plain": [
       "Evaluating:   0%|          | 0/10 [00:00<?, ?it/s]"
      ]
     },
     "metadata": {},
     "output_type": "display_data"
    },
    {
     "name": "stderr",
     "output_type": "stream",
     "text": [
      "Using 'context_precision' without ground truth will be soon depreciated. Use 'context_utilization' instead\n",
      "Using 'context_precision' without ground truth will be soon depreciated. Use 'context_utilization' instead\n",
      "Using 'context_precision' without ground truth will be soon depreciated. Use 'context_utilization' instead\n",
      "Using 'context_precision' without ground truth will be soon depreciated. Use 'context_utilization' instead\n",
      "Using 'context_precision' without ground truth will be soon depreciated. Use 'context_utilization' instead\n",
      "Using 'context_precision' without ground truth will be soon depreciated. Use 'context_utilization' instead\n",
      "Using 'context_precision' without ground truth will be soon depreciated. Use 'context_utilization' instead\n",
      "Using 'context_precision' without ground truth will be soon depreciated. Use 'context_utilization' instead\n",
      "Using 'context_precision' without ground truth will be soon depreciated. Use 'context_utilization' instead\n",
      "Using 'context_precision' without ground truth will be soon depreciated. Use 'context_utilization' instead\n"
     ]
    },
    {
     "data": {
      "application/vnd.jupyter.widget-view+json": {
       "model_id": "3c76205e2f144687ae3618646a053193",
       "version_major": 2,
       "version_minor": 0
      },
      "text/plain": [
       "Evaluating:   0%|          | 0/10 [00:00<?, ?it/s]"
      ]
     },
     "metadata": {},
     "output_type": "display_data"
    },
    {
     "data": {
      "application/vnd.jupyter.widget-view+json": {
       "model_id": "6068f9088e624f69905aad2ca4fac90f",
       "version_major": 2,
       "version_minor": 0
      },
      "text/plain": [
       "Evaluating:   0%|          | 0/10 [00:00<?, ?it/s]"
      ]
     },
     "metadata": {},
     "output_type": "display_data"
    },
    {
     "data": {
      "application/vnd.jupyter.widget-view+json": {
       "model_id": "42ab5e2415a046a59a3fb4d4027dd88d",
       "version_major": 2,
       "version_minor": 0
      },
      "text/plain": [
       "Evaluating:   0%|          | 0/10 [00:00<?, ?it/s]"
      ]
     },
     "metadata": {},
     "output_type": "display_data"
    },
    {
     "data": {
      "application/vnd.jupyter.widget-view+json": {
       "model_id": "32517c94678041b6b980bdda95265243",
       "version_major": 2,
       "version_minor": 0
      },
      "text/plain": [
       "Evaluating:   0%|          | 0/10 [00:00<?, ?it/s]"
      ]
     },
     "metadata": {},
     "output_type": "display_data"
    },
    {
     "data": {
      "application/vnd.jupyter.widget-view+json": {
       "model_id": "a0d750f07ed74244aee6c3b04be82ab3",
       "version_major": 2,
       "version_minor": 0
      },
      "text/plain": [
       "Evaluating:   0%|          | 0/10 [00:00<?, ?it/s]"
      ]
     },
     "metadata": {},
     "output_type": "display_data"
    }
   ],
   "source": [
    "## Run evaluation for Retreival Window Size 4 evaluation dataset\n",
    "results_512_4 = evaluate_eval_dataset(eval_dataset_512_4)\n",
    "evaluation_result_df_512_4 = evaluation_results_to_dataframe(results_512_4)\n",
    "#print(evaluation_result_df_512_4)\n",
    "merged_df_512_4 = merge_eval_and_metrics_dataset(eval_dataset_512_4 , evaluation_result_df_512_4)"
   ]
  },
  {
   "cell_type": "code",
   "execution_count": 64,
   "metadata": {},
   "outputs": [
    {
     "data": {
      "text/html": [
       "<div>\n",
       "<style scoped>\n",
       "    .dataframe tbody tr th:only-of-type {\n",
       "        vertical-align: middle;\n",
       "    }\n",
       "\n",
       "    .dataframe tbody tr th {\n",
       "        vertical-align: top;\n",
       "    }\n",
       "\n",
       "    .dataframe thead th {\n",
       "        text-align: right;\n",
       "    }\n",
       "</style>\n",
       "<table border=\"1\" class=\"dataframe\">\n",
       "  <thead>\n",
       "    <tr style=\"text-align: right;\">\n",
       "      <th></th>\n",
       "      <th>Index</th>\n",
       "      <th>question</th>\n",
       "      <th>answer</th>\n",
       "      <th>contexts</th>\n",
       "      <th>ground_truth</th>\n",
       "      <th>answer_relevancy_evaluator</th>\n",
       "      <th>aspect_critic_evaluator</th>\n",
       "      <th>context_utilization_evaluator</th>\n",
       "      <th>correctness_evaluator</th>\n",
       "      <th>faithfullness_evaluator</th>\n",
       "      <th>precision_evaluator</th>\n",
       "      <th>recall_evaluator</th>\n",
       "      <th>relevancy_evaluator</th>\n",
       "      <th>similarity_evaluator</th>\n",
       "    </tr>\n",
       "  </thead>\n",
       "  <tbody>\n",
       "    <tr>\n",
       "      <th>0</th>\n",
       "      <td>0</td>\n",
       "      <td>What is vaccum optimizer ?</td>\n",
       "      <td>The vacuum optimizer is a feature that helps ...</td>\n",
       "      <td>[document:optimizersConfig: new OptimizersConf...</td>\n",
       "      <td>The Vacuum Optimizer is a feature in the Qdran...</td>\n",
       "      <td>0.919743</td>\n",
       "      <td>0</td>\n",
       "      <td>1.0</td>\n",
       "      <td>0.760937</td>\n",
       "      <td>0.666667</td>\n",
       "      <td>1.0</td>\n",
       "      <td>1.0</td>\n",
       "      <td>0.027778</td>\n",
       "      <td>True</td>\n",
       "    </tr>\n",
       "    <tr>\n",
       "      <th>1</th>\n",
       "      <td>1</td>\n",
       "      <td>Tell me about ‘always_ram’ parameter?</td>\n",
       "      <td>The `always_ram` parameter in the quantizatio...</td>\n",
       "      <td>[document:\"compression\": \"x32\",\\n\\n           ...</td>\n",
       "      <td>In the context of vector quantization in Qdran...</td>\n",
       "      <td>0.885093</td>\n",
       "      <td>0</td>\n",
       "      <td>1.0</td>\n",
       "      <td>0.811489</td>\n",
       "      <td>1.0</td>\n",
       "      <td>1.0</td>\n",
       "      <td>0.666667</td>\n",
       "      <td>0.05</td>\n",
       "      <td>True</td>\n",
       "    </tr>\n",
       "    <tr>\n",
       "      <th>2</th>\n",
       "      <td>2</td>\n",
       "      <td>What is difference between scalar and product ...</td>\n",
       "      <td>Scalar quantization is a compression techniqu...</td>\n",
       "      <td>[document:But there are some tradeoffs. Produc...</td>\n",
       "      <td>While both methods aim to reduce the memory fo...</td>\n",
       "      <td>0.943985</td>\n",
       "      <td>0</td>\n",
       "      <td>1.0</td>\n",
       "      <td>0.682541</td>\n",
       "      <td>0.833333</td>\n",
       "      <td>1.0</td>\n",
       "      <td>1.0</td>\n",
       "      <td>0.277778</td>\n",
       "      <td>True</td>\n",
       "    </tr>\n",
       "    <tr>\n",
       "      <th>3</th>\n",
       "      <td>3</td>\n",
       "      <td>What is ‘best_score’ strategy?</td>\n",
       "      <td>The ‘best_score’ strategy is a new recommenda...</td>\n",
       "      <td>[document:#   [ScoredPoint(id=3, version=0, sc...</td>\n",
       "      <td>The `best_score` strategy is based on the idea...</td>\n",
       "      <td>0.988278</td>\n",
       "      <td>0</td>\n",
       "      <td>1.0</td>\n",
       "      <td>0.735151</td>\n",
       "      <td>1.0</td>\n",
       "      <td>1.0</td>\n",
       "      <td>1.0</td>\n",
       "      <td>0.068966</td>\n",
       "      <td>True</td>\n",
       "    </tr>\n",
       "    <tr>\n",
       "      <th>4</th>\n",
       "      <td>4</td>\n",
       "      <td>How does oversampling helps?</td>\n",
       "      <td>Oversampling helps by equalizing the represen...</td>\n",
       "      <td>[document:oversampling helps equalize the repr...</td>\n",
       "      <td>Defines how many extra vectors should be pre-s...</td>\n",
       "      <td>0.983618</td>\n",
       "      <td>0</td>\n",
       "      <td>1.0</td>\n",
       "      <td>0.710211</td>\n",
       "      <td>0.8</td>\n",
       "      <td>1.0</td>\n",
       "      <td>1.0</td>\n",
       "      <td>0.538462</td>\n",
       "      <td>False</td>\n",
       "    </tr>\n",
       "    <tr>\n",
       "      <th>5</th>\n",
       "      <td>5</td>\n",
       "      <td>What is the purpose of ‘CreatePayloadIndexAsync’?</td>\n",
       "      <td>The 'CreatePayloadIndexAsync' function is use...</td>\n",
       "      <td>[document:```java\\n\\nimport io.qdrant.client.Q...</td>\n",
       "      <td>CreatePayloadIndexAsync is a method in the Qdr...</td>\n",
       "      <td>0.89933</td>\n",
       "      <td>0</td>\n",
       "      <td>1.0</td>\n",
       "      <td>0.715574</td>\n",
       "      <td>0.8</td>\n",
       "      <td>1.0</td>\n",
       "      <td>1.0</td>\n",
       "      <td>0.016667</td>\n",
       "      <td>True</td>\n",
       "    </tr>\n",
       "    <tr>\n",
       "      <th>6</th>\n",
       "      <td>6</td>\n",
       "      <td>What is the purpose of ef_construct in HNSW ?</td>\n",
       "      <td>The ef_construct parameter in HNSW (Hierarchi...</td>\n",
       "      <td>[document:(\"my_vector\".into()),\\n\\n           ...</td>\n",
       "      <td>In HNSW algorithm the ef_construct parameter i...</td>\n",
       "      <td>0.955185</td>\n",
       "      <td>0</td>\n",
       "      <td>1.0</td>\n",
       "      <td>0.798251</td>\n",
       "      <td>1.0</td>\n",
       "      <td>1.0</td>\n",
       "      <td>0.333333</td>\n",
       "      <td>0.013889</td>\n",
       "      <td>True</td>\n",
       "    </tr>\n",
       "    <tr>\n",
       "      <th>7</th>\n",
       "      <td>7</td>\n",
       "      <td>How do you use ‘ordering’ parameter?</td>\n",
       "      <td>To use the 'ordering' parameter, you need to ...</td>\n",
       "      <td>[document:```http\\n\\nPUT /collections/{collect...</td>\n",
       "      <td>Write ordering can be specified for any write ...</td>\n",
       "      <td>0.98506</td>\n",
       "      <td>0</td>\n",
       "      <td>1.0</td>\n",
       "      <td>0.651865</td>\n",
       "      <td>1.0</td>\n",
       "      <td>1.0</td>\n",
       "      <td>1.0</td>\n",
       "      <td>0.012346</td>\n",
       "      <td>False</td>\n",
       "    </tr>\n",
       "    <tr>\n",
       "      <th>8</th>\n",
       "      <td>8</td>\n",
       "      <td>What is significance of ‘on_disk_payload’ sett...</td>\n",
       "      <td>The 'on_disk_payload' setting in the 'on_disk...</td>\n",
       "      <td>[document:* `on_disk_payload` - defines where ...</td>\n",
       "      <td>The `on_disk_payload` setting in the storage c...</td>\n",
       "      <td>0.930404</td>\n",
       "      <td>0</td>\n",
       "      <td>1.0</td>\n",
       "      <td>0.764413</td>\n",
       "      <td>1.0</td>\n",
       "      <td>1.0</td>\n",
       "      <td>1.0</td>\n",
       "      <td>0.071429</td>\n",
       "      <td>True</td>\n",
       "    </tr>\n",
       "    <tr>\n",
       "      <th>9</th>\n",
       "      <td>9</td>\n",
       "      <td>What is the impact of ‘write_consistency_facto...</td>\n",
       "      <td>The `write_consistency_factor` determines the...</td>\n",
       "      <td>[document:### Write consistency factor\\n\\n\\n\\n...</td>\n",
       "      <td>The `write_consistency_factor` parameter in a ...</td>\n",
       "      <td>0.938015</td>\n",
       "      <td>0</td>\n",
       "      <td>1.0</td>\n",
       "      <td>0.701081</td>\n",
       "      <td>1.0</td>\n",
       "      <td>1.0</td>\n",
       "      <td>1.0</td>\n",
       "      <td>0.044444</td>\n",
       "      <td>True</td>\n",
       "    </tr>\n",
       "  </tbody>\n",
       "</table>\n",
       "</div>"
      ],
      "text/plain": [
       "   Index                                           question  \\\n",
       "0      0                         What is vaccum optimizer ?   \n",
       "1      1              Tell me about ‘always_ram’ parameter?   \n",
       "2      2  What is difference between scalar and product ...   \n",
       "3      3                     What is ‘best_score’ strategy?   \n",
       "4      4                       How does oversampling helps?   \n",
       "5      5  What is the purpose of ‘CreatePayloadIndexAsync’?   \n",
       "6      6      What is the purpose of ef_construct in HNSW ?   \n",
       "7      7               How do you use ‘ordering’ parameter?   \n",
       "8      8  What is significance of ‘on_disk_payload’ sett...   \n",
       "9      9  What is the impact of ‘write_consistency_facto...   \n",
       "\n",
       "                                              answer  \\\n",
       "0   The vacuum optimizer is a feature that helps ...   \n",
       "1   The `always_ram` parameter in the quantizatio...   \n",
       "2   Scalar quantization is a compression techniqu...   \n",
       "3   The ‘best_score’ strategy is a new recommenda...   \n",
       "4   Oversampling helps by equalizing the represen...   \n",
       "5   The 'CreatePayloadIndexAsync' function is use...   \n",
       "6   The ef_construct parameter in HNSW (Hierarchi...   \n",
       "7   To use the 'ordering' parameter, you need to ...   \n",
       "8   The 'on_disk_payload' setting in the 'on_disk...   \n",
       "9   The `write_consistency_factor` determines the...   \n",
       "\n",
       "                                            contexts  \\\n",
       "0  [document:optimizersConfig: new OptimizersConf...   \n",
       "1  [document:\"compression\": \"x32\",\\n\\n           ...   \n",
       "2  [document:But there are some tradeoffs. Produc...   \n",
       "3  [document:#   [ScoredPoint(id=3, version=0, sc...   \n",
       "4  [document:oversampling helps equalize the repr...   \n",
       "5  [document:```java\\n\\nimport io.qdrant.client.Q...   \n",
       "6  [document:(\"my_vector\".into()),\\n\\n           ...   \n",
       "7  [document:```http\\n\\nPUT /collections/{collect...   \n",
       "8  [document:* `on_disk_payload` - defines where ...   \n",
       "9  [document:### Write consistency factor\\n\\n\\n\\n...   \n",
       "\n",
       "                                        ground_truth  \\\n",
       "0  The Vacuum Optimizer is a feature in the Qdran...   \n",
       "1  In the context of vector quantization in Qdran...   \n",
       "2  While both methods aim to reduce the memory fo...   \n",
       "3  The `best_score` strategy is based on the idea...   \n",
       "4  Defines how many extra vectors should be pre-s...   \n",
       "5  CreatePayloadIndexAsync is a method in the Qdr...   \n",
       "6  In HNSW algorithm the ef_construct parameter i...   \n",
       "7  Write ordering can be specified for any write ...   \n",
       "8  The `on_disk_payload` setting in the storage c...   \n",
       "9  The `write_consistency_factor` parameter in a ...   \n",
       "\n",
       "  answer_relevancy_evaluator aspect_critic_evaluator  \\\n",
       "0                   0.919743                       0   \n",
       "1                   0.885093                       0   \n",
       "2                   0.943985                       0   \n",
       "3                   0.988278                       0   \n",
       "4                   0.983618                       0   \n",
       "5                    0.89933                       0   \n",
       "6                   0.955185                       0   \n",
       "7                    0.98506                       0   \n",
       "8                   0.930404                       0   \n",
       "9                   0.938015                       0   \n",
       "\n",
       "  context_utilization_evaluator correctness_evaluator faithfullness_evaluator  \\\n",
       "0                           1.0              0.760937                0.666667   \n",
       "1                           1.0              0.811489                     1.0   \n",
       "2                           1.0              0.682541                0.833333   \n",
       "3                           1.0              0.735151                     1.0   \n",
       "4                           1.0              0.710211                     0.8   \n",
       "5                           1.0              0.715574                     0.8   \n",
       "6                           1.0              0.798251                     1.0   \n",
       "7                           1.0              0.651865                     1.0   \n",
       "8                           1.0              0.764413                     1.0   \n",
       "9                           1.0              0.701081                     1.0   \n",
       "\n",
       "  precision_evaluator recall_evaluator relevancy_evaluator  \\\n",
       "0                 1.0              1.0            0.027778   \n",
       "1                 1.0         0.666667                0.05   \n",
       "2                 1.0              1.0            0.277778   \n",
       "3                 1.0              1.0            0.068966   \n",
       "4                 1.0              1.0            0.538462   \n",
       "5                 1.0              1.0            0.016667   \n",
       "6                 1.0         0.333333            0.013889   \n",
       "7                 1.0              1.0            0.012346   \n",
       "8                 1.0              1.0            0.071429   \n",
       "9                 1.0              1.0            0.044444   \n",
       "\n",
       "  similarity_evaluator  \n",
       "0                 True  \n",
       "1                 True  \n",
       "2                 True  \n",
       "3                 True  \n",
       "4                False  \n",
       "5                 True  \n",
       "6                 True  \n",
       "7                False  \n",
       "8                 True  \n",
       "9                 True  "
      ]
     },
     "execution_count": 64,
     "metadata": {},
     "output_type": "execute_result"
    }
   ],
   "source": [
    "merged_df_512_4"
   ]
  },
  {
   "cell_type": "markdown",
   "metadata": {
    "id": "5TNx9dsJyB56"
   },
   "source": [
    "### **18. Improvision step by modifying the number of chunks retrieved to 5 and recreate the evaluation dataset**"
   ]
  },
  {
   "cell_type": "code",
   "execution_count": 66,
   "metadata": {
    "id": "JxahZlXqyB56",
    "outputId": "3bb8efdf-84f8-4e87-cdf2-3dbcf49488a4"
   },
   "outputs": [],
   "source": [
    "## Define the Config for generating the Eval dataset as below :\n",
    "\n",
    "# loading the eval dataset from HF\n",
    "#qdrant_qna_dataset = load_dataset(\"atitaarora/qdrant_doc_qna\", split=\"train\")\n",
    "\n",
    "EVAL_SIZE = 10\n",
    "\n",
    "RETRIEVAL_SIZE_5 = 5\n",
    "\n",
    "#print(qdrant_qna_dataset.column_names)\n",
    "\n",
    "## The dataset used to evaluate RAG using RAGAS\n",
    "## Note this is the dataset needed for evaluation hence has to be recreated everytime changes to RAG config is made\n",
    "rag_eval_dataset_512_5 = create_eval_dataset(qdrant_qna_dataset,EVAL_SIZE,RETRIEVAL_SIZE_5)\n"
   ]
  },
  {
   "cell_type": "code",
   "execution_count": 67,
   "metadata": {
    "colab": {
     "referenced_widgets": [
      "0b5418ab269a4ba79fdd2deb2265a615"
     ]
    },
    "id": "FIPlHUEZyB57",
    "outputId": "3dc94665-d87a-4057-dfe4-5314fc462319"
   },
   "outputs": [
    {
     "data": {
      "application/vnd.jupyter.widget-view+json": {
       "model_id": "ae7c9b2f821243c7bbf2cc6b10f80e3b",
       "version_major": 2,
       "version_minor": 0
      },
      "text/plain": [
       "Creating CSV from Arrow format:   0%|          | 0/1 [00:00<?, ?ba/s]"
      ]
     },
     "metadata": {},
     "output_type": "display_data"
    },
    {
     "data": {
      "text/plain": [
       "35650"
      ]
     },
     "execution_count": 67,
     "metadata": {},
     "output_type": "execute_result"
    }
   ],
   "source": [
    "#rag_response_data\n",
    "\n",
    "## The dataset used to evaluate RAG using RAGAS\n",
    "## Note this is the dataset needed for evaluation hence has to be recreated everytime changes to RAG config is made\n",
    "rag_response_dataset_512_5 = Dataset.from_dict(rag_eval_dataset_512_5)\n",
    "## Saving the evaluation dataset offline\n",
    "rag_response_dataset_512_5.to_csv('rag_response_512_5.csv')"
   ]
  },
  {
   "cell_type": "code",
   "execution_count": 68,
   "metadata": {
    "colab": {
     "base_uri": "https://localhost:8080/",
     "height": 363
    },
    "id": "A69p1xDSyB58",
    "outputId": "bcdc96c8-8673-488b-f443-cb4b6887819b"
   },
   "outputs": [
    {
     "data": {
      "text/html": [
       "<div>\n",
       "<style scoped>\n",
       "    .dataframe tbody tr th:only-of-type {\n",
       "        vertical-align: middle;\n",
       "    }\n",
       "\n",
       "    .dataframe tbody tr th {\n",
       "        vertical-align: top;\n",
       "    }\n",
       "\n",
       "    .dataframe thead th {\n",
       "        text-align: right;\n",
       "    }\n",
       "</style>\n",
       "<table border=\"1\" class=\"dataframe\">\n",
       "  <thead>\n",
       "    <tr style=\"text-align: right;\">\n",
       "      <th></th>\n",
       "      <th>question</th>\n",
       "      <th>answer</th>\n",
       "      <th>contexts</th>\n",
       "      <th>ground_truth</th>\n",
       "    </tr>\n",
       "  </thead>\n",
       "  <tbody>\n",
       "    <tr>\n",
       "      <th>0</th>\n",
       "      <td>What is vaccum optimizer ?</td>\n",
       "      <td>The vacuum optimizer is a component of the Mi...</td>\n",
       "      <td>['document:optimizersConfig: new OptimizersCon...</td>\n",
       "      <td>The Vacuum Optimizer is a feature in the Qdran...</td>\n",
       "    </tr>\n",
       "    <tr>\n",
       "      <th>1</th>\n",
       "      <td>Tell me about ‘always_ram’ parameter?</td>\n",
       "      <td>The `always_ram` parameter is used to determi...</td>\n",
       "      <td>['document:\"compression\": \"x32\",\\n\\n          ...</td>\n",
       "      <td>In the context of vector quantization in Qdran...</td>\n",
       "    </tr>\n",
       "    <tr>\n",
       "      <th>2</th>\n",
       "      <td>What is difference between scalar and product ...</td>\n",
       "      <td>Scalar quantization is a compression techniqu...</td>\n",
       "      <td>['document:But there are some tradeoffs. Produ...</td>\n",
       "      <td>While both methods aim to reduce the memory fo...</td>\n",
       "    </tr>\n",
       "    <tr>\n",
       "      <th>3</th>\n",
       "      <td>What is ‘best_score’ strategy?</td>\n",
       "      <td>The ‘best_score’ strategy is a new recommenda...</td>\n",
       "      <td>['document:#   [ScoredPoint(id=3, version=0, s...</td>\n",
       "      <td>The `best_score` strategy is based on the idea...</td>\n",
       "    </tr>\n",
       "    <tr>\n",
       "      <th>4</th>\n",
       "      <td>How does oversampling helps?</td>\n",
       "      <td>Oversampling helps by equalizing the represen...</td>\n",
       "      <td>['document:oversampling helps equalize the rep...</td>\n",
       "      <td>Defines how many extra vectors should be pre-s...</td>\n",
       "    </tr>\n",
       "    <tr>\n",
       "      <th>5</th>\n",
       "      <td>What is the purpose of ‘CreatePayloadIndexAsync’?</td>\n",
       "      <td>The 'CreatePayloadIndexAsync' function is use...</td>\n",
       "      <td>['document:```java\\n\\nimport io.qdrant.client....</td>\n",
       "      <td>CreatePayloadIndexAsync is a method in the Qdr...</td>\n",
       "    </tr>\n",
       "    <tr>\n",
       "      <th>6</th>\n",
       "      <td>What is the purpose of ef_construct in HNSW ?</td>\n",
       "      <td>The `ef_construct` parameter in HNSW (Hierarc...</td>\n",
       "      <td>['document:(\"my_vector\".into()),\\n\\n          ...</td>\n",
       "      <td>In HNSW algorithm the ef_construct parameter i...</td>\n",
       "    </tr>\n",
       "    <tr>\n",
       "      <th>7</th>\n",
       "      <td>How do you use ‘ordering’ parameter?</td>\n",
       "      <td>To use the 'ordering' parameter, you can incl...</td>\n",
       "      <td>['document:```http\\n\\nPUT /collections/{collec...</td>\n",
       "      <td>Write ordering can be specified for any write ...</td>\n",
       "    </tr>\n",
       "    <tr>\n",
       "      <th>8</th>\n",
       "      <td>What is significance of ‘on_disk_payload’ sett...</td>\n",
       "      <td>The 'on_disk_payload' setting in the 'on_disk...</td>\n",
       "      <td>['document:* `on_disk_payload` - defines where...</td>\n",
       "      <td>The `on_disk_payload` setting in the storage c...</td>\n",
       "    </tr>\n",
       "    <tr>\n",
       "      <th>9</th>\n",
       "      <td>What is the impact of ‘write_consistency_facto...</td>\n",
       "      <td>The `write_consistency_factor` determines the...</td>\n",
       "      <td>['document:### Write consistency factor\\n\\n\\n\\...</td>\n",
       "      <td>The `write_consistency_factor` parameter in a ...</td>\n",
       "    </tr>\n",
       "  </tbody>\n",
       "</table>\n",
       "</div>"
      ],
      "text/plain": [
       "                                            question  \\\n",
       "0                         What is vaccum optimizer ?   \n",
       "1              Tell me about ‘always_ram’ parameter?   \n",
       "2  What is difference between scalar and product ...   \n",
       "3                     What is ‘best_score’ strategy?   \n",
       "4                       How does oversampling helps?   \n",
       "5  What is the purpose of ‘CreatePayloadIndexAsync’?   \n",
       "6      What is the purpose of ef_construct in HNSW ?   \n",
       "7               How do you use ‘ordering’ parameter?   \n",
       "8  What is significance of ‘on_disk_payload’ sett...   \n",
       "9  What is the impact of ‘write_consistency_facto...   \n",
       "\n",
       "                                              answer  \\\n",
       "0   The vacuum optimizer is a component of the Mi...   \n",
       "1   The `always_ram` parameter is used to determi...   \n",
       "2   Scalar quantization is a compression techniqu...   \n",
       "3   The ‘best_score’ strategy is a new recommenda...   \n",
       "4   Oversampling helps by equalizing the represen...   \n",
       "5   The 'CreatePayloadIndexAsync' function is use...   \n",
       "6   The `ef_construct` parameter in HNSW (Hierarc...   \n",
       "7   To use the 'ordering' parameter, you can incl...   \n",
       "8   The 'on_disk_payload' setting in the 'on_disk...   \n",
       "9   The `write_consistency_factor` determines the...   \n",
       "\n",
       "                                            contexts  \\\n",
       "0  ['document:optimizersConfig: new OptimizersCon...   \n",
       "1  ['document:\"compression\": \"x32\",\\n\\n          ...   \n",
       "2  ['document:But there are some tradeoffs. Produ...   \n",
       "3  ['document:#   [ScoredPoint(id=3, version=0, s...   \n",
       "4  ['document:oversampling helps equalize the rep...   \n",
       "5  ['document:```java\\n\\nimport io.qdrant.client....   \n",
       "6  ['document:(\"my_vector\".into()),\\n\\n          ...   \n",
       "7  ['document:```http\\n\\nPUT /collections/{collec...   \n",
       "8  ['document:* `on_disk_payload` - defines where...   \n",
       "9  ['document:### Write consistency factor\\n\\n\\n\\...   \n",
       "\n",
       "                                        ground_truth  \n",
       "0  The Vacuum Optimizer is a feature in the Qdran...  \n",
       "1  In the context of vector quantization in Qdran...  \n",
       "2  While both methods aim to reduce the memory fo...  \n",
       "3  The `best_score` strategy is based on the idea...  \n",
       "4  Defines how many extra vectors should be pre-s...  \n",
       "5  CreatePayloadIndexAsync is a method in the Qdr...  \n",
       "6  In HNSW algorithm the ef_construct parameter i...  \n",
       "7  Write ordering can be specified for any write ...  \n",
       "8  The `on_disk_payload` setting in the storage c...  \n",
       "9  The `write_consistency_factor` parameter in a ...  "
      ]
     },
     "execution_count": 68,
     "metadata": {},
     "output_type": "execute_result"
    }
   ],
   "source": [
    "from ragas import evaluate\n",
    "eval_dataset_512_5 = pd.read_csv('rag_response_512_5.csv')\n",
    "eval_dataset_512_5.head(10)"
   ]
  },
  {
   "cell_type": "code",
   "execution_count": 69,
   "metadata": {
    "id": "pfP4sNi4yB58"
   },
   "outputs": [
    {
     "data": {
      "application/vnd.jupyter.widget-view+json": {
       "model_id": "ce81a980b64c45de85334d58e71ca621",
       "version_major": 2,
       "version_minor": 0
      },
      "text/plain": [
       "Evaluating:   0%|          | 0/10 [00:00<?, ?it/s]"
      ]
     },
     "metadata": {},
     "output_type": "display_data"
    },
    {
     "data": {
      "application/vnd.jupyter.widget-view+json": {
       "model_id": "aaf1bfd4a6f54736be8eec417635311e",
       "version_major": 2,
       "version_minor": 0
      },
      "text/plain": [
       "Evaluating:   0%|          | 0/10 [00:00<?, ?it/s]"
      ]
     },
     "metadata": {},
     "output_type": "display_data"
    },
    {
     "data": {
      "application/vnd.jupyter.widget-view+json": {
       "model_id": "c0c2a9467590411ea3e8ba7618082686",
       "version_major": 2,
       "version_minor": 0
      },
      "text/plain": [
       "Evaluating:   0%|          | 0/10 [00:00<?, ?it/s]"
      ]
     },
     "metadata": {},
     "output_type": "display_data"
    },
    {
     "data": {
      "application/vnd.jupyter.widget-view+json": {
       "model_id": "0531c2dfa44e4eb0a693c401ba1e8356",
       "version_major": 2,
       "version_minor": 0
      },
      "text/plain": [
       "Evaluating:   0%|          | 0/10 [00:00<?, ?it/s]"
      ]
     },
     "metadata": {},
     "output_type": "display_data"
    },
    {
     "name": "stderr",
     "output_type": "stream",
     "text": [
      "Using 'context_precision' without ground truth will be soon depreciated. Use 'context_utilization' instead\n",
      "Using 'context_precision' without ground truth will be soon depreciated. Use 'context_utilization' instead\n",
      "Using 'context_precision' without ground truth will be soon depreciated. Use 'context_utilization' instead\n",
      "Using 'context_precision' without ground truth will be soon depreciated. Use 'context_utilization' instead\n",
      "Using 'context_precision' without ground truth will be soon depreciated. Use 'context_utilization' instead\n",
      "Using 'context_precision' without ground truth will be soon depreciated. Use 'context_utilization' instead\n",
      "Using 'context_precision' without ground truth will be soon depreciated. Use 'context_utilization' instead\n",
      "Using 'context_precision' without ground truth will be soon depreciated. Use 'context_utilization' instead\n",
      "Using 'context_precision' without ground truth will be soon depreciated. Use 'context_utilization' instead\n",
      "Using 'context_precision' without ground truth will be soon depreciated. Use 'context_utilization' instead\n"
     ]
    },
    {
     "data": {
      "application/vnd.jupyter.widget-view+json": {
       "model_id": "a1be2ad4f4dd430f950fe6c4302b7b83",
       "version_major": 2,
       "version_minor": 0
      },
      "text/plain": [
       "Evaluating:   0%|          | 0/10 [00:00<?, ?it/s]"
      ]
     },
     "metadata": {},
     "output_type": "display_data"
    },
    {
     "data": {
      "application/vnd.jupyter.widget-view+json": {
       "model_id": "95cf6ce7219b48088ef97756975ac0dd",
       "version_major": 2,
       "version_minor": 0
      },
      "text/plain": [
       "Evaluating:   0%|          | 0/10 [00:00<?, ?it/s]"
      ]
     },
     "metadata": {},
     "output_type": "display_data"
    },
    {
     "data": {
      "application/vnd.jupyter.widget-view+json": {
       "model_id": "b54fb7470f13438095719b01da5c183d",
       "version_major": 2,
       "version_minor": 0
      },
      "text/plain": [
       "Evaluating:   0%|          | 0/10 [00:00<?, ?it/s]"
      ]
     },
     "metadata": {},
     "output_type": "display_data"
    },
    {
     "data": {
      "application/vnd.jupyter.widget-view+json": {
       "model_id": "0ea8960f93c540d4bfa859b0cf8524c2",
       "version_major": 2,
       "version_minor": 0
      },
      "text/plain": [
       "Evaluating:   0%|          | 0/10 [00:00<?, ?it/s]"
      ]
     },
     "metadata": {},
     "output_type": "display_data"
    },
    {
     "data": {
      "application/vnd.jupyter.widget-view+json": {
       "model_id": "7ded888792924f47b040c994372a00fb",
       "version_major": 2,
       "version_minor": 0
      },
      "text/plain": [
       "Evaluating:   0%|          | 0/10 [00:00<?, ?it/s]"
      ]
     },
     "metadata": {},
     "output_type": "display_data"
    },
    {
     "name": "stdout",
     "output_type": "stream",
     "text": [
      "                  Evaluator  Index        Metric Name Score\n",
      "0       precision_evaluator      0  context_precision   1.0\n",
      "1       precision_evaluator      1  context_precision   1.0\n",
      "2       precision_evaluator      2  context_precision   1.0\n",
      "3       precision_evaluator      3  context_precision   1.0\n",
      "4       precision_evaluator      4  context_precision   1.0\n",
      "..                      ...    ...                ...   ...\n",
      "85  aspect_critic_evaluator      5           Toxicity     0\n",
      "86  aspect_critic_evaluator      6           Toxicity     0\n",
      "87  aspect_critic_evaluator      7           Toxicity     0\n",
      "88  aspect_critic_evaluator      8           Toxicity     0\n",
      "89  aspect_critic_evaluator      9           Toxicity     0\n",
      "\n",
      "[90 rows x 4 columns]\n"
     ]
    }
   ],
   "source": [
    "## Run evaluation for Retreival Window Size 5 evaluation dataset\n",
    "results_512_5 = evaluate_eval_dataset(eval_dataset_512_5)\n",
    "evaluation_result_df_512_5 = evaluation_results_to_dataframe(results_512_5)\n",
    "print(evaluation_result_df_512_5)\n",
    "merged_df_512_5 = merge_eval_and_metrics_dataset(eval_dataset_512_5 , evaluation_result_df_512_5)"
   ]
  },
  {
   "cell_type": "code",
   "execution_count": 70,
   "metadata": {},
   "outputs": [
    {
     "data": {
      "text/html": [
       "<div>\n",
       "<style scoped>\n",
       "    .dataframe tbody tr th:only-of-type {\n",
       "        vertical-align: middle;\n",
       "    }\n",
       "\n",
       "    .dataframe tbody tr th {\n",
       "        vertical-align: top;\n",
       "    }\n",
       "\n",
       "    .dataframe thead th {\n",
       "        text-align: right;\n",
       "    }\n",
       "</style>\n",
       "<table border=\"1\" class=\"dataframe\">\n",
       "  <thead>\n",
       "    <tr style=\"text-align: right;\">\n",
       "      <th></th>\n",
       "      <th>Index</th>\n",
       "      <th>question</th>\n",
       "      <th>answer</th>\n",
       "      <th>contexts</th>\n",
       "      <th>ground_truth</th>\n",
       "      <th>answer_relevancy_evaluator</th>\n",
       "      <th>aspect_critic_evaluator</th>\n",
       "      <th>context_utilization_evaluator</th>\n",
       "      <th>correctness_evaluator</th>\n",
       "      <th>faithfullness_evaluator</th>\n",
       "      <th>precision_evaluator</th>\n",
       "      <th>recall_evaluator</th>\n",
       "      <th>relevancy_evaluator</th>\n",
       "      <th>similarity_evaluator</th>\n",
       "    </tr>\n",
       "  </thead>\n",
       "  <tbody>\n",
       "    <tr>\n",
       "      <th>0</th>\n",
       "      <td>0</td>\n",
       "      <td>What is vaccum optimizer ?</td>\n",
       "      <td>The vacuum optimizer is a component of the Mi...</td>\n",
       "      <td>[document:optimizersConfig: new OptimizersConf...</td>\n",
       "      <td>The Vacuum Optimizer is a feature in the Qdran...</td>\n",
       "      <td>0.882528</td>\n",
       "      <td>0</td>\n",
       "      <td>1.0</td>\n",
       "      <td>0.76889</td>\n",
       "      <td>1.0</td>\n",
       "      <td>1.0</td>\n",
       "      <td>1.0</td>\n",
       "      <td>0.020833</td>\n",
       "      <td>False</td>\n",
       "    </tr>\n",
       "    <tr>\n",
       "      <th>1</th>\n",
       "      <td>1</td>\n",
       "      <td>Tell me about ‘always_ram’ parameter?</td>\n",
       "      <td>The `always_ram` parameter is used to determi...</td>\n",
       "      <td>[document:\"compression\": \"x32\",\\n\\n           ...</td>\n",
       "      <td>In the context of vector quantization in Qdran...</td>\n",
       "      <td>0.880962</td>\n",
       "      <td>1</td>\n",
       "      <td>1.0</td>\n",
       "      <td>0.74936</td>\n",
       "      <td>1.0</td>\n",
       "      <td>1.0</td>\n",
       "      <td>0.666667</td>\n",
       "      <td>0.039474</td>\n",
       "      <td>True</td>\n",
       "    </tr>\n",
       "    <tr>\n",
       "      <th>2</th>\n",
       "      <td>2</td>\n",
       "      <td>What is difference between scalar and product ...</td>\n",
       "      <td>Scalar quantization is a compression techniqu...</td>\n",
       "      <td>[document:But there are some tradeoffs. Produc...</td>\n",
       "      <td>While both methods aim to reduce the memory fo...</td>\n",
       "      <td>0.978729</td>\n",
       "      <td>0</td>\n",
       "      <td>1.0</td>\n",
       "      <td>0.763593</td>\n",
       "      <td>1.0</td>\n",
       "      <td>1.0</td>\n",
       "      <td>1.0</td>\n",
       "      <td>0.227273</td>\n",
       "      <td>True</td>\n",
       "    </tr>\n",
       "    <tr>\n",
       "      <th>3</th>\n",
       "      <td>3</td>\n",
       "      <td>What is ‘best_score’ strategy?</td>\n",
       "      <td>The ‘best_score’ strategy is a new recommenda...</td>\n",
       "      <td>[document:#   [ScoredPoint(id=3, version=0, sc...</td>\n",
       "      <td>The `best_score` strategy is based on the idea...</td>\n",
       "      <td>0.988278</td>\n",
       "      <td>1</td>\n",
       "      <td>1.0</td>\n",
       "      <td>0.77201</td>\n",
       "      <td>1.0</td>\n",
       "      <td>1.0</td>\n",
       "      <td>1.0</td>\n",
       "      <td>0.057143</td>\n",
       "      <td>True</td>\n",
       "    </tr>\n",
       "    <tr>\n",
       "      <th>4</th>\n",
       "      <td>4</td>\n",
       "      <td>How does oversampling helps?</td>\n",
       "      <td>Oversampling helps by equalizing the represen...</td>\n",
       "      <td>[document:oversampling helps equalize the repr...</td>\n",
       "      <td>Defines how many extra vectors should be pre-s...</td>\n",
       "      <td>0.983618</td>\n",
       "      <td>0</td>\n",
       "      <td>1.0</td>\n",
       "      <td>0.582102</td>\n",
       "      <td>0.75</td>\n",
       "      <td>1.0</td>\n",
       "      <td>0.333333</td>\n",
       "      <td>0.470588</td>\n",
       "      <td>False</td>\n",
       "    </tr>\n",
       "    <tr>\n",
       "      <th>5</th>\n",
       "      <td>5</td>\n",
       "      <td>What is the purpose of ‘CreatePayloadIndexAsync’?</td>\n",
       "      <td>The 'CreatePayloadIndexAsync' function is use...</td>\n",
       "      <td>[document:```java\\n\\nimport io.qdrant.client.Q...</td>\n",
       "      <td>CreatePayloadIndexAsync is a method in the Qdr...</td>\n",
       "      <td>0.843713</td>\n",
       "      <td>0</td>\n",
       "      <td>1.0</td>\n",
       "      <td>0.800147</td>\n",
       "      <td>1.0</td>\n",
       "      <td>1.0</td>\n",
       "      <td>1.0</td>\n",
       "      <td>0.011905</td>\n",
       "      <td>True</td>\n",
       "    </tr>\n",
       "    <tr>\n",
       "      <th>6</th>\n",
       "      <td>6</td>\n",
       "      <td>What is the purpose of ef_construct in HNSW ?</td>\n",
       "      <td>The `ef_construct` parameter in HNSW (Hierarc...</td>\n",
       "      <td>[document:(\"my_vector\".into()),\\n\\n           ...</td>\n",
       "      <td>In HNSW algorithm the ef_construct parameter i...</td>\n",
       "      <td>0.918297</td>\n",
       "      <td>0</td>\n",
       "      <td>1.0</td>\n",
       "      <td>0.825399</td>\n",
       "      <td>1.0</td>\n",
       "      <td>1.0</td>\n",
       "      <td>0.333333</td>\n",
       "      <td>0.012987</td>\n",
       "      <td>True</td>\n",
       "    </tr>\n",
       "    <tr>\n",
       "      <th>7</th>\n",
       "      <td>7</td>\n",
       "      <td>How do you use ‘ordering’ parameter?</td>\n",
       "      <td>To use the 'ordering' parameter, you can incl...</td>\n",
       "      <td>[document:```http\\n\\nPUT /collections/{collect...</td>\n",
       "      <td>Write ordering can be specified for any write ...</td>\n",
       "      <td>0.913583</td>\n",
       "      <td>0</td>\n",
       "      <td>1.0</td>\n",
       "      <td>0.784759</td>\n",
       "      <td>1.0</td>\n",
       "      <td>1.0</td>\n",
       "      <td>1.0</td>\n",
       "      <td>0.0</td>\n",
       "      <td>False</td>\n",
       "    </tr>\n",
       "    <tr>\n",
       "      <th>8</th>\n",
       "      <td>8</td>\n",
       "      <td>What is significance of ‘on_disk_payload’ sett...</td>\n",
       "      <td>The 'on_disk_payload' setting in the 'on_disk...</td>\n",
       "      <td>[document:* `on_disk_payload` - defines where ...</td>\n",
       "      <td>The `on_disk_payload` setting in the storage c...</td>\n",
       "      <td>0.9213</td>\n",
       "      <td>0</td>\n",
       "      <td>1.0</td>\n",
       "      <td>0.75899</td>\n",
       "      <td>1.0</td>\n",
       "      <td>1.0</td>\n",
       "      <td>1.0</td>\n",
       "      <td>0.058824</td>\n",
       "      <td>True</td>\n",
       "    </tr>\n",
       "    <tr>\n",
       "      <th>9</th>\n",
       "      <td>9</td>\n",
       "      <td>What is the impact of ‘write_consistency_facto...</td>\n",
       "      <td>The `write_consistency_factor` determines the...</td>\n",
       "      <td>[document:### Write consistency factor\\n\\n\\n\\n...</td>\n",
       "      <td>The `write_consistency_factor` parameter in a ...</td>\n",
       "      <td>0.940565</td>\n",
       "      <td>0</td>\n",
       "      <td>1.0</td>\n",
       "      <td>0.775297</td>\n",
       "      <td>0.75</td>\n",
       "      <td>1.0</td>\n",
       "      <td>1.0</td>\n",
       "      <td>0.042553</td>\n",
       "      <td>True</td>\n",
       "    </tr>\n",
       "  </tbody>\n",
       "</table>\n",
       "</div>"
      ],
      "text/plain": [
       "   Index                                           question  \\\n",
       "0      0                         What is vaccum optimizer ?   \n",
       "1      1              Tell me about ‘always_ram’ parameter?   \n",
       "2      2  What is difference between scalar and product ...   \n",
       "3      3                     What is ‘best_score’ strategy?   \n",
       "4      4                       How does oversampling helps?   \n",
       "5      5  What is the purpose of ‘CreatePayloadIndexAsync’?   \n",
       "6      6      What is the purpose of ef_construct in HNSW ?   \n",
       "7      7               How do you use ‘ordering’ parameter?   \n",
       "8      8  What is significance of ‘on_disk_payload’ sett...   \n",
       "9      9  What is the impact of ‘write_consistency_facto...   \n",
       "\n",
       "                                              answer  \\\n",
       "0   The vacuum optimizer is a component of the Mi...   \n",
       "1   The `always_ram` parameter is used to determi...   \n",
       "2   Scalar quantization is a compression techniqu...   \n",
       "3   The ‘best_score’ strategy is a new recommenda...   \n",
       "4   Oversampling helps by equalizing the represen...   \n",
       "5   The 'CreatePayloadIndexAsync' function is use...   \n",
       "6   The `ef_construct` parameter in HNSW (Hierarc...   \n",
       "7   To use the 'ordering' parameter, you can incl...   \n",
       "8   The 'on_disk_payload' setting in the 'on_disk...   \n",
       "9   The `write_consistency_factor` determines the...   \n",
       "\n",
       "                                            contexts  \\\n",
       "0  [document:optimizersConfig: new OptimizersConf...   \n",
       "1  [document:\"compression\": \"x32\",\\n\\n           ...   \n",
       "2  [document:But there are some tradeoffs. Produc...   \n",
       "3  [document:#   [ScoredPoint(id=3, version=0, sc...   \n",
       "4  [document:oversampling helps equalize the repr...   \n",
       "5  [document:```java\\n\\nimport io.qdrant.client.Q...   \n",
       "6  [document:(\"my_vector\".into()),\\n\\n           ...   \n",
       "7  [document:```http\\n\\nPUT /collections/{collect...   \n",
       "8  [document:* `on_disk_payload` - defines where ...   \n",
       "9  [document:### Write consistency factor\\n\\n\\n\\n...   \n",
       "\n",
       "                                        ground_truth  \\\n",
       "0  The Vacuum Optimizer is a feature in the Qdran...   \n",
       "1  In the context of vector quantization in Qdran...   \n",
       "2  While both methods aim to reduce the memory fo...   \n",
       "3  The `best_score` strategy is based on the idea...   \n",
       "4  Defines how many extra vectors should be pre-s...   \n",
       "5  CreatePayloadIndexAsync is a method in the Qdr...   \n",
       "6  In HNSW algorithm the ef_construct parameter i...   \n",
       "7  Write ordering can be specified for any write ...   \n",
       "8  The `on_disk_payload` setting in the storage c...   \n",
       "9  The `write_consistency_factor` parameter in a ...   \n",
       "\n",
       "  answer_relevancy_evaluator aspect_critic_evaluator  \\\n",
       "0                   0.882528                       0   \n",
       "1                   0.880962                       1   \n",
       "2                   0.978729                       0   \n",
       "3                   0.988278                       1   \n",
       "4                   0.983618                       0   \n",
       "5                   0.843713                       0   \n",
       "6                   0.918297                       0   \n",
       "7                   0.913583                       0   \n",
       "8                     0.9213                       0   \n",
       "9                   0.940565                       0   \n",
       "\n",
       "  context_utilization_evaluator correctness_evaluator faithfullness_evaluator  \\\n",
       "0                           1.0               0.76889                     1.0   \n",
       "1                           1.0               0.74936                     1.0   \n",
       "2                           1.0              0.763593                     1.0   \n",
       "3                           1.0               0.77201                     1.0   \n",
       "4                           1.0              0.582102                    0.75   \n",
       "5                           1.0              0.800147                     1.0   \n",
       "6                           1.0              0.825399                     1.0   \n",
       "7                           1.0              0.784759                     1.0   \n",
       "8                           1.0               0.75899                     1.0   \n",
       "9                           1.0              0.775297                    0.75   \n",
       "\n",
       "  precision_evaluator recall_evaluator relevancy_evaluator  \\\n",
       "0                 1.0              1.0            0.020833   \n",
       "1                 1.0         0.666667            0.039474   \n",
       "2                 1.0              1.0            0.227273   \n",
       "3                 1.0              1.0            0.057143   \n",
       "4                 1.0         0.333333            0.470588   \n",
       "5                 1.0              1.0            0.011905   \n",
       "6                 1.0         0.333333            0.012987   \n",
       "7                 1.0              1.0                 0.0   \n",
       "8                 1.0              1.0            0.058824   \n",
       "9                 1.0              1.0            0.042553   \n",
       "\n",
       "  similarity_evaluator  \n",
       "0                False  \n",
       "1                 True  \n",
       "2                 True  \n",
       "3                 True  \n",
       "4                False  \n",
       "5                 True  \n",
       "6                 True  \n",
       "7                False  \n",
       "8                 True  \n",
       "9                 True  "
      ]
     },
     "execution_count": 70,
     "metadata": {},
     "output_type": "execute_result"
    }
   ],
   "source": [
    "merged_df_512_5"
   ]
  },
  {
   "cell_type": "markdown",
   "metadata": {
    "id": "WDdyaleCyB58"
   },
   "source": [
    "### **19. Compare results with the previous evaluation iteration**"
   ]
  },
  {
   "cell_type": "code",
   "execution_count": 71,
   "metadata": {
    "id": "Fum4K2dqyB58"
   },
   "outputs": [],
   "source": [
    "## Result comparison\n",
    "import pandas as pd\n",
    "import matplotlib.pyplot as plt\n",
    "\n",
    "def compare_dataframes(df1, df2 , df3):\n",
    "    # Extract the specified columns from both dataframes\n",
    "    headers = ['answer_relevancy_evaluator', 'aspect_critic_evaluator', 'context_utilization_evaluator', 'correctness_evaluator', 'faithfullness_evaluator','precision_evaluator','recall_evaluator','relevancy_evaluator']\n",
    "\n",
    "    # Create subplots\n",
    "    fig, axes = plt.subplots(nrows=1, ncols=len(headers), figsize=(20, 4))\n",
    "\n",
    "    # Plot bar plots for each header\n",
    "    for i, header in enumerate(headers):\n",
    "        print(df1[header])\n",
    "        ax = axes[i]\n",
    "        ax.bar(['RW_3','RW_4', 'RW_5'], [df1[header].mean(), df2[header].mean(), df3[header].mean()])\n",
    "        ax.set_title(header)\n",
    "        ax.set_ylabel('Mean Value')\n",
    "\n",
    "    # Adjust layout\n",
    "    plt.tight_layout()\n",
    "\n",
    "    # Show plot\n",
    "    plt.show()\n"
   ]
  },
  {
   "cell_type": "code",
   "execution_count": 72,
   "metadata": {
    "colab": {
     "base_uri": "https://localhost:8080/",
     "height": 1000
    },
    "id": "sqkz_orpyB59",
    "outputId": "81812bea-68d4-47fe-95ab-83e4482dc3ee"
   },
   "outputs": [
    {
     "name": "stdout",
     "output_type": "stream",
     "text": [
      "0    0.934623\n",
      "1    0.875728\n",
      "2    0.985975\n",
      "3    0.988278\n",
      "4    0.983618\n",
      "5    0.925316\n",
      "6    0.955125\n",
      "7    0.905209\n",
      "8    0.897245\n",
      "9    0.905453\n",
      "Name: answer_relevancy_evaluator, dtype: object\n",
      "0    0\n",
      "1    0\n",
      "2    0\n",
      "3    0\n",
      "4    0\n",
      "5    0\n",
      "6    0\n",
      "7    0\n",
      "8    0\n",
      "9    0\n",
      "Name: aspect_critic_evaluator, dtype: object\n",
      "0    1.0\n",
      "1    1.0\n",
      "2    1.0\n",
      "3    1.0\n",
      "4    1.0\n",
      "5    1.0\n",
      "6    1.0\n",
      "7    1.0\n",
      "8    1.0\n",
      "9    1.0\n",
      "Name: context_utilization_evaluator, dtype: object\n",
      "0    0.720258\n",
      "1     0.86654\n",
      "2    0.799376\n",
      "3    0.776145\n",
      "4     0.65497\n",
      "5    0.720873\n",
      "6    0.822068\n",
      "7    0.815893\n",
      "8    0.643398\n",
      "9    0.766193\n",
      "Name: correctness_evaluator, dtype: object\n",
      "0     1.0\n",
      "1     1.0\n",
      "2     1.0\n",
      "3     1.0\n",
      "4     0.6\n",
      "5    0.75\n",
      "6     1.0\n",
      "7     1.0\n",
      "8     1.0\n",
      "9    0.75\n",
      "Name: faithfullness_evaluator, dtype: object\n",
      "0    1.0\n",
      "1    1.0\n",
      "2    1.0\n",
      "3    1.0\n",
      "4    1.0\n",
      "5    1.0\n",
      "6    1.0\n",
      "7    1.0\n",
      "8    1.0\n",
      "9    1.0\n",
      "Name: precision_evaluator, dtype: object\n",
      "0         1.0\n",
      "1    0.666667\n",
      "2         1.0\n",
      "3         1.0\n",
      "4    0.666667\n",
      "5         1.0\n",
      "6    0.333333\n",
      "7         1.0\n",
      "8         1.0\n",
      "9         1.0\n",
      "Name: recall_evaluator, dtype: object\n",
      "0    0.066667\n",
      "1         0.1\n",
      "2    0.153846\n",
      "3    0.090909\n",
      "4       0.625\n",
      "5    0.025641\n",
      "6    0.018519\n",
      "7    0.014085\n",
      "8    0.130435\n",
      "9    0.030303\n",
      "Name: relevancy_evaluator, dtype: object\n"
     ]
    },
    {
     "data": {
      "image/png": "[encoded data removed]",
      "text/plain": [
       "<Figure size 2000x400 with 8 Axes>"
      ]
     },
     "metadata": {},
     "output_type": "display_data"
    }
   ],
   "source": [
    "# Example result comparison:\n",
    "compare_dataframes(merged_df_512_3, merged_df_512_4, merged_df_512_5)\n"
   ]
  },
  {
   "cell_type": "code",
   "execution_count": null,
   "metadata": {},
   "outputs": [],
   "source": []
  }
 ],
 "metadata": {
  "colab": {
   "provenance": []
  },
  "kernelspec": {
   "display_name": "Python 3 (ipykernel)",
   "language": "python",
   "name": "python3"
  },
  "language_info": {
   "codemirror_mode": {
    "name": "ipython",
    "version": 3
   },
   "file_extension": ".py",
   "mimetype": "text/x-python",
   "name": "python",
   "nbconvert_exporter": "python",
   "pygments_lexer": "ipython3",
   "version": "3.10.7"
  },
  "widgets": {
   "application/vnd.jupyter.widget-state+json": {
    "025bf8865c8e43249437927ce26fb6c8": {
     "model_module": "@jupyter-widgets/controls",
     "model_module_version": "1.5.0",
     "model_name": "HTMLModel",
     "state": {
      "_dom_classes": [],
      "_model_module": "@jupyter-widgets/controls",
      "_model_module_version": "1.5.0",
      "_model_name": "HTMLModel",
      "_view_count": null,
      "_view_module": "@jupyter-widgets/controls",
      "_view_module_version": "1.5.0",
      "_view_name": "HTMLView",
      "description": "",
      "description_tooltip": null,
      "layout": "IPY_MODEL_15dbf8ecf1a04f3abc9b360447d2355a",
      "placeholder": "​",
      "style": "IPY_MODEL_f381f72d201b448b81b4d07ab0762cc8",
      "value": "Fetching 9 files: 100%"
     }
    },
    "05c46198e2834c9a8418dc1b36b90f8c": {
     "model_module": "@jupyter-widgets/controls",
     "model_module_version": "1.5.0",
     "model_name": "HBoxModel",
     "state": {
      "_dom_classes": [],
      "_model_module": "@jupyter-widgets/controls",
      "_model_module_version": "1.5.0",
      "_model_name": "HBoxModel",
      "_view_count": null,
      "_view_module": "@jupyter-widgets/controls",
      "_view_module_version": "1.5.0",
      "_view_name": "HBoxView",
      "box_style": "",
      "children": [
       "IPY_MODEL_025bf8865c8e43249437927ce26fb6c8",
       "IPY_MODEL_a1cb3e4346194999b027c0a04c7130f5",
       "IPY_MODEL_d21be397e6c342f8b5949aea3b58dac6"
      ],
      "layout": "IPY_MODEL_4688bb85158f4208ad3ac2032630d3db"
     }
    },
    "09462996c2c2452f9434985a4f1a6b81": {
     "model_module": "@jupyter-widgets/base",
     "model_module_version": "1.2.0",
     "model_name": "LayoutModel",
     "state": {
      "_model_module": "@jupyter-widgets/base",
      "_model_module_version": "1.2.0",
      "_model_name": "LayoutModel",
      "_view_count": null,
      "_view_module": "@jupyter-widgets/base",
      "_view_module_version": "1.2.0",
      "_view_name": "LayoutView",
      "align_content": null,
      "align_items": null,
      "align_self": null,
      "border": null,
      "bottom": null,
      "display": null,
      "flex": null,
      "flex_flow": null,
      "grid_area": null,
      "grid_auto_columns": null,
      "grid_auto_flow": null,
      "grid_auto_rows": null,
      "grid_column": null,
      "grid_gap": null,
      "grid_row": null,
      "grid_template_areas": null,
      "grid_template_columns": null,
      "grid_template_rows": null,
      "height": null,
      "justify_content": null,
      "justify_items": null,
      "left": null,
      "margin": null,
      "max_height": null,
      "max_width": null,
      "min_height": null,
      "min_width": null,
      "object_fit": null,
      "object_position": null,
      "order": null,
      "overflow": null,
      "overflow_x": null,
      "overflow_y": null,
      "padding": null,
      "right": null,
      "top": null,
      "visibility": null,
      "width": null
     }
    },
    "11074ed977964e83b6f2c208313d192d": {
     "model_module": "@jupyter-widgets/controls",
     "model_module_version": "1.5.0",
     "model_name": "HTMLModel",
     "state": {
      "_dom_classes": [],
      "_model_module": "@jupyter-widgets/controls",
      "_model_module_version": "1.5.0",
      "_model_name": "HTMLModel",
      "_view_count": null,
      "_view_module": "@jupyter-widgets/controls",
      "_view_module_version": "1.5.0",
      "_view_name": "HTMLView",
      "description": "",
      "description_tooltip": null,
      "layout": "IPY_MODEL_bcc4904d2a0945f1b8a7b82f74f0e745",
      "placeholder": "​",
      "style": "IPY_MODEL_fb0dd385be3e44ba8c13edd5e730756a",
      "value": " 240/240 [00:00&lt;00:00, 3940.15it/s]"
     }
    },
    "143ec26042a54df7a72a29663e454c42": {
     "model_module": "@jupyter-widgets/base",
     "model_module_version": "1.2.0",
     "model_name": "LayoutModel",
     "state": {
      "_model_module": "@jupyter-widgets/base",
      "_model_module_version": "1.2.0",
      "_model_name": "LayoutModel",
      "_view_count": null,
      "_view_module": "@jupyter-widgets/base",
      "_view_module_version": "1.2.0",
      "_view_name": "LayoutView",
      "align_content": null,
      "align_items": null,
      "align_self": null,
      "border": null,
      "bottom": null,
      "display": null,
      "flex": null,
      "flex_flow": null,
      "grid_area": null,
      "grid_auto_columns": null,
      "grid_auto_flow": null,
      "grid_auto_rows": null,
      "grid_column": null,
      "grid_gap": null,
      "grid_row": null,
      "grid_template_areas": null,
      "grid_template_columns": null,
      "grid_template_rows": null,
      "height": null,
      "justify_content": null,
      "justify_items": null,
      "left": null,
      "margin": null,
      "max_height": null,
      "max_width": null,
      "min_height": null,
      "min_width": null,
      "object_fit": null,
      "object_position": null,
      "order": null,
      "overflow": null,
      "overflow_x": null,
      "overflow_y": null,
      "padding": null,
      "right": null,
      "top": null,
      "visibility": null,
      "width": null
     }
    },
    "15dbf8ecf1a04f3abc9b360447d2355a": {
     "model_module": "@jupyter-widgets/base",
     "model_module_version": "1.2.0",
     "model_name": "LayoutModel",
     "state": {
      "_model_module": "@jupyter-widgets/base",
      "_model_module_version": "1.2.0",
      "_model_name": "LayoutModel",
      "_view_count": null,
      "_view_module": "@jupyter-widgets/base",
      "_view_module_version": "1.2.0",
      "_view_name": "LayoutView",
      "align_content": null,
      "align_items": null,
      "align_self": null,
      "border": null,
      "bottom": null,
      "display": null,
      "flex": null,
      "flex_flow": null,
      "grid_area": null,
      "grid_auto_columns": null,
      "grid_auto_flow": null,
      "grid_auto_rows": null,
      "grid_column": null,
      "grid_gap": null,
      "grid_row": null,
      "grid_template_areas": null,
      "grid_template_columns": null,
      "grid_template_rows": null,
      "height": null,
      "justify_content": null,
      "justify_items": null,
      "left": null,
      "margin": null,
      "max_height": null,
      "max_width": null,
      "min_height": null,
      "min_width": null,
      "object_fit": null,
      "object_position": null,
      "order": null,
      "overflow": null,
      "overflow_x": null,
      "overflow_y": null,
      "padding": null,
      "right": null,
      "top": null,
      "visibility": null,
      "width": null
     }
    },
    "1deb43ae31cc4e169b2ef3075c57fb51": {
     "model_module": "@jupyter-widgets/controls",
     "model_module_version": "1.5.0",
     "model_name": "ProgressStyleModel",
     "state": {
      "_model_module": "@jupyter-widgets/controls",
      "_model_module_version": "1.5.0",
      "_model_name": "ProgressStyleModel",
      "_view_count": null,
      "_view_module": "@jupyter-widgets/base",
      "_view_module_version": "1.2.0",
      "_view_name": "StyleView",
      "bar_color": null,
      "description_width": ""
     }
    },
    "1f1498e72c5f4e538ef43266775fdb0f": {
     "model_module": "@jupyter-widgets/controls",
     "model_module_version": "1.5.0",
     "model_name": "HTMLModel",
     "state": {
      "_dom_classes": [],
      "_model_module": "@jupyter-widgets/controls",
      "_model_module_version": "1.5.0",
      "_model_name": "HTMLModel",
      "_view_count": null,
      "_view_module": "@jupyter-widgets/controls",
      "_view_module_version": "1.5.0",
      "_view_name": "HTMLView",
      "description": "",
      "description_tooltip": null,
      "layout": "IPY_MODEL_143ec26042a54df7a72a29663e454c42",
      "placeholder": "​",
      "style": "IPY_MODEL_d75958797e3044c08285e629f8b911d3",
      "value": "100%"
     }
    },
    "20267c28236a4e1b9c6dd913caa1a38c": {
     "model_module": "@jupyter-widgets/base",
     "model_module_version": "1.2.0",
     "model_name": "LayoutModel",
     "state": {
      "_model_module": "@jupyter-widgets/base",
      "_model_module_version": "1.2.0",
      "_model_name": "LayoutModel",
      "_view_count": null,
      "_view_module": "@jupyter-widgets/base",
      "_view_module_version": "1.2.0",
      "_view_name": "LayoutView",
      "align_content": null,
      "align_items": null,
      "align_self": null,
      "border": null,
      "bottom": null,
      "display": null,
      "flex": null,
      "flex_flow": null,
      "grid_area": null,
      "grid_auto_columns": null,
      "grid_auto_flow": null,
      "grid_auto_rows": null,
      "grid_column": null,
      "grid_gap": null,
      "grid_row": null,
      "grid_template_areas": null,
      "grid_template_columns": null,
      "grid_template_rows": null,
      "height": null,
      "justify_content": null,
      "justify_items": null,
      "left": null,
      "margin": null,
      "max_height": null,
      "max_width": null,
      "min_height": null,
      "min_width": null,
      "object_fit": null,
      "object_position": null,
      "order": null,
      "overflow": null,
      "overflow_x": null,
      "overflow_y": null,
      "padding": null,
      "right": null,
      "top": null,
      "visibility": null,
      "width": null
     }
    },
    "4688bb85158f4208ad3ac2032630d3db": {
     "model_module": "@jupyter-widgets/base",
     "model_module_version": "1.2.0",
     "model_name": "LayoutModel",
     "state": {
      "_model_module": "@jupyter-widgets/base",
      "_model_module_version": "1.2.0",
      "_model_name": "LayoutModel",
      "_view_count": null,
      "_view_module": "@jupyter-widgets/base",
      "_view_module_version": "1.2.0",
      "_view_name": "LayoutView",
      "align_content": null,
      "align_items": null,
      "align_self": null,
      "border": null,
      "bottom": null,
      "display": null,
      "flex": null,
      "flex_flow": null,
      "grid_area": null,
      "grid_auto_columns": null,
      "grid_auto_flow": null,
      "grid_auto_rows": null,
      "grid_column": null,
      "grid_gap": null,
      "grid_row": null,
      "grid_template_areas": null,
      "grid_template_columns": null,
      "grid_template_rows": null,
      "height": null,
      "justify_content": null,
      "justify_items": null,
      "left": null,
      "margin": null,
      "max_height": null,
      "max_width": null,
      "min_height": null,
      "min_width": null,
      "object_fit": null,
      "object_position": null,
      "order": null,
      "overflow": null,
      "overflow_x": null,
      "overflow_y": null,
      "padding": null,
      "right": null,
      "top": null,
      "visibility": null,
      "width": null
     }
    },
    "8882b8a8aada43d1be7171f230a24e15": {
     "model_module": "@jupyter-widgets/controls",
     "model_module_version": "1.5.0",
     "model_name": "ProgressStyleModel",
     "state": {
      "_model_module": "@jupyter-widgets/controls",
      "_model_module_version": "1.5.0",
      "_model_name": "ProgressStyleModel",
      "_view_count": null,
      "_view_module": "@jupyter-widgets/base",
      "_view_module_version": "1.2.0",
      "_view_name": "StyleView",
      "bar_color": null,
      "description_width": ""
     }
    },
    "a1cb3e4346194999b027c0a04c7130f5": {
     "model_module": "@jupyter-widgets/controls",
     "model_module_version": "1.5.0",
     "model_name": "FloatProgressModel",
     "state": {
      "_dom_classes": [],
      "_model_module": "@jupyter-widgets/controls",
      "_model_module_version": "1.5.0",
      "_model_name": "FloatProgressModel",
      "_view_count": null,
      "_view_module": "@jupyter-widgets/controls",
      "_view_module_version": "1.5.0",
      "_view_name": "ProgressView",
      "bar_style": "success",
      "description": "",
      "description_tooltip": null,
      "layout": "IPY_MODEL_20267c28236a4e1b9c6dd913caa1a38c",
      "max": 9,
      "min": 0,
      "orientation": "horizontal",
      "style": "IPY_MODEL_1deb43ae31cc4e169b2ef3075c57fb51",
      "value": 9
     }
    },
    "a2039c684d8e4c95adf548aa75e11c69": {
     "model_module": "@jupyter-widgets/controls",
     "model_module_version": "1.5.0",
     "model_name": "DescriptionStyleModel",
     "state": {
      "_model_module": "@jupyter-widgets/controls",
      "_model_module_version": "1.5.0",
      "_model_name": "DescriptionStyleModel",
      "_view_count": null,
      "_view_module": "@jupyter-widgets/base",
      "_view_module_version": "1.2.0",
      "_view_name": "StyleView",
      "description_width": ""
     }
    },
    "bcc4904d2a0945f1b8a7b82f74f0e745": {
     "model_module": "@jupyter-widgets/base",
     "model_module_version": "1.2.0",
     "model_name": "LayoutModel",
     "state": {
      "_model_module": "@jupyter-widgets/base",
      "_model_module_version": "1.2.0",
      "_model_name": "LayoutModel",
      "_view_count": null,
      "_view_module": "@jupyter-widgets/base",
      "_view_module_version": "1.2.0",
      "_view_name": "LayoutView",
      "align_content": null,
      "align_items": null,
      "align_self": null,
      "border": null,
      "bottom": null,
      "display": null,
      "flex": null,
      "flex_flow": null,
      "grid_area": null,
      "grid_auto_columns": null,
      "grid_auto_flow": null,
      "grid_auto_rows": null,
      "grid_column": null,
      "grid_gap": null,
      "grid_row": null,
      "grid_template_areas": null,
      "grid_template_columns": null,
      "grid_template_rows": null,
      "height": null,
      "justify_content": null,
      "justify_items": null,
      "left": null,
      "margin": null,
      "max_height": null,
      "max_width": null,
      "min_height": null,
      "min_width": null,
      "object_fit": null,
      "object_position": null,
      "order": null,
      "overflow": null,
      "overflow_x": null,
      "overflow_y": null,
      "padding": null,
      "right": null,
      "top": null,
      "visibility": null,
      "width": null
     }
    },
    "be3564cf8fbd4fdc812fc30748ac0ef3": {
     "model_module": "@jupyter-widgets/base",
     "model_module_version": "1.2.0",
     "model_name": "LayoutModel",
     "state": {
      "_model_module": "@jupyter-widgets/base",
      "_model_module_version": "1.2.0",
      "_model_name": "LayoutModel",
      "_view_count": null,
      "_view_module": "@jupyter-widgets/base",
      "_view_module_version": "1.2.0",
      "_view_name": "LayoutView",
      "align_content": null,
      "align_items": null,
      "align_self": null,
      "border": null,
      "bottom": null,
      "display": null,
      "flex": null,
      "flex_flow": null,
      "grid_area": null,
      "grid_auto_columns": null,
      "grid_auto_flow": null,
      "grid_auto_rows": null,
      "grid_column": null,
      "grid_gap": null,
      "grid_row": null,
      "grid_template_areas": null,
      "grid_template_columns": null,
      "grid_template_rows": null,
      "height": null,
      "justify_content": null,
      "justify_items": null,
      "left": null,
      "margin": null,
      "max_height": null,
      "max_width": null,
      "min_height": null,
      "min_width": null,
      "object_fit": null,
      "object_position": null,
      "order": null,
      "overflow": null,
      "overflow_x": null,
      "overflow_y": null,
      "padding": null,
      "right": null,
      "top": null,
      "visibility": null,
      "width": null
     }
    },
    "d21be397e6c342f8b5949aea3b58dac6": {
     "model_module": "@jupyter-widgets/controls",
     "model_module_version": "1.5.0",
     "model_name": "HTMLModel",
     "state": {
      "_dom_classes": [],
      "_model_module": "@jupyter-widgets/controls",
      "_model_module_version": "1.5.0",
      "_model_name": "HTMLModel",
      "_view_count": null,
      "_view_module": "@jupyter-widgets/controls",
      "_view_module_version": "1.5.0",
      "_view_name": "HTMLView",
      "description": "",
      "description_tooltip": null,
      "layout": "IPY_MODEL_09462996c2c2452f9434985a4f1a6b81",
      "placeholder": "​",
      "style": "IPY_MODEL_a2039c684d8e4c95adf548aa75e11c69",
      "value": " 9/9 [00:00&lt;00:00, 178.26it/s]"
     }
    },
    "d75958797e3044c08285e629f8b911d3": {
     "model_module": "@jupyter-widgets/controls",
     "model_module_version": "1.5.0",
     "model_name": "DescriptionStyleModel",
     "state": {
      "_model_module": "@jupyter-widgets/controls",
      "_model_module_version": "1.5.0",
      "_model_name": "DescriptionStyleModel",
      "_view_count": null,
      "_view_module": "@jupyter-widgets/base",
      "_view_module_version": "1.2.0",
      "_view_name": "StyleView",
      "description_width": ""
     }
    },
    "ea3efae027354224948451791afd1f99": {
     "model_module": "@jupyter-widgets/base",
     "model_module_version": "1.2.0",
     "model_name": "LayoutModel",
     "state": {
      "_model_module": "@jupyter-widgets/base",
      "_model_module_version": "1.2.0",
      "_model_name": "LayoutModel",
      "_view_count": null,
      "_view_module": "@jupyter-widgets/base",
      "_view_module_version": "1.2.0",
      "_view_name": "LayoutView",
      "align_content": null,
      "align_items": null,
      "align_self": null,
      "border": null,
      "bottom": null,
      "display": null,
      "flex": null,
      "flex_flow": null,
      "grid_area": null,
      "grid_auto_columns": null,
      "grid_auto_flow": null,
      "grid_auto_rows": null,
      "grid_column": null,
      "grid_gap": null,
      "grid_row": null,
      "grid_template_areas": null,
      "grid_template_columns": null,
      "grid_template_rows": null,
      "height": null,
      "justify_content": null,
      "justify_items": null,
      "left": null,
      "margin": null,
      "max_height": null,
      "max_width": null,
      "min_height": null,
      "min_width": null,
      "object_fit": null,
      "object_position": null,
      "order": null,
      "overflow": null,
      "overflow_x": null,
      "overflow_y": null,
      "padding": null,
      "right": null,
      "top": null,
      "visibility": null,
      "width": null
     }
    },
    "f381f72d201b448b81b4d07ab0762cc8": {
     "model_module": "@jupyter-widgets/controls",
     "model_module_version": "1.5.0",
     "model_name": "DescriptionStyleModel",
     "state": {
      "_model_module": "@jupyter-widgets/controls",
      "_model_module_version": "1.5.0",
      "_model_name": "DescriptionStyleModel",
      "_view_count": null,
      "_view_module": "@jupyter-widgets/base",
      "_view_module_version": "1.2.0",
      "_view_name": "StyleView",
      "description_width": ""
     }
    },
    "f6deefc2d4ca47c0a6181dfc267c92f7": {
     "model_module": "@jupyter-widgets/controls",
     "model_module_version": "1.5.0",
     "model_name": "HBoxModel",
     "state": {
      "_dom_classes": [],
      "_model_module": "@jupyter-widgets/controls",
      "_model_module_version": "1.5.0",
      "_model_name": "HBoxModel",
      "_view_count": null,
      "_view_module": "@jupyter-widgets/controls",
      "_view_module_version": "1.5.0",
      "_view_name": "HBoxView",
      "box_style": "",
      "children": [
       "IPY_MODEL_1f1498e72c5f4e538ef43266775fdb0f",
       "IPY_MODEL_feb4f8904b304e4fa729368a125cb9fb",
       "IPY_MODEL_11074ed977964e83b6f2c208313d192d"
      ],
      "layout": "IPY_MODEL_ea3efae027354224948451791afd1f99"
     }
    },
    "fb0dd385be3e44ba8c13edd5e730756a": {
     "model_module": "@jupyter-widgets/controls",
     "model_module_version": "1.5.0",
     "model_name": "DescriptionStyleModel",
     "state": {
      "_model_module": "@jupyter-widgets/controls",
      "_model_module_version": "1.5.0",
      "_model_name": "DescriptionStyleModel",
      "_view_count": null,
      "_view_module": "@jupyter-widgets/base",
      "_view_module_version": "1.2.0",
      "_view_name": "StyleView",
      "description_width": ""
     }
    },
    "feb4f8904b304e4fa729368a125cb9fb": {
     "model_module": "@jupyter-widgets/controls",
     "model_module_version": "1.5.0",
     "model_name": "FloatProgressModel",
     "state": {
      "_dom_classes": [],
      "_model_module": "@jupyter-widgets/controls",
      "_model_module_version": "1.5.0",
      "_model_name": "FloatProgressModel",
      "_view_count": null,
      "_view_module": "@jupyter-widgets/controls",
      "_view_module_version": "1.5.0",
      "_view_name": "ProgressView",
      "bar_style": "success",
      "description": "",
      "description_tooltip": null,
      "layout": "IPY_MODEL_be3564cf8fbd4fdc812fc30748ac0ef3",
      "max": 240,
      "min": 0,
      "orientation": "horizontal",
      "style": "IPY_MODEL_8882b8a8aada43d1be7171f230a24e15",
      "value": 240
     }
    }
   }
  }
 },
 "nbformat": 4,
 "nbformat_minor": 4
}
