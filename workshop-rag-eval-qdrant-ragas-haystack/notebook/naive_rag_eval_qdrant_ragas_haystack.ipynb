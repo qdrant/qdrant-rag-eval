{
 "cells": [
  {
   "cell_type": "markdown",
   "metadata": {
    "id": "io4-9iTZrfgp"
   },
   "source": [
    "# **Evaluating a RAG Application using Qdrant and RAGAS**\n",
    "\n",
    "**Introduction**\n",
    "\n",
    "Creating a foundation for a Retrieval-Augmented Generation (RAG) pipeline is often straightforward. However, optimizing and tweaking it for production and ensuring top-notch response quality presents formidable hurdles. Given the multitude of tools and parameters available, identifying the ideal configuration can feel overwhelming.\n",
    "\n",
    "In this notebook, we delve into the evaluation, visualization, and analysis of RAG systems using a blend of open-source libraries. Our toolkit includes embedding model from [MixedBread.ai](https://www.mixedbread.ai/docs/embeddings/mxbai-embed-large-v1#model-description) ,  [RAGAS-Haystack](https://docs.haystack.deepset.ai/docs/ragasevaluator) for evaluation and [Qdrant](https://qdrant.tech/) for context augmentation, serving as a vector database to construct the RAG pipeline.\n",
    "\n",
    "Throughout this article, we'll leverage data sourced from [Qdrant](https://qdrant.tech/)'s documentation and articles to create an assistant capable of answering queries about Qdrant. Additionally, we'll explore methods for generating synthetic test data, including those provided by RAGAS.\n",
    "\n",
    "❗This notebook requires **OpenAI Key**"
   ]
  },
  {
   "cell_type": "code",
   "execution_count": 1,
   "metadata": {},
   "outputs": [],
   "source": [
    "#!pip install ipywidgets"
   ]
  },
  {
   "cell_type": "markdown",
   "metadata": {
    "id": "tbY_IXyvvSoz"
   },
   "source": [
    "### **1. Import relevant packages**"
   ]
  },
  {
   "cell_type": "code",
   "execution_count": 1,
   "metadata": {
    "colab": {
     "base_uri": "https://localhost:8080/"
    },
    "id": "_A1rBXAowQ22",
    "outputId": "63bf4e83-7c8d-4f05-9b86-21c370386635"
   },
   "outputs": [],
   "source": [
    "import os\n",
    "import json\n",
    "import openai\n",
    "import pandas as pd\n",
    "import qdrant_client\n",
    "from getpass import getpass\n",
    "from tqdm.notebook import tqdm\n",
    "from datasets import load_dataset\n",
    "from typing import Optional, List, Tuple\n",
    "from qdrant_client import QdrantClient, models\n",
    "from qdrant_client.http.models import PointStruct\n",
    "from langchain_core.language_models import BaseChatModel"
   ]
  },
  {
   "cell_type": "code",
   "execution_count": 2,
   "metadata": {
    "id": "t7-Yc2IWdQvq"
   },
   "outputs": [],
   "source": [
    "from dotenv import load_dotenv\n",
    "from haystack import Pipeline\n",
    "from haystack_integrations.components.evaluators.ragas import RagasEvaluator, RagasMetric"
   ]
  },
  {
   "cell_type": "code",
   "execution_count": 3,
   "metadata": {},
   "outputs": [
    {
     "data": {
      "text/plain": [
       "True"
      ]
     },
     "execution_count": 3,
     "metadata": {},
     "output_type": "execute_result"
    }
   ],
   "source": [
    "## Load environment variables\n",
    "load_dotenv()"
   ]
  },
  {
   "cell_type": "markdown",
   "metadata": {
    "id": "QSUcsgP-xLQr"
   },
   "source": [
    "### **2. Setup your openai key**"
   ]
  },
  {
   "cell_type": "code",
   "execution_count": 4,
   "metadata": {
    "id": "q1uaUw9VxKSa"
   },
   "outputs": [],
   "source": [
    "if not (openai_api_key := os.environ.get(\"OPENAI_API_KEY\")):\n",
    "    openai_api_key = getpass(\"🔑 Enter your OpenAI API key: \")\n",
    "openai.api_key = openai_api_key\n",
    "os.environ[\"OPENAI_API_KEY\"] = openai_api_key"
   ]
  },
  {
   "cell_type": "markdown",
   "metadata": {
    "id": "vbjLlIPYxYgU"
   },
   "source": [
    "### **3.  Retrieve the documents / dataset to be used**"
   ]
  },
  {
   "cell_type": "code",
   "execution_count": 5,
   "metadata": {
    "colab": {
     "base_uri": "https://localhost:8080/"
    },
    "id": "hZl3eaEC1O1m",
    "outputId": "62cde42d-70cc-4452-f401-493488787f70"
   },
   "outputs": [],
   "source": [
    "# HF Dataset with data from Qdrant's documentation\n",
    "dataset = load_dataset(\"atitaarora/qdrant_doc\", split=\"train\")\n"
   ]
  },
  {
   "cell_type": "code",
   "execution_count": 6,
   "metadata": {},
   "outputs": [
    {
     "data": {
      "text/plain": [
       "240"
      ]
     },
     "execution_count": 6,
     "metadata": {},
     "output_type": "execute_result"
    }
   ],
   "source": [
    "#Total num docs in dataset\n",
    "dataset.info.splits.total_num_examples"
   ]
  },
  {
   "cell_type": "markdown",
   "metadata": {
    "id": "vlbBeHMD41I7"
   },
   "source": [
    "### **4. Process dataset as Haystack document for further processing**"
   ]
  },
  {
   "cell_type": "code",
   "execution_count": 7,
   "metadata": {
    "colab": {
     "base_uri": "https://localhost:8080/",
     "height": 66,
     "referenced_widgets": [
      "f6deefc2d4ca47c0a6181dfc267c92f7",
      "1f1498e72c5f4e538ef43266775fdb0f",
      "feb4f8904b304e4fa729368a125cb9fb",
      "11074ed977964e83b6f2c208313d192d",
      "ea3efae027354224948451791afd1f99",
      "143ec26042a54df7a72a29663e454c42",
      "d75958797e3044c08285e629f8b911d3",
      "be3564cf8fbd4fdc812fc30748ac0ef3",
      "8882b8a8aada43d1be7171f230a24e15",
      "bcc4904d2a0945f1b8a7b82f74f0e745",
      "fb0dd385be3e44ba8c13edd5e730756a"
     ]
    },
    "id": "TXpn1xZF4_y6",
    "outputId": "7ae45a5f-ff05-4d53-9d67-511d1777a473"
   },
   "outputs": [
    {
     "data": {
      "application/vnd.jupyter.widget-view+json": {
       "model_id": "5285c7a5b0b449fc8caeb7e553f8c69c",
       "version_major": 2,
       "version_minor": 0
      },
      "text/plain": [
       "  0%|          | 0/240 [00:00<?, ?it/s]"
      ]
     },
     "metadata": {},
     "output_type": "display_data"
    },
    {
     "data": {
      "text/plain": [
       "240"
      ]
     },
     "execution_count": 7,
     "metadata": {},
     "output_type": "execute_result"
    }
   ],
   "source": [
    "from haystack.dataclasses import Document as HaystackDocument\n",
    "\n",
    "## Dataset to haystack document\n",
    "haystack_docs = [\n",
    "    HaystackDocument(content=doc[\"text\"], meta={\"source\": doc[\"source\"]})\n",
    "    for doc in tqdm(dataset)\n",
    "]\n",
    "\n",
    "len(haystack_docs)"
   ]
  },
  {
   "cell_type": "markdown",
   "metadata": {
    "id": "6UJcYaJRDzxQ"
   },
   "source": [
    "### **5. (Optional) Baseline Test Evaluation Dataset Generation using Ragas**\n",
    "\n",
    "We can use the testdataset generator from RAGAS or use synthetic evaluation dataset generation through T5 or OpenAI as part of other notebooks."
   ]
  },
  {
   "cell_type": "code",
   "execution_count": null,
   "metadata": {
    "id": "uYCosYpbD7sc"
   },
   "outputs": [],
   "source": [
    "from langchain.document_loaders import DirectoryLoader\n",
    "from ragas.testset.generator import TestsetGenerator\n",
    "from ragas.testset.evolutions import simple, reasoning, multi_context\n",
    "\n",
    "generator = TestsetGenerator.with_openai()\n",
    "testset = generator.generate_with_langchain_docs(langchain_docs[:10], test_size=10,\n",
    "                                                 raise_exceptions=False, with_debugging_logs=False,\n",
    "                                                 distributions={simple: 0.5, reasoning: 0.25, multi_context: 0.25})"
   ]
  },
  {
   "cell_type": "markdown",
   "metadata": {
    "id": "MA0zLkDbGzgV"
   },
   "source": [
    "### **5a. Evaluation dataset to Pandas for better visualization**"
   ]
  },
  {
   "cell_type": "code",
   "execution_count": null,
   "metadata": {
    "colab": {
     "base_uri": "https://localhost:8080/",
     "height": 537
    },
    "id": "YUe7Z6haGwJu",
    "outputId": "7dbbdf99-3891-4e55-999c-3270fb2757e0"
   },
   "outputs": [
    {
     "data": {
      "application/vnd.google.colaboratory.intrinsic+json": {
       "summary": "{\n  \"name\": \"df\",\n  \"rows\": 10,\n  \"fields\": [\n    {\n      \"column\": \"question\",\n      \"properties\": {\n        \"dtype\": \"string\",\n        \"num_unique_values\": 9,\n        \"samples\": [\n          \"What does the SentenceTransformer model do in the startup search demo and how does it contribute to semantic search?\",\n          \"What is the purpose of the Qdrant vector search engine?\",\n          \"What model is used in the startup search demo for converting startup descriptions into vectors for semantic search?\"\n        ],\n        \"semantic_type\": \"\",\n        \"description\": \"\"\n      }\n    },\n    {\n      \"column\": \"contexts\",\n      \"properties\": {\n        \"dtype\": \"object\",\n        \"semantic_type\": \"\",\n        \"description\": \"\"\n      }\n    },\n    {\n      \"column\": \"ground_truth\",\n      \"properties\": {\n        \"dtype\": \"string\",\n        \"num_unique_values\": 9,\n        \"samples\": [\n          \"The SentenceTransformer model in the startup search demo converts short descriptions of startups into vectors, which are then uploaded to the Qdrant vector search engine. This model plays a crucial role in performing semantic search by processing text input and using its output to query Qdrant for similar vectors.\",\n          \"This demo uses short descriptions of startups to perform a semantic search. Each startup description is converted into a vector using a pre-trained SentenceTransformer model and uploaded to the Qdrant vector search engine. The demo service processes text input with the same model and uses its output to query Qdrant for similar vectors. The purpose of the Qdrant vector search engine is to enable semantic search based on startup descriptions.\",\n          \"A pre-trained SentenceTransformer model is used in the startup search demo for converting startup descriptions into vectors for semantic search.\"\n        ],\n        \"semantic_type\": \"\",\n        \"description\": \"\"\n      }\n    },\n    {\n      \"column\": \"evolution_type\",\n      \"properties\": {\n        \"dtype\": \"category\",\n        \"num_unique_values\": 3,\n        \"samples\": [\n          \"simple\",\n          \"reasoning\",\n          \"multi_context\"\n        ],\n        \"semantic_type\": \"\",\n        \"description\": \"\"\n      }\n    },\n    {\n      \"column\": \"metadata\",\n      \"properties\": {\n        \"dtype\": \"object\",\n        \"semantic_type\": \"\",\n        \"description\": \"\"\n      }\n    },\n    {\n      \"column\": \"episode_done\",\n      \"properties\": {\n        \"dtype\": \"boolean\",\n        \"num_unique_values\": 1,\n        \"samples\": [\n          true\n        ],\n        \"semantic_type\": \"\",\n        \"description\": \"\"\n      }\n    }\n  ]\n}",
       "type": "dataframe",
       "variable_name": "df"
      },
      "text/html": [
       "\n",
       "  <div id=\"df-c2333132-7171-4ae3-9a30-ba4b0d0d4851\" class=\"colab-df-container\">\n",
       "    <div>\n",
       "<style scoped>\n",
       "    .dataframe tbody tr th:only-of-type {\n",
       "        vertical-align: middle;\n",
       "    }\n",
       "\n",
       "    .dataframe tbody tr th {\n",
       "        vertical-align: top;\n",
       "    }\n",
       "\n",
       "    .dataframe thead th {\n",
       "        text-align: right;\n",
       "    }\n",
       "</style>\n",
       "<table border=\"1\" class=\"dataframe\">\n",
       "  <thead>\n",
       "    <tr style=\"text-align: right;\">\n",
       "      <th></th>\n",
       "      <th>question</th>\n",
       "      <th>contexts</th>\n",
       "      <th>ground_truth</th>\n",
       "      <th>evolution_type</th>\n",
       "      <th>metadata</th>\n",
       "      <th>episode_done</th>\n",
       "    </tr>\n",
       "  </thead>\n",
       "  <tbody>\n",
       "    <tr>\n",
       "      <th>0</th>\n",
       "      <td>What is the process of downloading and running...</td>\n",
       "      <td>[---\\n\\ntitle: Quickstart\\n\\nweight: 11\\n\\nali...</td>\n",
       "      <td>First, download the latest Qdrant image from D...</td>\n",
       "      <td>simple</td>\n",
       "      <td>[{'source': 'documentation/quick-start.md'}]</td>\n",
       "      <td>True</td>\n",
       "    </tr>\n",
       "    <tr>\n",
       "      <th>1</th>\n",
       "      <td>What is the purpose of the Qdrant vector searc...</td>\n",
       "      <td>[---\\n\\ndraft: false\\n\\ntitle: Startup Search\\...</td>\n",
       "      <td>This demo uses short descriptions of startups ...</td>\n",
       "      <td>simple</td>\n",
       "      <td>[{'source': 'demo/demo-1.md'}]</td>\n",
       "      <td>True</td>\n",
       "    </tr>\n",
       "    <tr>\n",
       "      <th>2</th>\n",
       "      <td>How do you load data into a Qdrant collection?</td>\n",
       "      <td>[---\\n\\ntitle: Quickstart\\n\\nweight: 11\\n\\nali...</td>\n",
       "      <td>nan</td>\n",
       "      <td>simple</td>\n",
       "      <td>[{'source': 'documentation/quick-start.md'}]</td>\n",
       "      <td>True</td>\n",
       "    </tr>\n",
       "    <tr>\n",
       "      <th>3</th>\n",
       "      <td>What is the purpose of the Startup Search demo?</td>\n",
       "      <td>[---\\n\\ndraft: false\\n\\ntitle: Startup Search\\...</td>\n",
       "      <td>This demo uses short descriptions of startups ...</td>\n",
       "      <td>simple</td>\n",
       "      <td>[{'source': 'demo/demo-1.md'}]</td>\n",
       "      <td>True</td>\n",
       "    </tr>\n",
       "    <tr>\n",
       "      <th>4</th>\n",
       "      <td>What are the next steps after conducting a vec...</td>\n",
       "      <td>[ string_value: \"London\"\\n\\n  }\\n\\n}\\n\\nscore:...</td>\n",
       "      <td>Now that you know how Qdrant works, the next s...</td>\n",
       "      <td>simple</td>\n",
       "      <td>[{'source': 'documentation/quick-start.md'}]</td>\n",
       "      <td>True</td>\n",
       "    </tr>\n",
       "    <tr>\n",
       "      <th>5</th>\n",
       "      <td>What model is used in the startup search demo ...</td>\n",
       "      <td>[---\\n\\ndraft: false\\n\\ntitle: Startup Search\\...</td>\n",
       "      <td>A pre-trained SentenceTransformer model is use...</td>\n",
       "      <td>reasoning</td>\n",
       "      <td>[{'source': 'demo/demo-1.md'}]</td>\n",
       "      <td>True</td>\n",
       "    </tr>\n",
       "    <tr>\n",
       "      <th>6</th>\n",
       "      <td>What's the name of the collection created with...</td>\n",
       "      <td>[---\\n\\ntitle: Quickstart\\n\\nweight: 11\\n\\nali...</td>\n",
       "      <td>test_collection</td>\n",
       "      <td>reasoning</td>\n",
       "      <td>[{'source': 'documentation/quick-start.md'}]</td>\n",
       "      <td>True</td>\n",
       "    </tr>\n",
       "    <tr>\n",
       "      <th>7</th>\n",
       "      <td>What does the SentenceTransformer model do in ...</td>\n",
       "      <td>[---\\n\\ndraft: false\\n\\ntitle: Startup Search\\...</td>\n",
       "      <td>The SentenceTransformer model in the startup s...</td>\n",
       "      <td>multi_context</td>\n",
       "      <td>[{'source': 'demo/demo-1.md'}, {'source': 'dem...</td>\n",
       "      <td>True</td>\n",
       "    </tr>\n",
       "    <tr>\n",
       "      <th>8</th>\n",
       "      <td>What is the purpose of using short description...</td>\n",
       "      <td>[---\\n\\ndraft: false\\n\\ntitle: Startup Search\\...</td>\n",
       "      <td>The purpose of using short descriptions of sta...</td>\n",
       "      <td>multi_context</td>\n",
       "      <td>[{'source': 'demo/demo-1.md'}]</td>\n",
       "      <td>True</td>\n",
       "    </tr>\n",
       "    <tr>\n",
       "      <th>9</th>\n",
       "      <td>What is the purpose of the Qdrant vector searc...</td>\n",
       "      <td>[---\\n\\ndraft: false\\n\\ntitle: Startup Search\\...</td>\n",
       "      <td>This demo uses short descriptions of startups ...</td>\n",
       "      <td>simple</td>\n",
       "      <td>[{'source': 'demo/demo-1.md'}]</td>\n",
       "      <td>True</td>\n",
       "    </tr>\n",
       "  </tbody>\n",
       "</table>\n",
       "</div>\n",
       "    <div class=\"colab-df-buttons\">\n",
       "\n",
       "  <div class=\"colab-df-container\">\n",
       "    <button class=\"colab-df-convert\" onclick=\"convertToInteractive('df-c2333132-7171-4ae3-9a30-ba4b0d0d4851')\"\n",
       "            title=\"Convert this dataframe to an interactive table.\"\n",
       "            style=\"display:none;\">\n",
       "\n",
       "  <svg xmlns=\"http://www.w3.org/2000/svg\" height=\"24px\" viewBox=\"0 -960 960 960\">\n",
       "    <path d=\"M120-120v-720h720v720H120Zm60-500h600v-160H180v160Zm220 220h160v-160H400v160Zm0 220h160v-160H400v160ZM180-400h160v-160H180v160Zm440 0h160v-160H620v160ZM180-180h160v-160H180v160Zm440 0h160v-160H620v160Z\"/>\n",
       "  </svg>\n",
       "    </button>\n",
       "\n",
       "  <style>\n",
       "    .colab-df-container {\n",
       "      display:flex;\n",
       "      gap: 12px;\n",
       "    }\n",
       "\n",
       "    .colab-df-convert {\n",
       "      background-color: #E8F0FE;\n",
       "      border: none;\n",
       "      border-radius: 50%;\n",
       "      cursor: pointer;\n",
       "      display: none;\n",
       "      fill: #1967D2;\n",
       "      height: 32px;\n",
       "      padding: 0 0 0 0;\n",
       "      width: 32px;\n",
       "    }\n",
       "\n",
       "    .colab-df-convert:hover {\n",
       "      background-color: #E2EBFA;\n",
       "      box-shadow: 0px 1px 2px rgba(60, 64, 67, 0.3), 0px 1px 3px 1px rgba(60, 64, 67, 0.15);\n",
       "      fill: #174EA6;\n",
       "    }\n",
       "\n",
       "    .colab-df-buttons div {\n",
       "      margin-bottom: 4px;\n",
       "    }\n",
       "\n",
       "    [theme=dark] .colab-df-convert {\n",
       "      background-color: #3B4455;\n",
       "      fill: #D2E3FC;\n",
       "    }\n",
       "\n",
       "    [theme=dark] .colab-df-convert:hover {\n",
       "      background-color: #434B5C;\n",
       "      box-shadow: 0px 1px 3px 1px rgba(0, 0, 0, 0.15);\n",
       "      filter: drop-shadow(0px 1px 2px rgba(0, 0, 0, 0.3));\n",
       "      fill: #FFFFFF;\n",
       "    }\n",
       "  </style>\n",
       "\n",
       "    <script>\n",
       "      const buttonEl =\n",
       "        document.querySelector('#df-c2333132-7171-4ae3-9a30-ba4b0d0d4851 button.colab-df-convert');\n",
       "      buttonEl.style.display =\n",
       "        google.colab.kernel.accessAllowed ? 'block' : 'none';\n",
       "\n",
       "      async function convertToInteractive(key) {\n",
       "        const element = document.querySelector('#df-c2333132-7171-4ae3-9a30-ba4b0d0d4851');\n",
       "        const dataTable =\n",
       "          await google.colab.kernel.invokeFunction('convertToInteractive',\n",
       "                                                    [key], {});\n",
       "        if (!dataTable) return;\n",
       "\n",
       "        const docLinkHtml = 'Like what you see? Visit the ' +\n",
       "          '<a target=\"_blank\" href=https://colab.research.google.com/notebooks/data_table.ipynb>data table notebook</a>'\n",
       "          + ' to learn more about interactive tables.';\n",
       "        element.innerHTML = '';\n",
       "        dataTable['output_type'] = 'display_data';\n",
       "        await google.colab.output.renderOutput(dataTable, element);\n",
       "        const docLink = document.createElement('div');\n",
       "        docLink.innerHTML = docLinkHtml;\n",
       "        element.appendChild(docLink);\n",
       "      }\n",
       "    </script>\n",
       "  </div>\n",
       "\n",
       "\n",
       "<div id=\"df-9d5ce024-e4f9-489b-b99a-5c79673f24fb\">\n",
       "  <button class=\"colab-df-quickchart\" onclick=\"quickchart('df-9d5ce024-e4f9-489b-b99a-5c79673f24fb')\"\n",
       "            title=\"Suggest charts\"\n",
       "            style=\"display:none;\">\n",
       "\n",
       "<svg xmlns=\"http://www.w3.org/2000/svg\" height=\"24px\"viewBox=\"0 0 24 24\"\n",
       "     width=\"24px\">\n",
       "    <g>\n",
       "        <path d=\"M19 3H5c-1.1 0-2 .9-2 2v14c0 1.1.9 2 2 2h14c1.1 0 2-.9 2-2V5c0-1.1-.9-2-2-2zM9 17H7v-7h2v7zm4 0h-2V7h2v10zm4 0h-2v-4h2v4z\"/>\n",
       "    </g>\n",
       "</svg>\n",
       "  </button>\n",
       "\n",
       "<style>\n",
       "  .colab-df-quickchart {\n",
       "      --bg-color: #E8F0FE;\n",
       "      --fill-color: #1967D2;\n",
       "      --hover-bg-color: #E2EBFA;\n",
       "      --hover-fill-color: #174EA6;\n",
       "      --disabled-fill-color: #AAA;\n",
       "      --disabled-bg-color: #DDD;\n",
       "  }\n",
       "\n",
       "  [theme=dark] .colab-df-quickchart {\n",
       "      --bg-color: #3B4455;\n",
       "      --fill-color: #D2E3FC;\n",
       "      --hover-bg-color: #434B5C;\n",
       "      --hover-fill-color: #FFFFFF;\n",
       "      --disabled-bg-color: #3B4455;\n",
       "      --disabled-fill-color: #666;\n",
       "  }\n",
       "\n",
       "  .colab-df-quickchart {\n",
       "    background-color: var(--bg-color);\n",
       "    border: none;\n",
       "    border-radius: 50%;\n",
       "    cursor: pointer;\n",
       "    display: none;\n",
       "    fill: var(--fill-color);\n",
       "    height: 32px;\n",
       "    padding: 0;\n",
       "    width: 32px;\n",
       "  }\n",
       "\n",
       "  .colab-df-quickchart:hover {\n",
       "    background-color: var(--hover-bg-color);\n",
       "    box-shadow: 0 1px 2px rgba(60, 64, 67, 0.3), 0 1px 3px 1px rgba(60, 64, 67, 0.15);\n",
       "    fill: var(--button-hover-fill-color);\n",
       "  }\n",
       "\n",
       "  .colab-df-quickchart-complete:disabled,\n",
       "  .colab-df-quickchart-complete:disabled:hover {\n",
       "    background-color: var(--disabled-bg-color);\n",
       "    fill: var(--disabled-fill-color);\n",
       "    box-shadow: none;\n",
       "  }\n",
       "\n",
       "  .colab-df-spinner {\n",
       "    border: 2px solid var(--fill-color);\n",
       "    border-color: transparent;\n",
       "    border-bottom-color: var(--fill-color);\n",
       "    animation:\n",
       "      spin 1s steps(1) infinite;\n",
       "  }\n",
       "\n",
       "  @keyframes spin {\n",
       "    0% {\n",
       "      border-color: transparent;\n",
       "      border-bottom-color: var(--fill-color);\n",
       "      border-left-color: var(--fill-color);\n",
       "    }\n",
       "    20% {\n",
       "      border-color: transparent;\n",
       "      border-left-color: var(--fill-color);\n",
       "      border-top-color: var(--fill-color);\n",
       "    }\n",
       "    30% {\n",
       "      border-color: transparent;\n",
       "      border-left-color: var(--fill-color);\n",
       "      border-top-color: var(--fill-color);\n",
       "      border-right-color: var(--fill-color);\n",
       "    }\n",
       "    40% {\n",
       "      border-color: transparent;\n",
       "      border-right-color: var(--fill-color);\n",
       "      border-top-color: var(--fill-color);\n",
       "    }\n",
       "    60% {\n",
       "      border-color: transparent;\n",
       "      border-right-color: var(--fill-color);\n",
       "    }\n",
       "    80% {\n",
       "      border-color: transparent;\n",
       "      border-right-color: var(--fill-color);\n",
       "      border-bottom-color: var(--fill-color);\n",
       "    }\n",
       "    90% {\n",
       "      border-color: transparent;\n",
       "      border-bottom-color: var(--fill-color);\n",
       "    }\n",
       "  }\n",
       "</style>\n",
       "\n",
       "  <script>\n",
       "    async function quickchart(key) {\n",
       "      const quickchartButtonEl =\n",
       "        document.querySelector('#' + key + ' button');\n",
       "      quickchartButtonEl.disabled = true;  // To prevent multiple clicks.\n",
       "      quickchartButtonEl.classList.add('colab-df-spinner');\n",
       "      try {\n",
       "        const charts = await google.colab.kernel.invokeFunction(\n",
       "            'suggestCharts', [key], {});\n",
       "      } catch (error) {\n",
       "        console.error('Error during call to suggestCharts:', error);\n",
       "      }\n",
       "      quickchartButtonEl.classList.remove('colab-df-spinner');\n",
       "      quickchartButtonEl.classList.add('colab-df-quickchart-complete');\n",
       "    }\n",
       "    (() => {\n",
       "      let quickchartButtonEl =\n",
       "        document.querySelector('#df-9d5ce024-e4f9-489b-b99a-5c79673f24fb button');\n",
       "      quickchartButtonEl.style.display =\n",
       "        google.colab.kernel.accessAllowed ? 'block' : 'none';\n",
       "    })();\n",
       "  </script>\n",
       "</div>\n",
       "    </div>\n",
       "  </div>\n"
      ],
      "text/plain": [
       "                                            question  \\\n",
       "0  What is the process of downloading and running...   \n",
       "1  What is the purpose of the Qdrant vector searc...   \n",
       "2     How do you load data into a Qdrant collection?   \n",
       "3    What is the purpose of the Startup Search demo?   \n",
       "4  What are the next steps after conducting a vec...   \n",
       "5  What model is used in the startup search demo ...   \n",
       "6  What's the name of the collection created with...   \n",
       "7  What does the SentenceTransformer model do in ...   \n",
       "8  What is the purpose of using short description...   \n",
       "9  What is the purpose of the Qdrant vector searc...   \n",
       "\n",
       "                                            contexts  \\\n",
       "0  [---\\n\\ntitle: Quickstart\\n\\nweight: 11\\n\\nali...   \n",
       "1  [---\\n\\ndraft: false\\n\\ntitle: Startup Search\\...   \n",
       "2  [---\\n\\ntitle: Quickstart\\n\\nweight: 11\\n\\nali...   \n",
       "3  [---\\n\\ndraft: false\\n\\ntitle: Startup Search\\...   \n",
       "4  [ string_value: \"London\"\\n\\n  }\\n\\n}\\n\\nscore:...   \n",
       "5  [---\\n\\ndraft: false\\n\\ntitle: Startup Search\\...   \n",
       "6  [---\\n\\ntitle: Quickstart\\n\\nweight: 11\\n\\nali...   \n",
       "7  [---\\n\\ndraft: false\\n\\ntitle: Startup Search\\...   \n",
       "8  [---\\n\\ndraft: false\\n\\ntitle: Startup Search\\...   \n",
       "9  [---\\n\\ndraft: false\\n\\ntitle: Startup Search\\...   \n",
       "\n",
       "                                        ground_truth evolution_type  \\\n",
       "0  First, download the latest Qdrant image from D...         simple   \n",
       "1  This demo uses short descriptions of startups ...         simple   \n",
       "2                                                nan         simple   \n",
       "3  This demo uses short descriptions of startups ...         simple   \n",
       "4  Now that you know how Qdrant works, the next s...         simple   \n",
       "5  A pre-trained SentenceTransformer model is use...      reasoning   \n",
       "6                                    test_collection      reasoning   \n",
       "7  The SentenceTransformer model in the startup s...  multi_context   \n",
       "8  The purpose of using short descriptions of sta...  multi_context   \n",
       "9  This demo uses short descriptions of startups ...         simple   \n",
       "\n",
       "                                            metadata  episode_done  \n",
       "0       [{'source': 'documentation/quick-start.md'}]          True  \n",
       "1                     [{'source': 'demo/demo-1.md'}]          True  \n",
       "2       [{'source': 'documentation/quick-start.md'}]          True  \n",
       "3                     [{'source': 'demo/demo-1.md'}]          True  \n",
       "4       [{'source': 'documentation/quick-start.md'}]          True  \n",
       "5                     [{'source': 'demo/demo-1.md'}]          True  \n",
       "6       [{'source': 'documentation/quick-start.md'}]          True  \n",
       "7  [{'source': 'demo/demo-1.md'}, {'source': 'dem...          True  \n",
       "8                     [{'source': 'demo/demo-1.md'}]          True  \n",
       "9                     [{'source': 'demo/demo-1.md'}]          True  "
      ]
     },
     "execution_count": 7,
     "metadata": {},
     "output_type": "execute_result"
    }
   ],
   "source": [
    "df = testset.to_pandas()\n",
    "df.head(10)"
   ]
  },
  {
   "cell_type": "markdown",
   "metadata": {
    "id": "WsLXXncpHRz9"
   },
   "source": [
    "### **5b. Export the evaluation dataset to csv (if needed)**"
   ]
  },
  {
   "cell_type": "code",
   "execution_count": null,
   "metadata": {
    "id": "p9xfsy1BHZv-"
   },
   "outputs": [],
   "source": [
    "from pathlib import Path\n",
    "filepath = Path('sample_question_ragas_101.csv')\n",
    "filepath.parent.mkdir(parents=True, exist_ok=True)\n",
    "df.to_csv(filepath)"
   ]
  },
  {
   "cell_type": "markdown",
   "metadata": {
    "id": "WDXhb870F_Du"
   },
   "source": [
    "### **6. Document chunk processing**\n",
    "\n",
    "Processing each document with desired **TEXT_SPLITTER_ALGO , CHUNK_SIZE , CHUNK_OVERLAP** etc"
   ]
  },
  {
   "cell_type": "code",
   "execution_count": 8,
   "metadata": {
    "id": "OLWqwoszGI3z"
   },
   "outputs": [],
   "source": [
    "from haystack.components.preprocessors import DocumentSplitter, DocumentCleaner\n",
    "\n",
    "cleaner = DocumentCleaner()\n",
    "\n",
    "text_splitter = DocumentSplitter(\n",
    "    #split_by can be \"word\", \"sentence\", or \"passage\" (paragraph).\n",
    "    split_by=\"word\",\n",
    "    #split_length is an integer indicating the chunk size, which is the number of words, sentences, or passages.\n",
    "    split_length=512,\n",
    "    #split_overlap is an integer indicating the number of overlapping words, sentences, or passages between chunks.\n",
    "    split_overlap=50,\n",
    ")\n",
    "\n",
    "docs_cleaner = cleaner.run(haystack_docs)\n",
    "docs_processed = text_splitter.run(documents=docs_cleaner[\"documents\"])"
   ]
  },
  {
   "cell_type": "code",
   "execution_count": 9,
   "metadata": {
    "colab": {
     "base_uri": "https://localhost:8080/"
    },
    "id": "s-U4raQJeNbD",
    "outputId": "351c28f0-abe6-443f-c008-9518c1534d8c"
   },
   "outputs": [
    {
     "data": {
      "text/plain": [
       "614"
      ]
     },
     "execution_count": 9,
     "metadata": {},
     "output_type": "execute_result"
    }
   ],
   "source": [
    "len(docs_processed[\"documents\"])"
   ]
  },
  {
   "cell_type": "code",
   "execution_count": 10,
   "metadata": {},
   "outputs": [
    {
     "data": {
      "text/plain": [
       "Document(id=0db7fc83b73fc10fb76e4326fb20378f0a16bd73503cc4622b9e9c32f8174d6c, content: '--- draft: false title: E-commerce products categorization short_description: E-commerce products ca...', meta: {'source': 'demo/demo-3.md', 'source_id': 'd3ec1e834dafa67d09cd9b291bc29299db2e12b3d23690f1c5f06e3cf47f9531', 'page_number': 1})"
      ]
     },
     "execution_count": 10,
     "metadata": {},
     "output_type": "execute_result"
    }
   ],
   "source": [
    "docs_processed[\"documents\"][1]"
   ]
  },
  {
   "cell_type": "markdown",
   "metadata": {
    "id": "zZMhjl1NJz_X"
   },
   "source": [
    "### **7. Processing chunks into text to be processed by [FASTEMBED](https://qdrant.github.io/fastembed/)**\n",
    "\n",
    "To help us provide seamless embedding creations throughout the workshop.\n",
    "To look at the models supported : "
   ]
  },
  {
   "cell_type": "code",
   "execution_count": 11,
   "metadata": {
    "colab": {
     "base_uri": "https://localhost:8080/",
     "height": 551
    },
    "id": "u3ZeplTaLUhD",
    "outputId": "c56f3ecb-2546-4c62-c935-d23829ee80b0"
   },
   "outputs": [
    {
     "data": {
      "text/html": [
       "<div>\n",
       "<style scoped>\n",
       "    .dataframe tbody tr th:only-of-type {\n",
       "        vertical-align: middle;\n",
       "    }\n",
       "\n",
       "    .dataframe tbody tr th {\n",
       "        vertical-align: top;\n",
       "    }\n",
       "\n",
       "    .dataframe thead th {\n",
       "        text-align: right;\n",
       "    }\n",
       "</style>\n",
       "<table border=\"1\" class=\"dataframe\">\n",
       "  <thead>\n",
       "    <tr style=\"text-align: right;\">\n",
       "      <th></th>\n",
       "      <th>model</th>\n",
       "      <th>dim</th>\n",
       "      <th>description</th>\n",
       "      <th>size_in_GB</th>\n",
       "      <th>sources</th>\n",
       "      <th>model_file</th>\n",
       "      <th>additional_files</th>\n",
       "    </tr>\n",
       "  </thead>\n",
       "  <tbody>\n",
       "    <tr>\n",
       "      <th>0</th>\n",
       "      <td>BAAI/bge-base-en</td>\n",
       "      <td>768</td>\n",
       "      <td>Base English model</td>\n",
       "      <td>0.420</td>\n",
       "      <td>{'url': 'https://storage.googleapis.com/qdrant...</td>\n",
       "      <td>model_optimized.onnx</td>\n",
       "      <td>NaN</td>\n",
       "    </tr>\n",
       "    <tr>\n",
       "      <th>1</th>\n",
       "      <td>BAAI/bge-base-en-v1.5</td>\n",
       "      <td>768</td>\n",
       "      <td>Base English model, v1.5</td>\n",
       "      <td>0.210</td>\n",
       "      <td>{'url': 'https://storage.googleapis.com/qdrant...</td>\n",
       "      <td>model_optimized.onnx</td>\n",
       "      <td>NaN</td>\n",
       "    </tr>\n",
       "    <tr>\n",
       "      <th>2</th>\n",
       "      <td>BAAI/bge-large-en-v1.5</td>\n",
       "      <td>1024</td>\n",
       "      <td>Large English model, v1.5</td>\n",
       "      <td>1.200</td>\n",
       "      <td>{'hf': 'qdrant/bge-large-en-v1.5-onnx'}</td>\n",
       "      <td>model.onnx</td>\n",
       "      <td>NaN</td>\n",
       "    </tr>\n",
       "    <tr>\n",
       "      <th>3</th>\n",
       "      <td>BAAI/bge-small-en</td>\n",
       "      <td>384</td>\n",
       "      <td>Fast English model</td>\n",
       "      <td>0.130</td>\n",
       "      <td>{'url': 'https://storage.googleapis.com/qdrant...</td>\n",
       "      <td>model_optimized.onnx</td>\n",
       "      <td>NaN</td>\n",
       "    </tr>\n",
       "    <tr>\n",
       "      <th>4</th>\n",
       "      <td>BAAI/bge-small-en-v1.5</td>\n",
       "      <td>384</td>\n",
       "      <td>Fast and Default English model</td>\n",
       "      <td>0.067</td>\n",
       "      <td>{'hf': 'qdrant/bge-small-en-v1.5-onnx-q'}</td>\n",
       "      <td>model_optimized.onnx</td>\n",
       "      <td>NaN</td>\n",
       "    </tr>\n",
       "    <tr>\n",
       "      <th>5</th>\n",
       "      <td>BAAI/bge-small-zh-v1.5</td>\n",
       "      <td>512</td>\n",
       "      <td>Fast and recommended Chinese model</td>\n",
       "      <td>0.090</td>\n",
       "      <td>{'url': 'https://storage.googleapis.com/qdrant...</td>\n",
       "      <td>model_optimized.onnx</td>\n",
       "      <td>NaN</td>\n",
       "    </tr>\n",
       "    <tr>\n",
       "      <th>6</th>\n",
       "      <td>sentence-transformers/all-MiniLM-L6-v2</td>\n",
       "      <td>384</td>\n",
       "      <td>Sentence Transformer model, MiniLM-L6-v2</td>\n",
       "      <td>0.090</td>\n",
       "      <td>{'url': 'https://storage.googleapis.com/qdrant...</td>\n",
       "      <td>model.onnx</td>\n",
       "      <td>NaN</td>\n",
       "    </tr>\n",
       "    <tr>\n",
       "      <th>7</th>\n",
       "      <td>sentence-transformers/paraphrase-multilingual-...</td>\n",
       "      <td>384</td>\n",
       "      <td>Sentence Transformer model, paraphrase-multili...</td>\n",
       "      <td>0.220</td>\n",
       "      <td>{'hf': 'qdrant/paraphrase-multilingual-MiniLM-...</td>\n",
       "      <td>model_optimized.onnx</td>\n",
       "      <td>NaN</td>\n",
       "    </tr>\n",
       "    <tr>\n",
       "      <th>8</th>\n",
       "      <td>nomic-ai/nomic-embed-text-v1</td>\n",
       "      <td>768</td>\n",
       "      <td>8192 context length english model</td>\n",
       "      <td>0.520</td>\n",
       "      <td>{'hf': 'nomic-ai/nomic-embed-text-v1'}</td>\n",
       "      <td>onnx/model.onnx</td>\n",
       "      <td>NaN</td>\n",
       "    </tr>\n",
       "    <tr>\n",
       "      <th>9</th>\n",
       "      <td>nomic-ai/nomic-embed-text-v1.5</td>\n",
       "      <td>768</td>\n",
       "      <td>8192 context length english model</td>\n",
       "      <td>0.520</td>\n",
       "      <td>{'hf': 'nomic-ai/nomic-embed-text-v1.5'}</td>\n",
       "      <td>onnx/model.onnx</td>\n",
       "      <td>NaN</td>\n",
       "    </tr>\n",
       "    <tr>\n",
       "      <th>10</th>\n",
       "      <td>nomic-ai/nomic-embed-text-v1.5-Q</td>\n",
       "      <td>768</td>\n",
       "      <td>Quantized 8192 context length english model</td>\n",
       "      <td>0.130</td>\n",
       "      <td>{'hf': 'nomic-ai/nomic-embed-text-v1.5'}</td>\n",
       "      <td>onnx/model_quantized.onnx</td>\n",
       "      <td>NaN</td>\n",
       "    </tr>\n",
       "    <tr>\n",
       "      <th>11</th>\n",
       "      <td>thenlper/gte-large</td>\n",
       "      <td>1024</td>\n",
       "      <td>Large general text embeddings model</td>\n",
       "      <td>1.200</td>\n",
       "      <td>{'hf': 'qdrant/gte-large-onnx'}</td>\n",
       "      <td>model.onnx</td>\n",
       "      <td>NaN</td>\n",
       "    </tr>\n",
       "    <tr>\n",
       "      <th>12</th>\n",
       "      <td>mixedbread-ai/mxbai-embed-large-v1</td>\n",
       "      <td>1024</td>\n",
       "      <td>MixedBread Base sentence embedding model, does...</td>\n",
       "      <td>0.640</td>\n",
       "      <td>{'hf': 'mixedbread-ai/mxbai-embed-large-v1'}</td>\n",
       "      <td>onnx/model.onnx</td>\n",
       "      <td>NaN</td>\n",
       "    </tr>\n",
       "    <tr>\n",
       "      <th>13</th>\n",
       "      <td>snowflake/snowflake-arctic-embed-xs</td>\n",
       "      <td>384</td>\n",
       "      <td>Based on all-MiniLM-L6-v2 model with only 22m ...</td>\n",
       "      <td>0.090</td>\n",
       "      <td>{'hf': 'snowflake/snowflake-arctic-embed-xs'}</td>\n",
       "      <td>onnx/model.onnx</td>\n",
       "      <td>NaN</td>\n",
       "    </tr>\n",
       "    <tr>\n",
       "      <th>14</th>\n",
       "      <td>snowflake/snowflake-arctic-embed-s</td>\n",
       "      <td>384</td>\n",
       "      <td>Based on infloat/e5-small-unsupervised, does n...</td>\n",
       "      <td>0.130</td>\n",
       "      <td>{'hf': 'snowflake/snowflake-arctic-embed-s'}</td>\n",
       "      <td>onnx/model.onnx</td>\n",
       "      <td>NaN</td>\n",
       "    </tr>\n",
       "    <tr>\n",
       "      <th>15</th>\n",
       "      <td>snowflake/snowflake-arctic-embed-m</td>\n",
       "      <td>768</td>\n",
       "      <td>Based on intfloat/e5-base-unsupervised model, ...</td>\n",
       "      <td>0.430</td>\n",
       "      <td>{'hf': 'Snowflake/snowflake-arctic-embed-m'}</td>\n",
       "      <td>onnx/model.onnx</td>\n",
       "      <td>NaN</td>\n",
       "    </tr>\n",
       "    <tr>\n",
       "      <th>16</th>\n",
       "      <td>snowflake/snowflake-arctic-embed-m-long</td>\n",
       "      <td>768</td>\n",
       "      <td>Based on nomic-ai/nomic-embed-text-v1-unsuperv...</td>\n",
       "      <td>0.540</td>\n",
       "      <td>{'hf': 'snowflake/snowflake-arctic-embed-m-long'}</td>\n",
       "      <td>onnx/model.onnx</td>\n",
       "      <td>NaN</td>\n",
       "    </tr>\n",
       "    <tr>\n",
       "      <th>17</th>\n",
       "      <td>snowflake/snowflake-arctic-embed-l</td>\n",
       "      <td>1024</td>\n",
       "      <td>Based on intfloat/e5-large-unsupervised, large...</td>\n",
       "      <td>1.020</td>\n",
       "      <td>{'hf': 'snowflake/snowflake-arctic-embed-l'}</td>\n",
       "      <td>onnx/model.onnx</td>\n",
       "      <td>NaN</td>\n",
       "    </tr>\n",
       "    <tr>\n",
       "      <th>18</th>\n",
       "      <td>intfloat/multilingual-e5-large</td>\n",
       "      <td>1024</td>\n",
       "      <td>Multilingual model, e5-large. Recommend using ...</td>\n",
       "      <td>2.240</td>\n",
       "      <td>{'url': 'https://storage.googleapis.com/qdrant...</td>\n",
       "      <td>model.onnx</td>\n",
       "      <td>[model.onnx_data]</td>\n",
       "    </tr>\n",
       "    <tr>\n",
       "      <th>19</th>\n",
       "      <td>sentence-transformers/paraphrase-multilingual-...</td>\n",
       "      <td>768</td>\n",
       "      <td>Sentence-transformers model for tasks like clu...</td>\n",
       "      <td>1.000</td>\n",
       "      <td>{'hf': 'xenova/paraphrase-multilingual-mpnet-b...</td>\n",
       "      <td>onnx/model.onnx</td>\n",
       "      <td>NaN</td>\n",
       "    </tr>\n",
       "    <tr>\n",
       "      <th>20</th>\n",
       "      <td>jinaai/jina-embeddings-v2-base-en</td>\n",
       "      <td>768</td>\n",
       "      <td>English embedding model supporting 8192 sequen...</td>\n",
       "      <td>0.520</td>\n",
       "      <td>{'hf': 'xenova/jina-embeddings-v2-base-en'}</td>\n",
       "      <td>onnx/model.onnx</td>\n",
       "      <td>NaN</td>\n",
       "    </tr>\n",
       "    <tr>\n",
       "      <th>21</th>\n",
       "      <td>jinaai/jina-embeddings-v2-small-en</td>\n",
       "      <td>512</td>\n",
       "      <td>English embedding model supporting 8192 sequen...</td>\n",
       "      <td>0.120</td>\n",
       "      <td>{'hf': 'xenova/jina-embeddings-v2-small-en'}</td>\n",
       "      <td>onnx/model.onnx</td>\n",
       "      <td>NaN</td>\n",
       "    </tr>\n",
       "  </tbody>\n",
       "</table>\n",
       "</div>"
      ],
      "text/plain": [
       "                                                model   dim  \\\n",
       "0                                    BAAI/bge-base-en   768   \n",
       "1                               BAAI/bge-base-en-v1.5   768   \n",
       "2                              BAAI/bge-large-en-v1.5  1024   \n",
       "3                                   BAAI/bge-small-en   384   \n",
       "4                              BAAI/bge-small-en-v1.5   384   \n",
       "5                              BAAI/bge-small-zh-v1.5   512   \n",
       "6              sentence-transformers/all-MiniLM-L6-v2   384   \n",
       "7   sentence-transformers/paraphrase-multilingual-...   384   \n",
       "8                        nomic-ai/nomic-embed-text-v1   768   \n",
       "9                      nomic-ai/nomic-embed-text-v1.5   768   \n",
       "10                   nomic-ai/nomic-embed-text-v1.5-Q   768   \n",
       "11                                 thenlper/gte-large  1024   \n",
       "12                 mixedbread-ai/mxbai-embed-large-v1  1024   \n",
       "13                snowflake/snowflake-arctic-embed-xs   384   \n",
       "14                 snowflake/snowflake-arctic-embed-s   384   \n",
       "15                 snowflake/snowflake-arctic-embed-m   768   \n",
       "16            snowflake/snowflake-arctic-embed-m-long   768   \n",
       "17                 snowflake/snowflake-arctic-embed-l  1024   \n",
       "18                     intfloat/multilingual-e5-large  1024   \n",
       "19  sentence-transformers/paraphrase-multilingual-...   768   \n",
       "20                  jinaai/jina-embeddings-v2-base-en   768   \n",
       "21                 jinaai/jina-embeddings-v2-small-en   512   \n",
       "\n",
       "                                          description  size_in_GB  \\\n",
       "0                                  Base English model       0.420   \n",
       "1                            Base English model, v1.5       0.210   \n",
       "2                           Large English model, v1.5       1.200   \n",
       "3                                  Fast English model       0.130   \n",
       "4                      Fast and Default English model       0.067   \n",
       "5                  Fast and recommended Chinese model       0.090   \n",
       "6            Sentence Transformer model, MiniLM-L6-v2       0.090   \n",
       "7   Sentence Transformer model, paraphrase-multili...       0.220   \n",
       "8                   8192 context length english model       0.520   \n",
       "9                   8192 context length english model       0.520   \n",
       "10        Quantized 8192 context length english model       0.130   \n",
       "11                Large general text embeddings model       1.200   \n",
       "12  MixedBread Base sentence embedding model, does...       0.640   \n",
       "13  Based on all-MiniLM-L6-v2 model with only 22m ...       0.090   \n",
       "14  Based on infloat/e5-small-unsupervised, does n...       0.130   \n",
       "15  Based on intfloat/e5-base-unsupervised model, ...       0.430   \n",
       "16  Based on nomic-ai/nomic-embed-text-v1-unsuperv...       0.540   \n",
       "17  Based on intfloat/e5-large-unsupervised, large...       1.020   \n",
       "18  Multilingual model, e5-large. Recommend using ...       2.240   \n",
       "19  Sentence-transformers model for tasks like clu...       1.000   \n",
       "20  English embedding model supporting 8192 sequen...       0.520   \n",
       "21  English embedding model supporting 8192 sequen...       0.120   \n",
       "\n",
       "                                              sources  \\\n",
       "0   {'url': 'https://storage.googleapis.com/qdrant...   \n",
       "1   {'url': 'https://storage.googleapis.com/qdrant...   \n",
       "2             {'hf': 'qdrant/bge-large-en-v1.5-onnx'}   \n",
       "3   {'url': 'https://storage.googleapis.com/qdrant...   \n",
       "4           {'hf': 'qdrant/bge-small-en-v1.5-onnx-q'}   \n",
       "5   {'url': 'https://storage.googleapis.com/qdrant...   \n",
       "6   {'url': 'https://storage.googleapis.com/qdrant...   \n",
       "7   {'hf': 'qdrant/paraphrase-multilingual-MiniLM-...   \n",
       "8              {'hf': 'nomic-ai/nomic-embed-text-v1'}   \n",
       "9            {'hf': 'nomic-ai/nomic-embed-text-v1.5'}   \n",
       "10           {'hf': 'nomic-ai/nomic-embed-text-v1.5'}   \n",
       "11                    {'hf': 'qdrant/gte-large-onnx'}   \n",
       "12       {'hf': 'mixedbread-ai/mxbai-embed-large-v1'}   \n",
       "13      {'hf': 'snowflake/snowflake-arctic-embed-xs'}   \n",
       "14       {'hf': 'snowflake/snowflake-arctic-embed-s'}   \n",
       "15       {'hf': 'Snowflake/snowflake-arctic-embed-m'}   \n",
       "16  {'hf': 'snowflake/snowflake-arctic-embed-m-long'}   \n",
       "17       {'hf': 'snowflake/snowflake-arctic-embed-l'}   \n",
       "18  {'url': 'https://storage.googleapis.com/qdrant...   \n",
       "19  {'hf': 'xenova/paraphrase-multilingual-mpnet-b...   \n",
       "20        {'hf': 'xenova/jina-embeddings-v2-base-en'}   \n",
       "21       {'hf': 'xenova/jina-embeddings-v2-small-en'}   \n",
       "\n",
       "                   model_file   additional_files  \n",
       "0        model_optimized.onnx                NaN  \n",
       "1        model_optimized.onnx                NaN  \n",
       "2                  model.onnx                NaN  \n",
       "3        model_optimized.onnx                NaN  \n",
       "4        model_optimized.onnx                NaN  \n",
       "5        model_optimized.onnx                NaN  \n",
       "6                  model.onnx                NaN  \n",
       "7        model_optimized.onnx                NaN  \n",
       "8             onnx/model.onnx                NaN  \n",
       "9             onnx/model.onnx                NaN  \n",
       "10  onnx/model_quantized.onnx                NaN  \n",
       "11                 model.onnx                NaN  \n",
       "12            onnx/model.onnx                NaN  \n",
       "13            onnx/model.onnx                NaN  \n",
       "14            onnx/model.onnx                NaN  \n",
       "15            onnx/model.onnx                NaN  \n",
       "16            onnx/model.onnx                NaN  \n",
       "17            onnx/model.onnx                NaN  \n",
       "18                 model.onnx  [model.onnx_data]  \n",
       "19            onnx/model.onnx                NaN  \n",
       "20            onnx/model.onnx                NaN  \n",
       "21            onnx/model.onnx                NaN  "
      ]
     },
     "execution_count": 11,
     "metadata": {},
     "output_type": "execute_result"
    }
   ],
   "source": [
    "from fastembed import TextEmbedding\n",
    "\n",
    "pd.DataFrame(TextEmbedding.list_supported_models())"
   ]
  },
  {
   "cell_type": "markdown",
   "metadata": {},
   "source": [
    "### **Processing chunks**\n",
    "Clean, split, create embeddings and index documents into QDrantDocumentStore\n",
    "\n",
    "- [`DocumentCleaner`](https://docs.haystack.deepset.ai/docs/documentcleaner): To make Documents more readable by removing extra whitespaces etc.\n",
    "- [`DocumentSplitter`](https://docs.haystack.deepset.ai/docs/documentsplitter): To split your Document into chunks\n",
    "- [`FastembedDocumentEmbedder`](https://docs.haystack.deepset.ai/docs/fastembeddocumentembedder): To create embeddings for your documents"
   ]
  },
  {
   "cell_type": "code",
   "execution_count": 13,
   "metadata": {
    "colab": {
     "base_uri": "https://localhost:8080/"
    },
    "id": "d2_E_VKqIvu7",
    "outputId": "b1b8dbeb-ea68-4296-9a2c-7ba83b3ffc5b"
   },
   "outputs": [],
   "source": [
    "from haystack.components.writers import DocumentWriter\n",
    "from haystack import Pipeline\n",
    "from haystack.components.preprocessors import DocumentSplitter, DocumentCleaner\n",
    "from haystack_integrations.components.embedders.fastembed import FastembedDocumentEmbedder\n",
    "\n",
    "# Declaring the intended Embedding Model with Fastembed\n",
    "EMBEDDING_MODEL = \"mixedbread-ai/mxbai-embed-large-v1\"\n",
    "\n",
    "## Make Documents more readable by removing extra whitespaces etc\n",
    "cleaner = DocumentCleaner()\n",
    "\n",
    "## Splitting the documents into chunks of predefined size , overlap and strategy\n",
    "text_splitter = DocumentSplitter(\n",
    "    split_by=\"word\",\n",
    "    split_length=512,\n",
    "    split_overlap=50,\n",
    ")\n",
    "\n",
    "## Creating embeddings for the given document chunk using the defined EMBEDDING_MODEL\n",
    "doc_embedder = FastembedDocumentEmbedder(\n",
    "    model=EMBEDDING_MODEL,\n",
    "    batch_size=50,\n",
    ")"
   ]
  },
  {
   "cell_type": "markdown",
   "metadata": {
    "id": "9JSfRcxOHzL7"
   },
   "source": [
    "### **8. Setting up Qdrant**\n",
    "\n",
    "Set up the qdrant document store and then create a collection so that our documents can be stored."
   ]
  },
  {
   "cell_type": "code",
   "execution_count": 14,
   "metadata": {
    "id": "Ymq23aPCIA7j"
   },
   "outputs": [],
   "source": [
    "from haystack_integrations.document_stores.qdrant import QdrantDocumentStore\n",
    "from haystack.utils import Secret\n",
    "\n",
    "## Collection name that will be used in the notebook\n",
    "COLLECTION_NAME = \"qdrant-docs-ragas-haystack-mxbai-livestream\"\n",
    "\n",
    "document_store = QdrantDocumentStore(\n",
    "    url=os.environ.get(\"QDRANT_URL\"),\n",
    "    api_key=Secret.from_token(os.environ.get(\"QDRANT_API_KEY\")),\n",
    "    recreate_index=True,\n",
    "    embedding_dim=1024,\n",
    "    return_embedding=True,\n",
    "    index=COLLECTION_NAME\n",
    ")\n",
    "\n",
    "#More details : https://haystack.deepset.ai/integrations/qdrant-document-store"
   ]
  },
  {
   "cell_type": "code",
   "execution_count": 15,
   "metadata": {
    "id": "xLLsfOsgJRJ3"
   },
   "outputs": [
    {
     "data": {
      "text/plain": [
       "[]"
      ]
     },
     "execution_count": 15,
     "metadata": {},
     "output_type": "execute_result"
    }
   ],
   "source": [
    "## check if connection is set\n",
    "document_store.filter_documents({})"
   ]
  },
  {
   "cell_type": "code",
   "execution_count": 16,
   "metadata": {
    "colab": {
     "base_uri": "https://localhost:8080/"
    },
    "id": "FNduakyeInzn",
    "outputId": "27ccdd46-e27f-4ad6-d218-cefdababae43"
   },
   "outputs": [],
   "source": [
    "## General Collection level operations\n",
    "\n",
    "## Get information about existing collections\n",
    "#document_store.client.get_collections()\n",
    "\n",
    "## Get information about specific collection\n",
    "#collection_info = document_store.client.get_collection(COLLECTION_NAME)\n",
    "#print(collection_info)\n",
    "\n",
    "## Deleting collection, if need be\n",
    "#document_store.client.delete_collection(COLLECTION_NAME)"
   ]
  },
  {
   "cell_type": "markdown",
   "metadata": {
    "id": "nw_yWHWGK0vX"
   },
   "source": [
    "### **9. Adding document chunks into Qdrant Collection using [Haystack Pipeline](https://docs.haystack.deepset.ai/docs/pipelines)**"
   ]
  },
  {
   "cell_type": "code",
   "execution_count": 17,
   "metadata": {},
   "outputs": [
    {
     "data": {
      "text/plain": [
       "<haystack.core.pipeline.pipeline.Pipeline object at 0x174f16a10>\n",
       "🚅 Components\n",
       "  - cleaner: DocumentCleaner\n",
       "  - splitter: DocumentSplitter\n",
       "  - doc_embedder: FastembedDocumentEmbedder\n",
       "  - writer: DocumentWriter\n",
       "🛤️ Connections\n",
       "  - cleaner.documents -> splitter.documents (List[Document])\n",
       "  - splitter.documents -> doc_embedder.documents (List[Document])\n",
       "  - doc_embedder.documents -> writer.documents (List[Document])"
      ]
     },
     "execution_count": 17,
     "metadata": {},
     "output_type": "execute_result"
    }
   ],
   "source": [
    "## Putting document_store and a Pipeline together\n",
    "\n",
    "indexing = Pipeline()\n",
    "indexing.add_component(\"cleaner\", cleaner)\n",
    "indexing.add_component(\"splitter\", text_splitter)\n",
    "indexing.add_component(\"doc_embedder\", doc_embedder)\n",
    "indexing.add_component(\"writer\", DocumentWriter(document_store=document_store))\n",
    "\n",
    "indexing.connect(\"cleaner\", \"splitter\")\n",
    "indexing.connect(\"splitter\", \"doc_embedder\")\n",
    "indexing.connect(\"doc_embedder\", \"writer\")"
   ]
  },
  {
   "cell_type": "code",
   "execution_count": 18,
   "metadata": {
    "colab": {
     "base_uri": "https://localhost:8080/"
    },
    "id": "RwdEyzvOK5mZ",
    "outputId": "fbb785d7-96b0-4975-bc35-137103a4bf31"
   },
   "outputs": [
    {
     "data": {
      "application/vnd.jupyter.widget-view+json": {
       "model_id": "0ccc1067d21b42259ff476a0fea4400c",
       "version_major": 2,
       "version_minor": 0
      },
      "text/plain": [
       "Fetching 5 files:   0%|          | 0/5 [00:00<?, ?it/s]"
      ]
     },
     "metadata": {},
     "output_type": "display_data"
    },
    {
     "name": "stderr",
     "output_type": "stream",
     "text": [
      "Calculating embeddings: 100%|█████████████████████████████████████████████████████████████████████████████████████████████████████████████████████████████████████| 614/614 [07:34<00:00,  1.35it/s]\n",
      "700it [00:07, 91.07it/s]                                                                                                                                                                            \n"
     ]
    },
    {
     "data": {
      "text/plain": [
       "{'writer': {'documents_written': 614}}"
      ]
     },
     "execution_count": 18,
     "metadata": {},
     "output_type": "execute_result"
    }
   ],
   "source": [
    "indexing.run({\"documents\":haystack_docs})"
   ]
  },
  {
   "cell_type": "code",
   "execution_count": 19,
   "metadata": {
    "colab": {
     "base_uri": "https://localhost:8080/"
    },
    "id": "OFOxzL3PN8xp",
    "outputId": "54c772a9-4ded-4795-981d-99ea7f2e1207"
   },
   "outputs": [
    {
     "data": {
      "text/plain": [
       "614"
      ]
     },
     "execution_count": 19,
     "metadata": {},
     "output_type": "execute_result"
    }
   ],
   "source": [
    "## Ensuring we have expected number of document chunks\n",
    "document_store.count_documents()"
   ]
  },
  {
   "cell_type": "markdown",
   "metadata": {
    "id": "0Hc5zeXVWJN_"
   },
   "source": [
    "### **10. Searching for the document**"
   ]
  },
  {
   "cell_type": "code",
   "execution_count": 20,
   "metadata": {
    "colab": {
     "base_uri": "https://localhost:8080/"
    },
    "id": "DjKP_kYkV5Ck",
    "outputId": "fe2b3a61-b458-4942-9839-ffd72e235c9a"
   },
   "outputs": [
    {
     "data": {
      "text/plain": [
       "<haystack.core.pipeline.pipeline.Pipeline object at 0x174e83640>\n",
       "🚅 Components\n",
       "  - query_embedder: FastembedTextEmbedder\n",
       "  - retriever: QdrantEmbeddingRetriever\n",
       "🛤️ Connections\n",
       "  - query_embedder.embedding -> retriever.query_embedding (List[float])"
      ]
     },
     "execution_count": 20,
     "metadata": {},
     "output_type": "execute_result"
    }
   ],
   "source": [
    "## Searching for document chunks similar to query for context\n",
    "from haystack import Pipeline\n",
    "from haystack_integrations.components.retrievers.qdrant import QdrantEmbeddingRetriever\n",
    "from haystack_integrations.components.embedders.fastembed import FastembedTextEmbedder\n",
    "\n",
    "query_pipeline = Pipeline()\n",
    "query_pipeline.add_component(\"query_embedder\", FastembedTextEmbedder(model=EMBEDDING_MODEL))\n",
    "query_pipeline.add_component(\"retriever\", QdrantEmbeddingRetriever(document_store=document_store))\n",
    "\n",
    "query_pipeline.connect(\"query_embedder.embedding\", \"retriever.query_embedding\")"
   ]
  },
  {
   "cell_type": "code",
   "execution_count": 21,
   "metadata": {},
   "outputs": [
    {
     "name": "stderr",
     "output_type": "stream",
     "text": [
      "Calculating embeddings: 100%|█████████████████████████████████████████████████████████████████████████████████████████████████████████████████████████████████████████| 1/1 [00:00<00:00, 16.80it/s]\n"
     ]
    }
   ],
   "source": [
    "question =\"what is binary quantization\"\n",
    "search_result = query_pipeline.run({\"query_embedder\": {\"text\": question}, \"retriever\":{\"top_k\":2}})"
   ]
  },
  {
   "cell_type": "code",
   "execution_count": 22,
   "metadata": {},
   "outputs": [
    {
     "name": "stdout",
     "output_type": "stream",
     "text": [
      "Id:  f335a84c8693df81bade22057bdca85e1a3714a993bae56f465a74563a562589\n",
      "Document :  --- title: \"Binary Quantization - Vector Search, 40x Faster \" short_description: \"Binary Quantization is a newly introduced mechanism of reducing the memory footprint and increasing performance\" description: \"Binary Quantization is a newly introduced mechanism of reducing the memory footprint and increasing performance\" social_preview_image: /articles_data/binary-quantization/social_preview.png small_preview_image: /articles_data/binary-quantization/binary-quantization-icon.svg preview_dir: /articles_data/binary-quantization/preview weight: -40 author: Nirant Kasliwal author_link: date: 2023-09-18T13:00:00+03:00 draft: false keywords: - vector search - binary quantization - memory optimization --- #### Optimizing high-dimensional vectors Qdrant is built to handle typical scaling challenges: high throughput, low latency and efficient indexing. **Binary quantization (BQ)** is our latest attempt to give our customers the edge they need to scale efficiently. This feature is particularly excellent for collections with large vector lengths and a large number of points. Our results are dramatic: Using BQ will reduce your memory consumption and improve retrieval speeds by up to 40x. As is the case with other quantization methods, these benefits come at the cost of recall degradation. However, our implementation lets you balance the tradeoff between speed and recall accuracy at time of search, rather than time of index creation. The rest of this article will cover: 1. The importance of binary quantization 2. Basic implementation using our Python client 3. Benchmark analysis and usage recommendations ## What is Binary Quantization? Binary quantization (BQ) converts any vector embedding of floating point numbers into a vector of binary or boolean values. This feature is an extension of our past work on [scalar quantization](/articles/scalar-quantization/) where we convert `float32` to `uint8` and then leverage a specific SIMD CPU instruction to perform fast vector comparison. ![What is binary quantization](/articles_data/binary-quantization/bq-2.png) **This binarization function is how we convert a range to binary values. All numbers greater than zero are marked as 1. If it's zero or less, they become 0.** The benefit of reducing the vector embeddings to binary values is that boolean operations are very fast and need significantly less CPU instructions. In exchange for reducing our 32 bit embeddings to 1 bit embeddings we can see up to a 40x retrieval speed up gain! One of the reasons vector search still works with such a high compression rate is that these large vectors are over-parameterized for retrieval. This is because they are designed for ranking, clustering, and similar use cases, which typically need more information encoded in the vector. For example, The 1536 dimension OpenAI embedding is worse than Open Source counterparts of 384 dimension at retrieval and ranking. Specifically, it scores 49.25 on the same [Embedding Retrieval Benchmark](https://huggingface.co/spaces/mteb/leaderboard) where the Open Source `bge-small` scores 51.82. This 2.57 points difference adds up quite soon. Our implementation of quantization achieves a good balance between full, large vectors at ranking time and binary vectors at search and retrieval time. It also has the ability for you to adjust this balance depending on your use case. ## Fast Search and Retrieval Unlike product quantization, binary quantization does not rely on reducing the search space for each probe. Instead, we build a binary index that helps us achieve large increases in search speed. ![Speed by quantization method](/articles_data/binary-quantization/bq-3.png) HNSW \n",
      "Score :  0.8776443\n",
      "Source :  articles/binary-quantization.md\n",
      "----\n",
      "\n",
      "Id:  00e7ac231397173c9751f24499d5657547ce41ef51c211527f26b6e37b1751bf\n",
      "Document :  decimal numbers. Andrey Vasnetsov: On the left you can see original vector and it converts it in binary representation. And of course it does lose a lot of precision in the process. But because first we have very large vector and second, we have oversampling feature, we can compensate for this loss of accuracy and still have benefit in both speed and the size of the storage. Demetrios: So if I'm understanding this correctly, it's basically saying binary quantization on its own probably isn't the best thing that you would want to do. But since you have these other features that will help counterbalance the loss in accuracy. You get the speed from the binary quantization and you get the accuracy from these other features. Andrey Vasnetsov: Right. So the speed boost is so overwhelming that it doesn't really matter how much over sampling is going to be, we will still benefit from that. Demetrios: Yeah. And how much faster is it? You said that, what, over 30 times faster? Andrey Vasnetsov: Over 30 times and some benchmarks is about 40 times faster. Demetrios: Wow. Yeah, that's huge. And so then on the bottom here you have dot product versus hammering distance. And then there's. Yeah, hamming. Sorry, I'm inventing words over here on your slide. Can you explain what's going on there? Andrey Vasnetsov: Right, so dot production is the metric we usually use in comparing a pair of vectors. It's basically the same as cosine similarity, but this normalization on top. So internally, both cosine and dot production actually doing only dot production, that's usual metric we use. And in order to do this operation, we first need to multiply each pair of elements to the same element of the other vector and then add all these multiplications in one number. It's going to be our score instead of this in binary quantization, in binary vector, we do XOR operation and then count number of ones. So basically, Hemming distance is an approximation of dot production in this binary space. Demetrios: Excellent. Okay, so then it looks simple enough, right? Why are you implementing it now after much more complicated product quantization? Andrey Vasnetsov: It's actually a great question. And the answer to this is binary questization looked too simple to be true, too good to be true. And we thought like this, we tried different things with open source models that didn't work really well. But everything changed when we actually tried binary quantization with OpenAI model. And it turned out that OpenAI model has very good compatibility with this type of quantization. Unfortunately, not every model have as good compatibility as OpenAI. And to be honest, it's not yet absolutely clear for us what makes models compatible and whatnot. We do know that it correlates with number of dimensions, but it is not the only factor. Andrey Vasnetsov: So there is some secret source which exists and we should find it, which should enable models to be compatible with binary quantization. And I think it's actually a future \n",
      "Score :  0.8690930299999999\n",
      "Source :  blog/binary-quantization-andrey-vasnetsov-vector-space-talk-001.md\n",
      "----\n",
      "\n"
     ]
    }
   ],
   "source": [
    "for res in search_result[\"retriever\"][\"documents\"]:\n",
    "    print(\"Id: \", res.id)\n",
    "    print(\"Document : \" , res.content)\n",
    "    print(\"Score : \" , res.score)\n",
    "    print(\"Source : \" , res.meta['source'])\n",
    "    print(\"----\\n\")"
   ]
  },
  {
   "cell_type": "markdown",
   "metadata": {
    "id": "JhqBR3t7WGf0"
   },
   "source": [
    "### **11. Querying without the context**"
   ]
  },
  {
   "cell_type": "code",
   "execution_count": 73,
   "metadata": {
    "id": "h-X69HiXWQzH"
   },
   "outputs": [],
   "source": [
    "from haystack.components.generators import OpenAIGenerator\n",
    "from haystack.components.builders import PromptBuilder\n",
    "\n",
    "## Interacting with an LLM without context\n",
    "\n",
    "def query_without_context(query):\n",
    "    \n",
    "    prompt_template = (\n",
    "        \"\"\" You're assisting a user who has a question based on the documentation.\n",
    "        Your goal is to provide a clear and concise response that addresses their query while referencing relevant information\n",
    "        from the documentation.\n",
    "        Remember to:\n",
    "        Understand the user's question thoroughly.\n",
    "        If the user's query is general (e.g., \"hi,\" \"good morning\"),\n",
    "        greet them normally and avoid using the context from the documentation.\n",
    "        If the user's query is specific and related to the documentation, locate and extract the pertinent information.\n",
    "        Craft a response that directly addresses the user's query and provides accurate information\n",
    "        referring the relevant source and page from the 'source' field of fetched context from the documentation to support your answer.\n",
    "        Use a friendly and professional tone in your response.\n",
    "        If you cannot find the answer in the provided context, do not pretend to know it.\n",
    "        Instead, respond with \"I don't know\".\\n \n",
    "        \\n---\\n\n",
    "        \\nQuestion: {{query}}\\nAnswer:\n",
    "        \"\"\"\n",
    "    )\n",
    "\n",
    "    prompt_builder = PromptBuilder(template=prompt_template)\n",
    "    \n",
    "    generation_kwargs={\n",
    "        \"temperature\":0,\n",
    "        \"max_tokens\":636,\n",
    "        \"top_p\":1,\n",
    "        \"frequency_penalty\":0,\n",
    "        \"presence_penalty\":0,\n",
    "        \"stop\":None\n",
    "      }\n",
    "    generator = OpenAIGenerator(model=\"gpt-3.5-turbo\", generation_kwargs=generation_kwargs)\n",
    "\n",
    "    ## Response Generation pipeline\n",
    "    gen_pipeline = Pipeline()\n",
    "    gen_pipeline.add_component(\"prompt_builder\", prompt_builder)\n",
    "    gen_pipeline.add_component(\"generator\", generator)\n",
    "\n",
    "    gen_pipeline.connect(\"prompt_builder\", \"generator\")\n",
    "\n",
    "    return gen_pipeline.run({\"prompt_builder\":{\"query\":query}})[\"generator\"][\"replies\"][0]"
   ]
  },
  {
   "cell_type": "code",
   "execution_count": 74,
   "metadata": {
    "colab": {
     "base_uri": "https://localhost:8080/"
    },
    "id": "NJo9cCF6Wkzj",
    "outputId": "365b4dce-9740-4404-8192-b42c87fab5cb"
   },
   "outputs": [
    {
     "name": "stderr",
     "output_type": "stream",
     "text": [
      "huggingface/tokenizers: The current process just got forked, after parallelism has already been used. Disabling parallelism to avoid deadlocks...\n",
      "To disable this warning, you can either:\n",
      "\t- Avoid using `tokenizers` before the fork if possible\n",
      "\t- Explicitly set the environment variable TOKENIZERS_PARALLELISM=(true | false)\n"
     ]
    },
    {
     "name": "stdout",
     "output_type": "stream",
     "text": [
      "Binary quantization is a process of reducing the precision of numerical values to binary digits, typically 0 and 1. This technique is commonly used in machine learning models to optimize memory usage and computational efficiency. According to the documentation, binary quantization is discussed in detail on page 45 of the source material. If you need more information or specific examples, I recommend referring to that section for a comprehensive understanding.\n"
     ]
    }
   ],
   "source": [
    "## Try 1 - Querying without external context\n",
    "print (query_without_context(query = \"what is binary quantization?\"))"
   ]
  },
  {
   "cell_type": "code",
   "execution_count": 75,
   "metadata": {
    "colab": {
     "base_uri": "https://localhost:8080/"
    },
    "id": "U0zSfcp9WlYO",
    "outputId": "196854b9-f88d-4b70-bc1e-bfb42abe0cad"
   },
   "outputs": [
    {
     "name": "stdout",
     "output_type": "stream",
     "text": [
      "To reproduce the benchmark for Open Source vector databases, you can refer to the documentation provided. The specific steps and instructions for running the benchmark should be outlined in the documentation. Please check the relevant section or page mentioned in the 'source' field of the fetched context from the documentation for detailed guidance on reproducing the benchmark accurately. If you encounter any issues or need further assistance, feel free to ask for help.\n"
     ]
    }
   ],
   "source": [
    "## Try 2 - Querying without external context\n",
    "print (query_without_context(query = \"How can one reproduce the benchmark for Open Source vector databases?\"))"
   ]
  },
  {
   "cell_type": "markdown",
   "metadata": {
    "id": "fKioSnZIWqbi"
   },
   "source": [
    "### **12. Querying with Context from Qdrant**"
   ]
  },
  {
   "cell_type": "code",
   "execution_count": 77,
   "metadata": {
    "id": "unnDrJjPWxDQ"
   },
   "outputs": [],
   "source": [
    "from haystack.components.generators import OpenAIGenerator\n",
    "from haystack.components.builders import PromptBuilder\n",
    "from haystack_integrations.components.retrievers.qdrant import QdrantEmbeddingRetriever\n",
    "from haystack_integrations.components.embedders.fastembed import FastembedTextEmbedder\n",
    "\n",
    "query_pipeline = Pipeline()\n",
    "\n",
    "## Interacting with an LLM without context\n",
    "def query_with_context(query,limit):\n",
    "\n",
    "    prompt_template =  \"\"\" You're assisting a user who has a question based on the documentation.\n",
    "        Your goal is to provide a clear and concise response that addresses their query while referencing relevant information\n",
    "        from the documentation.\n",
    "        Remember to:\n",
    "        Understand the user's question thoroughly.\n",
    "        If the user's query is general (e.g., \"hi,\" \"good morning\"),\n",
    "        greet them normally and avoid using the context from the documentation.\n",
    "        If the user's query is specific and related to the documentation, locate and extract the pertinent information.\n",
    "        Craft a response that directly addresses the user's query and provides accurate information\n",
    "        referring the relevant source and page from the 'source' field of fetched context from the documentation to support your answer.\n",
    "        Use a friendly and professional tone in your response.\n",
    "        If you cannot find the answer in the provided context, do not pretend to know it.\n",
    "        Instead, respond with \"I don't know\".\n",
    "\n",
    "        Context:\\n\n",
    "        {% for document in documents %}\n",
    "            document: {{ document.content }}\n",
    "            source: {{document.meta.source}}\n",
    "        {% endfor %}\n",
    "        \\n\\n---\\n\\n\n",
    "        \\n\\nQuestion: {{query}}\\nAnswer:\n",
    "        \"\"\"\n",
    "\n",
    "    generation_kwargs={\n",
    "        \"temperature\":0,\n",
    "        \"max_tokens\":636,\n",
    "        \"top_p\":1,\n",
    "        \"frequency_penalty\":0,\n",
    "        \"presence_penalty\":0,\n",
    "        \"stop\":None\n",
    "    }\n",
    "\n",
    "    ## RAG pipeline\n",
    "    rag = Pipeline()\n",
    "    rag.add_component(\"text_embedder\", FastembedTextEmbedder(model=EMBEDDING_MODEL))\n",
    "    rag.add_component(\"retriever\", QdrantEmbeddingRetriever(document_store=document_store))\n",
    "    rag.add_component(\"prompt_builder\", PromptBuilder(template=prompt_template))\n",
    "    rag.add_component(\"generator\", OpenAIGenerator(model=\"gpt-3.5-turbo\", generation_kwargs=generation_kwargs))\n",
    "\n",
    "    rag.connect(\"text_embedder\", \"retriever\")\n",
    "    rag.connect(\"retriever\", \"prompt_builder.documents\")\n",
    "    rag.connect(\"prompt_builder\", \"generator\")\n",
    "\n",
    "    result = rag.run({\"text_embedder\":{\"text\":query},  \n",
    "                        \"retriever\":{\"top_k\":limit}, \n",
    "                        \"prompt_builder\":{\"query\":query}}, \n",
    "                       include_outputs_from={\"retriever\"})\n",
    "    context = [\n",
    "          \"document:\"+r.content+\",source:\"+r.meta['source'] for r in result[\"retriever\"][\"documents\"]\n",
    "    ]\n",
    "\n",
    "    return (context, result[\"generator\"][\"replies\"][0])"
   ]
  },
  {
   "cell_type": "code",
   "execution_count": 79,
   "metadata": {
    "colab": {
     "base_uri": "https://localhost:8080/"
    },
    "id": "r9QIecjHyB54",
    "outputId": "e4cda103-82a8-41d9-9b2b-96d7b8c59468"
   },
   "outputs": [
    {
     "name": "stderr",
     "output_type": "stream",
     "text": [
      "Calculating embeddings: 100%|█████████████████████████████████████████████████████████████████████████████████████████████████████████████████████████████████████████| 1/1 [00:00<00:00, 23.64it/s]\n"
     ]
    },
    {
     "name": "stdout",
     "output_type": "stream",
     "text": [
      "Binary quantization (BQ) is a mechanism that converts vector embeddings of floating-point numbers into binary or boolean values. This process significantly reduces memory consumption and improves retrieval speeds by up to 40 times, as mentioned in the documentation on Binary Quantization. You can find more information on this topic in the source document under the section \"What is Binary Quantization?\" from the provided source: articles/binary-quantization.md.\n"
     ]
    }
   ],
   "source": [
    "## Try 1 - Querying with external context provided by Qdrant\n",
    "question1 = \"what is binary quantization?\"\n",
    "RETRIEVAL_WINDOW_SIZE_3 = 3\n",
    "context1 , rag_response1 = query_with_context(question1,RETRIEVAL_WINDOW_SIZE_3)\n",
    "#print(context)\n",
    "print(rag_response1)"
   ]
  },
  {
   "cell_type": "code",
   "execution_count": 80,
   "metadata": {
    "colab": {
     "base_uri": "https://localhost:8080/"
    },
    "id": "E2lh71CIyB54",
    "outputId": "d1a492cc-6704-4c55-a218-888b8dbb0c1b"
   },
   "outputs": [
    {
     "name": "stderr",
     "output_type": "stream",
     "text": [
      "Calculating embeddings: 100%|█████████████████████████████████████████████████████████████████████████████████████████████████████████████████████████████████████████| 1/1 [00:00<00:00, 24.60it/s]\n"
     ]
    },
    {
     "name": "stdout",
     "output_type": "stream",
     "text": [
      "Binary quantization (BQ) is a mechanism that converts vector embeddings of floating-point numbers into binary or boolean values. This process significantly reduces memory consumption and improves retrieval speeds by up to 40 times. It is particularly effective for collections with large vector lengths and a high number of points. The conversion involves marking all numbers greater than zero as 1 and zero or less as 0. This method allows for fast boolean operations and requires fewer CPU instructions. You can find more details on binary quantization in the documentation under the \"Binary Quantization - Vector Search, 40x Faster\" section.\n"
     ]
    }
   ],
   "source": [
    "## Try 2 - Querying with external context provided by Qdrant providing more context chunks\n",
    "RETRIEVAL_WINDOW_SIZE_5 = 5\n",
    "context2 , rag_response2 = query_with_context(question1,RETRIEVAL_WINDOW_SIZE_5)\n",
    "#print(context)\n",
    "print(rag_response2)"
   ]
  },
  {
   "cell_type": "code",
   "execution_count": 81,
   "metadata": {
    "colab": {
     "base_uri": "https://localhost:8080/"
    },
    "id": "6WjCWzN7W7AE",
    "outputId": "6173e8be-15a1-4099-e7ba-abe36f4e2ae6"
   },
   "outputs": [
    {
     "name": "stderr",
     "output_type": "stream",
     "text": [
      "Calculating embeddings: 100%|█████████████████████████████████████████████████████████████████████████████████████████████████████████████████████████████████████████| 1/1 [00:00<00:00, 14.73it/s]\n"
     ]
    },
    {
     "name": "stdout",
     "output_type": "stream",
     "text": [
      "To reproduce the benchmark for Open Source vector databases, you can refer to the Qdrant benchmarks that are fully open-sourced. The benchmarks are available on GitHub at this [link](https://github.com/qdrant/vector-db-benchmark). By accessing this repository, you can view the details of the benchmarks conducted by Qdrant and even contribute to improving them. This information is mentioned in the Benchmarks F.A.Q section of the documentation under the \"Are we biased?\" question. You can find more details in the source document under the title \"Benchmarks F.A.Q.\" from the documentation provided.\n"
     ]
    }
   ],
   "source": [
    "## Try 3 - Querying with external context provided by Qdrant\n",
    "question2 = \"How can one reproduce the benchmark for Open Source vector databases?\"\n",
    "context2_1 , rag_response2_1 = query_with_context(question2,RETRIEVAL_WINDOW_SIZE_3)\n",
    "#print(context)\n",
    "print(rag_response2_1)"
   ]
  },
  {
   "cell_type": "code",
   "execution_count": 82,
   "metadata": {
    "id": "IVvoqCTkyB54",
    "outputId": "7c01e6bc-896d-49e6-9c36-bd3784893ac1"
   },
   "outputs": [
    {
     "name": "stderr",
     "output_type": "stream",
     "text": [
      "Calculating embeddings: 100%|█████████████████████████████████████████████████████████████████████████████████████████████████████████████████████████████████████████| 1/1 [00:00<00:00, 17.73it/s]\n"
     ]
    },
    {
     "name": "stdout",
     "output_type": "stream",
     "text": [
      "To reproduce the benchmark for Open Source vector databases, you can refer to the Qdrant benchmarks that are fully open-sourced. The benchmarks are available on GitHub at the following link: [Qdrant Vector Database Benchmark Repository](https://github.com/qdrant/vector-db-benchmark). By accessing this repository, you can contribute to the benchmarks and improve them as needed. Additionally, the benchmarks are designed to be run on affordable hardware, making it easy for anyone to reproduce the results. For more details on the benchmarking process and principles followed by Qdrant, you can check out the FAQ section in the documentation under the Benchmarks F.A.Q. section.\n"
     ]
    }
   ],
   "source": [
    "## Try 3 - Querying with external context provided by Qdrant providing more context chunks\n",
    "context2_1 , rag_response2_1 = query_with_context(question2,RETRIEVAL_WINDOW_SIZE_5)\n",
    "#print(context)\n",
    "print(rag_response2_1)"
   ]
  },
  {
   "cell_type": "markdown",
   "metadata": {
    "id": "iLkWOGItZX0S"
   },
   "source": [
    "### **13. Prepare the evaluation dataset to evaluate our RAG system**\n",
    "\n",
    "Method to generate the evaluation dataset for the given config of **DATASET , EVALUATION_SIZE and RETRIEVAL_WINDOW_SIZE**"
   ]
  },
  {
   "cell_type": "code",
   "execution_count": 83,
   "metadata": {
    "id": "Hvpes48gj4TC"
   },
   "outputs": [],
   "source": [
    "from datasets import Dataset\n",
    "\n",
    "# RAGAS Expect ['question', 'answer', 'contexts', 'ground_truth'] format\n",
    "'''\n",
    "{\n",
    "    \"question\": ['What is quantization?', ...],\n",
    "    \"answer\": [], ## answer\n",
    "    \"contexts\": [], ## context\n",
    "    \"ground_truth\": ## answer expected\n",
    "}\n",
    "'''\n",
    "def create_eval_dataset(dataset, eval_size,retrieval_window_size):\n",
    "    questions = []\n",
    "    answers = []\n",
    "    contexts = []\n",
    "    ground_truths = []\n",
    "\n",
    "    # Iterate over the first 10 entries\n",
    "    for i in range(eval_size):\n",
    "        entry = dataset[i]\n",
    "        question = entry['question']\n",
    "        answer = entry['answer']\n",
    "        questions.append(question)\n",
    "        ground_truths.append(answer)\n",
    "        context , rag_response = query_with_context(question,retrieval_window_size)\n",
    "        contexts.append(context)\n",
    "        answers.append(rag_response)\n",
    "\n",
    "    rag_response_data = {\n",
    "        \"question\": questions,\n",
    "        \"answer\": answers,\n",
    "        \"contexts\": contexts,\n",
    "        \"ground_truth\": ground_truths\n",
    "    }\n",
    "\n",
    "    return rag_response_data"
   ]
  },
  {
   "cell_type": "code",
   "execution_count": 84,
   "metadata": {
    "id": "gQnaLMIcv3X-",
    "outputId": "493281d6-8c6b-436b-d445-1aaeac3bca0a"
   },
   "outputs": [
    {
     "name": "stderr",
     "output_type": "stream",
     "text": [
      "Calculating embeddings: 100%|█████████████████████████████████████████████████████████████████████████████████████████████████████████████████████████████████████████| 1/1 [00:00<00:00,  5.27it/s]\n",
      "Calculating embeddings: 100%|█████████████████████████████████████████████████████████████████████████████████████████████████████████████████████████████████████████| 1/1 [00:00<00:00, 29.39it/s]\n",
      "Calculating embeddings: 100%|█████████████████████████████████████████████████████████████████████████████████████████████████████████████████████████████████████████| 1/1 [00:00<00:00, 21.74it/s]\n",
      "Calculating embeddings: 100%|█████████████████████████████████████████████████████████████████████████████████████████████████████████████████████████████████████████| 1/1 [00:00<00:00, 24.39it/s]\n",
      "Calculating embeddings: 100%|█████████████████████████████████████████████████████████████████████████████████████████████████████████████████████████████████████████| 1/1 [00:00<00:00, 26.26it/s]\n",
      "Calculating embeddings: 100%|█████████████████████████████████████████████████████████████████████████████████████████████████████████████████████████████████████████| 1/1 [00:00<00:00, 19.03it/s]\n",
      "Calculating embeddings: 100%|█████████████████████████████████████████████████████████████████████████████████████████████████████████████████████████████████████████| 1/1 [00:00<00:00, 19.99it/s]\n",
      "Calculating embeddings: 100%|█████████████████████████████████████████████████████████████████████████████████████████████████████████████████████████████████████████| 1/1 [00:00<00:00, 22.05it/s]\n",
      "The completion for index 0 has been truncated before reaching a natural stopping point. Increase the max_tokens parameter to allow for longer completions.\n",
      "Calculating embeddings: 100%|█████████████████████████████████████████████████████████████████████████████████████████████████████████████████████████████████████████| 1/1 [00:00<00:00, 22.44it/s]\n",
      "Calculating embeddings: 100%|█████████████████████████████████████████████████████████████████████████████████████████████████████████████████████████████████████████| 1/1 [00:00<00:00, 20.71it/s]\n"
     ]
    }
   ],
   "source": [
    "## Define the Config for generating the Eval dataset as below :\n",
    "\n",
    "# loading the eval dataset from HF\n",
    "qdrant_qna_dataset = load_dataset(\"atitaarora/qdrant_doc_qna\", split=\"train\")\n",
    "\n",
    "EVAL_SIZE = 10\n",
    "\n",
    "RETRIEVAL_SIZE_3 = 3\n",
    "\n",
    "#print(qdrant_qna_dataset.column_names)\n",
    "\n",
    "## The dataset used to evaluate RAG using RAGAS\n",
    "## Note this is the dataset needed for evaluation hence has to be recreated everytime changes to RAG config is made\n",
    "rag_eval_dataset_512_3 = create_eval_dataset(qdrant_qna_dataset,EVAL_SIZE,RETRIEVAL_SIZE_3)"
   ]
  },
  {
   "cell_type": "code",
   "execution_count": 85,
   "metadata": {
    "colab": {
     "referenced_widgets": [
      "67c3797238e3425ebadd22992fe7a4bd"
     ]
    },
    "id": "ZFIw8KEhyB54",
    "outputId": "69f4090a-0e9b-4da2-e4a3-ab7b2f5614ab"
   },
   "outputs": [
    {
     "data": {
      "application/vnd.jupyter.widget-view+json": {
       "model_id": "9055cc0211b74a6eb7478a970631fcbd",
       "version_major": 2,
       "version_minor": 0
      },
      "text/plain": [
       "Creating CSV from Arrow format:   0%|          | 0/1 [00:00<?, ?ba/s]"
      ]
     },
     "metadata": {},
     "output_type": "display_data"
    },
    {
     "data": {
      "text/plain": [
       "118747"
      ]
     },
     "execution_count": 85,
     "metadata": {},
     "output_type": "execute_result"
    }
   ],
   "source": [
    "rag_response_dataset_512_3 = Dataset.from_dict(rag_eval_dataset_512_3)\n",
    "rag_response_dataset_512_3.to_csv('rag_response_512_3.csv')"
   ]
  },
  {
   "cell_type": "markdown",
   "metadata": {
    "id": "te1iegPpW__p"
   },
   "source": [
    "### **14. Lets evaluate , how good is our RAG !!**\n",
    "\n",
    "![image.png](data:image/png;base64,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)"
   ]
  },
  {
   "cell_type": "code",
   "execution_count": 86,
   "metadata": {
    "colab": {
     "base_uri": "https://localhost:8080/",
     "height": 363
    },
    "id": "qPzkNNgKat3R",
    "outputId": "3ea7529e-f43e-42f9-ca15-b6e5d2a1a015"
   },
   "outputs": [
    {
     "data": {
      "text/html": [
       "<div>\n",
       "<style scoped>\n",
       "    .dataframe tbody tr th:only-of-type {\n",
       "        vertical-align: middle;\n",
       "    }\n",
       "\n",
       "    .dataframe tbody tr th {\n",
       "        vertical-align: top;\n",
       "    }\n",
       "\n",
       "    .dataframe thead th {\n",
       "        text-align: right;\n",
       "    }\n",
       "</style>\n",
       "<table border=\"1\" class=\"dataframe\">\n",
       "  <thead>\n",
       "    <tr style=\"text-align: right;\">\n",
       "      <th></th>\n",
       "      <th>question</th>\n",
       "      <th>answer</th>\n",
       "      <th>contexts</th>\n",
       "      <th>ground_truth</th>\n",
       "    </tr>\n",
       "  </thead>\n",
       "  <tbody>\n",
       "    <tr>\n",
       "      <th>0</th>\n",
       "      <td>What is vaccum optimizer ?</td>\n",
       "      <td>The Vacuum Optimizer in Qdrant is used to addr...</td>\n",
       "      <td>['document:--- title: Optimizer weight: 70 ali...</td>\n",
       "      <td>The Vacuum Optimizer is a feature in the Qdran...</td>\n",
       "    </tr>\n",
       "    <tr>\n",
       "      <th>1</th>\n",
       "      <td>Tell me about ‘always_ram’ parameter?</td>\n",
       "      <td>The `always_ram` parameter in the context of q...</td>\n",
       "      <td>['document:vectorsConfig: new VectorParams { S...</td>\n",
       "      <td>In the context of vector quantization in Qdran...</td>\n",
       "    </tr>\n",
       "    <tr>\n",
       "      <th>2</th>\n",
       "      <td>What is difference between scalar and product ...</td>\n",
       "      <td>Scalar Quantization and Product Quantization a...</td>\n",
       "      <td>['document:s&lt;/td&gt; &lt;td&gt;474 s&lt;/td&gt; &lt;/tr&gt; &lt;/tbody...</td>\n",
       "      <td>While both methods aim to reduce the memory fo...</td>\n",
       "    </tr>\n",
       "    <tr>\n",
       "      <th>3</th>\n",
       "      <td>What is ‘best_score’ strategy?</td>\n",
       "      <td>The 'best_score' strategy is a new recommendat...</td>\n",
       "      <td>['document:step happens very fast, the perform...</td>\n",
       "      <td>The `best_score` strategy is based on the idea...</td>\n",
       "    </tr>\n",
       "    <tr>\n",
       "      <th>4</th>\n",
       "      <td>How does oversampling helps?</td>\n",
       "      <td>Oversampling helps to control the precision of...</td>\n",
       "      <td>[\"document:if we're using smaller models that ...</td>\n",
       "      <td>Defines how many extra vectors should be pre-s...</td>\n",
       "    </tr>\n",
       "    <tr>\n",
       "      <th>5</th>\n",
       "      <td>What is the purpose of ‘CreatePayloadIndexAsync’?</td>\n",
       "      <td>The purpose of the `CreatePayloadIndexAsync` f...</td>\n",
       "      <td>['document:Some(Operation::SetPayload(SetPaylo...</td>\n",
       "      <td>CreatePayloadIndexAsync is a method in the Qdr...</td>\n",
       "    </tr>\n",
       "    <tr>\n",
       "      <th>6</th>\n",
       "      <td>What is the purpose of ef_construct in HNSW ?</td>\n",
       "      <td>The `ef_construct` parameter in HNSW (Hierarch...</td>\n",
       "      <td>['document:), ) ``` ```typescript client.updat...</td>\n",
       "      <td>In HNSW algorithm the ef_construct parameter i...</td>\n",
       "    </tr>\n",
       "    <tr>\n",
       "      <th>7</th>\n",
       "      <td>How do you use ‘ordering’ parameter?</td>\n",
       "      <td>To use the 'ordering' parameter, you can speci...</td>\n",
       "      <td>['document:can be freely reordered. - `medium`...</td>\n",
       "      <td>Write ordering can be specified for any write ...</td>\n",
       "    </tr>\n",
       "    <tr>\n",
       "      <th>8</th>\n",
       "      <td>What is significance of ‘on_disk_payload’ sett...</td>\n",
       "      <td>The 'on_disk_payload' setting in Qdrant determ...</td>\n",
       "      <td>[\"document:as cloud, happening when users were...</td>\n",
       "      <td>The `on_disk_payload` setting in the storage c...</td>\n",
       "    </tr>\n",
       "    <tr>\n",
       "      <th>9</th>\n",
       "      <td>What is the impact of ‘write_consistency_facto...</td>\n",
       "      <td>The `write_consistency_factor` in Qdrant repre...</td>\n",
       "      <td>['document:request dispatches all operations a...</td>\n",
       "      <td>The `write_consistency_factor` parameter in a ...</td>\n",
       "    </tr>\n",
       "  </tbody>\n",
       "</table>\n",
       "</div>"
      ],
      "text/plain": [
       "                                            question  \\\n",
       "0                         What is vaccum optimizer ?   \n",
       "1              Tell me about ‘always_ram’ parameter?   \n",
       "2  What is difference between scalar and product ...   \n",
       "3                     What is ‘best_score’ strategy?   \n",
       "4                       How does oversampling helps?   \n",
       "5  What is the purpose of ‘CreatePayloadIndexAsync’?   \n",
       "6      What is the purpose of ef_construct in HNSW ?   \n",
       "7               How do you use ‘ordering’ parameter?   \n",
       "8  What is significance of ‘on_disk_payload’ sett...   \n",
       "9  What is the impact of ‘write_consistency_facto...   \n",
       "\n",
       "                                              answer  \\\n",
       "0  The Vacuum Optimizer in Qdrant is used to addr...   \n",
       "1  The `always_ram` parameter in the context of q...   \n",
       "2  Scalar Quantization and Product Quantization a...   \n",
       "3  The 'best_score' strategy is a new recommendat...   \n",
       "4  Oversampling helps to control the precision of...   \n",
       "5  The purpose of the `CreatePayloadIndexAsync` f...   \n",
       "6  The `ef_construct` parameter in HNSW (Hierarch...   \n",
       "7  To use the 'ordering' parameter, you can speci...   \n",
       "8  The 'on_disk_payload' setting in Qdrant determ...   \n",
       "9  The `write_consistency_factor` in Qdrant repre...   \n",
       "\n",
       "                                            contexts  \\\n",
       "0  ['document:--- title: Optimizer weight: 70 ali...   \n",
       "1  ['document:vectorsConfig: new VectorParams { S...   \n",
       "2  ['document:s</td> <td>474 s</td> </tr> </tbody...   \n",
       "3  ['document:step happens very fast, the perform...   \n",
       "4  [\"document:if we're using smaller models that ...   \n",
       "5  ['document:Some(Operation::SetPayload(SetPaylo...   \n",
       "6  ['document:), ) ``` ```typescript client.updat...   \n",
       "7  ['document:can be freely reordered. - `medium`...   \n",
       "8  [\"document:as cloud, happening when users were...   \n",
       "9  ['document:request dispatches all operations a...   \n",
       "\n",
       "                                        ground_truth  \n",
       "0  The Vacuum Optimizer is a feature in the Qdran...  \n",
       "1  In the context of vector quantization in Qdran...  \n",
       "2  While both methods aim to reduce the memory fo...  \n",
       "3  The `best_score` strategy is based on the idea...  \n",
       "4  Defines how many extra vectors should be pre-s...  \n",
       "5  CreatePayloadIndexAsync is a method in the Qdr...  \n",
       "6  In HNSW algorithm the ef_construct parameter i...  \n",
       "7  Write ordering can be specified for any write ...  \n",
       "8  The `on_disk_payload` setting in the storage c...  \n",
       "9  The `write_consistency_factor` parameter in a ...  "
      ]
     },
     "execution_count": 86,
     "metadata": {},
     "output_type": "execute_result"
    }
   ],
   "source": [
    "eval_dataset_512_3 = pd.read_csv('rag_response_512_3.csv')\n",
    "eval_dataset_512_3.head(10)"
   ]
  },
  {
   "attachments": {
    "0210edb8-2342-4d38-9293-886783f5f595.png": {
     "image/png": "[encoded data removed]"
    }
   },
   "cell_type": "markdown",
   "metadata": {},
   "source": [
    "### **RAGAS Metrics supported through Haystack**\n",
    "![Screenshot 2024-04-23 at 10.42.36.png](attachment:0210edb8-2342-4d38-9293-886783f5f595.png)"
   ]
  },
  {
   "cell_type": "code",
   "execution_count": 45,
   "metadata": {
    "id": "IQPFbATvyB56"
   },
   "outputs": [],
   "source": [
    "from haystack import Pipeline\n",
    "from haystack_integrations.components.evaluators.ragas import RagasEvaluator, RagasMetric\n",
    "\n",
    "def evaluate_eval_dataset(df):\n",
    "  pipeline = Pipeline()\n",
    "  ##To avoid format mismatch issue\n",
    "  df['contexts'] = df['contexts'].apply(lambda x: eval(x) if isinstance(x, str) else [])\n",
    "\n",
    "  QUESTIONS = df['question'].tolist()\n",
    "  CONTEXTS = df['contexts'].tolist()\n",
    "  ANSWERS = df['answer'].tolist()\n",
    "  GROUND_TRUTHS = df['ground_truth'].tolist()\n",
    "\n",
    "  ## Grades if the answer has any additional irrelevant information for the question asked.\n",
    "  precision_evaluator = RagasEvaluator(metric=RagasMetric.CONTEXT_PRECISION)\n",
    "    \n",
    "  ## Grades how complete the generated response was for the question specified.\n",
    "  recall_evaluator = RagasEvaluator(metric=RagasMetric.CONTEXT_RECALL)\n",
    "    \n",
    "  ## Grades how relevant the provided context was for the question specified.\n",
    "  relevancy_evaluator = RagasEvaluator(metric=RagasMetric.CONTEXT_RELEVANCY)\n",
    "    \n",
    "  ## Grade to what extent the generated answer uses the provided context.\n",
    "  context_utilization_evaluator = RagasEvaluator(metric=RagasMetric.CONTEXT_UTILIZATION)\n",
    "    \n",
    "  ## Grades how factual the generated response was.\n",
    "  faithfullness_evaluator = RagasEvaluator(metric=RagasMetric.FAITHFULNESS)\n",
    "    \n",
    "  ## Grades how relevant the generated response is given the question.\n",
    "  ## The strictness parameter plays a crucial role in maintaining a certain level of self-consistency in predictions, \n",
    "  ## with an ideal range typically falling between 2 to 4.\n",
    "  answer_relevancy_evaluator = RagasEvaluator(metric=RagasMetric.ANSWER_RELEVANCY,\n",
    "                                            metric_params={\"strictness\":3},)\n",
    "    \n",
    "  ## Grades the accuracy of the generated answer when compared to the ground truth.\n",
    "  correctness_evaluator = RagasEvaluator(metric=RagasMetric.ANSWER_CORRECTNESS,\n",
    "                                        metric_params={\"weights\": [0.8,0.9]},)\n",
    "    \n",
    "  ## Grades how similar the generated answer is to the ground truth answer specified.\n",
    "  similarity_evaluator = RagasEvaluator(metric=RagasMetric.ANSWER_SIMILARITY,\n",
    "                                        metric_params={\"threshold\": 0.9},)\n",
    "    \n",
    "  ## Grades generated answers based on custom aspects ('Toxicity' in this case) on a binary scale.\n",
    "  ## Supported aspects - harmfulness, maliciousness, coherence, correctness, conciseness \n",
    "  aspect_critic_evaluator = RagasEvaluator(metric=RagasMetric.ASPECT_CRITIQUE,\n",
    "                            metric_params={\"name\": \"Toxicity\", \"definition\": \"Is this answer toxic for user?\", \"strictness\": 3},)\n",
    "\n",
    "  pipeline.add_component(\"precision_evaluator\", precision_evaluator)\n",
    "  pipeline.add_component(\"recall_evaluator\", recall_evaluator)\n",
    "  pipeline.add_component(\"relevancy_evaluator\", relevancy_evaluator)\n",
    "  pipeline.add_component(\"context_utilization_evaluator\", context_utilization_evaluator)\n",
    "  pipeline.add_component(\"faithfullness_evaluator\", faithfullness_evaluator)\n",
    "  pipeline.add_component(\"correctness_evaluator\", correctness_evaluator)\n",
    "  pipeline.add_component(\"answer_relevancy_evaluator\", answer_relevancy_evaluator)\n",
    "  pipeline.add_component(\"similarity_evaluator\", similarity_evaluator)\n",
    "  pipeline.add_component(\"aspect_critic_evaluator\", aspect_critic_evaluator)\n",
    "\n",
    "  results = pipeline.run(\n",
    "      {\n",
    "          \"precision_evaluator\": {\"questions\": QUESTIONS, \"contexts\": CONTEXTS, \"ground_truths\": GROUND_TRUTHS,},\n",
    "          \"recall_evaluator\": {\"questions\": QUESTIONS, \"contexts\": CONTEXTS, \"ground_truths\": GROUND_TRUTHS,},\n",
    "          \"relevancy_evaluator\": {\"questions\": QUESTIONS, \"contexts\": CONTEXTS,},\n",
    "          \"context_utilization_evaluator\": {\"questions\": QUESTIONS, \"contexts\": CONTEXTS, \"responses\": ANSWERS},\n",
    "          \"faithfullness_evaluator\": {\"questions\": QUESTIONS, \"contexts\": CONTEXTS, \"responses\": ANSWERS},\n",
    "          \"correctness_evaluator\": {\"questions\": QUESTIONS, \"ground_truths\": GROUND_TRUTHS, \"responses\": ANSWERS},\n",
    "          \"answer_relevancy_evaluator\": {\"questions\": QUESTIONS, \"contexts\": CONTEXTS, \"responses\": ANSWERS},\n",
    "          \"similarity_evaluator\": {\"ground_truths\": GROUND_TRUTHS, \"responses\": ANSWERS},\n",
    "          \"aspect_critic_evaluator\": {\"questions\": QUESTIONS, \"contexts\": CONTEXTS, \"responses\": ANSWERS},\n",
    "      }\n",
    "  )\n",
    "  return results"
   ]
  },
  {
   "cell_type": "code",
   "execution_count": 46,
   "metadata": {
    "id": "S1VsBi2axDEG"
   },
   "outputs": [],
   "source": [
    "## Exporting evaluation results to Dataframe for better visibility\n",
    "\n",
    "import pandas as pd\n",
    "\n",
    "def evaluation_results_to_dataframe(evaluation_outputs):\n",
    "    # Initialize a list to hold all the rows of the DataFrame\n",
    "    data_rows = []\n",
    "\n",
    "    # Iterate over each evaluator in the evaluation outputs\n",
    "    for evaluator_name, evaluator_data in evaluation_outputs.items():\n",
    "        # Iterate over each result in this evaluator\n",
    "        for result_index, result in enumerate(evaluator_data['results']):\n",
    "            # Each result is a list with one dictionary\n",
    "            for metric in result:\n",
    "                # Append each metric to the data_rows list as a dictionary\n",
    "                data_rows.append({\n",
    "                    'Evaluator': evaluator_name,\n",
    "                    'Index': result_index,\n",
    "                    'Metric Name': metric['name'],\n",
    "                    'Score': metric['score']\n",
    "                })\n",
    "\n",
    "    # Convert the list of dictionaries to a DataFrame\n",
    "    return pd.DataFrame(data_rows)"
   ]
  },
  {
   "cell_type": "code",
   "execution_count": 47,
   "metadata": {
    "id": "HS1kQKGqzICt"
   },
   "outputs": [],
   "source": [
    "## Merge eval dataset and metrics results dataset for summarised view\n",
    "\n",
    "def merge_eval_and_metrics_dataset(eval_df,metrics_df):\n",
    "  # Add an index column\n",
    "  eval_df.reset_index(inplace=True)\n",
    "  eval_df.rename(columns={'index': 'Index'}, inplace=True)\n",
    "  #eval_df.drop('Index', axis=1,inplace=True)\n",
    "  metrics_summary_df = metrics_df.pivot(index='Index', columns='Evaluator', values='Score')\n",
    "  # Merge the DataFrames on the 'Index' column\n",
    "  final_df = pd.merge(eval_df, metrics_summary_df, on='Index')\n",
    "  #print(final_df)\n",
    "  return final_df"
   ]
  },
  {
   "cell_type": "code",
   "execution_count": 90,
   "metadata": {
    "id": "F2TvrxuK0TGY"
   },
   "outputs": [
    {
     "data": {
      "application/vnd.jupyter.widget-view+json": {
       "model_id": "eaa7a618ee164061b864139531766a3c",
       "version_major": 2,
       "version_minor": 0
      },
      "text/plain": [
       "Evaluating:   0%|          | 0/10 [00:00<?, ?it/s]"
      ]
     },
     "metadata": {},
     "output_type": "display_data"
    },
    {
     "data": {
      "application/vnd.jupyter.widget-view+json": {
       "model_id": "ba8580a2efb3440e909f0a51154d2239",
       "version_major": 2,
       "version_minor": 0
      },
      "text/plain": [
       "Evaluating:   0%|          | 0/10 [00:00<?, ?it/s]"
      ]
     },
     "metadata": {},
     "output_type": "display_data"
    },
    {
     "data": {
      "application/vnd.jupyter.widget-view+json": {
       "model_id": "cabf826a3c95488e8282b2cc06c38096",
       "version_major": 2,
       "version_minor": 0
      },
      "text/plain": [
       "Evaluating:   0%|          | 0/10 [00:00<?, ?it/s]"
      ]
     },
     "metadata": {},
     "output_type": "display_data"
    },
    {
     "data": {
      "application/vnd.jupyter.widget-view+json": {
       "model_id": "b3eed95cea5e435ea756669c73e2f30d",
       "version_major": 2,
       "version_minor": 0
      },
      "text/plain": [
       "Evaluating:   0%|          | 0/10 [00:00<?, ?it/s]"
      ]
     },
     "metadata": {},
     "output_type": "display_data"
    },
    {
     "name": "stderr",
     "output_type": "stream",
     "text": [
      "Using 'context_precision' without ground truth will be soon depreciated. Use 'context_utilization' instead\n",
      "Using 'context_precision' without ground truth will be soon depreciated. Use 'context_utilization' instead\n",
      "Using 'context_precision' without ground truth will be soon depreciated. Use 'context_utilization' instead\n",
      "Using 'context_precision' without ground truth will be soon depreciated. Use 'context_utilization' instead\n",
      "Using 'context_precision' without ground truth will be soon depreciated. Use 'context_utilization' instead\n",
      "Using 'context_precision' without ground truth will be soon depreciated. Use 'context_utilization' instead\n",
      "Using 'context_precision' without ground truth will be soon depreciated. Use 'context_utilization' instead\n",
      "Using 'context_precision' without ground truth will be soon depreciated. Use 'context_utilization' instead\n",
      "Using 'context_precision' without ground truth will be soon depreciated. Use 'context_utilization' instead\n",
      "Using 'context_precision' without ground truth will be soon depreciated. Use 'context_utilization' instead\n"
     ]
    },
    {
     "data": {
      "application/vnd.jupyter.widget-view+json": {
       "model_id": "ef97722e91ee4e7580cf66958aaef6a5",
       "version_major": 2,
       "version_minor": 0
      },
      "text/plain": [
       "Evaluating:   0%|          | 0/10 [00:00<?, ?it/s]"
      ]
     },
     "metadata": {},
     "output_type": "display_data"
    },
    {
     "name": "stderr",
     "output_type": "stream",
     "text": [
      "Task exception was never retrieved\n",
      "future: <Task finished name='Task-301' coro=<AsyncClient.aclose() done, defined at /Users/atitaarora/qdrant/workspace/qdrant-rag-eval/workshop-rag-eval-qdrant-ragas-haystack/ragas-haystack/lib/python3.10/site-packages/httpx/_client.py:2011> exception=RuntimeError('Event loop is closed')>\n",
      "Traceback (most recent call last):\n",
      "  File \"/Users/atitaarora/qdrant/workspace/qdrant-rag-eval/workshop-rag-eval-qdrant-ragas-haystack/ragas-haystack/lib/python3.10/site-packages/httpx/_client.py\", line 2018, in aclose\n",
      "    await self._transport.aclose()\n",
      "  File \"/Users/atitaarora/qdrant/workspace/qdrant-rag-eval/workshop-rag-eval-qdrant-ragas-haystack/ragas-haystack/lib/python3.10/site-packages/httpx/_transports/default.py\", line 385, in aclose\n",
      "    await self._pool.aclose()\n",
      "  File \"/Users/atitaarora/qdrant/workspace/qdrant-rag-eval/workshop-rag-eval-qdrant-ragas-haystack/ragas-haystack/lib/python3.10/site-packages/httpcore/_async/connection_pool.py\", line 313, in aclose\n",
      "    await self._close_connections(closing_connections)\n",
      "  File \"/Users/atitaarora/qdrant/workspace/qdrant-rag-eval/workshop-rag-eval-qdrant-ragas-haystack/ragas-haystack/lib/python3.10/site-packages/httpcore/_async/connection_pool.py\", line 305, in _close_connections\n",
      "    await connection.aclose()\n",
      "  File \"/Users/atitaarora/qdrant/workspace/qdrant-rag-eval/workshop-rag-eval-qdrant-ragas-haystack/ragas-haystack/lib/python3.10/site-packages/httpcore/_async/connection.py\", line 171, in aclose\n",
      "    await self._connection.aclose()\n",
      "  File \"/Users/atitaarora/qdrant/workspace/qdrant-rag-eval/workshop-rag-eval-qdrant-ragas-haystack/ragas-haystack/lib/python3.10/site-packages/httpcore/_async/http11.py\", line 265, in aclose\n",
      "    await self._network_stream.aclose()\n",
      "  File \"/Users/atitaarora/qdrant/workspace/qdrant-rag-eval/workshop-rag-eval-qdrant-ragas-haystack/ragas-haystack/lib/python3.10/site-packages/httpcore/_backends/anyio.py\", line 55, in aclose\n",
      "    await self._stream.aclose()\n",
      "  File \"/Users/atitaarora/qdrant/workspace/qdrant-rag-eval/workshop-rag-eval-qdrant-ragas-haystack/ragas-haystack/lib/python3.10/site-packages/anyio/streams/tls.py\", line 202, in aclose\n",
      "    await self.transport_stream.aclose()\n",
      "  File \"/Users/atitaarora/qdrant/workspace/qdrant-rag-eval/workshop-rag-eval-qdrant-ragas-haystack/ragas-haystack/lib/python3.10/site-packages/anyio/_backends/_asyncio.py\", line 1202, in aclose\n",
      "    self._transport.close()\n",
      "  File \"/Library/Frameworks/Python.framework/Versions/3.10/lib/python3.10/asyncio/selector_events.py\", line 698, in close\n",
      "    self._loop.call_soon(self._call_connection_lost, None)\n",
      "  File \"/Library/Frameworks/Python.framework/Versions/3.10/lib/python3.10/asyncio/base_events.py\", line 750, in call_soon\n",
      "    self._check_closed()\n",
      "  File \"/Library/Frameworks/Python.framework/Versions/3.10/lib/python3.10/asyncio/base_events.py\", line 515, in _check_closed\n",
      "    raise RuntimeError('Event loop is closed')\n",
      "RuntimeError: Event loop is closed\n",
      "Task exception was never retrieved\n",
      "future: <Task finished name='Task-302' coro=<AsyncClient.aclose() done, defined at /Users/atitaarora/qdrant/workspace/qdrant-rag-eval/workshop-rag-eval-qdrant-ragas-haystack/ragas-haystack/lib/python3.10/site-packages/httpx/_client.py:2011> exception=RuntimeError('Event loop is closed')>\n",
      "Traceback (most recent call last):\n",
      "  File \"/Users/atitaarora/qdrant/workspace/qdrant-rag-eval/workshop-rag-eval-qdrant-ragas-haystack/ragas-haystack/lib/python3.10/site-packages/httpx/_client.py\", line 2018, in aclose\n",
      "    await self._transport.aclose()\n",
      "  File \"/Users/atitaarora/qdrant/workspace/qdrant-rag-eval/workshop-rag-eval-qdrant-ragas-haystack/ragas-haystack/lib/python3.10/site-packages/httpx/_transports/default.py\", line 385, in aclose\n",
      "    await self._pool.aclose()\n",
      "  File \"/Users/atitaarora/qdrant/workspace/qdrant-rag-eval/workshop-rag-eval-qdrant-ragas-haystack/ragas-haystack/lib/python3.10/site-packages/httpcore/_async/connection_pool.py\", line 313, in aclose\n",
      "    await self._close_connections(closing_connections)\n",
      "  File \"/Users/atitaarora/qdrant/workspace/qdrant-rag-eval/workshop-rag-eval-qdrant-ragas-haystack/ragas-haystack/lib/python3.10/site-packages/httpcore/_async/connection_pool.py\", line 305, in _close_connections\n",
      "    await connection.aclose()\n",
      "  File \"/Users/atitaarora/qdrant/workspace/qdrant-rag-eval/workshop-rag-eval-qdrant-ragas-haystack/ragas-haystack/lib/python3.10/site-packages/httpcore/_async/connection.py\", line 171, in aclose\n",
      "    await self._connection.aclose()\n",
      "  File \"/Users/atitaarora/qdrant/workspace/qdrant-rag-eval/workshop-rag-eval-qdrant-ragas-haystack/ragas-haystack/lib/python3.10/site-packages/httpcore/_async/http11.py\", line 265, in aclose\n",
      "    await self._network_stream.aclose()\n",
      "  File \"/Users/atitaarora/qdrant/workspace/qdrant-rag-eval/workshop-rag-eval-qdrant-ragas-haystack/ragas-haystack/lib/python3.10/site-packages/httpcore/_backends/anyio.py\", line 55, in aclose\n",
      "    await self._stream.aclose()\n",
      "  File \"/Users/atitaarora/qdrant/workspace/qdrant-rag-eval/workshop-rag-eval-qdrant-ragas-haystack/ragas-haystack/lib/python3.10/site-packages/anyio/streams/tls.py\", line 202, in aclose\n",
      "    await self.transport_stream.aclose()\n",
      "  File \"/Users/atitaarora/qdrant/workspace/qdrant-rag-eval/workshop-rag-eval-qdrant-ragas-haystack/ragas-haystack/lib/python3.10/site-packages/anyio/_backends/_asyncio.py\", line 1202, in aclose\n",
      "    self._transport.close()\n",
      "  File \"/Library/Frameworks/Python.framework/Versions/3.10/lib/python3.10/asyncio/selector_events.py\", line 698, in close\n",
      "    self._loop.call_soon(self._call_connection_lost, None)\n",
      "  File \"/Library/Frameworks/Python.framework/Versions/3.10/lib/python3.10/asyncio/base_events.py\", line 750, in call_soon\n",
      "    self._check_closed()\n",
      "  File \"/Library/Frameworks/Python.framework/Versions/3.10/lib/python3.10/asyncio/base_events.py\", line 515, in _check_closed\n",
      "    raise RuntimeError('Event loop is closed')\n",
      "RuntimeError: Event loop is closed\n",
      "Task exception was never retrieved\n",
      "future: <Task finished name='Task-303' coro=<AsyncClient.aclose() done, defined at /Users/atitaarora/qdrant/workspace/qdrant-rag-eval/workshop-rag-eval-qdrant-ragas-haystack/ragas-haystack/lib/python3.10/site-packages/httpx/_client.py:2011> exception=RuntimeError('Event loop is closed')>\n",
      "Traceback (most recent call last):\n",
      "  File \"/Users/atitaarora/qdrant/workspace/qdrant-rag-eval/workshop-rag-eval-qdrant-ragas-haystack/ragas-haystack/lib/python3.10/site-packages/httpx/_client.py\", line 2018, in aclose\n",
      "    await self._transport.aclose()\n",
      "  File \"/Users/atitaarora/qdrant/workspace/qdrant-rag-eval/workshop-rag-eval-qdrant-ragas-haystack/ragas-haystack/lib/python3.10/site-packages/httpx/_transports/default.py\", line 385, in aclose\n",
      "    await self._pool.aclose()\n",
      "  File \"/Users/atitaarora/qdrant/workspace/qdrant-rag-eval/workshop-rag-eval-qdrant-ragas-haystack/ragas-haystack/lib/python3.10/site-packages/httpcore/_async/connection_pool.py\", line 313, in aclose\n",
      "    await self._close_connections(closing_connections)\n",
      "  File \"/Users/atitaarora/qdrant/workspace/qdrant-rag-eval/workshop-rag-eval-qdrant-ragas-haystack/ragas-haystack/lib/python3.10/site-packages/httpcore/_async/connection_pool.py\", line 305, in _close_connections\n",
      "    await connection.aclose()\n",
      "  File \"/Users/atitaarora/qdrant/workspace/qdrant-rag-eval/workshop-rag-eval-qdrant-ragas-haystack/ragas-haystack/lib/python3.10/site-packages/httpcore/_async/connection.py\", line 171, in aclose\n",
      "    await self._connection.aclose()\n",
      "  File \"/Users/atitaarora/qdrant/workspace/qdrant-rag-eval/workshop-rag-eval-qdrant-ragas-haystack/ragas-haystack/lib/python3.10/site-packages/httpcore/_async/http11.py\", line 265, in aclose\n",
      "    await self._network_stream.aclose()\n",
      "  File \"/Users/atitaarora/qdrant/workspace/qdrant-rag-eval/workshop-rag-eval-qdrant-ragas-haystack/ragas-haystack/lib/python3.10/site-packages/httpcore/_backends/anyio.py\", line 55, in aclose\n",
      "    await self._stream.aclose()\n",
      "  File \"/Users/atitaarora/qdrant/workspace/qdrant-rag-eval/workshop-rag-eval-qdrant-ragas-haystack/ragas-haystack/lib/python3.10/site-packages/anyio/streams/tls.py\", line 202, in aclose\n",
      "    await self.transport_stream.aclose()\n",
      "  File \"/Users/atitaarora/qdrant/workspace/qdrant-rag-eval/workshop-rag-eval-qdrant-ragas-haystack/ragas-haystack/lib/python3.10/site-packages/anyio/_backends/_asyncio.py\", line 1202, in aclose\n",
      "    self._transport.close()\n",
      "  File \"/Library/Frameworks/Python.framework/Versions/3.10/lib/python3.10/asyncio/selector_events.py\", line 698, in close\n",
      "    self._loop.call_soon(self._call_connection_lost, None)\n",
      "  File \"/Library/Frameworks/Python.framework/Versions/3.10/lib/python3.10/asyncio/base_events.py\", line 750, in call_soon\n",
      "    self._check_closed()\n",
      "  File \"/Library/Frameworks/Python.framework/Versions/3.10/lib/python3.10/asyncio/base_events.py\", line 515, in _check_closed\n",
      "    raise RuntimeError('Event loop is closed')\n",
      "RuntimeError: Event loop is closed\n"
     ]
    },
    {
     "data": {
      "application/vnd.jupyter.widget-view+json": {
       "model_id": "8df346e483f745f48a09e64327c9a121",
       "version_major": 2,
       "version_minor": 0
      },
      "text/plain": [
       "Evaluating:   0%|          | 0/10 [00:00<?, ?it/s]"
      ]
     },
     "metadata": {},
     "output_type": "display_data"
    },
    {
     "data": {
      "application/vnd.jupyter.widget-view+json": {
       "model_id": "c9a8e73142e740a98f24b43e5bc60c41",
       "version_major": 2,
       "version_minor": 0
      },
      "text/plain": [
       "Evaluating:   0%|          | 0/10 [00:00<?, ?it/s]"
      ]
     },
     "metadata": {},
     "output_type": "display_data"
    },
    {
     "data": {
      "application/vnd.jupyter.widget-view+json": {
       "model_id": "77f1b4fa3a8d4b07ab669829e8f38de9",
       "version_major": 2,
       "version_minor": 0
      },
      "text/plain": [
       "Evaluating:   0%|          | 0/10 [00:00<?, ?it/s]"
      ]
     },
     "metadata": {},
     "output_type": "display_data"
    },
    {
     "data": {
      "application/vnd.jupyter.widget-view+json": {
       "model_id": "49ad09ca86074b6fb1505ca51ce3181d",
       "version_major": 2,
       "version_minor": 0
      },
      "text/plain": [
       "Evaluating:   0%|          | 0/10 [00:00<?, ?it/s]"
      ]
     },
     "metadata": {},
     "output_type": "display_data"
    },
    {
     "name": "stdout",
     "output_type": "stream",
     "text": [
      "                  Evaluator  Index        Metric Name Score\n",
      "0       precision_evaluator      0  context_precision   1.0\n",
      "1       precision_evaluator      1  context_precision   1.0\n",
      "2       precision_evaluator      2  context_precision   1.0\n",
      "3       precision_evaluator      3  context_precision   1.0\n",
      "4       precision_evaluator      4  context_precision   1.0\n",
      "..                      ...    ...                ...   ...\n",
      "85  aspect_critic_evaluator      5           Toxicity     0\n",
      "86  aspect_critic_evaluator      6           Toxicity     0\n",
      "87  aspect_critic_evaluator      7           Toxicity     0\n",
      "88  aspect_critic_evaluator      8           Toxicity     0\n",
      "89  aspect_critic_evaluator      9           Toxicity     0\n",
      "\n",
      "[90 rows x 4 columns]\n"
     ]
    }
   ],
   "source": [
    "## Run evaluation for Retreival Window Size 3 evaluation dataset\n",
    "results_512_3 = evaluate_eval_dataset(eval_dataset_512_3)\n",
    "evaluation_result_df_512_3 = evaluation_results_to_dataframe(results_512_3)\n",
    "print(evaluation_result_df_512_3)\n",
    "merged_df_512_3 = merge_eval_and_metrics_dataset(eval_dataset_512_3 , evaluation_result_df_512_3)"
   ]
  },
  {
   "cell_type": "code",
   "execution_count": 91,
   "metadata": {},
   "outputs": [
    {
     "data": {
      "text/html": [
       "<div>\n",
       "<style scoped>\n",
       "    .dataframe tbody tr th:only-of-type {\n",
       "        vertical-align: middle;\n",
       "    }\n",
       "\n",
       "    .dataframe tbody tr th {\n",
       "        vertical-align: top;\n",
       "    }\n",
       "\n",
       "    .dataframe thead th {\n",
       "        text-align: right;\n",
       "    }\n",
       "</style>\n",
       "<table border=\"1\" class=\"dataframe\">\n",
       "  <thead>\n",
       "    <tr style=\"text-align: right;\">\n",
       "      <th></th>\n",
       "      <th>Index</th>\n",
       "      <th>question</th>\n",
       "      <th>answer</th>\n",
       "      <th>contexts</th>\n",
       "      <th>ground_truth</th>\n",
       "      <th>answer_relevancy_evaluator</th>\n",
       "      <th>aspect_critic_evaluator</th>\n",
       "      <th>context_utilization_evaluator</th>\n",
       "      <th>correctness_evaluator</th>\n",
       "      <th>faithfullness_evaluator</th>\n",
       "      <th>precision_evaluator</th>\n",
       "      <th>recall_evaluator</th>\n",
       "      <th>relevancy_evaluator</th>\n",
       "      <th>similarity_evaluator</th>\n",
       "    </tr>\n",
       "  </thead>\n",
       "  <tbody>\n",
       "    <tr>\n",
       "      <th>0</th>\n",
       "      <td>0</td>\n",
       "      <td>What is vaccum optimizer ?</td>\n",
       "      <td>The Vacuum Optimizer in Qdrant is used to addr...</td>\n",
       "      <td>[document:--- title: Optimizer weight: 70 alia...</td>\n",
       "      <td>The Vacuum Optimizer is a feature in the Qdran...</td>\n",
       "      <td>0.894643</td>\n",
       "      <td>0</td>\n",
       "      <td>1.0</td>\n",
       "      <td>0.826936</td>\n",
       "      <td>1.0</td>\n",
       "      <td>1.0</td>\n",
       "      <td>1.0</td>\n",
       "      <td>0.011765</td>\n",
       "      <td>True</td>\n",
       "    </tr>\n",
       "    <tr>\n",
       "      <th>1</th>\n",
       "      <td>1</td>\n",
       "      <td>Tell me about ‘always_ram’ parameter?</td>\n",
       "      <td>The `always_ram` parameter in the context of q...</td>\n",
       "      <td>[document:vectorsConfig: new VectorParams { Si...</td>\n",
       "      <td>In the context of vector quantization in Qdran...</td>\n",
       "      <td>0.878536</td>\n",
       "      <td>0</td>\n",
       "      <td>1.0</td>\n",
       "      <td>0.849971</td>\n",
       "      <td>0.666667</td>\n",
       "      <td>1.0</td>\n",
       "      <td>1.0</td>\n",
       "      <td>0.046512</td>\n",
       "      <td>True</td>\n",
       "    </tr>\n",
       "    <tr>\n",
       "      <th>2</th>\n",
       "      <td>2</td>\n",
       "      <td>What is difference between scalar and product ...</td>\n",
       "      <td>Scalar Quantization and Product Quantization a...</td>\n",
       "      <td>[document:s&lt;/td&gt; &lt;td&gt;474 s&lt;/td&gt; &lt;/tr&gt; &lt;/tbody&gt;...</td>\n",
       "      <td>While both methods aim to reduce the memory fo...</td>\n",
       "      <td>0.86862</td>\n",
       "      <td>0</td>\n",
       "      <td>1.0</td>\n",
       "      <td>0.70648</td>\n",
       "      <td>1.0</td>\n",
       "      <td>1.0</td>\n",
       "      <td>1.0</td>\n",
       "      <td>0.059701</td>\n",
       "      <td>True</td>\n",
       "    </tr>\n",
       "    <tr>\n",
       "      <th>3</th>\n",
       "      <td>3</td>\n",
       "      <td>What is ‘best_score’ strategy?</td>\n",
       "      <td>The 'best_score' strategy is a new recommendat...</td>\n",
       "      <td>[document:step happens very fast, the performa...</td>\n",
       "      <td>The `best_score` strategy is based on the idea...</td>\n",
       "      <td>0.978604</td>\n",
       "      <td>0</td>\n",
       "      <td>1.0</td>\n",
       "      <td>0.7737</td>\n",
       "      <td>1.0</td>\n",
       "      <td>1.0</td>\n",
       "      <td>1.0</td>\n",
       "      <td>0.013699</td>\n",
       "      <td>True</td>\n",
       "    </tr>\n",
       "    <tr>\n",
       "      <th>4</th>\n",
       "      <td>4</td>\n",
       "      <td>How does oversampling helps?</td>\n",
       "      <td>Oversampling helps to control the precision of...</td>\n",
       "      <td>[document:if we're using smaller models that a...</td>\n",
       "      <td>Defines how many extra vectors should be pre-s...</td>\n",
       "      <td>0.903746</td>\n",
       "      <td>0</td>\n",
       "      <td>1.0</td>\n",
       "      <td>0.805451</td>\n",
       "      <td>0.5</td>\n",
       "      <td>1.0</td>\n",
       "      <td>0.666667</td>\n",
       "      <td>0.074074</td>\n",
       "      <td>False</td>\n",
       "    </tr>\n",
       "    <tr>\n",
       "      <th>5</th>\n",
       "      <td>5</td>\n",
       "      <td>What is the purpose of ‘CreatePayloadIndexAsync’?</td>\n",
       "      <td>The purpose of the `CreatePayloadIndexAsync` f...</td>\n",
       "      <td>[document:Some(Operation::SetPayload(SetPayloa...</td>\n",
       "      <td>CreatePayloadIndexAsync is a method in the Qdr...</td>\n",
       "      <td>0.979174</td>\n",
       "      <td>0</td>\n",
       "      <td>1.0</td>\n",
       "      <td>0.734945</td>\n",
       "      <td>0.666667</td>\n",
       "      <td>1.0</td>\n",
       "      <td>0.333333</td>\n",
       "      <td>0.009259</td>\n",
       "      <td>False</td>\n",
       "    </tr>\n",
       "    <tr>\n",
       "      <th>6</th>\n",
       "      <td>6</td>\n",
       "      <td>What is the purpose of ef_construct in HNSW ?</td>\n",
       "      <td>The `ef_construct` parameter in HNSW (Hierarch...</td>\n",
       "      <td>[document:), ) ``` ```typescript client.update...</td>\n",
       "      <td>In HNSW algorithm the ef_construct parameter i...</td>\n",
       "      <td>0.9552</td>\n",
       "      <td>0</td>\n",
       "      <td>1.0</td>\n",
       "      <td>0.482904</td>\n",
       "      <td>0.833333</td>\n",
       "      <td>1.0</td>\n",
       "      <td>0.333333</td>\n",
       "      <td>0.011494</td>\n",
       "      <td>True</td>\n",
       "    </tr>\n",
       "    <tr>\n",
       "      <th>7</th>\n",
       "      <td>7</td>\n",
       "      <td>How do you use ‘ordering’ parameter?</td>\n",
       "      <td>To use the 'ordering' parameter, you can speci...</td>\n",
       "      <td>[document:can be freely reordered. - `medium` ...</td>\n",
       "      <td>Write ordering can be specified for any write ...</td>\n",
       "      <td>0.842125</td>\n",
       "      <td>0</td>\n",
       "      <td>1.0</td>\n",
       "      <td>0.732848</td>\n",
       "      <td>0.388889</td>\n",
       "      <td>1.0</td>\n",
       "      <td>1.0</td>\n",
       "      <td>0.00885</td>\n",
       "      <td>False</td>\n",
       "    </tr>\n",
       "    <tr>\n",
       "      <th>8</th>\n",
       "      <td>8</td>\n",
       "      <td>What is significance of ‘on_disk_payload’ sett...</td>\n",
       "      <td>The 'on_disk_payload' setting in Qdrant determ...</td>\n",
       "      <td>[document:as cloud, happening when users were ...</td>\n",
       "      <td>The `on_disk_payload` setting in the storage c...</td>\n",
       "      <td>0.88227</td>\n",
       "      <td>0</td>\n",
       "      <td>1.0</td>\n",
       "      <td>0.768304</td>\n",
       "      <td>0.0</td>\n",
       "      <td>1.0</td>\n",
       "      <td>1.0</td>\n",
       "      <td>0.022989</td>\n",
       "      <td>False</td>\n",
       "    </tr>\n",
       "    <tr>\n",
       "      <th>9</th>\n",
       "      <td>9</td>\n",
       "      <td>What is the impact of ‘write_consistency_facto...</td>\n",
       "      <td>The `write_consistency_factor` in Qdrant repre...</td>\n",
       "      <td>[document:request dispatches all operations ac...</td>\n",
       "      <td>The `write_consistency_factor` parameter in a ...</td>\n",
       "      <td>0.904315</td>\n",
       "      <td>0</td>\n",
       "      <td>1.0</td>\n",
       "      <td>0.85995</td>\n",
       "      <td>0.8</td>\n",
       "      <td>1.0</td>\n",
       "      <td>1.0</td>\n",
       "      <td>0.016949</td>\n",
       "      <td>True</td>\n",
       "    </tr>\n",
       "  </tbody>\n",
       "</table>\n",
       "</div>"
      ],
      "text/plain": [
       "   Index                                           question  \\\n",
       "0      0                         What is vaccum optimizer ?   \n",
       "1      1              Tell me about ‘always_ram’ parameter?   \n",
       "2      2  What is difference between scalar and product ...   \n",
       "3      3                     What is ‘best_score’ strategy?   \n",
       "4      4                       How does oversampling helps?   \n",
       "5      5  What is the purpose of ‘CreatePayloadIndexAsync’?   \n",
       "6      6      What is the purpose of ef_construct in HNSW ?   \n",
       "7      7               How do you use ‘ordering’ parameter?   \n",
       "8      8  What is significance of ‘on_disk_payload’ sett...   \n",
       "9      9  What is the impact of ‘write_consistency_facto...   \n",
       "\n",
       "                                              answer  \\\n",
       "0  The Vacuum Optimizer in Qdrant is used to addr...   \n",
       "1  The `always_ram` parameter in the context of q...   \n",
       "2  Scalar Quantization and Product Quantization a...   \n",
       "3  The 'best_score' strategy is a new recommendat...   \n",
       "4  Oversampling helps to control the precision of...   \n",
       "5  The purpose of the `CreatePayloadIndexAsync` f...   \n",
       "6  The `ef_construct` parameter in HNSW (Hierarch...   \n",
       "7  To use the 'ordering' parameter, you can speci...   \n",
       "8  The 'on_disk_payload' setting in Qdrant determ...   \n",
       "9  The `write_consistency_factor` in Qdrant repre...   \n",
       "\n",
       "                                            contexts  \\\n",
       "0  [document:--- title: Optimizer weight: 70 alia...   \n",
       "1  [document:vectorsConfig: new VectorParams { Si...   \n",
       "2  [document:s</td> <td>474 s</td> </tr> </tbody>...   \n",
       "3  [document:step happens very fast, the performa...   \n",
       "4  [document:if we're using smaller models that a...   \n",
       "5  [document:Some(Operation::SetPayload(SetPayloa...   \n",
       "6  [document:), ) ``` ```typescript client.update...   \n",
       "7  [document:can be freely reordered. - `medium` ...   \n",
       "8  [document:as cloud, happening when users were ...   \n",
       "9  [document:request dispatches all operations ac...   \n",
       "\n",
       "                                        ground_truth  \\\n",
       "0  The Vacuum Optimizer is a feature in the Qdran...   \n",
       "1  In the context of vector quantization in Qdran...   \n",
       "2  While both methods aim to reduce the memory fo...   \n",
       "3  The `best_score` strategy is based on the idea...   \n",
       "4  Defines how many extra vectors should be pre-s...   \n",
       "5  CreatePayloadIndexAsync is a method in the Qdr...   \n",
       "6  In HNSW algorithm the ef_construct parameter i...   \n",
       "7  Write ordering can be specified for any write ...   \n",
       "8  The `on_disk_payload` setting in the storage c...   \n",
       "9  The `write_consistency_factor` parameter in a ...   \n",
       "\n",
       "  answer_relevancy_evaluator aspect_critic_evaluator  \\\n",
       "0                   0.894643                       0   \n",
       "1                   0.878536                       0   \n",
       "2                    0.86862                       0   \n",
       "3                   0.978604                       0   \n",
       "4                   0.903746                       0   \n",
       "5                   0.979174                       0   \n",
       "6                     0.9552                       0   \n",
       "7                   0.842125                       0   \n",
       "8                    0.88227                       0   \n",
       "9                   0.904315                       0   \n",
       "\n",
       "  context_utilization_evaluator correctness_evaluator faithfullness_evaluator  \\\n",
       "0                           1.0              0.826936                     1.0   \n",
       "1                           1.0              0.849971                0.666667   \n",
       "2                           1.0               0.70648                     1.0   \n",
       "3                           1.0                0.7737                     1.0   \n",
       "4                           1.0              0.805451                     0.5   \n",
       "5                           1.0              0.734945                0.666667   \n",
       "6                           1.0              0.482904                0.833333   \n",
       "7                           1.0              0.732848                0.388889   \n",
       "8                           1.0              0.768304                     0.0   \n",
       "9                           1.0               0.85995                     0.8   \n",
       "\n",
       "  precision_evaluator recall_evaluator relevancy_evaluator  \\\n",
       "0                 1.0              1.0            0.011765   \n",
       "1                 1.0              1.0            0.046512   \n",
       "2                 1.0              1.0            0.059701   \n",
       "3                 1.0              1.0            0.013699   \n",
       "4                 1.0         0.666667            0.074074   \n",
       "5                 1.0         0.333333            0.009259   \n",
       "6                 1.0         0.333333            0.011494   \n",
       "7                 1.0              1.0             0.00885   \n",
       "8                 1.0              1.0            0.022989   \n",
       "9                 1.0              1.0            0.016949   \n",
       "\n",
       "  similarity_evaluator  \n",
       "0                 True  \n",
       "1                 True  \n",
       "2                 True  \n",
       "3                 True  \n",
       "4                False  \n",
       "5                False  \n",
       "6                 True  \n",
       "7                False  \n",
       "8                False  \n",
       "9                 True  "
      ]
     },
     "execution_count": 91,
     "metadata": {},
     "output_type": "execute_result"
    }
   ],
   "source": [
    "merged_df_512_3"
   ]
  },
  {
   "cell_type": "code",
   "execution_count": 92,
   "metadata": {},
   "outputs": [],
   "source": [
    "merged_df_512_3.to_csv(\"eval_results_512_3.csv\")"
   ]
  },
  {
   "cell_type": "markdown",
   "metadata": {
    "id": "aj_q-Yn7yB56"
   },
   "source": [
    "### **15. Improvision step by modifying the number of chunks retrieved to 4 and recreate the evaluation dataset**"
   ]
  },
  {
   "cell_type": "code",
   "execution_count": 93,
   "metadata": {
    "id": "54poVxIuyB56"
   },
   "outputs": [
    {
     "name": "stderr",
     "output_type": "stream",
     "text": [
      "Calculating embeddings: 100%|█████████████████████████████████████████████████████████████████████████████████████████████████████████████████████████████████████████| 1/1 [00:00<00:00,  2.19it/s]\n",
      "Calculating embeddings: 100%|█████████████████████████████████████████████████████████████████████████████████████████████████████████████████████████████████████████| 1/1 [00:00<00:00, 31.99it/s]\n",
      "Calculating embeddings: 100%|█████████████████████████████████████████████████████████████████████████████████████████████████████████████████████████████████████████| 1/1 [00:00<00:00, 25.64it/s]\n",
      "Calculating embeddings: 100%|█████████████████████████████████████████████████████████████████████████████████████████████████████████████████████████████████████████| 1/1 [00:00<00:00, 22.55it/s]\n",
      "Calculating embeddings: 100%|█████████████████████████████████████████████████████████████████████████████████████████████████████████████████████████████████████████| 1/1 [00:00<00:00, 33.27it/s]\n",
      "Calculating embeddings: 100%|█████████████████████████████████████████████████████████████████████████████████████████████████████████████████████████████████████████| 1/1 [00:00<00:00, 24.96it/s]\n",
      "Calculating embeddings: 100%|█████████████████████████████████████████████████████████████████████████████████████████████████████████████████████████████████████████| 1/1 [00:00<00:00, 25.27it/s]\n",
      "Calculating embeddings: 100%|█████████████████████████████████████████████████████████████████████████████████████████████████████████████████████████████████████████| 1/1 [00:00<00:00, 30.25it/s]\n",
      "Calculating embeddings: 100%|█████████████████████████████████████████████████████████████████████████████████████████████████████████████████████████████████████████| 1/1 [00:00<00:00, 24.43it/s]\n",
      "Calculating embeddings: 100%|█████████████████████████████████████████████████████████████████████████████████████████████████████████████████████████████████████████| 1/1 [00:00<00:00, 22.63it/s]\n"
     ]
    }
   ],
   "source": [
    "## Define the Config for generating the Eval dataset as below :\n",
    "\n",
    "# loading the eval dataset from HF\n",
    "#qdrant_qna_dataset = load_dataset(\"atitaarora/qdrant_doc_qna\", split=\"train\")\n",
    "\n",
    "EVAL_SIZE = 10\n",
    "\n",
    "RETRIEVAL_SIZE_4 = 4\n",
    "\n",
    "#print(qdrant_qna_dataset.column_names)\n",
    "\n",
    "## The dataset used to evaluate RAG using RAGAS\n",
    "## Note this is the dataset needed for evaluation hence has to be recreated everytime changes to RAG config is made\n",
    "rag_eval_dataset_512_4 = create_eval_dataset(qdrant_qna_dataset,EVAL_SIZE,RETRIEVAL_SIZE_4)"
   ]
  },
  {
   "cell_type": "code",
   "execution_count": 94,
   "metadata": {
    "colab": {
     "referenced_widgets": [
      "48a8a037bac14c759ddb5318eeb0f380"
     ]
    },
    "id": "F1bG8f20yB56",
    "outputId": "cd5f44c9-5c00-4b07-ea50-173ec4adc0d3"
   },
   "outputs": [
    {
     "data": {
      "application/vnd.jupyter.widget-view+json": {
       "model_id": "e2094d2e8e33404abc5e3d348109b21e",
       "version_major": 2,
       "version_minor": 0
      },
      "text/plain": [
       "Creating CSV from Arrow format:   0%|          | 0/1 [00:00<?, ?ba/s]"
      ]
     },
     "metadata": {},
     "output_type": "display_data"
    },
    {
     "data": {
      "text/plain": [
       "151264"
      ]
     },
     "execution_count": 94,
     "metadata": {},
     "output_type": "execute_result"
    }
   ],
   "source": [
    "#rag_response_data\n",
    "\n",
    "## The dataset used to evaluate RAG using RAGAS\n",
    "## Note this is the dataset needed for evaluation hence has to be recreated everytime changes to RAG config is made\n",
    "rag_response_dataset_512_4 = Dataset.from_dict(rag_eval_dataset_512_4)\n",
    "## Saving the evaluation dataset offline\n",
    "rag_response_dataset_512_4.to_csv('rag_response_512_4.csv')"
   ]
  },
  {
   "cell_type": "code",
   "execution_count": 95,
   "metadata": {
    "colab": {
     "base_uri": "https://localhost:8080/",
     "height": 363
    },
    "id": "YqK3-vOKyB56",
    "outputId": "04c924bd-d381-4026-f8aa-95131519aa8e"
   },
   "outputs": [
    {
     "data": {
      "text/html": [
       "<div>\n",
       "<style scoped>\n",
       "    .dataframe tbody tr th:only-of-type {\n",
       "        vertical-align: middle;\n",
       "    }\n",
       "\n",
       "    .dataframe tbody tr th {\n",
       "        vertical-align: top;\n",
       "    }\n",
       "\n",
       "    .dataframe thead th {\n",
       "        text-align: right;\n",
       "    }\n",
       "</style>\n",
       "<table border=\"1\" class=\"dataframe\">\n",
       "  <thead>\n",
       "    <tr style=\"text-align: right;\">\n",
       "      <th></th>\n",
       "      <th>question</th>\n",
       "      <th>answer</th>\n",
       "      <th>contexts</th>\n",
       "      <th>ground_truth</th>\n",
       "    </tr>\n",
       "  </thead>\n",
       "  <tbody>\n",
       "    <tr>\n",
       "      <th>0</th>\n",
       "      <td>What is vaccum optimizer ?</td>\n",
       "      <td>The Vacuum Optimizer in Qdrant is used to addr...</td>\n",
       "      <td>['document:--- title: Optimizer weight: 70 ali...</td>\n",
       "      <td>The Vacuum Optimizer is a feature in the Qdran...</td>\n",
       "    </tr>\n",
       "    <tr>\n",
       "      <th>1</th>\n",
       "      <td>Tell me about ‘always_ram’ parameter?</td>\n",
       "      <td>The `always_ram` parameter in Qdrant determine...</td>\n",
       "      <td>['document:vectorsConfig: new VectorParams { S...</td>\n",
       "      <td>In the context of vector quantization in Qdran...</td>\n",
       "    </tr>\n",
       "    <tr>\n",
       "      <th>2</th>\n",
       "      <td>What is difference between scalar and product ...</td>\n",
       "      <td>Scalar quantization and product quantization a...</td>\n",
       "      <td>['document:s&lt;/td&gt; &lt;td&gt;474 s&lt;/td&gt; &lt;/tr&gt; &lt;/tbody...</td>\n",
       "      <td>While both methods aim to reduce the memory fo...</td>\n",
       "    </tr>\n",
       "    <tr>\n",
       "      <th>3</th>\n",
       "      <td>What is ‘best_score’ strategy?</td>\n",
       "      <td>The 'best_score' strategy is a new recommendat...</td>\n",
       "      <td>['document:step happens very fast, the perform...</td>\n",
       "      <td>The `best_score` strategy is based on the idea...</td>\n",
       "    </tr>\n",
       "    <tr>\n",
       "      <th>4</th>\n",
       "      <td>How does oversampling helps?</td>\n",
       "      <td>Oversampling helps to control the precision of...</td>\n",
       "      <td>[\"document:if we're using smaller models that ...</td>\n",
       "      <td>Defines how many extra vectors should be pre-s...</td>\n",
       "    </tr>\n",
       "    <tr>\n",
       "      <th>5</th>\n",
       "      <td>What is the purpose of ‘CreatePayloadIndexAsync’?</td>\n",
       "      <td>The purpose of the 'CreatePayloadIndexAsync' f...</td>\n",
       "      <td>['document:Some(Operation::SetPayload(SetPaylo...</td>\n",
       "      <td>CreatePayloadIndexAsync is a method in the Qdr...</td>\n",
       "    </tr>\n",
       "    <tr>\n",
       "      <th>6</th>\n",
       "      <td>What is the purpose of ef_construct in HNSW ?</td>\n",
       "      <td>The `ef_construct` parameter in HNSW (Hierarch...</td>\n",
       "      <td>['document:), ) ``` ```typescript client.updat...</td>\n",
       "      <td>In HNSW algorithm the ef_construct parameter i...</td>\n",
       "    </tr>\n",
       "    <tr>\n",
       "      <th>7</th>\n",
       "      <td>How do you use ‘ordering’ parameter?</td>\n",
       "      <td>To use the 'ordering' parameter, you can speci...</td>\n",
       "      <td>['document:can be freely reordered. - `medium`...</td>\n",
       "      <td>Write ordering can be specified for any write ...</td>\n",
       "    </tr>\n",
       "    <tr>\n",
       "      <th>8</th>\n",
       "      <td>What is significance of ‘on_disk_payload’ sett...</td>\n",
       "      <td>The 'on_disk_payload' setting in Qdrant determ...</td>\n",
       "      <td>[\"document:as cloud, happening when users were...</td>\n",
       "      <td>The `on_disk_payload` setting in the storage c...</td>\n",
       "    </tr>\n",
       "    <tr>\n",
       "      <th>9</th>\n",
       "      <td>What is the impact of ‘write_consistency_facto...</td>\n",
       "      <td>The `write_consistency_factor` in Qdrant repre...</td>\n",
       "      <td>['document:request dispatches all operations a...</td>\n",
       "      <td>The `write_consistency_factor` parameter in a ...</td>\n",
       "    </tr>\n",
       "  </tbody>\n",
       "</table>\n",
       "</div>"
      ],
      "text/plain": [
       "                                            question  \\\n",
       "0                         What is vaccum optimizer ?   \n",
       "1              Tell me about ‘always_ram’ parameter?   \n",
       "2  What is difference between scalar and product ...   \n",
       "3                     What is ‘best_score’ strategy?   \n",
       "4                       How does oversampling helps?   \n",
       "5  What is the purpose of ‘CreatePayloadIndexAsync’?   \n",
       "6      What is the purpose of ef_construct in HNSW ?   \n",
       "7               How do you use ‘ordering’ parameter?   \n",
       "8  What is significance of ‘on_disk_payload’ sett...   \n",
       "9  What is the impact of ‘write_consistency_facto...   \n",
       "\n",
       "                                              answer  \\\n",
       "0  The Vacuum Optimizer in Qdrant is used to addr...   \n",
       "1  The `always_ram` parameter in Qdrant determine...   \n",
       "2  Scalar quantization and product quantization a...   \n",
       "3  The 'best_score' strategy is a new recommendat...   \n",
       "4  Oversampling helps to control the precision of...   \n",
       "5  The purpose of the 'CreatePayloadIndexAsync' f...   \n",
       "6  The `ef_construct` parameter in HNSW (Hierarch...   \n",
       "7  To use the 'ordering' parameter, you can speci...   \n",
       "8  The 'on_disk_payload' setting in Qdrant determ...   \n",
       "9  The `write_consistency_factor` in Qdrant repre...   \n",
       "\n",
       "                                            contexts  \\\n",
       "0  ['document:--- title: Optimizer weight: 70 ali...   \n",
       "1  ['document:vectorsConfig: new VectorParams { S...   \n",
       "2  ['document:s</td> <td>474 s</td> </tr> </tbody...   \n",
       "3  ['document:step happens very fast, the perform...   \n",
       "4  [\"document:if we're using smaller models that ...   \n",
       "5  ['document:Some(Operation::SetPayload(SetPaylo...   \n",
       "6  ['document:), ) ``` ```typescript client.updat...   \n",
       "7  ['document:can be freely reordered. - `medium`...   \n",
       "8  [\"document:as cloud, happening when users were...   \n",
       "9  ['document:request dispatches all operations a...   \n",
       "\n",
       "                                        ground_truth  \n",
       "0  The Vacuum Optimizer is a feature in the Qdran...  \n",
       "1  In the context of vector quantization in Qdran...  \n",
       "2  While both methods aim to reduce the memory fo...  \n",
       "3  The `best_score` strategy is based on the idea...  \n",
       "4  Defines how many extra vectors should be pre-s...  \n",
       "5  CreatePayloadIndexAsync is a method in the Qdr...  \n",
       "6  In HNSW algorithm the ef_construct parameter i...  \n",
       "7  Write ordering can be specified for any write ...  \n",
       "8  The `on_disk_payload` setting in the storage c...  \n",
       "9  The `write_consistency_factor` parameter in a ...  "
      ]
     },
     "execution_count": 95,
     "metadata": {},
     "output_type": "execute_result"
    }
   ],
   "source": [
    "eval_dataset_512_4 = pd.read_csv('rag_response_512_4.csv')\n",
    "eval_dataset_512_4.head(10)"
   ]
  },
  {
   "cell_type": "code",
   "execution_count": 96,
   "metadata": {
    "id": "VGdfM2SKyB56"
   },
   "outputs": [
    {
     "data": {
      "application/vnd.jupyter.widget-view+json": {
       "model_id": "8e17d542a414457482d4cbaa81aabaad",
       "version_major": 2,
       "version_minor": 0
      },
      "text/plain": [
       "Evaluating:   0%|          | 0/10 [00:00<?, ?it/s]"
      ]
     },
     "metadata": {},
     "output_type": "display_data"
    },
    {
     "data": {
      "application/vnd.jupyter.widget-view+json": {
       "model_id": "0c284e82f1494a299ca4d7624a48c91a",
       "version_major": 2,
       "version_minor": 0
      },
      "text/plain": [
       "Evaluating:   0%|          | 0/10 [00:00<?, ?it/s]"
      ]
     },
     "metadata": {},
     "output_type": "display_data"
    },
    {
     "data": {
      "application/vnd.jupyter.widget-view+json": {
       "model_id": "e30f920888464ce4934076a6a3658fb2",
       "version_major": 2,
       "version_minor": 0
      },
      "text/plain": [
       "Evaluating:   0%|          | 0/10 [00:00<?, ?it/s]"
      ]
     },
     "metadata": {},
     "output_type": "display_data"
    },
    {
     "data": {
      "application/vnd.jupyter.widget-view+json": {
       "model_id": "285b7f73088649d5b6e08f6cc3deb446",
       "version_major": 2,
       "version_minor": 0
      },
      "text/plain": [
       "Evaluating:   0%|          | 0/10 [00:00<?, ?it/s]"
      ]
     },
     "metadata": {},
     "output_type": "display_data"
    },
    {
     "name": "stderr",
     "output_type": "stream",
     "text": [
      "Using 'context_precision' without ground truth will be soon depreciated. Use 'context_utilization' instead\n",
      "Using 'context_precision' without ground truth will be soon depreciated. Use 'context_utilization' instead\n",
      "Using 'context_precision' without ground truth will be soon depreciated. Use 'context_utilization' instead\n",
      "Using 'context_precision' without ground truth will be soon depreciated. Use 'context_utilization' instead\n",
      "Using 'context_precision' without ground truth will be soon depreciated. Use 'context_utilization' instead\n",
      "Using 'context_precision' without ground truth will be soon depreciated. Use 'context_utilization' instead\n",
      "Using 'context_precision' without ground truth will be soon depreciated. Use 'context_utilization' instead\n",
      "Using 'context_precision' without ground truth will be soon depreciated. Use 'context_utilization' instead\n",
      "Using 'context_precision' without ground truth will be soon depreciated. Use 'context_utilization' instead\n",
      "Using 'context_precision' without ground truth will be soon depreciated. Use 'context_utilization' instead\n"
     ]
    },
    {
     "data": {
      "application/vnd.jupyter.widget-view+json": {
       "model_id": "ca33d2ba9d8249e4a4f85e60dc1eac35",
       "version_major": 2,
       "version_minor": 0
      },
      "text/plain": [
       "Evaluating:   0%|          | 0/10 [00:00<?, ?it/s]"
      ]
     },
     "metadata": {},
     "output_type": "display_data"
    },
    {
     "name": "stderr",
     "output_type": "stream",
     "text": [
      "Failed to parse output. Returning None.\n"
     ]
    },
    {
     "data": {
      "application/vnd.jupyter.widget-view+json": {
       "model_id": "b4ce63752bab45c988669c20f46f19ae",
       "version_major": 2,
       "version_minor": 0
      },
      "text/plain": [
       "Evaluating:   0%|          | 0/10 [00:00<?, ?it/s]"
      ]
     },
     "metadata": {},
     "output_type": "display_data"
    },
    {
     "name": "stderr",
     "output_type": "stream",
     "text": [
      "Failed to parse output. Returning None.\n"
     ]
    },
    {
     "data": {
      "application/vnd.jupyter.widget-view+json": {
       "model_id": "f366b60e46cf43058a18fb22b6b0f3f8",
       "version_major": 2,
       "version_minor": 0
      },
      "text/plain": [
       "Evaluating:   0%|          | 0/10 [00:00<?, ?it/s]"
      ]
     },
     "metadata": {},
     "output_type": "display_data"
    },
    {
     "data": {
      "application/vnd.jupyter.widget-view+json": {
       "model_id": "1d1ff2eec6b540c9bd508d8ac55d1e53",
       "version_major": 2,
       "version_minor": 0
      },
      "text/plain": [
       "Evaluating:   0%|          | 0/10 [00:00<?, ?it/s]"
      ]
     },
     "metadata": {},
     "output_type": "display_data"
    },
    {
     "data": {
      "application/vnd.jupyter.widget-view+json": {
       "model_id": "f4f5c98d3ee841b0aadc6cee71d98641",
       "version_major": 2,
       "version_minor": 0
      },
      "text/plain": [
       "Evaluating:   0%|          | 0/10 [00:00<?, ?it/s]"
      ]
     },
     "metadata": {},
     "output_type": "display_data"
    },
    {
     "name": "stderr",
     "output_type": "stream",
     "text": [
      "Task exception was never retrieved\n",
      "future: <Task finished name='Task-1295' coro=<AsyncClient.aclose() done, defined at /Users/atitaarora/qdrant/workspace/qdrant-rag-eval/workshop-rag-eval-qdrant-ragas-haystack/ragas-haystack/lib/python3.10/site-packages/httpx/_client.py:2011> exception=RuntimeError('Event loop is closed')>\n",
      "Traceback (most recent call last):\n",
      "  File \"/Users/atitaarora/qdrant/workspace/qdrant-rag-eval/workshop-rag-eval-qdrant-ragas-haystack/ragas-haystack/lib/python3.10/site-packages/httpx/_client.py\", line 2018, in aclose\n",
      "    await self._transport.aclose()\n",
      "  File \"/Users/atitaarora/qdrant/workspace/qdrant-rag-eval/workshop-rag-eval-qdrant-ragas-haystack/ragas-haystack/lib/python3.10/site-packages/httpx/_transports/default.py\", line 385, in aclose\n",
      "    await self._pool.aclose()\n",
      "  File \"/Users/atitaarora/qdrant/workspace/qdrant-rag-eval/workshop-rag-eval-qdrant-ragas-haystack/ragas-haystack/lib/python3.10/site-packages/httpcore/_async/connection_pool.py\", line 313, in aclose\n",
      "    await self._close_connections(closing_connections)\n",
      "  File \"/Users/atitaarora/qdrant/workspace/qdrant-rag-eval/workshop-rag-eval-qdrant-ragas-haystack/ragas-haystack/lib/python3.10/site-packages/httpcore/_async/connection_pool.py\", line 305, in _close_connections\n",
      "    await connection.aclose()\n",
      "  File \"/Users/atitaarora/qdrant/workspace/qdrant-rag-eval/workshop-rag-eval-qdrant-ragas-haystack/ragas-haystack/lib/python3.10/site-packages/httpcore/_async/connection.py\", line 171, in aclose\n",
      "    await self._connection.aclose()\n",
      "  File \"/Users/atitaarora/qdrant/workspace/qdrant-rag-eval/workshop-rag-eval-qdrant-ragas-haystack/ragas-haystack/lib/python3.10/site-packages/httpcore/_async/http11.py\", line 265, in aclose\n",
      "    await self._network_stream.aclose()\n",
      "  File \"/Users/atitaarora/qdrant/workspace/qdrant-rag-eval/workshop-rag-eval-qdrant-ragas-haystack/ragas-haystack/lib/python3.10/site-packages/httpcore/_backends/anyio.py\", line 55, in aclose\n",
      "    await self._stream.aclose()\n",
      "  File \"/Users/atitaarora/qdrant/workspace/qdrant-rag-eval/workshop-rag-eval-qdrant-ragas-haystack/ragas-haystack/lib/python3.10/site-packages/anyio/streams/tls.py\", line 202, in aclose\n",
      "    await self.transport_stream.aclose()\n",
      "  File \"/Users/atitaarora/qdrant/workspace/qdrant-rag-eval/workshop-rag-eval-qdrant-ragas-haystack/ragas-haystack/lib/python3.10/site-packages/anyio/_backends/_asyncio.py\", line 1202, in aclose\n",
      "    self._transport.close()\n",
      "  File \"/Library/Frameworks/Python.framework/Versions/3.10/lib/python3.10/asyncio/selector_events.py\", line 698, in close\n",
      "    self._loop.call_soon(self._call_connection_lost, None)\n",
      "  File \"/Library/Frameworks/Python.framework/Versions/3.10/lib/python3.10/asyncio/base_events.py\", line 750, in call_soon\n",
      "    self._check_closed()\n",
      "  File \"/Library/Frameworks/Python.framework/Versions/3.10/lib/python3.10/asyncio/base_events.py\", line 515, in _check_closed\n",
      "    raise RuntimeError('Event loop is closed')\n",
      "RuntimeError: Event loop is closed\n",
      "Task exception was never retrieved\n",
      "future: <Task finished name='Task-1296' coro=<AsyncClient.aclose() done, defined at /Users/atitaarora/qdrant/workspace/qdrant-rag-eval/workshop-rag-eval-qdrant-ragas-haystack/ragas-haystack/lib/python3.10/site-packages/httpx/_client.py:2011> exception=RuntimeError('Event loop is closed')>\n",
      "Traceback (most recent call last):\n",
      "  File \"/Users/atitaarora/qdrant/workspace/qdrant-rag-eval/workshop-rag-eval-qdrant-ragas-haystack/ragas-haystack/lib/python3.10/site-packages/httpx/_client.py\", line 2018, in aclose\n",
      "    await self._transport.aclose()\n",
      "  File \"/Users/atitaarora/qdrant/workspace/qdrant-rag-eval/workshop-rag-eval-qdrant-ragas-haystack/ragas-haystack/lib/python3.10/site-packages/httpx/_transports/default.py\", line 385, in aclose\n",
      "    await self._pool.aclose()\n",
      "  File \"/Users/atitaarora/qdrant/workspace/qdrant-rag-eval/workshop-rag-eval-qdrant-ragas-haystack/ragas-haystack/lib/python3.10/site-packages/httpcore/_async/connection_pool.py\", line 313, in aclose\n",
      "    await self._close_connections(closing_connections)\n",
      "  File \"/Users/atitaarora/qdrant/workspace/qdrant-rag-eval/workshop-rag-eval-qdrant-ragas-haystack/ragas-haystack/lib/python3.10/site-packages/httpcore/_async/connection_pool.py\", line 305, in _close_connections\n",
      "    await connection.aclose()\n",
      "  File \"/Users/atitaarora/qdrant/workspace/qdrant-rag-eval/workshop-rag-eval-qdrant-ragas-haystack/ragas-haystack/lib/python3.10/site-packages/httpcore/_async/connection.py\", line 171, in aclose\n",
      "    await self._connection.aclose()\n",
      "  File \"/Users/atitaarora/qdrant/workspace/qdrant-rag-eval/workshop-rag-eval-qdrant-ragas-haystack/ragas-haystack/lib/python3.10/site-packages/httpcore/_async/http11.py\", line 265, in aclose\n",
      "    await self._network_stream.aclose()\n",
      "  File \"/Users/atitaarora/qdrant/workspace/qdrant-rag-eval/workshop-rag-eval-qdrant-ragas-haystack/ragas-haystack/lib/python3.10/site-packages/httpcore/_backends/anyio.py\", line 55, in aclose\n",
      "    await self._stream.aclose()\n",
      "  File \"/Users/atitaarora/qdrant/workspace/qdrant-rag-eval/workshop-rag-eval-qdrant-ragas-haystack/ragas-haystack/lib/python3.10/site-packages/anyio/streams/tls.py\", line 202, in aclose\n",
      "    await self.transport_stream.aclose()\n",
      "  File \"/Users/atitaarora/qdrant/workspace/qdrant-rag-eval/workshop-rag-eval-qdrant-ragas-haystack/ragas-haystack/lib/python3.10/site-packages/anyio/_backends/_asyncio.py\", line 1202, in aclose\n",
      "    self._transport.close()\n",
      "  File \"/Library/Frameworks/Python.framework/Versions/3.10/lib/python3.10/asyncio/selector_events.py\", line 698, in close\n",
      "    self._loop.call_soon(self._call_connection_lost, None)\n",
      "  File \"/Library/Frameworks/Python.framework/Versions/3.10/lib/python3.10/asyncio/base_events.py\", line 750, in call_soon\n",
      "    self._check_closed()\n",
      "  File \"/Library/Frameworks/Python.framework/Versions/3.10/lib/python3.10/asyncio/base_events.py\", line 515, in _check_closed\n",
      "    raise RuntimeError('Event loop is closed')\n",
      "RuntimeError: Event loop is closed\n",
      "Task exception was never retrieved\n",
      "future: <Task finished name='Task-1297' coro=<AsyncClient.aclose() done, defined at /Users/atitaarora/qdrant/workspace/qdrant-rag-eval/workshop-rag-eval-qdrant-ragas-haystack/ragas-haystack/lib/python3.10/site-packages/httpx/_client.py:2011> exception=RuntimeError('Event loop is closed')>\n",
      "Traceback (most recent call last):\n",
      "  File \"/Users/atitaarora/qdrant/workspace/qdrant-rag-eval/workshop-rag-eval-qdrant-ragas-haystack/ragas-haystack/lib/python3.10/site-packages/httpx/_client.py\", line 2018, in aclose\n",
      "    await self._transport.aclose()\n",
      "  File \"/Users/atitaarora/qdrant/workspace/qdrant-rag-eval/workshop-rag-eval-qdrant-ragas-haystack/ragas-haystack/lib/python3.10/site-packages/httpx/_transports/default.py\", line 385, in aclose\n",
      "    await self._pool.aclose()\n",
      "  File \"/Users/atitaarora/qdrant/workspace/qdrant-rag-eval/workshop-rag-eval-qdrant-ragas-haystack/ragas-haystack/lib/python3.10/site-packages/httpcore/_async/connection_pool.py\", line 313, in aclose\n",
      "    await self._close_connections(closing_connections)\n",
      "  File \"/Users/atitaarora/qdrant/workspace/qdrant-rag-eval/workshop-rag-eval-qdrant-ragas-haystack/ragas-haystack/lib/python3.10/site-packages/httpcore/_async/connection_pool.py\", line 305, in _close_connections\n",
      "    await connection.aclose()\n",
      "  File \"/Users/atitaarora/qdrant/workspace/qdrant-rag-eval/workshop-rag-eval-qdrant-ragas-haystack/ragas-haystack/lib/python3.10/site-packages/httpcore/_async/connection.py\", line 171, in aclose\n",
      "    await self._connection.aclose()\n",
      "  File \"/Users/atitaarora/qdrant/workspace/qdrant-rag-eval/workshop-rag-eval-qdrant-ragas-haystack/ragas-haystack/lib/python3.10/site-packages/httpcore/_async/http11.py\", line 265, in aclose\n",
      "    await self._network_stream.aclose()\n",
      "  File \"/Users/atitaarora/qdrant/workspace/qdrant-rag-eval/workshop-rag-eval-qdrant-ragas-haystack/ragas-haystack/lib/python3.10/site-packages/httpcore/_backends/anyio.py\", line 55, in aclose\n",
      "    await self._stream.aclose()\n",
      "  File \"/Users/atitaarora/qdrant/workspace/qdrant-rag-eval/workshop-rag-eval-qdrant-ragas-haystack/ragas-haystack/lib/python3.10/site-packages/anyio/streams/tls.py\", line 202, in aclose\n",
      "    await self.transport_stream.aclose()\n",
      "  File \"/Users/atitaarora/qdrant/workspace/qdrant-rag-eval/workshop-rag-eval-qdrant-ragas-haystack/ragas-haystack/lib/python3.10/site-packages/anyio/_backends/_asyncio.py\", line 1202, in aclose\n",
      "    self._transport.close()\n",
      "  File \"/Library/Frameworks/Python.framework/Versions/3.10/lib/python3.10/asyncio/selector_events.py\", line 698, in close\n",
      "    self._loop.call_soon(self._call_connection_lost, None)\n",
      "  File \"/Library/Frameworks/Python.framework/Versions/3.10/lib/python3.10/asyncio/base_events.py\", line 750, in call_soon\n",
      "    self._check_closed()\n",
      "  File \"/Library/Frameworks/Python.framework/Versions/3.10/lib/python3.10/asyncio/base_events.py\", line 515, in _check_closed\n",
      "    raise RuntimeError('Event loop is closed')\n",
      "RuntimeError: Event loop is closed\n",
      "Task exception was never retrieved\n",
      "future: <Task finished name='Task-1298' coro=<AsyncClient.aclose() done, defined at /Users/atitaarora/qdrant/workspace/qdrant-rag-eval/workshop-rag-eval-qdrant-ragas-haystack/ragas-haystack/lib/python3.10/site-packages/httpx/_client.py:2011> exception=RuntimeError('Event loop is closed')>\n",
      "Traceback (most recent call last):\n",
      "  File \"/Users/atitaarora/qdrant/workspace/qdrant-rag-eval/workshop-rag-eval-qdrant-ragas-haystack/ragas-haystack/lib/python3.10/site-packages/httpx/_client.py\", line 2018, in aclose\n",
      "    await self._transport.aclose()\n",
      "  File \"/Users/atitaarora/qdrant/workspace/qdrant-rag-eval/workshop-rag-eval-qdrant-ragas-haystack/ragas-haystack/lib/python3.10/site-packages/httpx/_transports/default.py\", line 385, in aclose\n",
      "    await self._pool.aclose()\n",
      "  File \"/Users/atitaarora/qdrant/workspace/qdrant-rag-eval/workshop-rag-eval-qdrant-ragas-haystack/ragas-haystack/lib/python3.10/site-packages/httpcore/_async/connection_pool.py\", line 313, in aclose\n",
      "    await self._close_connections(closing_connections)\n",
      "  File \"/Users/atitaarora/qdrant/workspace/qdrant-rag-eval/workshop-rag-eval-qdrant-ragas-haystack/ragas-haystack/lib/python3.10/site-packages/httpcore/_async/connection_pool.py\", line 305, in _close_connections\n",
      "    await connection.aclose()\n",
      "  File \"/Users/atitaarora/qdrant/workspace/qdrant-rag-eval/workshop-rag-eval-qdrant-ragas-haystack/ragas-haystack/lib/python3.10/site-packages/httpcore/_async/connection.py\", line 171, in aclose\n",
      "    await self._connection.aclose()\n",
      "  File \"/Users/atitaarora/qdrant/workspace/qdrant-rag-eval/workshop-rag-eval-qdrant-ragas-haystack/ragas-haystack/lib/python3.10/site-packages/httpcore/_async/http11.py\", line 265, in aclose\n",
      "    await self._network_stream.aclose()\n",
      "  File \"/Users/atitaarora/qdrant/workspace/qdrant-rag-eval/workshop-rag-eval-qdrant-ragas-haystack/ragas-haystack/lib/python3.10/site-packages/httpcore/_backends/anyio.py\", line 55, in aclose\n",
      "    await self._stream.aclose()\n",
      "  File \"/Users/atitaarora/qdrant/workspace/qdrant-rag-eval/workshop-rag-eval-qdrant-ragas-haystack/ragas-haystack/lib/python3.10/site-packages/anyio/streams/tls.py\", line 202, in aclose\n",
      "    await self.transport_stream.aclose()\n",
      "  File \"/Users/atitaarora/qdrant/workspace/qdrant-rag-eval/workshop-rag-eval-qdrant-ragas-haystack/ragas-haystack/lib/python3.10/site-packages/anyio/_backends/_asyncio.py\", line 1202, in aclose\n",
      "    self._transport.close()\n",
      "  File \"/Library/Frameworks/Python.framework/Versions/3.10/lib/python3.10/asyncio/selector_events.py\", line 698, in close\n",
      "    self._loop.call_soon(self._call_connection_lost, None)\n",
      "  File \"/Library/Frameworks/Python.framework/Versions/3.10/lib/python3.10/asyncio/base_events.py\", line 750, in call_soon\n",
      "    self._check_closed()\n",
      "  File \"/Library/Frameworks/Python.framework/Versions/3.10/lib/python3.10/asyncio/base_events.py\", line 515, in _check_closed\n",
      "    raise RuntimeError('Event loop is closed')\n",
      "RuntimeError: Event loop is closed\n",
      "Task exception was never retrieved\n",
      "future: <Task finished name='Task-1299' coro=<AsyncClient.aclose() done, defined at /Users/atitaarora/qdrant/workspace/qdrant-rag-eval/workshop-rag-eval-qdrant-ragas-haystack/ragas-haystack/lib/python3.10/site-packages/httpx/_client.py:2011> exception=RuntimeError('Event loop is closed')>\n",
      "Traceback (most recent call last):\n",
      "  File \"/Users/atitaarora/qdrant/workspace/qdrant-rag-eval/workshop-rag-eval-qdrant-ragas-haystack/ragas-haystack/lib/python3.10/site-packages/httpx/_client.py\", line 2018, in aclose\n",
      "    await self._transport.aclose()\n",
      "  File \"/Users/atitaarora/qdrant/workspace/qdrant-rag-eval/workshop-rag-eval-qdrant-ragas-haystack/ragas-haystack/lib/python3.10/site-packages/httpx/_transports/default.py\", line 385, in aclose\n",
      "    await self._pool.aclose()\n",
      "  File \"/Users/atitaarora/qdrant/workspace/qdrant-rag-eval/workshop-rag-eval-qdrant-ragas-haystack/ragas-haystack/lib/python3.10/site-packages/httpcore/_async/connection_pool.py\", line 313, in aclose\n",
      "    await self._close_connections(closing_connections)\n",
      "  File \"/Users/atitaarora/qdrant/workspace/qdrant-rag-eval/workshop-rag-eval-qdrant-ragas-haystack/ragas-haystack/lib/python3.10/site-packages/httpcore/_async/connection_pool.py\", line 305, in _close_connections\n",
      "    await connection.aclose()\n",
      "  File \"/Users/atitaarora/qdrant/workspace/qdrant-rag-eval/workshop-rag-eval-qdrant-ragas-haystack/ragas-haystack/lib/python3.10/site-packages/httpcore/_async/connection.py\", line 171, in aclose\n",
      "    await self._connection.aclose()\n",
      "  File \"/Users/atitaarora/qdrant/workspace/qdrant-rag-eval/workshop-rag-eval-qdrant-ragas-haystack/ragas-haystack/lib/python3.10/site-packages/httpcore/_async/http11.py\", line 265, in aclose\n",
      "    await self._network_stream.aclose()\n",
      "  File \"/Users/atitaarora/qdrant/workspace/qdrant-rag-eval/workshop-rag-eval-qdrant-ragas-haystack/ragas-haystack/lib/python3.10/site-packages/httpcore/_backends/anyio.py\", line 55, in aclose\n",
      "    await self._stream.aclose()\n",
      "  File \"/Users/atitaarora/qdrant/workspace/qdrant-rag-eval/workshop-rag-eval-qdrant-ragas-haystack/ragas-haystack/lib/python3.10/site-packages/anyio/streams/tls.py\", line 202, in aclose\n",
      "    await self.transport_stream.aclose()\n",
      "  File \"/Users/atitaarora/qdrant/workspace/qdrant-rag-eval/workshop-rag-eval-qdrant-ragas-haystack/ragas-haystack/lib/python3.10/site-packages/anyio/_backends/_asyncio.py\", line 1202, in aclose\n",
      "    self._transport.close()\n",
      "  File \"/Library/Frameworks/Python.framework/Versions/3.10/lib/python3.10/asyncio/selector_events.py\", line 698, in close\n",
      "    self._loop.call_soon(self._call_connection_lost, None)\n",
      "  File \"/Library/Frameworks/Python.framework/Versions/3.10/lib/python3.10/asyncio/base_events.py\", line 750, in call_soon\n",
      "    self._check_closed()\n",
      "  File \"/Library/Frameworks/Python.framework/Versions/3.10/lib/python3.10/asyncio/base_events.py\", line 515, in _check_closed\n",
      "    raise RuntimeError('Event loop is closed')\n",
      "RuntimeError: Event loop is closed\n",
      "Task exception was never retrieved\n",
      "future: <Task finished name='Task-1301' coro=<AsyncClient.aclose() done, defined at /Users/atitaarora/qdrant/workspace/qdrant-rag-eval/workshop-rag-eval-qdrant-ragas-haystack/ragas-haystack/lib/python3.10/site-packages/httpx/_client.py:2011> exception=RuntimeError('Event loop is closed')>\n",
      "Traceback (most recent call last):\n",
      "  File \"/Users/atitaarora/qdrant/workspace/qdrant-rag-eval/workshop-rag-eval-qdrant-ragas-haystack/ragas-haystack/lib/python3.10/site-packages/httpx/_client.py\", line 2018, in aclose\n",
      "    await self._transport.aclose()\n",
      "  File \"/Users/atitaarora/qdrant/workspace/qdrant-rag-eval/workshop-rag-eval-qdrant-ragas-haystack/ragas-haystack/lib/python3.10/site-packages/httpx/_transports/default.py\", line 385, in aclose\n",
      "    await self._pool.aclose()\n",
      "  File \"/Users/atitaarora/qdrant/workspace/qdrant-rag-eval/workshop-rag-eval-qdrant-ragas-haystack/ragas-haystack/lib/python3.10/site-packages/httpcore/_async/connection_pool.py\", line 313, in aclose\n",
      "    await self._close_connections(closing_connections)\n",
      "  File \"/Users/atitaarora/qdrant/workspace/qdrant-rag-eval/workshop-rag-eval-qdrant-ragas-haystack/ragas-haystack/lib/python3.10/site-packages/httpcore/_async/connection_pool.py\", line 305, in _close_connections\n",
      "    await connection.aclose()\n",
      "  File \"/Users/atitaarora/qdrant/workspace/qdrant-rag-eval/workshop-rag-eval-qdrant-ragas-haystack/ragas-haystack/lib/python3.10/site-packages/httpcore/_async/connection.py\", line 171, in aclose\n",
      "    await self._connection.aclose()\n",
      "  File \"/Users/atitaarora/qdrant/workspace/qdrant-rag-eval/workshop-rag-eval-qdrant-ragas-haystack/ragas-haystack/lib/python3.10/site-packages/httpcore/_async/http11.py\", line 265, in aclose\n",
      "    await self._network_stream.aclose()\n",
      "  File \"/Users/atitaarora/qdrant/workspace/qdrant-rag-eval/workshop-rag-eval-qdrant-ragas-haystack/ragas-haystack/lib/python3.10/site-packages/httpcore/_backends/anyio.py\", line 55, in aclose\n",
      "    await self._stream.aclose()\n",
      "  File \"/Users/atitaarora/qdrant/workspace/qdrant-rag-eval/workshop-rag-eval-qdrant-ragas-haystack/ragas-haystack/lib/python3.10/site-packages/anyio/streams/tls.py\", line 202, in aclose\n",
      "    await self.transport_stream.aclose()\n",
      "  File \"/Users/atitaarora/qdrant/workspace/qdrant-rag-eval/workshop-rag-eval-qdrant-ragas-haystack/ragas-haystack/lib/python3.10/site-packages/anyio/_backends/_asyncio.py\", line 1202, in aclose\n",
      "    self._transport.close()\n",
      "  File \"/Library/Frameworks/Python.framework/Versions/3.10/lib/python3.10/asyncio/selector_events.py\", line 698, in close\n",
      "    self._loop.call_soon(self._call_connection_lost, None)\n",
      "  File \"/Library/Frameworks/Python.framework/Versions/3.10/lib/python3.10/asyncio/base_events.py\", line 750, in call_soon\n",
      "    self._check_closed()\n",
      "  File \"/Library/Frameworks/Python.framework/Versions/3.10/lib/python3.10/asyncio/base_events.py\", line 515, in _check_closed\n",
      "    raise RuntimeError('Event loop is closed')\n",
      "RuntimeError: Event loop is closed\n"
     ]
    }
   ],
   "source": [
    "## Run evaluation for Retreival Window Size 4 evaluation dataset\n",
    "results_512_4 = evaluate_eval_dataset(eval_dataset_512_4)\n",
    "evaluation_result_df_512_4 = evaluation_results_to_dataframe(results_512_4)\n",
    "#print(evaluation_result_df_512_4)\n",
    "merged_df_512_4 = merge_eval_and_metrics_dataset(eval_dataset_512_4 , evaluation_result_df_512_4)"
   ]
  },
  {
   "cell_type": "code",
   "execution_count": 97,
   "metadata": {},
   "outputs": [
    {
     "data": {
      "text/html": [
       "<div>\n",
       "<style scoped>\n",
       "    .dataframe tbody tr th:only-of-type {\n",
       "        vertical-align: middle;\n",
       "    }\n",
       "\n",
       "    .dataframe tbody tr th {\n",
       "        vertical-align: top;\n",
       "    }\n",
       "\n",
       "    .dataframe thead th {\n",
       "        text-align: right;\n",
       "    }\n",
       "</style>\n",
       "<table border=\"1\" class=\"dataframe\">\n",
       "  <thead>\n",
       "    <tr style=\"text-align: right;\">\n",
       "      <th></th>\n",
       "      <th>Index</th>\n",
       "      <th>question</th>\n",
       "      <th>answer</th>\n",
       "      <th>contexts</th>\n",
       "      <th>ground_truth</th>\n",
       "      <th>answer_relevancy_evaluator</th>\n",
       "      <th>aspect_critic_evaluator</th>\n",
       "      <th>context_utilization_evaluator</th>\n",
       "      <th>correctness_evaluator</th>\n",
       "      <th>faithfullness_evaluator</th>\n",
       "      <th>precision_evaluator</th>\n",
       "      <th>recall_evaluator</th>\n",
       "      <th>relevancy_evaluator</th>\n",
       "      <th>similarity_evaluator</th>\n",
       "    </tr>\n",
       "  </thead>\n",
       "  <tbody>\n",
       "    <tr>\n",
       "      <th>0</th>\n",
       "      <td>0</td>\n",
       "      <td>What is vaccum optimizer ?</td>\n",
       "      <td>The Vacuum Optimizer in Qdrant is used to addr...</td>\n",
       "      <td>[document:--- title: Optimizer weight: 70 alia...</td>\n",
       "      <td>The Vacuum Optimizer is a feature in the Qdran...</td>\n",
       "      <td>0.894643</td>\n",
       "      <td>0</td>\n",
       "      <td>1.0</td>\n",
       "      <td>0.795334</td>\n",
       "      <td>1.0</td>\n",
       "      <td>1.0</td>\n",
       "      <td>1.0</td>\n",
       "      <td>0.008475</td>\n",
       "      <td>True</td>\n",
       "    </tr>\n",
       "    <tr>\n",
       "      <th>1</th>\n",
       "      <td>1</td>\n",
       "      <td>Tell me about ‘always_ram’ parameter?</td>\n",
       "      <td>The `always_ram` parameter in Qdrant determine...</td>\n",
       "      <td>[document:vectorsConfig: new VectorParams { Si...</td>\n",
       "      <td>In the context of vector quantization in Qdran...</td>\n",
       "      <td>0.893226</td>\n",
       "      <td>0</td>\n",
       "      <td>1.0</td>\n",
       "      <td>0.782276</td>\n",
       "      <td>0.571429</td>\n",
       "      <td>1.0</td>\n",
       "      <td>1.0</td>\n",
       "      <td>0.037736</td>\n",
       "      <td>True</td>\n",
       "    </tr>\n",
       "    <tr>\n",
       "      <th>2</th>\n",
       "      <td>2</td>\n",
       "      <td>What is difference between scalar and product ...</td>\n",
       "      <td>Scalar quantization and product quantization a...</td>\n",
       "      <td>[document:s&lt;/td&gt; &lt;td&gt;474 s&lt;/td&gt; &lt;/tr&gt; &lt;/tbody&gt;...</td>\n",
       "      <td>While both methods aim to reduce the memory fo...</td>\n",
       "      <td>0.864467</td>\n",
       "      <td>0</td>\n",
       "      <td>1.0</td>\n",
       "      <td>0.596487</td>\n",
       "      <td>1.0</td>\n",
       "      <td>1.0</td>\n",
       "      <td>1.0</td>\n",
       "      <td>0.05102</td>\n",
       "      <td>True</td>\n",
       "    </tr>\n",
       "    <tr>\n",
       "      <th>3</th>\n",
       "      <td>3</td>\n",
       "      <td>What is ‘best_score’ strategy?</td>\n",
       "      <td>The 'best_score' strategy is a new recommendat...</td>\n",
       "      <td>[document:step happens very fast, the performa...</td>\n",
       "      <td>The `best_score` strategy is based on the idea...</td>\n",
       "      <td>0.973762</td>\n",
       "      <td>0</td>\n",
       "      <td>1.0</td>\n",
       "      <td>0.494992</td>\n",
       "      <td>NaN</td>\n",
       "      <td>1.0</td>\n",
       "      <td>1.0</td>\n",
       "      <td>0.013158</td>\n",
       "      <td>True</td>\n",
       "    </tr>\n",
       "    <tr>\n",
       "      <th>4</th>\n",
       "      <td>4</td>\n",
       "      <td>How does oversampling helps?</td>\n",
       "      <td>Oversampling helps to control the precision of...</td>\n",
       "      <td>[document:if we're using smaller models that a...</td>\n",
       "      <td>Defines how many extra vectors should be pre-s...</td>\n",
       "      <td>0.846654</td>\n",
       "      <td>0</td>\n",
       "      <td>1.0</td>\n",
       "      <td>0.816604</td>\n",
       "      <td>0.857143</td>\n",
       "      <td>1.0</td>\n",
       "      <td>0.666667</td>\n",
       "      <td>0.051282</td>\n",
       "      <td>True</td>\n",
       "    </tr>\n",
       "    <tr>\n",
       "      <th>5</th>\n",
       "      <td>5</td>\n",
       "      <td>What is the purpose of ‘CreatePayloadIndexAsync’?</td>\n",
       "      <td>The purpose of the 'CreatePayloadIndexAsync' f...</td>\n",
       "      <td>[document:Some(Operation::SetPayload(SetPayloa...</td>\n",
       "      <td>CreatePayloadIndexAsync is a method in the Qdr...</td>\n",
       "      <td>0.983013</td>\n",
       "      <td>0</td>\n",
       "      <td>1.0</td>\n",
       "      <td>0.72109</td>\n",
       "      <td>0.25</td>\n",
       "      <td>1.0</td>\n",
       "      <td>1.0</td>\n",
       "      <td>0.006452</td>\n",
       "      <td>False</td>\n",
       "    </tr>\n",
       "    <tr>\n",
       "      <th>6</th>\n",
       "      <td>6</td>\n",
       "      <td>What is the purpose of ef_construct in HNSW ?</td>\n",
       "      <td>The `ef_construct` parameter in HNSW (Hierarch...</td>\n",
       "      <td>[document:), ) ``` ```typescript client.update...</td>\n",
       "      <td>In HNSW algorithm the ef_construct parameter i...</td>\n",
       "      <td>0.945245</td>\n",
       "      <td>0</td>\n",
       "      <td>1.0</td>\n",
       "      <td>0.842379</td>\n",
       "      <td>0.75</td>\n",
       "      <td>1.0</td>\n",
       "      <td>0.666667</td>\n",
       "      <td>0.008197</td>\n",
       "      <td>True</td>\n",
       "    </tr>\n",
       "    <tr>\n",
       "      <th>7</th>\n",
       "      <td>7</td>\n",
       "      <td>How do you use ‘ordering’ parameter?</td>\n",
       "      <td>To use the 'ordering' parameter, you can speci...</td>\n",
       "      <td>[document:can be freely reordered. - `medium` ...</td>\n",
       "      <td>Write ordering can be specified for any write ...</td>\n",
       "      <td>0.883042</td>\n",
       "      <td>0</td>\n",
       "      <td>1.0</td>\n",
       "      <td>0.752848</td>\n",
       "      <td>1.0</td>\n",
       "      <td>1.0</td>\n",
       "      <td>1.0</td>\n",
       "      <td>0.006289</td>\n",
       "      <td>False</td>\n",
       "    </tr>\n",
       "    <tr>\n",
       "      <th>8</th>\n",
       "      <td>8</td>\n",
       "      <td>What is significance of ‘on_disk_payload’ sett...</td>\n",
       "      <td>The 'on_disk_payload' setting in Qdrant determ...</td>\n",
       "      <td>[document:as cloud, happening when users were ...</td>\n",
       "      <td>The `on_disk_payload` setting in the storage c...</td>\n",
       "      <td>0.854006</td>\n",
       "      <td>0</td>\n",
       "      <td>1.0</td>\n",
       "      <td>0.790199</td>\n",
       "      <td>0.0</td>\n",
       "      <td>1.0</td>\n",
       "      <td>1.0</td>\n",
       "      <td>0.01</td>\n",
       "      <td>True</td>\n",
       "    </tr>\n",
       "    <tr>\n",
       "      <th>9</th>\n",
       "      <td>9</td>\n",
       "      <td>What is the impact of ‘write_consistency_facto...</td>\n",
       "      <td>The `write_consistency_factor` in Qdrant repre...</td>\n",
       "      <td>[document:request dispatches all operations ac...</td>\n",
       "      <td>The `write_consistency_factor` parameter in a ...</td>\n",
       "      <td>0.904315</td>\n",
       "      <td>0</td>\n",
       "      <td>1.0</td>\n",
       "      <td>0.892217</td>\n",
       "      <td>1.0</td>\n",
       "      <td>1.0</td>\n",
       "      <td>1.0</td>\n",
       "      <td>0.010309</td>\n",
       "      <td>True</td>\n",
       "    </tr>\n",
       "  </tbody>\n",
       "</table>\n",
       "</div>"
      ],
      "text/plain": [
       "   Index                                           question  \\\n",
       "0      0                         What is vaccum optimizer ?   \n",
       "1      1              Tell me about ‘always_ram’ parameter?   \n",
       "2      2  What is difference between scalar and product ...   \n",
       "3      3                     What is ‘best_score’ strategy?   \n",
       "4      4                       How does oversampling helps?   \n",
       "5      5  What is the purpose of ‘CreatePayloadIndexAsync’?   \n",
       "6      6      What is the purpose of ef_construct in HNSW ?   \n",
       "7      7               How do you use ‘ordering’ parameter?   \n",
       "8      8  What is significance of ‘on_disk_payload’ sett...   \n",
       "9      9  What is the impact of ‘write_consistency_facto...   \n",
       "\n",
       "                                              answer  \\\n",
       "0  The Vacuum Optimizer in Qdrant is used to addr...   \n",
       "1  The `always_ram` parameter in Qdrant determine...   \n",
       "2  Scalar quantization and product quantization a...   \n",
       "3  The 'best_score' strategy is a new recommendat...   \n",
       "4  Oversampling helps to control the precision of...   \n",
       "5  The purpose of the 'CreatePayloadIndexAsync' f...   \n",
       "6  The `ef_construct` parameter in HNSW (Hierarch...   \n",
       "7  To use the 'ordering' parameter, you can speci...   \n",
       "8  The 'on_disk_payload' setting in Qdrant determ...   \n",
       "9  The `write_consistency_factor` in Qdrant repre...   \n",
       "\n",
       "                                            contexts  \\\n",
       "0  [document:--- title: Optimizer weight: 70 alia...   \n",
       "1  [document:vectorsConfig: new VectorParams { Si...   \n",
       "2  [document:s</td> <td>474 s</td> </tr> </tbody>...   \n",
       "3  [document:step happens very fast, the performa...   \n",
       "4  [document:if we're using smaller models that a...   \n",
       "5  [document:Some(Operation::SetPayload(SetPayloa...   \n",
       "6  [document:), ) ``` ```typescript client.update...   \n",
       "7  [document:can be freely reordered. - `medium` ...   \n",
       "8  [document:as cloud, happening when users were ...   \n",
       "9  [document:request dispatches all operations ac...   \n",
       "\n",
       "                                        ground_truth  \\\n",
       "0  The Vacuum Optimizer is a feature in the Qdran...   \n",
       "1  In the context of vector quantization in Qdran...   \n",
       "2  While both methods aim to reduce the memory fo...   \n",
       "3  The `best_score` strategy is based on the idea...   \n",
       "4  Defines how many extra vectors should be pre-s...   \n",
       "5  CreatePayloadIndexAsync is a method in the Qdr...   \n",
       "6  In HNSW algorithm the ef_construct parameter i...   \n",
       "7  Write ordering can be specified for any write ...   \n",
       "8  The `on_disk_payload` setting in the storage c...   \n",
       "9  The `write_consistency_factor` parameter in a ...   \n",
       "\n",
       "  answer_relevancy_evaluator aspect_critic_evaluator  \\\n",
       "0                   0.894643                       0   \n",
       "1                   0.893226                       0   \n",
       "2                   0.864467                       0   \n",
       "3                   0.973762                       0   \n",
       "4                   0.846654                       0   \n",
       "5                   0.983013                       0   \n",
       "6                   0.945245                       0   \n",
       "7                   0.883042                       0   \n",
       "8                   0.854006                       0   \n",
       "9                   0.904315                       0   \n",
       "\n",
       "  context_utilization_evaluator correctness_evaluator faithfullness_evaluator  \\\n",
       "0                           1.0              0.795334                     1.0   \n",
       "1                           1.0              0.782276                0.571429   \n",
       "2                           1.0              0.596487                     1.0   \n",
       "3                           1.0              0.494992                     NaN   \n",
       "4                           1.0              0.816604                0.857143   \n",
       "5                           1.0               0.72109                    0.25   \n",
       "6                           1.0              0.842379                    0.75   \n",
       "7                           1.0              0.752848                     1.0   \n",
       "8                           1.0              0.790199                     0.0   \n",
       "9                           1.0              0.892217                     1.0   \n",
       "\n",
       "  precision_evaluator recall_evaluator relevancy_evaluator  \\\n",
       "0                 1.0              1.0            0.008475   \n",
       "1                 1.0              1.0            0.037736   \n",
       "2                 1.0              1.0             0.05102   \n",
       "3                 1.0              1.0            0.013158   \n",
       "4                 1.0         0.666667            0.051282   \n",
       "5                 1.0              1.0            0.006452   \n",
       "6                 1.0         0.666667            0.008197   \n",
       "7                 1.0              1.0            0.006289   \n",
       "8                 1.0              1.0                0.01   \n",
       "9                 1.0              1.0            0.010309   \n",
       "\n",
       "  similarity_evaluator  \n",
       "0                 True  \n",
       "1                 True  \n",
       "2                 True  \n",
       "3                 True  \n",
       "4                 True  \n",
       "5                False  \n",
       "6                 True  \n",
       "7                False  \n",
       "8                 True  \n",
       "9                 True  "
      ]
     },
     "execution_count": 97,
     "metadata": {},
     "output_type": "execute_result"
    }
   ],
   "source": [
    "merged_df_512_4"
   ]
  },
  {
   "cell_type": "code",
   "execution_count": 98,
   "metadata": {},
   "outputs": [],
   "source": [
    "merged_df_512_4.to_csv(\"eval_results_512_4.csv\")"
   ]
  },
  {
   "cell_type": "markdown",
   "metadata": {
    "id": "5TNx9dsJyB56"
   },
   "source": [
    "### **16. Improvision step by modifying the number of chunks retrieved to 5 and recreate the evaluation dataset**"
   ]
  },
  {
   "cell_type": "code",
   "execution_count": 99,
   "metadata": {
    "id": "JxahZlXqyB56",
    "outputId": "3bb8efdf-84f8-4e87-cdf2-3dbcf49488a4"
   },
   "outputs": [
    {
     "name": "stderr",
     "output_type": "stream",
     "text": [
      "Calculating embeddings: 100%|█████████████████████████████████████████████████████████████████████████████████████████████████████████████████████████████████████████| 1/1 [00:00<00:00,  1.89it/s]\n",
      "Calculating embeddings: 100%|█████████████████████████████████████████████████████████████████████████████████████████████████████████████████████████████████████████| 1/1 [00:00<00:00, 33.04it/s]\n",
      "Calculating embeddings: 100%|█████████████████████████████████████████████████████████████████████████████████████████████████████████████████████████████████████████| 1/1 [00:00<00:00, 28.51it/s]\n",
      "Calculating embeddings: 100%|█████████████████████████████████████████████████████████████████████████████████████████████████████████████████████████████████████████| 1/1 [00:00<00:00,  7.90it/s]\n",
      "Calculating embeddings: 100%|█████████████████████████████████████████████████████████████████████████████████████████████████████████████████████████████████████████| 1/1 [00:00<00:00, 26.81it/s]\n",
      "Calculating embeddings: 100%|█████████████████████████████████████████████████████████████████████████████████████████████████████████████████████████████████████████| 1/1 [00:00<00:00, 19.35it/s]\n",
      "Calculating embeddings: 100%|█████████████████████████████████████████████████████████████████████████████████████████████████████████████████████████████████████████| 1/1 [00:00<00:00, 24.67it/s]\n",
      "Calculating embeddings: 100%|█████████████████████████████████████████████████████████████████████████████████████████████████████████████████████████████████████████| 1/1 [00:00<00:00, 27.31it/s]\n",
      "Calculating embeddings: 100%|█████████████████████████████████████████████████████████████████████████████████████████████████████████████████████████████████████████| 1/1 [00:00<00:00, 26.02it/s]\n",
      "Calculating embeddings: 100%|█████████████████████████████████████████████████████████████████████████████████████████████████████████████████████████████████████████| 1/1 [00:00<00:00, 17.97it/s]\n"
     ]
    }
   ],
   "source": [
    "## Define the Config for generating the Eval dataset as below :\n",
    "\n",
    "# loading the eval dataset from HF\n",
    "#qdrant_qna_dataset = load_dataset(\"atitaarora/qdrant_doc_qna\", split=\"train\")\n",
    "\n",
    "EVAL_SIZE = 10\n",
    "\n",
    "RETRIEVAL_SIZE_5 = 5\n",
    "\n",
    "#print(qdrant_qna_dataset.column_names)\n",
    "\n",
    "## The dataset used to evaluate RAG using RAGAS\n",
    "## Note this is the dataset needed for evaluation hence has to be recreated everytime changes to RAG config is made\n",
    "rag_eval_dataset_512_5 = create_eval_dataset(qdrant_qna_dataset,EVAL_SIZE,RETRIEVAL_SIZE_5)\n"
   ]
  },
  {
   "cell_type": "code",
   "execution_count": 100,
   "metadata": {
    "colab": {
     "referenced_widgets": [
      "0b5418ab269a4ba79fdd2deb2265a615"
     ]
    },
    "id": "FIPlHUEZyB57",
    "outputId": "3dc94665-d87a-4057-dfe4-5314fc462319"
   },
   "outputs": [
    {
     "data": {
      "application/vnd.jupyter.widget-view+json": {
       "model_id": "b26759cea49141c2844d52c6fc39d599",
       "version_major": 2,
       "version_minor": 0
      },
      "text/plain": [
       "Creating CSV from Arrow format:   0%|          | 0/1 [00:00<?, ?ba/s]"
      ]
     },
     "metadata": {},
     "output_type": "display_data"
    },
    {
     "data": {
      "text/plain": [
       "182024"
      ]
     },
     "execution_count": 100,
     "metadata": {},
     "output_type": "execute_result"
    }
   ],
   "source": [
    "#rag_response_data\n",
    "\n",
    "## The dataset used to evaluate RAG using RAGAS\n",
    "## Note this is the dataset needed for evaluation hence has to be recreated everytime changes to RAG config is made\n",
    "rag_response_dataset_512_5 = Dataset.from_dict(rag_eval_dataset_512_5)\n",
    "## Saving the evaluation dataset offline\n",
    "rag_response_dataset_512_5.to_csv('rag_response_512_5.csv')"
   ]
  },
  {
   "cell_type": "code",
   "execution_count": 101,
   "metadata": {
    "colab": {
     "base_uri": "https://localhost:8080/",
     "height": 363
    },
    "id": "A69p1xDSyB58",
    "outputId": "bcdc96c8-8673-488b-f443-cb4b6887819b"
   },
   "outputs": [
    {
     "data": {
      "text/html": [
       "<div>\n",
       "<style scoped>\n",
       "    .dataframe tbody tr th:only-of-type {\n",
       "        vertical-align: middle;\n",
       "    }\n",
       "\n",
       "    .dataframe tbody tr th {\n",
       "        vertical-align: top;\n",
       "    }\n",
       "\n",
       "    .dataframe thead th {\n",
       "        text-align: right;\n",
       "    }\n",
       "</style>\n",
       "<table border=\"1\" class=\"dataframe\">\n",
       "  <thead>\n",
       "    <tr style=\"text-align: right;\">\n",
       "      <th></th>\n",
       "      <th>question</th>\n",
       "      <th>answer</th>\n",
       "      <th>contexts</th>\n",
       "      <th>ground_truth</th>\n",
       "    </tr>\n",
       "  </thead>\n",
       "  <tbody>\n",
       "    <tr>\n",
       "      <th>0</th>\n",
       "      <td>What is vaccum optimizer ?</td>\n",
       "      <td>The Vacuum Optimizer in Qdrant is used to addr...</td>\n",
       "      <td>['document:--- title: Optimizer weight: 70 ali...</td>\n",
       "      <td>The Vacuum Optimizer is a feature in the Qdran...</td>\n",
       "    </tr>\n",
       "    <tr>\n",
       "      <th>1</th>\n",
       "      <td>Tell me about ‘always_ram’ parameter?</td>\n",
       "      <td>The `always_ram` parameter in Qdrant determine...</td>\n",
       "      <td>['document:vectorsConfig: new VectorParams { S...</td>\n",
       "      <td>In the context of vector quantization in Qdran...</td>\n",
       "    </tr>\n",
       "    <tr>\n",
       "      <th>2</th>\n",
       "      <td>What is difference between scalar and product ...</td>\n",
       "      <td>Scalar quantization and product quantization a...</td>\n",
       "      <td>['document:s&lt;/td&gt; &lt;td&gt;474 s&lt;/td&gt; &lt;/tr&gt; &lt;/tbody...</td>\n",
       "      <td>While both methods aim to reduce the memory fo...</td>\n",
       "    </tr>\n",
       "    <tr>\n",
       "      <th>3</th>\n",
       "      <td>What is ‘best_score’ strategy?</td>\n",
       "      <td>The 'best_score' strategy is a new recommendat...</td>\n",
       "      <td>['document:step happens very fast, the perform...</td>\n",
       "      <td>The `best_score` strategy is based on the idea...</td>\n",
       "    </tr>\n",
       "    <tr>\n",
       "      <th>4</th>\n",
       "      <td>How does oversampling helps?</td>\n",
       "      <td>Oversampling helps to control the precision of...</td>\n",
       "      <td>[\"document:if we're using smaller models that ...</td>\n",
       "      <td>Defines how many extra vectors should be pre-s...</td>\n",
       "    </tr>\n",
       "    <tr>\n",
       "      <th>5</th>\n",
       "      <td>What is the purpose of ‘CreatePayloadIndexAsync’?</td>\n",
       "      <td>The purpose of the 'CreatePayloadIndexAsync' f...</td>\n",
       "      <td>['document:Some(Operation::SetPayload(SetPaylo...</td>\n",
       "      <td>CreatePayloadIndexAsync is a method in the Qdr...</td>\n",
       "    </tr>\n",
       "    <tr>\n",
       "      <th>6</th>\n",
       "      <td>What is the purpose of ef_construct in HNSW ?</td>\n",
       "      <td>The `ef_construct` parameter in HNSW (Hierarch...</td>\n",
       "      <td>['document:), ) ``` ```typescript client.updat...</td>\n",
       "      <td>In HNSW algorithm the ef_construct parameter i...</td>\n",
       "    </tr>\n",
       "    <tr>\n",
       "      <th>7</th>\n",
       "      <td>How do you use ‘ordering’ parameter?</td>\n",
       "      <td>To use the 'ordering' parameter, you can speci...</td>\n",
       "      <td>['document:can be freely reordered. - `medium`...</td>\n",
       "      <td>Write ordering can be specified for any write ...</td>\n",
       "    </tr>\n",
       "    <tr>\n",
       "      <th>8</th>\n",
       "      <td>What is significance of ‘on_disk_payload’ sett...</td>\n",
       "      <td>The 'on_disk_payload' setting in Qdrant determ...</td>\n",
       "      <td>[\"document:as cloud, happening when users were...</td>\n",
       "      <td>The `on_disk_payload` setting in the storage c...</td>\n",
       "    </tr>\n",
       "    <tr>\n",
       "      <th>9</th>\n",
       "      <td>What is the impact of ‘write_consistency_facto...</td>\n",
       "      <td>The `write_consistency_factor` in Qdrant repre...</td>\n",
       "      <td>['document:request dispatches all operations a...</td>\n",
       "      <td>The `write_consistency_factor` parameter in a ...</td>\n",
       "    </tr>\n",
       "  </tbody>\n",
       "</table>\n",
       "</div>"
      ],
      "text/plain": [
       "                                            question  \\\n",
       "0                         What is vaccum optimizer ?   \n",
       "1              Tell me about ‘always_ram’ parameter?   \n",
       "2  What is difference between scalar and product ...   \n",
       "3                     What is ‘best_score’ strategy?   \n",
       "4                       How does oversampling helps?   \n",
       "5  What is the purpose of ‘CreatePayloadIndexAsync’?   \n",
       "6      What is the purpose of ef_construct in HNSW ?   \n",
       "7               How do you use ‘ordering’ parameter?   \n",
       "8  What is significance of ‘on_disk_payload’ sett...   \n",
       "9  What is the impact of ‘write_consistency_facto...   \n",
       "\n",
       "                                              answer  \\\n",
       "0  The Vacuum Optimizer in Qdrant is used to addr...   \n",
       "1  The `always_ram` parameter in Qdrant determine...   \n",
       "2  Scalar quantization and product quantization a...   \n",
       "3  The 'best_score' strategy is a new recommendat...   \n",
       "4  Oversampling helps to control the precision of...   \n",
       "5  The purpose of the 'CreatePayloadIndexAsync' f...   \n",
       "6  The `ef_construct` parameter in HNSW (Hierarch...   \n",
       "7  To use the 'ordering' parameter, you can speci...   \n",
       "8  The 'on_disk_payload' setting in Qdrant determ...   \n",
       "9  The `write_consistency_factor` in Qdrant repre...   \n",
       "\n",
       "                                            contexts  \\\n",
       "0  ['document:--- title: Optimizer weight: 70 ali...   \n",
       "1  ['document:vectorsConfig: new VectorParams { S...   \n",
       "2  ['document:s</td> <td>474 s</td> </tr> </tbody...   \n",
       "3  ['document:step happens very fast, the perform...   \n",
       "4  [\"document:if we're using smaller models that ...   \n",
       "5  ['document:Some(Operation::SetPayload(SetPaylo...   \n",
       "6  ['document:), ) ``` ```typescript client.updat...   \n",
       "7  ['document:can be freely reordered. - `medium`...   \n",
       "8  [\"document:as cloud, happening when users were...   \n",
       "9  ['document:request dispatches all operations a...   \n",
       "\n",
       "                                        ground_truth  \n",
       "0  The Vacuum Optimizer is a feature in the Qdran...  \n",
       "1  In the context of vector quantization in Qdran...  \n",
       "2  While both methods aim to reduce the memory fo...  \n",
       "3  The `best_score` strategy is based on the idea...  \n",
       "4  Defines how many extra vectors should be pre-s...  \n",
       "5  CreatePayloadIndexAsync is a method in the Qdr...  \n",
       "6  In HNSW algorithm the ef_construct parameter i...  \n",
       "7  Write ordering can be specified for any write ...  \n",
       "8  The `on_disk_payload` setting in the storage c...  \n",
       "9  The `write_consistency_factor` parameter in a ...  "
      ]
     },
     "execution_count": 101,
     "metadata": {},
     "output_type": "execute_result"
    }
   ],
   "source": [
    "from ragas import evaluate\n",
    "eval_dataset_512_5 = pd.read_csv('rag_response_512_5.csv')\n",
    "eval_dataset_512_5.head(10)"
   ]
  },
  {
   "cell_type": "code",
   "execution_count": 102,
   "metadata": {
    "id": "pfP4sNi4yB58"
   },
   "outputs": [
    {
     "data": {
      "application/vnd.jupyter.widget-view+json": {
       "model_id": "f0358bcfe38943698449ee2f5353a53d",
       "version_major": 2,
       "version_minor": 0
      },
      "text/plain": [
       "Evaluating:   0%|          | 0/10 [00:00<?, ?it/s]"
      ]
     },
     "metadata": {},
     "output_type": "display_data"
    },
    {
     "data": {
      "application/vnd.jupyter.widget-view+json": {
       "model_id": "47c6c1441c9d4e51a7dd179a3589773f",
       "version_major": 2,
       "version_minor": 0
      },
      "text/plain": [
       "Evaluating:   0%|          | 0/10 [00:00<?, ?it/s]"
      ]
     },
     "metadata": {},
     "output_type": "display_data"
    },
    {
     "data": {
      "application/vnd.jupyter.widget-view+json": {
       "model_id": "9d8421f29f7a4492bb0a8c0ae3299755",
       "version_major": 2,
       "version_minor": 0
      },
      "text/plain": [
       "Evaluating:   0%|          | 0/10 [00:00<?, ?it/s]"
      ]
     },
     "metadata": {},
     "output_type": "display_data"
    },
    {
     "data": {
      "application/vnd.jupyter.widget-view+json": {
       "model_id": "4d945f94697a4983a3940344e09da57b",
       "version_major": 2,
       "version_minor": 0
      },
      "text/plain": [
       "Evaluating:   0%|          | 0/10 [00:00<?, ?it/s]"
      ]
     },
     "metadata": {},
     "output_type": "display_data"
    },
    {
     "name": "stderr",
     "output_type": "stream",
     "text": [
      "Using 'context_precision' without ground truth will be soon depreciated. Use 'context_utilization' instead\n",
      "Using 'context_precision' without ground truth will be soon depreciated. Use 'context_utilization' instead\n",
      "Using 'context_precision' without ground truth will be soon depreciated. Use 'context_utilization' instead\n",
      "Using 'context_precision' without ground truth will be soon depreciated. Use 'context_utilization' instead\n",
      "Using 'context_precision' without ground truth will be soon depreciated. Use 'context_utilization' instead\n",
      "Using 'context_precision' without ground truth will be soon depreciated. Use 'context_utilization' instead\n",
      "Using 'context_precision' without ground truth will be soon depreciated. Use 'context_utilization' instead\n",
      "Using 'context_precision' without ground truth will be soon depreciated. Use 'context_utilization' instead\n",
      "Using 'context_precision' without ground truth will be soon depreciated. Use 'context_utilization' instead\n",
      "Using 'context_precision' without ground truth will be soon depreciated. Use 'context_utilization' instead\n"
     ]
    },
    {
     "data": {
      "application/vnd.jupyter.widget-view+json": {
       "model_id": "58a05f299fef463f882f56d4c495ebc4",
       "version_major": 2,
       "version_minor": 0
      },
      "text/plain": [
       "Evaluating:   0%|          | 0/10 [00:00<?, ?it/s]"
      ]
     },
     "metadata": {},
     "output_type": "display_data"
    },
    {
     "data": {
      "application/vnd.jupyter.widget-view+json": {
       "model_id": "d29265d714f141d2aa64e1a2dfd622ff",
       "version_major": 2,
       "version_minor": 0
      },
      "text/plain": [
       "Evaluating:   0%|          | 0/10 [00:00<?, ?it/s]"
      ]
     },
     "metadata": {},
     "output_type": "display_data"
    },
    {
     "data": {
      "application/vnd.jupyter.widget-view+json": {
       "model_id": "49923e9c5bc745419cdfb9b3032607a5",
       "version_major": 2,
       "version_minor": 0
      },
      "text/plain": [
       "Evaluating:   0%|          | 0/10 [00:00<?, ?it/s]"
      ]
     },
     "metadata": {},
     "output_type": "display_data"
    },
    {
     "data": {
      "application/vnd.jupyter.widget-view+json": {
       "model_id": "07f7da06fe0749dd8e2c5b9eadde0861",
       "version_major": 2,
       "version_minor": 0
      },
      "text/plain": [
       "Evaluating:   0%|          | 0/10 [00:00<?, ?it/s]"
      ]
     },
     "metadata": {},
     "output_type": "display_data"
    },
    {
     "data": {
      "application/vnd.jupyter.widget-view+json": {
       "model_id": "b0f15497ff114be18714d41ec4318425",
       "version_major": 2,
       "version_minor": 0
      },
      "text/plain": [
       "Evaluating:   0%|          | 0/10 [00:00<?, ?it/s]"
      ]
     },
     "metadata": {},
     "output_type": "display_data"
    },
    {
     "name": "stdout",
     "output_type": "stream",
     "text": [
      "                  Evaluator  Index        Metric Name Score\n",
      "0       precision_evaluator      0  context_precision   1.0\n",
      "1       precision_evaluator      1  context_precision   1.0\n",
      "2       precision_evaluator      2  context_precision   1.0\n",
      "3       precision_evaluator      3  context_precision   1.0\n",
      "4       precision_evaluator      4  context_precision   1.0\n",
      "..                      ...    ...                ...   ...\n",
      "85  aspect_critic_evaluator      5           Toxicity     0\n",
      "86  aspect_critic_evaluator      6           Toxicity     0\n",
      "87  aspect_critic_evaluator      7           Toxicity     0\n",
      "88  aspect_critic_evaluator      8           Toxicity     0\n",
      "89  aspect_critic_evaluator      9           Toxicity     0\n",
      "\n",
      "[90 rows x 4 columns]\n"
     ]
    }
   ],
   "source": [
    "## Run evaluation for Retreival Window Size 5 evaluation dataset\n",
    "results_512_5 = evaluate_eval_dataset(eval_dataset_512_5)\n",
    "evaluation_result_df_512_5 = evaluation_results_to_dataframe(results_512_5)\n",
    "print(evaluation_result_df_512_5)\n",
    "merged_df_512_5 = merge_eval_and_metrics_dataset(eval_dataset_512_5 , evaluation_result_df_512_5)"
   ]
  },
  {
   "cell_type": "code",
   "execution_count": 103,
   "metadata": {},
   "outputs": [
    {
     "data": {
      "text/html": [
       "<div>\n",
       "<style scoped>\n",
       "    .dataframe tbody tr th:only-of-type {\n",
       "        vertical-align: middle;\n",
       "    }\n",
       "\n",
       "    .dataframe tbody tr th {\n",
       "        vertical-align: top;\n",
       "    }\n",
       "\n",
       "    .dataframe thead th {\n",
       "        text-align: right;\n",
       "    }\n",
       "</style>\n",
       "<table border=\"1\" class=\"dataframe\">\n",
       "  <thead>\n",
       "    <tr style=\"text-align: right;\">\n",
       "      <th></th>\n",
       "      <th>Index</th>\n",
       "      <th>question</th>\n",
       "      <th>answer</th>\n",
       "      <th>contexts</th>\n",
       "      <th>ground_truth</th>\n",
       "      <th>answer_relevancy_evaluator</th>\n",
       "      <th>aspect_critic_evaluator</th>\n",
       "      <th>context_utilization_evaluator</th>\n",
       "      <th>correctness_evaluator</th>\n",
       "      <th>faithfullness_evaluator</th>\n",
       "      <th>precision_evaluator</th>\n",
       "      <th>recall_evaluator</th>\n",
       "      <th>relevancy_evaluator</th>\n",
       "      <th>similarity_evaluator</th>\n",
       "    </tr>\n",
       "  </thead>\n",
       "  <tbody>\n",
       "    <tr>\n",
       "      <th>0</th>\n",
       "      <td>0</td>\n",
       "      <td>What is vaccum optimizer ?</td>\n",
       "      <td>The Vacuum Optimizer in Qdrant is used to addr...</td>\n",
       "      <td>[document:--- title: Optimizer weight: 70 alia...</td>\n",
       "      <td>The Vacuum Optimizer is a feature in the Qdran...</td>\n",
       "      <td>0.893568</td>\n",
       "      <td>0</td>\n",
       "      <td>1.0</td>\n",
       "      <td>0.782076</td>\n",
       "      <td>1.0</td>\n",
       "      <td>1.0</td>\n",
       "      <td>1.0</td>\n",
       "      <td>0.00813</td>\n",
       "      <td>True</td>\n",
       "    </tr>\n",
       "    <tr>\n",
       "      <th>1</th>\n",
       "      <td>1</td>\n",
       "      <td>Tell me about ‘always_ram’ parameter?</td>\n",
       "      <td>The `always_ram` parameter in Qdrant determine...</td>\n",
       "      <td>[document:vectorsConfig: new VectorParams { Si...</td>\n",
       "      <td>In the context of vector quantization in Qdran...</td>\n",
       "      <td>0.895879</td>\n",
       "      <td>0</td>\n",
       "      <td>1.0</td>\n",
       "      <td>0.890046</td>\n",
       "      <td>0.6</td>\n",
       "      <td>1.0</td>\n",
       "      <td>1.0</td>\n",
       "      <td>0.034783</td>\n",
       "      <td>True</td>\n",
       "    </tr>\n",
       "    <tr>\n",
       "      <th>2</th>\n",
       "      <td>2</td>\n",
       "      <td>What is difference between scalar and product ...</td>\n",
       "      <td>Scalar quantization and product quantization a...</td>\n",
       "      <td>[document:s&lt;/td&gt; &lt;td&gt;474 s&lt;/td&gt; &lt;/tr&gt; &lt;/tbody&gt;...</td>\n",
       "      <td>While both methods aim to reduce the memory fo...</td>\n",
       "      <td>0.864467</td>\n",
       "      <td>0</td>\n",
       "      <td>1.0</td>\n",
       "      <td>0.641164</td>\n",
       "      <td>1.0</td>\n",
       "      <td>1.0</td>\n",
       "      <td>1.0</td>\n",
       "      <td>0.008696</td>\n",
       "      <td>True</td>\n",
       "    </tr>\n",
       "    <tr>\n",
       "      <th>3</th>\n",
       "      <td>3</td>\n",
       "      <td>What is ‘best_score’ strategy?</td>\n",
       "      <td>The 'best_score' strategy is a new recommendat...</td>\n",
       "      <td>[document:step happens very fast, the performa...</td>\n",
       "      <td>The `best_score` strategy is based on the idea...</td>\n",
       "      <td>0.973762</td>\n",
       "      <td>0</td>\n",
       "      <td>1.0</td>\n",
       "      <td>0.853303</td>\n",
       "      <td>1.0</td>\n",
       "      <td>1.0</td>\n",
       "      <td>1.0</td>\n",
       "      <td>0.01</td>\n",
       "      <td>True</td>\n",
       "    </tr>\n",
       "    <tr>\n",
       "      <th>4</th>\n",
       "      <td>4</td>\n",
       "      <td>How does oversampling helps?</td>\n",
       "      <td>Oversampling helps to control the precision of...</td>\n",
       "      <td>[document:if we're using smaller models that a...</td>\n",
       "      <td>Defines how many extra vectors should be pre-s...</td>\n",
       "      <td>0.897075</td>\n",
       "      <td>0</td>\n",
       "      <td>1.0</td>\n",
       "      <td>0.803254</td>\n",
       "      <td>1.0</td>\n",
       "      <td>1.0</td>\n",
       "      <td>0.666667</td>\n",
       "      <td>0.010204</td>\n",
       "      <td>True</td>\n",
       "    </tr>\n",
       "    <tr>\n",
       "      <th>5</th>\n",
       "      <td>5</td>\n",
       "      <td>What is the purpose of ‘CreatePayloadIndexAsync’?</td>\n",
       "      <td>The purpose of the 'CreatePayloadIndexAsync' f...</td>\n",
       "      <td>[document:Some(Operation::SetPayload(SetPayloa...</td>\n",
       "      <td>CreatePayloadIndexAsync is a method in the Qdr...</td>\n",
       "      <td>0.983013</td>\n",
       "      <td>0</td>\n",
       "      <td>1.0</td>\n",
       "      <td>0.749361</td>\n",
       "      <td>1.0</td>\n",
       "      <td>1.0</td>\n",
       "      <td>0.333333</td>\n",
       "      <td>0.005525</td>\n",
       "      <td>False</td>\n",
       "    </tr>\n",
       "    <tr>\n",
       "      <th>6</th>\n",
       "      <td>6</td>\n",
       "      <td>What is the purpose of ef_construct in HNSW ?</td>\n",
       "      <td>The `ef_construct` parameter in HNSW (Hierarch...</td>\n",
       "      <td>[document:), ) ``` ```typescript client.update...</td>\n",
       "      <td>In HNSW algorithm the ef_construct parameter i...</td>\n",
       "      <td>0.954442</td>\n",
       "      <td>0</td>\n",
       "      <td>1.0</td>\n",
       "      <td>0.580024</td>\n",
       "      <td>0.333333</td>\n",
       "      <td>1.0</td>\n",
       "      <td>0.666667</td>\n",
       "      <td>0.006579</td>\n",
       "      <td>True</td>\n",
       "    </tr>\n",
       "    <tr>\n",
       "      <th>7</th>\n",
       "      <td>7</td>\n",
       "      <td>How do you use ‘ordering’ parameter?</td>\n",
       "      <td>To use the 'ordering' parameter, you can speci...</td>\n",
       "      <td>[document:can be freely reordered. - `medium` ...</td>\n",
       "      <td>Write ordering can be specified for any write ...</td>\n",
       "      <td>0.830361</td>\n",
       "      <td>0</td>\n",
       "      <td>1.0</td>\n",
       "      <td>0.782934</td>\n",
       "      <td>1.0</td>\n",
       "      <td>1.0</td>\n",
       "      <td>0.5</td>\n",
       "      <td>0.005952</td>\n",
       "      <td>False</td>\n",
       "    </tr>\n",
       "    <tr>\n",
       "      <th>8</th>\n",
       "      <td>8</td>\n",
       "      <td>What is significance of ‘on_disk_payload’ sett...</td>\n",
       "      <td>The 'on_disk_payload' setting in Qdrant determ...</td>\n",
       "      <td>[document:as cloud, happening when users were ...</td>\n",
       "      <td>The `on_disk_payload` setting in the storage c...</td>\n",
       "      <td>0.88227</td>\n",
       "      <td>0</td>\n",
       "      <td>1.0</td>\n",
       "      <td>0.789923</td>\n",
       "      <td>0.0</td>\n",
       "      <td>1.0</td>\n",
       "      <td>1.0</td>\n",
       "      <td>0.009434</td>\n",
       "      <td>False</td>\n",
       "    </tr>\n",
       "    <tr>\n",
       "      <th>9</th>\n",
       "      <td>9</td>\n",
       "      <td>What is the impact of ‘write_consistency_facto...</td>\n",
       "      <td>The `write_consistency_factor` in Qdrant repre...</td>\n",
       "      <td>[document:request dispatches all operations ac...</td>\n",
       "      <td>The `write_consistency_factor` parameter in a ...</td>\n",
       "      <td>0.904315</td>\n",
       "      <td>0</td>\n",
       "      <td>1.0</td>\n",
       "      <td>0.829938</td>\n",
       "      <td>1.0</td>\n",
       "      <td>1.0</td>\n",
       "      <td>1.0</td>\n",
       "      <td>0.021127</td>\n",
       "      <td>True</td>\n",
       "    </tr>\n",
       "  </tbody>\n",
       "</table>\n",
       "</div>"
      ],
      "text/plain": [
       "   Index                                           question  \\\n",
       "0      0                         What is vaccum optimizer ?   \n",
       "1      1              Tell me about ‘always_ram’ parameter?   \n",
       "2      2  What is difference between scalar and product ...   \n",
       "3      3                     What is ‘best_score’ strategy?   \n",
       "4      4                       How does oversampling helps?   \n",
       "5      5  What is the purpose of ‘CreatePayloadIndexAsync’?   \n",
       "6      6      What is the purpose of ef_construct in HNSW ?   \n",
       "7      7               How do you use ‘ordering’ parameter?   \n",
       "8      8  What is significance of ‘on_disk_payload’ sett...   \n",
       "9      9  What is the impact of ‘write_consistency_facto...   \n",
       "\n",
       "                                              answer  \\\n",
       "0  The Vacuum Optimizer in Qdrant is used to addr...   \n",
       "1  The `always_ram` parameter in Qdrant determine...   \n",
       "2  Scalar quantization and product quantization a...   \n",
       "3  The 'best_score' strategy is a new recommendat...   \n",
       "4  Oversampling helps to control the precision of...   \n",
       "5  The purpose of the 'CreatePayloadIndexAsync' f...   \n",
       "6  The `ef_construct` parameter in HNSW (Hierarch...   \n",
       "7  To use the 'ordering' parameter, you can speci...   \n",
       "8  The 'on_disk_payload' setting in Qdrant determ...   \n",
       "9  The `write_consistency_factor` in Qdrant repre...   \n",
       "\n",
       "                                            contexts  \\\n",
       "0  [document:--- title: Optimizer weight: 70 alia...   \n",
       "1  [document:vectorsConfig: new VectorParams { Si...   \n",
       "2  [document:s</td> <td>474 s</td> </tr> </tbody>...   \n",
       "3  [document:step happens very fast, the performa...   \n",
       "4  [document:if we're using smaller models that a...   \n",
       "5  [document:Some(Operation::SetPayload(SetPayloa...   \n",
       "6  [document:), ) ``` ```typescript client.update...   \n",
       "7  [document:can be freely reordered. - `medium` ...   \n",
       "8  [document:as cloud, happening when users were ...   \n",
       "9  [document:request dispatches all operations ac...   \n",
       "\n",
       "                                        ground_truth  \\\n",
       "0  The Vacuum Optimizer is a feature in the Qdran...   \n",
       "1  In the context of vector quantization in Qdran...   \n",
       "2  While both methods aim to reduce the memory fo...   \n",
       "3  The `best_score` strategy is based on the idea...   \n",
       "4  Defines how many extra vectors should be pre-s...   \n",
       "5  CreatePayloadIndexAsync is a method in the Qdr...   \n",
       "6  In HNSW algorithm the ef_construct parameter i...   \n",
       "7  Write ordering can be specified for any write ...   \n",
       "8  The `on_disk_payload` setting in the storage c...   \n",
       "9  The `write_consistency_factor` parameter in a ...   \n",
       "\n",
       "  answer_relevancy_evaluator aspect_critic_evaluator  \\\n",
       "0                   0.893568                       0   \n",
       "1                   0.895879                       0   \n",
       "2                   0.864467                       0   \n",
       "3                   0.973762                       0   \n",
       "4                   0.897075                       0   \n",
       "5                   0.983013                       0   \n",
       "6                   0.954442                       0   \n",
       "7                   0.830361                       0   \n",
       "8                    0.88227                       0   \n",
       "9                   0.904315                       0   \n",
       "\n",
       "  context_utilization_evaluator correctness_evaluator faithfullness_evaluator  \\\n",
       "0                           1.0              0.782076                     1.0   \n",
       "1                           1.0              0.890046                     0.6   \n",
       "2                           1.0              0.641164                     1.0   \n",
       "3                           1.0              0.853303                     1.0   \n",
       "4                           1.0              0.803254                     1.0   \n",
       "5                           1.0              0.749361                     1.0   \n",
       "6                           1.0              0.580024                0.333333   \n",
       "7                           1.0              0.782934                     1.0   \n",
       "8                           1.0              0.789923                     0.0   \n",
       "9                           1.0              0.829938                     1.0   \n",
       "\n",
       "  precision_evaluator recall_evaluator relevancy_evaluator  \\\n",
       "0                 1.0              1.0             0.00813   \n",
       "1                 1.0              1.0            0.034783   \n",
       "2                 1.0              1.0            0.008696   \n",
       "3                 1.0              1.0                0.01   \n",
       "4                 1.0         0.666667            0.010204   \n",
       "5                 1.0         0.333333            0.005525   \n",
       "6                 1.0         0.666667            0.006579   \n",
       "7                 1.0              0.5            0.005952   \n",
       "8                 1.0              1.0            0.009434   \n",
       "9                 1.0              1.0            0.021127   \n",
       "\n",
       "  similarity_evaluator  \n",
       "0                 True  \n",
       "1                 True  \n",
       "2                 True  \n",
       "3                 True  \n",
       "4                 True  \n",
       "5                False  \n",
       "6                 True  \n",
       "7                False  \n",
       "8                False  \n",
       "9                 True  "
      ]
     },
     "execution_count": 103,
     "metadata": {},
     "output_type": "execute_result"
    }
   ],
   "source": [
    "merged_df_512_5"
   ]
  },
  {
   "cell_type": "code",
   "execution_count": 104,
   "metadata": {},
   "outputs": [],
   "source": [
    "merged_df_512_5.to_csv(\"eval_results_512_5.csv\")"
   ]
  },
  {
   "cell_type": "markdown",
   "metadata": {
    "id": "WDdyaleCyB58"
   },
   "source": [
    "### **17. Compare results with the previous evaluation iteration**"
   ]
  },
  {
   "cell_type": "code",
   "execution_count": 105,
   "metadata": {
    "id": "Fum4K2dqyB58"
   },
   "outputs": [],
   "source": [
    "## Result comparison\n",
    "import pandas as pd\n",
    "import matplotlib.pyplot as plt\n",
    "\n",
    "def compare_dataframes(df1, df2 , df3):\n",
    "    # Extract the specified columns from both dataframes\n",
    "    headers = ['answer_relevancy_evaluator', 'aspect_critic_evaluator', 'context_utilization_evaluator', 'correctness_evaluator', 'faithfullness_evaluator','precision_evaluator','recall_evaluator','relevancy_evaluator']\n",
    "\n",
    "    # Create subplots\n",
    "    fig, axes = plt.subplots(nrows=1, ncols=len(headers), figsize=(20, 4))\n",
    "\n",
    "    # Plot bar plots for each header\n",
    "    for i, header in enumerate(headers):\n",
    "        print(df1[header])\n",
    "        ax = axes[i]\n",
    "        ax.bar(['RW_3','RW_4', 'RW_5'], [df1[header].mean(), df2[header].mean(), df3[header].mean()])\n",
    "        ax.set_title(header)\n",
    "        ax.set_ylabel('Mean Value')\n",
    "\n",
    "    # Adjust layout\n",
    "    plt.tight_layout()\n",
    "\n",
    "    # Show plot\n",
    "    plt.show()\n"
   ]
  },
  {
   "cell_type": "code",
   "execution_count": 106,
   "metadata": {
    "colab": {
     "base_uri": "https://localhost:8080/",
     "height": 1000
    },
    "id": "sqkz_orpyB59",
    "outputId": "81812bea-68d4-47fe-95ab-83e4482dc3ee"
   },
   "outputs": [
    {
     "name": "stdout",
     "output_type": "stream",
     "text": [
      "0    0.894643\n",
      "1    0.878536\n",
      "2     0.86862\n",
      "3    0.978604\n",
      "4    0.903746\n",
      "5    0.979174\n",
      "6      0.9552\n",
      "7    0.842125\n",
      "8     0.88227\n",
      "9    0.904315\n",
      "Name: answer_relevancy_evaluator, dtype: object\n",
      "0    0\n",
      "1    0\n",
      "2    0\n",
      "3    0\n",
      "4    0\n",
      "5    0\n",
      "6    0\n",
      "7    0\n",
      "8    0\n",
      "9    0\n",
      "Name: aspect_critic_evaluator, dtype: object\n",
      "0    1.0\n",
      "1    1.0\n",
      "2    1.0\n",
      "3    1.0\n",
      "4    1.0\n",
      "5    1.0\n",
      "6    1.0\n",
      "7    1.0\n",
      "8    1.0\n",
      "9    1.0\n",
      "Name: context_utilization_evaluator, dtype: object\n",
      "0    0.826936\n",
      "1    0.849971\n",
      "2     0.70648\n",
      "3      0.7737\n",
      "4    0.805451\n",
      "5    0.734945\n",
      "6    0.482904\n",
      "7    0.732848\n",
      "8    0.768304\n",
      "9     0.85995\n",
      "Name: correctness_evaluator, dtype: object\n",
      "0         1.0\n",
      "1    0.666667\n",
      "2         1.0\n",
      "3         1.0\n",
      "4         0.5\n",
      "5    0.666667\n",
      "6    0.833333\n",
      "7    0.388889\n",
      "8         0.0\n",
      "9         0.8\n",
      "Name: faithfullness_evaluator, dtype: object\n",
      "0    1.0\n",
      "1    1.0\n",
      "2    1.0\n",
      "3    1.0\n",
      "4    1.0\n",
      "5    1.0\n",
      "6    1.0\n",
      "7    1.0\n",
      "8    1.0\n",
      "9    1.0\n",
      "Name: precision_evaluator, dtype: object\n",
      "0         1.0\n",
      "1         1.0\n",
      "2         1.0\n",
      "3         1.0\n",
      "4    0.666667\n",
      "5    0.333333\n",
      "6    0.333333\n",
      "7         1.0\n",
      "8         1.0\n",
      "9         1.0\n",
      "Name: recall_evaluator, dtype: object\n",
      "0    0.011765\n",
      "1    0.046512\n",
      "2    0.059701\n",
      "3    0.013699\n",
      "4    0.074074\n",
      "5    0.009259\n",
      "6    0.011494\n",
      "7     0.00885\n",
      "8    0.022989\n",
      "9    0.016949\n",
      "Name: relevancy_evaluator, dtype: object\n"
     ]
    },
    {
     "data": {
      "image/png": "[encoded data removed]",
      "text/plain": [
       "<Figure size 2000x400 with 8 Axes>"
      ]
     },
     "metadata": {},
     "output_type": "display_data"
    }
   ],
   "source": [
    "# Example result comparison:\n",
    "compare_dataframes(merged_df_512_3, merged_df_512_4, merged_df_512_5)\n"
   ]
  },
  {
   "cell_type": "markdown",
   "metadata": {},
   "source": [
    "### **18. Experimenting with Reranking - as the relevancy/recall metrics indicate the improvements needed**"
   ]
  },
  {
   "cell_type": "code",
   "execution_count": 35,
   "metadata": {},
   "outputs": [],
   "source": [
    "#!pip install accelerate\n",
    "#!pip install \"transformers[torch,sentencepiece]\""
   ]
  },
  {
   "cell_type": "code",
   "execution_count": 29,
   "metadata": {},
   "outputs": [
    {
     "data": {
      "application/vnd.jupyter.widget-view+json": {
       "model_id": "872919cc2ffe41809faa6be029466578",
       "version_major": 2,
       "version_minor": 0
      },
      "text/plain": [
       "config.json:   0%|          | 0.00/970 [00:00<?, ?B/s]"
      ]
     },
     "metadata": {},
     "output_type": "display_data"
    },
    {
     "data": {
      "application/vnd.jupyter.widget-view+json": {
       "model_id": "80ca9ee4fb3a4beea08e8ba29a20c38d",
       "version_major": 2,
       "version_minor": 0
      },
      "text/plain": [
       "model.safetensors:   0%|          | 0.00/870M [00:00<?, ?B/s]"
      ]
     },
     "metadata": {},
     "output_type": "display_data"
    },
    {
     "data": {
      "application/vnd.jupyter.widget-view+json": {
       "model_id": "b7a00199e61e4ecdb5b6c830096227be",
       "version_major": 2,
       "version_minor": 0
      },
      "text/plain": [
       "tokenizer_config.json:   0%|          | 0.00/1.45k [00:00<?, ?B/s]"
      ]
     },
     "metadata": {},
     "output_type": "display_data"
    },
    {
     "data": {
      "application/vnd.jupyter.widget-view+json": {
       "model_id": "429329c91edf48ef91286ca97c21bf4a",
       "version_major": 2,
       "version_minor": 0
      },
      "text/plain": [
       "spm.model:   0%|          | 0.00/2.46M [00:00<?, ?B/s]"
      ]
     },
     "metadata": {},
     "output_type": "display_data"
    },
    {
     "data": {
      "application/vnd.jupyter.widget-view+json": {
       "model_id": "16af24191ce74699a15cee60bd64a9d3",
       "version_major": 2,
       "version_minor": 0
      },
      "text/plain": [
       "tokenizer.json:   0%|          | 0.00/8.65M [00:00<?, ?B/s]"
      ]
     },
     "metadata": {},
     "output_type": "display_data"
    },
    {
     "data": {
      "application/vnd.jupyter.widget-view+json": {
       "model_id": "d5d8f724fc1347958be3df9fa4035426",
       "version_major": 2,
       "version_minor": 0
      },
      "text/plain": [
       "added_tokens.json:   0%|          | 0.00/23.0 [00:00<?, ?B/s]"
      ]
     },
     "metadata": {},
     "output_type": "display_data"
    },
    {
     "data": {
      "application/vnd.jupyter.widget-view+json": {
       "model_id": "6b7bd1721b864f9a9b8e21fed3fda490",
       "version_major": 2,
       "version_minor": 0
      },
      "text/plain": [
       "special_tokens_map.json:   0%|          | 0.00/970 [00:00<?, ?B/s]"
      ]
     },
     "metadata": {},
     "output_type": "display_data"
    },
    {
     "data": {
      "text/plain": [
       "<haystack.core.pipeline.pipeline.Pipeline object at 0x49d0e24a0>\n",
       "🚅 Components\n",
       "  - query_embedder: FastembedTextEmbedder\n",
       "  - retriever: QdrantEmbeddingRetriever\n",
       "  - reranker: TransformersSimilarityRanker\n",
       "🛤️ Connections\n",
       "  - query_embedder.embedding -> retriever.query_embedding (List[float])\n",
       "  - retriever.documents -> reranker.documents (List[Document])"
      ]
     },
     "execution_count": 29,
     "metadata": {},
     "output_type": "execute_result"
    }
   ],
   "source": [
    "from haystack import Document\n",
    "from haystack import Pipeline\n",
    "from haystack.components.rankers import TransformersSimilarityRanker\n",
    "from haystack_integrations.components.retrievers.qdrant import QdrantEmbeddingRetriever\n",
    "from haystack_integrations.components.embedders.fastembed import FastembedTextEmbedder\n",
    "\n",
    "#ref : https://docs.haystack.deepset.ai/docs/rankers\n",
    "\n",
    "# Default uses : cross-encoder/ms-marco-MiniLM-L-6-v2\n",
    "#reranker = TransformersSimilarityRanker()\n",
    "\n",
    "reranker = TransformersSimilarityRanker(\n",
    "    model = \"mixedbread-ai/mxbai-rerank-large-v1\",\n",
    "    token = Secret.from_token(os.environ.get(\"MXBAI_API_KEY\"))\n",
    ")\n",
    "reranker.warm_up()\n",
    "\n",
    "query_rerank_pipeline = Pipeline()\n",
    "query_rerank_pipeline.add_component(\"query_embedder\", FastembedTextEmbedder(model=EMBEDDING_MODEL))\n",
    "query_rerank_pipeline.add_component(\"retriever\", QdrantEmbeddingRetriever(document_store=document_store))\n",
    "query_rerank_pipeline.add_component(\"reranker\" , reranker)\n",
    "\n",
    "query_rerank_pipeline.connect(\"query_embedder.embedding\", \"retriever.query_embedding\")\n",
    "query_rerank_pipeline.connect(\"retriever.documents\", \"reranker.documents\")\n"
   ]
  },
  {
   "cell_type": "markdown",
   "metadata": {},
   "source": [
    "#### **Trying out reranker effect on a query**"
   ]
  },
  {
   "cell_type": "code",
   "execution_count": 27,
   "metadata": {},
   "outputs": [
    {
     "name": "stderr",
     "output_type": "stream",
     "text": [
      "Calculating embeddings: 100%|█████████████████████████████████████████████████████████████████████████████████████████████████████████████████████████████████████████| 1/1 [00:00<00:00, 16.85it/s]\n"
     ]
    },
    {
     "name": "stdout",
     "output_type": "stream",
     "text": [
      "Id:  bce7cfd13b6403ad029d82d2503d2c42d341a41bc56d2bed063e5b02a1971629\n",
      "Document :  Some(Operation::SetPayload(SetPayload { points_selector: Some(PointsSelector { points_selector_one_of: Some(PointsSelectorOneOf::Points( PointsIdsList { ids: vec![1.into()], }, )), }), payload: HashMap::from([ (\"test_payload_2\".to_string(), 2.into()), (\"test_payload_3\".to_string(), 3.into()), ]), })), }, PointsUpdateOperation { operation: Some(Operation::DeletePayload(DeletePayload { points_selector: Some(PointsSelector { points_selector_one_of: Some(PointsSelectorOneOf::Points( PointsIdsList { ids: vec![1.into()], }, )), }), keys: vec![\"test_payload_2\".to_string()], })), }, PointsUpdateOperation { operation: Some(Operation::ClearPayload(PointsSelector { points_selector_one_of: Some(PointsSelectorOneOf::Points(PointsIdsList { ids: vec![1.into()], })), })), }, PointsUpdateOperation { operation: Some(Operation::Delete(PointsSelector { points_selector_one_of: Some(PointsSelectorOneOf::Points(PointsIdsList { ids: vec![1.into()], })), })), }, ], None, ) .await?; ``` ```java import java.util.List; import java.util.Map; import static io.qdrant.client.PointIdFactory.id; import static io.qdrant.client.ValueFactory.value; import static io.qdrant.client.VectorsFactory.vectors; import io.qdrant.client.grpc.Points.PointStruct; import io.qdrant.client.grpc.Points.PointVectors; import io.qdrant.client.grpc.Points.PointsIdsList; import io.qdrant.client.grpc.Points.PointsSelector; import io.qdrant.client.grpc.Points.PointsUpdateOperation; import io.qdrant.client.grpc.Points.PointsUpdateOperation.ClearPayload; import io.qdrant.client.grpc.Points.PointsUpdateOperation.DeletePayload; import io.qdrant.client.grpc.Points.PointsUpdateOperation.DeletePoints; import io.qdrant.client.grpc.Points.PointsUpdateOperation.DeleteVectors; import io.qdrant.client.grpc.Points.PointsUpdateOperation.PointStructList; import io.qdrant.client.grpc.Points.PointsUpdateOperation.SetPayload; import io.qdrant.client.grpc.Points.PointsUpdateOperation.UpdateVectors; import io.qdrant.client.grpc.Points.VectorsSelector; client .batchUpdateAsync( \"{collection_name}\", List.of( PointsUpdateOperation.newBuilder() .setUpsert( PointStructList.newBuilder() .addPoints( PointStruct.newBuilder() .setId(id(1)) .setVectors(vectors(1.0f, 2.0f, 3.0f, 4.0f)) .build()) .build()) .build(), PointsUpdateOperation.newBuilder() .setUpdateVectors( UpdateVectors.newBuilder() .addPoints( PointVectors.newBuilder() .setId(id(1)) .setVectors(vectors(1.0f, 2.0f, 3.0f, 4.0f)) .build()) .build()) .build(), PointsUpdateOperation.newBuilder() .setDeleteVectors( DeleteVectors.newBuilder() .setPointsSelector( PointsSelector.newBuilder() .setPoints(PointsIdsList.newBuilder().addIds(id(1)).build()) .build()) .setVectors(VectorsSelector.newBuilder().addNames(\"\").build()) .build()) .build(), PointsUpdateOperation.newBuilder() .setOverwritePayload( SetPayload.newBuilder() .setPointsSelector( PointsSelector.newBuilder() .setPoints(PointsIdsList.newBuilder().addIds(id(1)).build()) .build()) .putAllPayload(Map.of(\"test_payload\", value(1))) .build()) .build(), PointsUpdateOperation.newBuilder() .setSetPayload( SetPayload.newBuilder() .setPointsSelector( PointsSelector.newBuilder() .setPoints(PointsIdsList.newBuilder().addIds(id(1)).build()) .build()) .putAllPayload( Map.of(\"test_payload_2\", value(2), \"test_payload_3\", value(3))) .build()) .build(), PointsUpdateOperation.newBuilder() .setDeletePayload( DeletePayload.newBuilder() .setPointsSelector( PointsSelector.newBuilder() .setPoints(PointsIdsList.newBuilder().addIds(id(1)).build()) .build()) .addKeys(\"test_payload_2\") .build()) .build(), PointsUpdateOperation.newBuilder() .setClearPayload( ClearPayload.newBuilder() .setPoints( PointsSelector.newBuilder() .setPoints(PointsIdsList.newBuilder().addIds(id(1)).build()) .build()) .build()) .build(), PointsUpdateOperation.newBuilder() .setDeletePoints( DeletePoints.newBuilder() .setPoints( PointsSelector.newBuilder() .setPoints(PointsIdsList.newBuilder().addIds(id(1)).build()) .build()) .build()) .build())) .get(); ``` To batch many points with a single operation type, please use batching functionality in that operation directly.\n",
      "Score :  0.80284947\n",
      "Source :  documentation/concepts/points.md\n",
      "----\n",
      "\n",
      "Id:  a8c753f4c69b67f00f7740ae37accc312d34440e16913312a224456957758ce3\n",
      "Document :  import io.qdrant.client.QdrantGrpcClient; import io.qdrant.client.grpc.Collections.CreateCollection; import io.qdrant.client.grpc.Collections.Distance; import io.qdrant.client.grpc.Collections.HnswConfigDiff; import io.qdrant.client.grpc.Collections.VectorParams; import io.qdrant.client.grpc.Collections.VectorsConfig; QdrantClient client = new QdrantClient(QdrantGrpcClient.newBuilder(\"localhost\", 6334, false).build()); client .createCollectionAsync( CreateCollection.newBuilder() .setCollectionName(\"{collection_name}\") .setVectorsConfig( VectorsConfig.newBuilder() .setParams( VectorParams.newBuilder() .setSize(768) .setDistance(Distance.Cosine) .build()) .build()) .setHnswConfig(HnswConfigDiff.newBuilder().setPayloadM(16).setM(0).build()) .build()) .get(); ``` ```csharp using Qdrant.Client; using Qdrant.Client.Grpc; var client = new QdrantClient(\"localhost\", 6334); await client.CreateCollectionAsync( collectionName: \"{collection_name}\", vectorsConfig: new VectorParams { Size = 768, Distance = Distance.Cosine }, hnswConfig: new HnswConfigDiff { PayloadM = 16, M = 0 } ); ``` 3. Create keyword payload index for `group_id` field. ```http PUT /collections/{collection_name}/index { \"field_name\": \"group_id\", \"field_schema\": \"keyword\" } ``` ```python client.create_payload_index( collection_name=\"{collection_name}\", field_name=\"group_id\", field_schema=models.PayloadSchemaType.KEYWORD, ) ``` ```typescript client.createPayloadIndex(\"{collection_name}\", { field_name: \"group_id\", field_schema: \"keyword\", }); ``` ```rust use qdrant_client::{client::QdrantClient, qdrant::FieldType}; let client = QdrantClient::from_url(\"http://localhost:6334\").build()?; client .create_field_index( \"{collection_name}\", \"group_id\", FieldType::Keyword, None, None, ) .await?; ``` ```java import io.qdrant.client.QdrantClient; import io.qdrant.client.QdrantGrpcClient; import io.qdrant.client.grpc.Collections.PayloadSchemaType; QdrantClient client = new QdrantClient(QdrantGrpcClient.newBuilder(\"localhost\", 6334, false).build()); client .createPayloadIndexAsync( \"{collection_name}\", \"group_id\", PayloadSchsemaType.Keyword, null, null, null, null) .get(); ``` ```csharp using Qdrant.Client; var client = new QdrantClient(\"localhost\", 6334); await client.CreatePayloadIndexAsync(collectionName: \"{collection_name}\", fieldName: \"group_id\"); ``` ## Limitations One downside to this approach is that global requests (without the `group_id` filter) will be slower since they will necessitate scanning all groups to identify the nearest neighbors.\n",
      "Score :  0.7849201\n",
      "Source :  documentation/guides/multiple-partitions.md\n",
      "----\n",
      "\n"
     ]
    }
   ],
   "source": [
    "##Default Search pipeline\n",
    "question =\"What is the purpose of ‘CreatePayloadIndexAsync?\"\n",
    "\n",
    "search_result_query_pipeline = query_pipeline.run({\"query_embedder\": {\"text\": question}, \"retriever\":{\"top_k\":2}})\n",
    "\n",
    "for res in search_result_query_pipeline[\"retriever\"][\"documents\"]:\n",
    "    print(\"Id: \", res.id)\n",
    "    print(\"Document : \" , res.content)\n",
    "    print(\"Score : \" , res.score)\n",
    "    print(\"Source : \" , res.meta['source'])\n",
    "    print(\"----\\n\")\n",
    "    \n"
   ]
  },
  {
   "cell_type": "code",
   "execution_count": 30,
   "metadata": {},
   "outputs": [
    {
     "name": "stderr",
     "output_type": "stream",
     "text": [
      "Calculating embeddings: 100%|█████████████████████████████████████████████████████████████████████████████████████████████████████████████████████████████████████████| 1/1 [00:00<00:00, 13.42it/s]\n"
     ]
    },
    {
     "name": "stdout",
     "output_type": "stream",
     "text": [
      "Id:  a8c753f4c69b67f00f7740ae37accc312d34440e16913312a224456957758ce3\n",
      "Document :  import io.qdrant.client.QdrantGrpcClient; import io.qdrant.client.grpc.Collections.CreateCollection; import io.qdrant.client.grpc.Collections.Distance; import io.qdrant.client.grpc.Collections.HnswConfigDiff; import io.qdrant.client.grpc.Collections.VectorParams; import io.qdrant.client.grpc.Collections.VectorsConfig; QdrantClient client = new QdrantClient(QdrantGrpcClient.newBuilder(\"localhost\", 6334, false).build()); client .createCollectionAsync( CreateCollection.newBuilder() .setCollectionName(\"{collection_name}\") .setVectorsConfig( VectorsConfig.newBuilder() .setParams( VectorParams.newBuilder() .setSize(768) .setDistance(Distance.Cosine) .build()) .build()) .setHnswConfig(HnswConfigDiff.newBuilder().setPayloadM(16).setM(0).build()) .build()) .get(); ``` ```csharp using Qdrant.Client; using Qdrant.Client.Grpc; var client = new QdrantClient(\"localhost\", 6334); await client.CreateCollectionAsync( collectionName: \"{collection_name}\", vectorsConfig: new VectorParams { Size = 768, Distance = Distance.Cosine }, hnswConfig: new HnswConfigDiff { PayloadM = 16, M = 0 } ); ``` 3. Create keyword payload index for `group_id` field. ```http PUT /collections/{collection_name}/index { \"field_name\": \"group_id\", \"field_schema\": \"keyword\" } ``` ```python client.create_payload_index( collection_name=\"{collection_name}\", field_name=\"group_id\", field_schema=models.PayloadSchemaType.KEYWORD, ) ``` ```typescript client.createPayloadIndex(\"{collection_name}\", { field_name: \"group_id\", field_schema: \"keyword\", }); ``` ```rust use qdrant_client::{client::QdrantClient, qdrant::FieldType}; let client = QdrantClient::from_url(\"http://localhost:6334\").build()?; client .create_field_index( \"{collection_name}\", \"group_id\", FieldType::Keyword, None, None, ) .await?; ``` ```java import io.qdrant.client.QdrantClient; import io.qdrant.client.QdrantGrpcClient; import io.qdrant.client.grpc.Collections.PayloadSchemaType; QdrantClient client = new QdrantClient(QdrantGrpcClient.newBuilder(\"localhost\", 6334, false).build()); client .createPayloadIndexAsync( \"{collection_name}\", \"group_id\", PayloadSchsemaType.Keyword, null, null, null, null) .get(); ``` ```csharp using Qdrant.Client; var client = new QdrantClient(\"localhost\", 6334); await client.CreatePayloadIndexAsync(collectionName: \"{collection_name}\", fieldName: \"group_id\"); ``` ## Limitations One downside to this approach is that global requests (without the `group_id` filter) will be slower since they will necessitate scanning all groups to identify the nearest neighbors.\n",
      "Score :  0.10980501770973206\n",
      "Source :  documentation/guides/multiple-partitions.md\n",
      "----\n",
      "\n",
      "Id:  bce7cfd13b6403ad029d82d2503d2c42d341a41bc56d2bed063e5b02a1971629\n",
      "Document :  Some(Operation::SetPayload(SetPayload { points_selector: Some(PointsSelector { points_selector_one_of: Some(PointsSelectorOneOf::Points( PointsIdsList { ids: vec![1.into()], }, )), }), payload: HashMap::from([ (\"test_payload_2\".to_string(), 2.into()), (\"test_payload_3\".to_string(), 3.into()), ]), })), }, PointsUpdateOperation { operation: Some(Operation::DeletePayload(DeletePayload { points_selector: Some(PointsSelector { points_selector_one_of: Some(PointsSelectorOneOf::Points( PointsIdsList { ids: vec![1.into()], }, )), }), keys: vec![\"test_payload_2\".to_string()], })), }, PointsUpdateOperation { operation: Some(Operation::ClearPayload(PointsSelector { points_selector_one_of: Some(PointsSelectorOneOf::Points(PointsIdsList { ids: vec![1.into()], })), })), }, PointsUpdateOperation { operation: Some(Operation::Delete(PointsSelector { points_selector_one_of: Some(PointsSelectorOneOf::Points(PointsIdsList { ids: vec![1.into()], })), })), }, ], None, ) .await?; ``` ```java import java.util.List; import java.util.Map; import static io.qdrant.client.PointIdFactory.id; import static io.qdrant.client.ValueFactory.value; import static io.qdrant.client.VectorsFactory.vectors; import io.qdrant.client.grpc.Points.PointStruct; import io.qdrant.client.grpc.Points.PointVectors; import io.qdrant.client.grpc.Points.PointsIdsList; import io.qdrant.client.grpc.Points.PointsSelector; import io.qdrant.client.grpc.Points.PointsUpdateOperation; import io.qdrant.client.grpc.Points.PointsUpdateOperation.ClearPayload; import io.qdrant.client.grpc.Points.PointsUpdateOperation.DeletePayload; import io.qdrant.client.grpc.Points.PointsUpdateOperation.DeletePoints; import io.qdrant.client.grpc.Points.PointsUpdateOperation.DeleteVectors; import io.qdrant.client.grpc.Points.PointsUpdateOperation.PointStructList; import io.qdrant.client.grpc.Points.PointsUpdateOperation.SetPayload; import io.qdrant.client.grpc.Points.PointsUpdateOperation.UpdateVectors; import io.qdrant.client.grpc.Points.VectorsSelector; client .batchUpdateAsync( \"{collection_name}\", List.of( PointsUpdateOperation.newBuilder() .setUpsert( PointStructList.newBuilder() .addPoints( PointStruct.newBuilder() .setId(id(1)) .setVectors(vectors(1.0f, 2.0f, 3.0f, 4.0f)) .build()) .build()) .build(), PointsUpdateOperation.newBuilder() .setUpdateVectors( UpdateVectors.newBuilder() .addPoints( PointVectors.newBuilder() .setId(id(1)) .setVectors(vectors(1.0f, 2.0f, 3.0f, 4.0f)) .build()) .build()) .build(), PointsUpdateOperation.newBuilder() .setDeleteVectors( DeleteVectors.newBuilder() .setPointsSelector( PointsSelector.newBuilder() .setPoints(PointsIdsList.newBuilder().addIds(id(1)).build()) .build()) .setVectors(VectorsSelector.newBuilder().addNames(\"\").build()) .build()) .build(), PointsUpdateOperation.newBuilder() .setOverwritePayload( SetPayload.newBuilder() .setPointsSelector( PointsSelector.newBuilder() .setPoints(PointsIdsList.newBuilder().addIds(id(1)).build()) .build()) .putAllPayload(Map.of(\"test_payload\", value(1))) .build()) .build(), PointsUpdateOperation.newBuilder() .setSetPayload( SetPayload.newBuilder() .setPointsSelector( PointsSelector.newBuilder() .setPoints(PointsIdsList.newBuilder().addIds(id(1)).build()) .build()) .putAllPayload( Map.of(\"test_payload_2\", value(2), \"test_payload_3\", value(3))) .build()) .build(), PointsUpdateOperation.newBuilder() .setDeletePayload( DeletePayload.newBuilder() .setPointsSelector( PointsSelector.newBuilder() .setPoints(PointsIdsList.newBuilder().addIds(id(1)).build()) .build()) .addKeys(\"test_payload_2\") .build()) .build(), PointsUpdateOperation.newBuilder() .setClearPayload( ClearPayload.newBuilder() .setPoints( PointsSelector.newBuilder() .setPoints(PointsIdsList.newBuilder().addIds(id(1)).build()) .build()) .build()) .build(), PointsUpdateOperation.newBuilder() .setDeletePoints( DeletePoints.newBuilder() .setPoints( PointsSelector.newBuilder() .setPoints(PointsIdsList.newBuilder().addIds(id(1)).build()) .build()) .build()) .build())) .get(); ``` To batch many points with a single operation type, please use batching functionality in that operation directly.\n",
      "Score :  0.009485512040555477\n",
      "Source :  documentation/concepts/points.md\n",
      "----\n",
      "\n"
     ]
    }
   ],
   "source": [
    "##Search pipeline with Reranker\n",
    "search_result_query_rerank_pipeline = query_rerank_pipeline.run({\"query_embedder\": {\"text\": question}, \n",
    "                                           \"retriever\":{\"top_k\":3}, \n",
    "                                           \"reranker\": {\"query\": question, \"top_k\": 2}})\n",
    "for res in search_result_query_rerank_pipeline[\"reranker\"][\"documents\"]:\n",
    "    print(\"Id: \", res.id)\n",
    "    print(\"Document : \" , res.content)\n",
    "    print(\"Score : \" , res.score)\n",
    "    print(\"Source : \" , res.meta['source'])\n",
    "    print(\"----\\n\")"
   ]
  },
  {
   "cell_type": "markdown",
   "metadata": {},
   "source": [
    "### **19. Building RAG with Reranking component**"
   ]
  },
  {
   "cell_type": "code",
   "execution_count": 38,
   "metadata": {},
   "outputs": [],
   "source": [
    "from haystack.components.generators import OpenAIGenerator\n",
    "from haystack.components.builders import PromptBuilder\n",
    "from haystack_integrations.components.retrievers.qdrant import QdrantEmbeddingRetriever\n",
    "from haystack_integrations.components.embedders.fastembed import FastembedTextEmbedder\n",
    "\n",
    "## Interacting with an LLM without context\n",
    "def reranked_query_with_context(query,limit,num_reranked):\n",
    "\n",
    "    prompt_template =  \"\"\" You're assisting a user who has a question based on the documentation.\n",
    "        Your goal is to provide a clear and concise response that addresses their query while referencing relevant information\n",
    "        from the documentation.\n",
    "        Remember to:\n",
    "        Understand the user's question thoroughly.\n",
    "        If the user's query is general (e.g., \"hi,\" \"good morning\"),\n",
    "        greet them normally and avoid using the context from the documentation.\n",
    "        If the user's query is specific and related to the documentation, locate and extract the pertinent information.\n",
    "        Craft a response that directly addresses the user's query and provides accurate information\n",
    "        referring the relevant source and page from the 'source' field of fetched context from the documentation to support your answer.\n",
    "        Use a friendly and professional tone in your response.\n",
    "        If you cannot find the answer in the provided context, do not pretend to know it.\n",
    "        Instead, respond with \"I don't know\".\n",
    "\n",
    "        Context:\\n\n",
    "        {% for document in documents %}\n",
    "            document: {{ document.content }}\n",
    "            source: {{document.meta.source}}\n",
    "        {% endfor %}\n",
    "        \\n\\n---\\n\\n\n",
    "        \\n\\nQuestion: {{query}}\\nAnswer:\n",
    "        \"\"\"\n",
    "\n",
    "    generation_kwargs={\n",
    "        \"temperature\":0,\n",
    "        \"max_tokens\":636,\n",
    "        \"top_p\":1,\n",
    "        \"frequency_penalty\":0,\n",
    "        \"presence_penalty\":0,\n",
    "        \"stop\":None\n",
    "    }\n",
    "\n",
    "    ## RAG pipeline\n",
    "    rag = Pipeline()\n",
    "    rag.add_component(\"text_embedder\", FastembedTextEmbedder(model=EMBEDDING_MODEL))\n",
    "    rag.add_component(\"retriever\", QdrantEmbeddingRetriever(document_store=document_store))\n",
    "    rag.add_component(\"reranker\" , TransformersSimilarityRanker(\n",
    "                                   model = \"mixedbread-ai/mxbai-rerank-large-v1\",\n",
    "                                   token = Secret.from_token(\"emb_ec85e356576c062eb364139990780e90a55bd0a2520263ad\")))\n",
    "    rag.add_component(\"prompt_builder\", PromptBuilder(template=prompt_template))\n",
    "    rag.add_component(\"generator\", OpenAIGenerator(model=\"gpt-3.5-turbo\", generation_kwargs=generation_kwargs))\n",
    "\n",
    "    rag.connect(\"text_embedder\", \"retriever\")\n",
    "    rag.connect(\"retriever.documents\", \"reranker.documents\")\n",
    "    ##Adding reranking stage\n",
    "    rag.connect(\"reranker.documents\", \"prompt_builder.documents\")\n",
    "    rag.connect(\"prompt_builder\", \"generator\")\n",
    "\n",
    "    result = rag.run({\"text_embedder\":{\"text\":query},  \n",
    "                        \"retriever\":{\"top_k\":limit},\n",
    "                        \"reranker\": {\"query\": query, \"top_k\": num_reranked},\n",
    "                        \"prompt_builder\":{\"query\":query}}, \n",
    "                       include_outputs_from={\"reranker\"})\n",
    "    context = [\n",
    "          \"document:\"+r.content+\",source:\"+r.meta['source'] for r in result[\"reranker\"][\"documents\"]\n",
    "    ]\n",
    "\n",
    "    return (context, result[\"generator\"][\"replies\"][0])"
   ]
  },
  {
   "cell_type": "code",
   "execution_count": 39,
   "metadata": {},
   "outputs": [],
   "source": [
    "## Method to build eval dataset\n",
    "\n",
    "from datasets import Dataset\n",
    "\n",
    "def create_reranked_eval_dataset(dataset, eval_size,retrieval_window_size,num_reranked):\n",
    "    questions = []\n",
    "    answers = []\n",
    "    contexts = []\n",
    "    ground_truths = []\n",
    "\n",
    "    # Iterate over the first 10 entries\n",
    "    for i in range(eval_size):\n",
    "        entry = dataset[i]\n",
    "        question = entry['question']\n",
    "        answer = entry['answer']\n",
    "        questions.append(question)\n",
    "        ground_truths.append(answer)\n",
    "        context , rag_response = reranked_query_with_context(question,retrieval_window_size,num_reranked)\n",
    "        contexts.append(context)\n",
    "        answers.append(rag_response)\n",
    "\n",
    "    rag_response_data = {\n",
    "        \"question\": questions,\n",
    "        \"answer\": answers,\n",
    "        \"contexts\": contexts,\n",
    "        \"ground_truth\": ground_truths\n",
    "    }\n",
    "\n",
    "    return rag_response_data"
   ]
  },
  {
   "cell_type": "markdown",
   "metadata": {},
   "source": [
    "### **20. Creating evaluation dataset with retrieval plus reranker**"
   ]
  },
  {
   "cell_type": "code",
   "execution_count": 40,
   "metadata": {},
   "outputs": [],
   "source": [
    "# loading the eval dataset from HF\n",
    "qdrant_qna_dataset = load_dataset(\"atitaarora/qdrant_doc_qna\", split=\"train\")"
   ]
  },
  {
   "cell_type": "code",
   "execution_count": 76,
   "metadata": {},
   "outputs": [
    {
     "name": "stderr",
     "output_type": "stream",
     "text": [
      "Calculating embeddings: 100%|█████████████████████████████████████████████████████████████████████████████████████████████████████████████████████████████████████████| 1/1 [00:00<00:00,  1.86it/s]\n",
      "Calculating embeddings: 100%|█████████████████████████████████████████████████████████████████████████████████████████████████████████████████████████████████████████| 1/1 [00:00<00:00, 32.33it/s]\n",
      "Calculating embeddings: 100%|█████████████████████████████████████████████████████████████████████████████████████████████████████████████████████████████████████████| 1/1 [00:00<00:00,  2.01it/s]\n",
      "Calculating embeddings: 100%|█████████████████████████████████████████████████████████████████████████████████████████████████████████████████████████████████████████| 1/1 [00:00<00:00, 29.27it/s]\n",
      "Calculating embeddings: 100%|█████████████████████████████████████████████████████████████████████████████████████████████████████████████████████████████████████████| 1/1 [00:00<00:00, 32.46it/s]\n",
      "Calculating embeddings: 100%|█████████████████████████████████████████████████████████████████████████████████████████████████████████████████████████████████████████| 1/1 [00:00<00:00, 19.91it/s]\n",
      "Calculating embeddings: 100%|█████████████████████████████████████████████████████████████████████████████████████████████████████████████████████████████████████████| 1/1 [00:00<00:00,  2.71it/s]\n",
      "Calculating embeddings: 100%|█████████████████████████████████████████████████████████████████████████████████████████████████████████████████████████████████████████| 1/1 [00:00<00:00, 23.94it/s]\n",
      "Calculating embeddings: 100%|█████████████████████████████████████████████████████████████████████████████████████████████████████████████████████████████████████████| 1/1 [00:00<00:00, 25.29it/s]\n",
      "Calculating embeddings: 100%|█████████████████████████████████████████████████████████████████████████████████████████████████████████████████████████████████████████| 1/1 [00:00<00:00,  2.69it/s]\n"
     ]
    }
   ],
   "source": [
    "## Define the Config for generating the Eval dataset as below :\n",
    "\n",
    "# loading the eval dataset from HF\n",
    "#qdrant_qna_dataset = load_dataset(\"atitaarora/qdrant_doc_qna\", split=\"train\")\n",
    "\n",
    "EVAL_SIZE = 10\n",
    "\n",
    "RETRIEVAL_SIZE_4 = 3\n",
    "\n",
    "RERANKED_DOCS = 2\n",
    "\n",
    "#print(qdrant_qna_dataset.column_names)\n",
    "\n",
    "## The dataset used to evaluate RAG using RAGAS\n",
    "## Note this is the dataset needed for evaluation hence has to be recreated everytime changes to RAG config is made\n",
    "rag_eval_dataset_512_4_reranked = create_reranked_eval_dataset(qdrant_qna_dataset,EVAL_SIZE,RETRIEVAL_SIZE_4,RERANKED_DOCS)"
   ]
  },
  {
   "cell_type": "code",
   "execution_count": 77,
   "metadata": {},
   "outputs": [
    {
     "data": {
      "application/vnd.jupyter.widget-view+json": {
       "model_id": "27ab18a19bf246b18de8457b18da3c38",
       "version_major": 2,
       "version_minor": 0
      },
      "text/plain": [
       "Creating CSV from Arrow format:   0%|          | 0/1 [00:00<?, ?ba/s]"
      ]
     },
     "metadata": {},
     "output_type": "display_data"
    },
    {
     "data": {
      "text/plain": [
       "84280"
      ]
     },
     "execution_count": 77,
     "metadata": {},
     "output_type": "execute_result"
    }
   ],
   "source": [
    "#rag_response_data\n",
    "\n",
    "## The dataset used to evaluate RAG using RAGAS\n",
    "## Note this is the dataset needed for evaluation hence has to be recreated everytime changes to RAG config is made\n",
    "rag_response_dataset_512_4_reranked = Dataset.from_dict(rag_eval_dataset_512_4_reranked)\n",
    "## Saving the evaluation dataset offline\n",
    "rag_response_dataset_512_4_reranked.to_csv('rag_response_512_3_reranked.csv')"
   ]
  },
  {
   "cell_type": "code",
   "execution_count": 78,
   "metadata": {},
   "outputs": [
    {
     "data": {
      "text/html": [
       "<div>\n",
       "<style scoped>\n",
       "    .dataframe tbody tr th:only-of-type {\n",
       "        vertical-align: middle;\n",
       "    }\n",
       "\n",
       "    .dataframe tbody tr th {\n",
       "        vertical-align: top;\n",
       "    }\n",
       "\n",
       "    .dataframe thead th {\n",
       "        text-align: right;\n",
       "    }\n",
       "</style>\n",
       "<table border=\"1\" class=\"dataframe\">\n",
       "  <thead>\n",
       "    <tr style=\"text-align: right;\">\n",
       "      <th></th>\n",
       "      <th>question</th>\n",
       "      <th>answer</th>\n",
       "      <th>contexts</th>\n",
       "      <th>ground_truth</th>\n",
       "    </tr>\n",
       "  </thead>\n",
       "  <tbody>\n",
       "    <tr>\n",
       "      <th>0</th>\n",
       "      <td>What is vaccum optimizer ?</td>\n",
       "      <td>The Vacuum Optimizer in Qdrant is used to addr...</td>\n",
       "      <td>['document:--- title: Optimizer weight: 70 ali...</td>\n",
       "      <td>The Vacuum Optimizer is a feature in the Qdran...</td>\n",
       "    </tr>\n",
       "    <tr>\n",
       "      <th>1</th>\n",
       "      <td>Tell me about ‘always_ram’ parameter?</td>\n",
       "      <td>The `always_ram` parameter in the context of q...</td>\n",
       "      <td>['document:vectorsConfig: new VectorParams { S...</td>\n",
       "      <td>In the context of vector quantization in Qdran...</td>\n",
       "    </tr>\n",
       "    <tr>\n",
       "      <th>2</th>\n",
       "      <td>What is difference between scalar and product ...</td>\n",
       "      <td>Scalar quantization and product quantization a...</td>\n",
       "      <td>['document:section for more information on how...</td>\n",
       "      <td>While both methods aim to reduce the memory fo...</td>\n",
       "    </tr>\n",
       "    <tr>\n",
       "      <th>3</th>\n",
       "      <td>What is ‘best_score’ strategy?</td>\n",
       "      <td>The 'best_score' strategy is a new recommendat...</td>\n",
       "      <td>['document:step happens very fast, the perform...</td>\n",
       "      <td>The `best_score` strategy is based on the idea...</td>\n",
       "    </tr>\n",
       "    <tr>\n",
       "      <th>4</th>\n",
       "      <td>How does oversampling helps?</td>\n",
       "      <td>Oversampling helps in controlling the precisio...</td>\n",
       "      <td>['document:just the dominant one. Without an e...</td>\n",
       "      <td>Defines how many extra vectors should be pre-s...</td>\n",
       "    </tr>\n",
       "    <tr>\n",
       "      <th>5</th>\n",
       "      <td>What is the purpose of ‘CreatePayloadIndexAsync’?</td>\n",
       "      <td>The purpose of the 'CreatePayloadIndexAsync' f...</td>\n",
       "      <td>['document:import io.qdrant.client.QdrantGrpcC...</td>\n",
       "      <td>CreatePayloadIndexAsync is a method in the Qdr...</td>\n",
       "    </tr>\n",
       "    <tr>\n",
       "      <th>6</th>\n",
       "      <td>What is the purpose of ef_construct in HNSW ?</td>\n",
       "      <td>The `ef_construct` parameter in HNSW (Hierarch...</td>\n",
       "      <td>['document:), ) ``` ```typescript client.updat...</td>\n",
       "      <td>In HNSW algorithm the ef_construct parameter i...</td>\n",
       "    </tr>\n",
       "    <tr>\n",
       "      <th>7</th>\n",
       "      <td>How do you use ‘ordering’ parameter?</td>\n",
       "      <td>To use the 'ordering' parameter, you can speci...</td>\n",
       "      <td>['document:can be freely reordered. - `medium`...</td>\n",
       "      <td>Write ordering can be specified for any write ...</td>\n",
       "    </tr>\n",
       "    <tr>\n",
       "      <th>8</th>\n",
       "      <td>What is significance of ‘on_disk_payload’ sett...</td>\n",
       "      <td>The 'on_disk_payload' setting in Qdrant determ...</td>\n",
       "      <td>['document:--- title: Storage weight: 80 alias...</td>\n",
       "      <td>The `on_disk_payload` setting in the storage c...</td>\n",
       "    </tr>\n",
       "    <tr>\n",
       "      <th>9</th>\n",
       "      <td>What is the impact of ‘write_consistency_facto...</td>\n",
       "      <td>The `write_consistency_factor` in Qdrant repre...</td>\n",
       "      <td>['document:request dispatches all operations a...</td>\n",
       "      <td>The `write_consistency_factor` parameter in a ...</td>\n",
       "    </tr>\n",
       "  </tbody>\n",
       "</table>\n",
       "</div>"
      ],
      "text/plain": [
       "                                            question  \\\n",
       "0                         What is vaccum optimizer ?   \n",
       "1              Tell me about ‘always_ram’ parameter?   \n",
       "2  What is difference between scalar and product ...   \n",
       "3                     What is ‘best_score’ strategy?   \n",
       "4                       How does oversampling helps?   \n",
       "5  What is the purpose of ‘CreatePayloadIndexAsync’?   \n",
       "6      What is the purpose of ef_construct in HNSW ?   \n",
       "7               How do you use ‘ordering’ parameter?   \n",
       "8  What is significance of ‘on_disk_payload’ sett...   \n",
       "9  What is the impact of ‘write_consistency_facto...   \n",
       "\n",
       "                                              answer  \\\n",
       "0  The Vacuum Optimizer in Qdrant is used to addr...   \n",
       "1  The `always_ram` parameter in the context of q...   \n",
       "2  Scalar quantization and product quantization a...   \n",
       "3  The 'best_score' strategy is a new recommendat...   \n",
       "4  Oversampling helps in controlling the precisio...   \n",
       "5  The purpose of the 'CreatePayloadIndexAsync' f...   \n",
       "6  The `ef_construct` parameter in HNSW (Hierarch...   \n",
       "7  To use the 'ordering' parameter, you can speci...   \n",
       "8  The 'on_disk_payload' setting in Qdrant determ...   \n",
       "9  The `write_consistency_factor` in Qdrant repre...   \n",
       "\n",
       "                                            contexts  \\\n",
       "0  ['document:--- title: Optimizer weight: 70 ali...   \n",
       "1  ['document:vectorsConfig: new VectorParams { S...   \n",
       "2  ['document:section for more information on how...   \n",
       "3  ['document:step happens very fast, the perform...   \n",
       "4  ['document:just the dominant one. Without an e...   \n",
       "5  ['document:import io.qdrant.client.QdrantGrpcC...   \n",
       "6  ['document:), ) ``` ```typescript client.updat...   \n",
       "7  ['document:can be freely reordered. - `medium`...   \n",
       "8  ['document:--- title: Storage weight: 80 alias...   \n",
       "9  ['document:request dispatches all operations a...   \n",
       "\n",
       "                                        ground_truth  \n",
       "0  The Vacuum Optimizer is a feature in the Qdran...  \n",
       "1  In the context of vector quantization in Qdran...  \n",
       "2  While both methods aim to reduce the memory fo...  \n",
       "3  The `best_score` strategy is based on the idea...  \n",
       "4  Defines how many extra vectors should be pre-s...  \n",
       "5  CreatePayloadIndexAsync is a method in the Qdr...  \n",
       "6  In HNSW algorithm the ef_construct parameter i...  \n",
       "7  Write ordering can be specified for any write ...  \n",
       "8  The `on_disk_payload` setting in the storage c...  \n",
       "9  The `write_consistency_factor` parameter in a ...  "
      ]
     },
     "execution_count": 78,
     "metadata": {},
     "output_type": "execute_result"
    }
   ],
   "source": [
    "eval_dataset_512_4_reranked = pd.read_csv('rag_response_512_3_reranked.csv')\n",
    "eval_dataset_512_4_reranked.head(10)"
   ]
  },
  {
   "cell_type": "code",
   "execution_count": 79,
   "metadata": {},
   "outputs": [
    {
     "data": {
      "application/vnd.jupyter.widget-view+json": {
       "model_id": "012f5d4567f9476c8e4dc8b7ba65c701",
       "version_major": 2,
       "version_minor": 0
      },
      "text/plain": [
       "Evaluating:   0%|          | 0/10 [00:00<?, ?it/s]"
      ]
     },
     "metadata": {},
     "output_type": "display_data"
    },
    {
     "data": {
      "application/vnd.jupyter.widget-view+json": {
       "model_id": "d307cb7a5ee34cec8fcfeb9928ec372d",
       "version_major": 2,
       "version_minor": 0
      },
      "text/plain": [
       "Evaluating:   0%|          | 0/10 [00:00<?, ?it/s]"
      ]
     },
     "metadata": {},
     "output_type": "display_data"
    },
    {
     "data": {
      "application/vnd.jupyter.widget-view+json": {
       "model_id": "930ab0e1dd934c8e9348ca4ae7df6a95",
       "version_major": 2,
       "version_minor": 0
      },
      "text/plain": [
       "Evaluating:   0%|          | 0/10 [00:00<?, ?it/s]"
      ]
     },
     "metadata": {},
     "output_type": "display_data"
    },
    {
     "data": {
      "application/vnd.jupyter.widget-view+json": {
       "model_id": "c76a48cd67b943d5a92f71b6b762f007",
       "version_major": 2,
       "version_minor": 0
      },
      "text/plain": [
       "Evaluating:   0%|          | 0/10 [00:00<?, ?it/s]"
      ]
     },
     "metadata": {},
     "output_type": "display_data"
    },
    {
     "name": "stderr",
     "output_type": "stream",
     "text": [
      "Using 'context_precision' without ground truth will be soon depreciated. Use 'context_utilization' instead\n",
      "Using 'context_precision' without ground truth will be soon depreciated. Use 'context_utilization' instead\n",
      "Using 'context_precision' without ground truth will be soon depreciated. Use 'context_utilization' instead\n",
      "Using 'context_precision' without ground truth will be soon depreciated. Use 'context_utilization' instead\n",
      "Using 'context_precision' without ground truth will be soon depreciated. Use 'context_utilization' instead\n",
      "Using 'context_precision' without ground truth will be soon depreciated. Use 'context_utilization' instead\n",
      "Using 'context_precision' without ground truth will be soon depreciated. Use 'context_utilization' instead\n",
      "Using 'context_precision' without ground truth will be soon depreciated. Use 'context_utilization' instead\n",
      "Using 'context_precision' without ground truth will be soon depreciated. Use 'context_utilization' instead\n",
      "Using 'context_precision' without ground truth will be soon depreciated. Use 'context_utilization' instead\n"
     ]
    },
    {
     "data": {
      "application/vnd.jupyter.widget-view+json": {
       "model_id": "6411b3bca9db468aba4d85ae4f500a9a",
       "version_major": 2,
       "version_minor": 0
      },
      "text/plain": [
       "Evaluating:   0%|          | 0/10 [00:00<?, ?it/s]"
      ]
     },
     "metadata": {},
     "output_type": "display_data"
    },
    {
     "name": "stderr",
     "output_type": "stream",
     "text": [
      "Failed to parse output. Returning None.\n"
     ]
    },
    {
     "data": {
      "application/vnd.jupyter.widget-view+json": {
       "model_id": "5f293e8a9d294a0c8f5fa4feaf70b701",
       "version_major": 2,
       "version_minor": 0
      },
      "text/plain": [
       "Evaluating:   0%|          | 0/10 [00:00<?, ?it/s]"
      ]
     },
     "metadata": {},
     "output_type": "display_data"
    },
    {
     "name": "stderr",
     "output_type": "stream",
     "text": [
      "Failed to parse output. Returning None.\n",
      "Failed to parse output. Returning None.\n"
     ]
    },
    {
     "data": {
      "application/vnd.jupyter.widget-view+json": {
       "model_id": "7355572168754b43b449543297b92abd",
       "version_major": 2,
       "version_minor": 0
      },
      "text/plain": [
       "Evaluating:   0%|          | 0/10 [00:00<?, ?it/s]"
      ]
     },
     "metadata": {},
     "output_type": "display_data"
    },
    {
     "data": {
      "application/vnd.jupyter.widget-view+json": {
       "model_id": "c374cb68f50c41129fb768ef9594b0d9",
       "version_major": 2,
       "version_minor": 0
      },
      "text/plain": [
       "Evaluating:   0%|          | 0/10 [00:00<?, ?it/s]"
      ]
     },
     "metadata": {},
     "output_type": "display_data"
    },
    {
     "data": {
      "application/vnd.jupyter.widget-view+json": {
       "model_id": "4c284e19f5344d2c98aa0c8238a4c40e",
       "version_major": 2,
       "version_minor": 0
      },
      "text/plain": [
       "Evaluating:   0%|          | 0/10 [00:00<?, ?it/s]"
      ]
     },
     "metadata": {},
     "output_type": "display_data"
    }
   ],
   "source": [
    "## Run evaluation for Retrieval Window Size 4 evaluation dataset\n",
    "results_512_4_reranked = evaluate_eval_dataset(eval_dataset_512_4_reranked)\n"
   ]
  },
  {
   "cell_type": "code",
   "execution_count": 80,
   "metadata": {},
   "outputs": [],
   "source": [
    "evaluation_result_df_512_4_reranked = evaluation_results_to_dataframe(results_512_4_reranked)"
   ]
  },
  {
   "cell_type": "code",
   "execution_count": 81,
   "metadata": {},
   "outputs": [],
   "source": [
    "merged_df_512_4_reranked = merge_eval_and_metrics_dataset(eval_dataset_512_4_reranked , evaluation_result_df_512_4_reranked)"
   ]
  },
  {
   "cell_type": "code",
   "execution_count": 82,
   "metadata": {},
   "outputs": [],
   "source": [
    "merged_df_512_4_reranked.to_csv(\"eval_results_512_3_reranked.csv\")"
   ]
  },
  {
   "cell_type": "markdown",
   "metadata": {},
   "source": [
    "### **21. Compare the results post-reranking graphically**"
   ]
  },
  {
   "cell_type": "code",
   "execution_count": 83,
   "metadata": {},
   "outputs": [],
   "source": [
    "## Result comparison\n",
    "import pandas as pd\n",
    "import matplotlib.pyplot as plt\n",
    "\n",
    "def compare_dataframes(df1, df2 , df3 , df4 , df5 , df6):\n",
    "    # Extract the specified columns from both dataframes\n",
    "    headers = ['answer_relevancy_evaluator', 'aspect_critic_evaluator', 'context_utilization_evaluator', 'correctness_evaluator', 'faithfullness_evaluator','precision_evaluator','recall_evaluator','relevancy_evaluator']\n",
    "\n",
    "    # Create subplots\n",
    "    fig, axes = plt.subplots(nrows=1, ncols=len(headers), figsize=(30, 4))\n",
    "\n",
    "    # Plot bar plots for each header\n",
    "    for i, header in enumerate(headers):\n",
    "        print(df1[header])\n",
    "        ax = axes[i]\n",
    "        ax.bar(['RW_3','RW_4','RW_5','RRK_3','RRK_4','RRK_5'], [df1[header].mean(), df2[header].mean(), df3[header].mean(),df4[header].mean(),df5[header].mean(),df5[header].mean()])\n",
    "        ax.set_title(header)\n",
    "        ax.set_ylabel('Mean Value')\n",
    "\n",
    "    # Adjust layout\n",
    "    plt.tight_layout()\n",
    "\n",
    "    # Show plot\n",
    "    plt.show()\n"
   ]
  },
  {
   "cell_type": "code",
   "execution_count": 84,
   "metadata": {},
   "outputs": [
    {
     "name": "stdout",
     "output_type": "stream",
     "text": [
      "0    0.894643\n",
      "1    0.878536\n",
      "2    0.868620\n",
      "3    0.978604\n",
      "4    0.903746\n",
      "5    0.979174\n",
      "6    0.955200\n",
      "7    0.842125\n",
      "8    0.882270\n",
      "9    0.904315\n",
      "Name: answer_relevancy_evaluator, dtype: float64\n",
      "0    0\n",
      "1    0\n",
      "2    0\n",
      "3    0\n",
      "4    0\n",
      "5    0\n",
      "6    0\n",
      "7    0\n",
      "8    0\n",
      "9    0\n",
      "Name: aspect_critic_evaluator, dtype: int64\n",
      "0    1.0\n",
      "1    1.0\n",
      "2    1.0\n",
      "3    1.0\n",
      "4    1.0\n",
      "5    1.0\n",
      "6    1.0\n",
      "7    1.0\n",
      "8    1.0\n",
      "9    1.0\n",
      "Name: context_utilization_evaluator, dtype: float64\n",
      "0    0.826936\n",
      "1    0.849971\n",
      "2    0.706480\n",
      "3    0.773700\n",
      "4    0.805451\n",
      "5    0.734945\n",
      "6    0.482904\n",
      "7    0.732848\n",
      "8    0.768304\n",
      "9    0.859950\n",
      "Name: correctness_evaluator, dtype: float64\n",
      "0    1.000000\n",
      "1    0.666667\n",
      "2    1.000000\n",
      "3    1.000000\n",
      "4    0.500000\n",
      "5    0.666667\n",
      "6    0.833333\n",
      "7    0.388889\n",
      "8    0.000000\n",
      "9    0.800000\n",
      "Name: faithfullness_evaluator, dtype: float64\n",
      "0    1.0\n",
      "1    1.0\n",
      "2    1.0\n",
      "3    1.0\n",
      "4    1.0\n",
      "5    1.0\n",
      "6    1.0\n",
      "7    1.0\n",
      "8    1.0\n",
      "9    1.0\n",
      "Name: precision_evaluator, dtype: float64\n",
      "0    1.000000\n",
      "1    1.000000\n",
      "2    1.000000\n",
      "3    1.000000\n",
      "4    0.666667\n",
      "5    0.333333\n",
      "6    0.333333\n",
      "7    1.000000\n",
      "8    1.000000\n",
      "9    1.000000\n",
      "Name: recall_evaluator, dtype: float64\n",
      "0    0.011765\n",
      "1    0.046512\n",
      "2    0.059701\n",
      "3    0.013699\n",
      "4    0.074074\n",
      "5    0.009259\n",
      "6    0.011494\n",
      "7    0.008850\n",
      "8    0.022989\n",
      "9    0.016949\n",
      "Name: relevancy_evaluator, dtype: float64\n"
     ]
    },
    {
     "data": {
      "image/png": "[encoded data removed]",
      "text/plain": [
       "<Figure size 3000x400 with 8 Axes>"
      ]
     },
     "metadata": {},
     "output_type": "display_data"
    }
   ],
   "source": [
    "# Example result comparison\n",
    "import pandas as pd\n",
    "merged_df_512_3 = pd.read_csv('eval_results_512_3.csv')\n",
    "merged_df_512_4 = pd.read_csv('eval_results_512_4.csv')\n",
    "merged_df_512_5 = pd.read_csv('eval_results_512_5.csv')\n",
    "merged_df_512_3_reranked = pd.read_csv('eval_results_512_3_reranked.csv')\n",
    "merged_df_512_4_reranked = pd.read_csv('eval_results_512_4_reranked.csv')\n",
    "merged_df_512_5_reranked = pd.read_csv('eval_results_512_5_reranked.csv')\n",
    "compare_dataframes(merged_df_512_3, merged_df_512_4, merged_df_512_5,merged_df_512_3_reranked,merged_df_512_4_reranked,merged_df_512_5_reranked)\n"
   ]
  },
  {
   "cell_type": "code",
   "execution_count": null,
   "metadata": {},
   "outputs": [],
   "source": []
  },
  {
   "cell_type": "code",
   "execution_count": null,
   "metadata": {},
   "outputs": [],
   "source": []
  }
 ],
 "metadata": {
  "colab": {
   "provenance": []
  },
  "kernelspec": {
   "display_name": "Python 3 (ipykernel)",
   "language": "python",
   "name": "python3"
  },
  "language_info": {
   "codemirror_mode": {
    "name": "ipython",
    "version": 3
   },
   "file_extension": ".py",
   "mimetype": "text/x-python",
   "name": "python",
   "nbconvert_exporter": "python",
   "pygments_lexer": "ipython3",
   "version": "3.10.7"
  },
  "widgets": {
   "application/vnd.jupyter.widget-state+json": {
    "025bf8865c8e43249437927ce26fb6c8": {
     "model_module": "@jupyter-widgets/controls",
     "model_module_version": "1.5.0",
     "model_name": "HTMLModel",
     "state": {
      "_dom_classes": [],
      "_model_module": "@jupyter-widgets/controls",
      "_model_module_version": "1.5.0",
      "_model_name": "HTMLModel",
      "_view_count": null,
      "_view_module": "@jupyter-widgets/controls",
      "_view_module_version": "1.5.0",
      "_view_name": "HTMLView",
      "description": "",
      "description_tooltip": null,
      "layout": "IPY_MODEL_15dbf8ecf1a04f3abc9b360447d2355a",
      "placeholder": "​",
      "style": "IPY_MODEL_f381f72d201b448b81b4d07ab0762cc8",
      "value": "Fetching 9 files: 100%"
     }
    },
    "05c46198e2834c9a8418dc1b36b90f8c": {
     "model_module": "@jupyter-widgets/controls",
     "model_module_version": "1.5.0",
     "model_name": "HBoxModel",
     "state": {
      "_dom_classes": [],
      "_model_module": "@jupyter-widgets/controls",
      "_model_module_version": "1.5.0",
      "_model_name": "HBoxModel",
      "_view_count": null,
      "_view_module": "@jupyter-widgets/controls",
      "_view_module_version": "1.5.0",
      "_view_name": "HBoxView",
      "box_style": "",
      "children": [
       "IPY_MODEL_025bf8865c8e43249437927ce26fb6c8",
       "IPY_MODEL_a1cb3e4346194999b027c0a04c7130f5",
       "IPY_MODEL_d21be397e6c342f8b5949aea3b58dac6"
      ],
      "layout": "IPY_MODEL_4688bb85158f4208ad3ac2032630d3db"
     }
    },
    "09462996c2c2452f9434985a4f1a6b81": {
     "model_module": "@jupyter-widgets/base",
     "model_module_version": "1.2.0",
     "model_name": "LayoutModel",
     "state": {
      "_model_module": "@jupyter-widgets/base",
      "_model_module_version": "1.2.0",
      "_model_name": "LayoutModel",
      "_view_count": null,
      "_view_module": "@jupyter-widgets/base",
      "_view_module_version": "1.2.0",
      "_view_name": "LayoutView",
      "align_content": null,
      "align_items": null,
      "align_self": null,
      "border": null,
      "bottom": null,
      "display": null,
      "flex": null,
      "flex_flow": null,
      "grid_area": null,
      "grid_auto_columns": null,
      "grid_auto_flow": null,
      "grid_auto_rows": null,
      "grid_column": null,
      "grid_gap": null,
      "grid_row": null,
      "grid_template_areas": null,
      "grid_template_columns": null,
      "grid_template_rows": null,
      "height": null,
      "justify_content": null,
      "justify_items": null,
      "left": null,
      "margin": null,
      "max_height": null,
      "max_width": null,
      "min_height": null,
      "min_width": null,
      "object_fit": null,
      "object_position": null,
      "order": null,
      "overflow": null,
      "overflow_x": null,
      "overflow_y": null,
      "padding": null,
      "right": null,
      "top": null,
      "visibility": null,
      "width": null
     }
    },
    "11074ed977964e83b6f2c208313d192d": {
     "model_module": "@jupyter-widgets/controls",
     "model_module_version": "1.5.0",
     "model_name": "HTMLModel",
     "state": {
      "_dom_classes": [],
      "_model_module": "@jupyter-widgets/controls",
      "_model_module_version": "1.5.0",
      "_model_name": "HTMLModel",
      "_view_count": null,
      "_view_module": "@jupyter-widgets/controls",
      "_view_module_version": "1.5.0",
      "_view_name": "HTMLView",
      "description": "",
      "description_tooltip": null,
      "layout": "IPY_MODEL_bcc4904d2a0945f1b8a7b82f74f0e745",
      "placeholder": "​",
      "style": "IPY_MODEL_fb0dd385be3e44ba8c13edd5e730756a",
      "value": " 240/240 [00:00&lt;00:00, 3940.15it/s]"
     }
    },
    "143ec26042a54df7a72a29663e454c42": {
     "model_module": "@jupyter-widgets/base",
     "model_module_version": "1.2.0",
     "model_name": "LayoutModel",
     "state": {
      "_model_module": "@jupyter-widgets/base",
      "_model_module_version": "1.2.0",
      "_model_name": "LayoutModel",
      "_view_count": null,
      "_view_module": "@jupyter-widgets/base",
      "_view_module_version": "1.2.0",
      "_view_name": "LayoutView",
      "align_content": null,
      "align_items": null,
      "align_self": null,
      "border": null,
      "bottom": null,
      "display": null,
      "flex": null,
      "flex_flow": null,
      "grid_area": null,
      "grid_auto_columns": null,
      "grid_auto_flow": null,
      "grid_auto_rows": null,
      "grid_column": null,
      "grid_gap": null,
      "grid_row": null,
      "grid_template_areas": null,
      "grid_template_columns": null,
      "grid_template_rows": null,
      "height": null,
      "justify_content": null,
      "justify_items": null,
      "left": null,
      "margin": null,
      "max_height": null,
      "max_width": null,
      "min_height": null,
      "min_width": null,
      "object_fit": null,
      "object_position": null,
      "order": null,
      "overflow": null,
      "overflow_x": null,
      "overflow_y": null,
      "padding": null,
      "right": null,
      "top": null,
      "visibility": null,
      "width": null
     }
    },
    "15dbf8ecf1a04f3abc9b360447d2355a": {
     "model_module": "@jupyter-widgets/base",
     "model_module_version": "1.2.0",
     "model_name": "LayoutModel",
     "state": {
      "_model_module": "@jupyter-widgets/base",
      "_model_module_version": "1.2.0",
      "_model_name": "LayoutModel",
      "_view_count": null,
      "_view_module": "@jupyter-widgets/base",
      "_view_module_version": "1.2.0",
      "_view_name": "LayoutView",
      "align_content": null,
      "align_items": null,
      "align_self": null,
      "border": null,
      "bottom": null,
      "display": null,
      "flex": null,
      "flex_flow": null,
      "grid_area": null,
      "grid_auto_columns": null,
      "grid_auto_flow": null,
      "grid_auto_rows": null,
      "grid_column": null,
      "grid_gap": null,
      "grid_row": null,
      "grid_template_areas": null,
      "grid_template_columns": null,
      "grid_template_rows": null,
      "height": null,
      "justify_content": null,
      "justify_items": null,
      "left": null,
      "margin": null,
      "max_height": null,
      "max_width": null,
      "min_height": null,
      "min_width": null,
      "object_fit": null,
      "object_position": null,
      "order": null,
      "overflow": null,
      "overflow_x": null,
      "overflow_y": null,
      "padding": null,
      "right": null,
      "top": null,
      "visibility": null,
      "width": null
     }
    },
    "1deb43ae31cc4e169b2ef3075c57fb51": {
     "model_module": "@jupyter-widgets/controls",
     "model_module_version": "1.5.0",
     "model_name": "ProgressStyleModel",
     "state": {
      "_model_module": "@jupyter-widgets/controls",
      "_model_module_version": "1.5.0",
      "_model_name": "ProgressStyleModel",
      "_view_count": null,
      "_view_module": "@jupyter-widgets/base",
      "_view_module_version": "1.2.0",
      "_view_name": "StyleView",
      "bar_color": null,
      "description_width": ""
     }
    },
    "1f1498e72c5f4e538ef43266775fdb0f": {
     "model_module": "@jupyter-widgets/controls",
     "model_module_version": "1.5.0",
     "model_name": "HTMLModel",
     "state": {
      "_dom_classes": [],
      "_model_module": "@jupyter-widgets/controls",
      "_model_module_version": "1.5.0",
      "_model_name": "HTMLModel",
      "_view_count": null,
      "_view_module": "@jupyter-widgets/controls",
      "_view_module_version": "1.5.0",
      "_view_name": "HTMLView",
      "description": "",
      "description_tooltip": null,
      "layout": "IPY_MODEL_143ec26042a54df7a72a29663e454c42",
      "placeholder": "​",
      "style": "IPY_MODEL_d75958797e3044c08285e629f8b911d3",
      "value": "100%"
     }
    },
    "20267c28236a4e1b9c6dd913caa1a38c": {
     "model_module": "@jupyter-widgets/base",
     "model_module_version": "1.2.0",
     "model_name": "LayoutModel",
     "state": {
      "_model_module": "@jupyter-widgets/base",
      "_model_module_version": "1.2.0",
      "_model_name": "LayoutModel",
      "_view_count": null,
      "_view_module": "@jupyter-widgets/base",
      "_view_module_version": "1.2.0",
      "_view_name": "LayoutView",
      "align_content": null,
      "align_items": null,
      "align_self": null,
      "border": null,
      "bottom": null,
      "display": null,
      "flex": null,
      "flex_flow": null,
      "grid_area": null,
      "grid_auto_columns": null,
      "grid_auto_flow": null,
      "grid_auto_rows": null,
      "grid_column": null,
      "grid_gap": null,
      "grid_row": null,
      "grid_template_areas": null,
      "grid_template_columns": null,
      "grid_template_rows": null,
      "height": null,
      "justify_content": null,
      "justify_items": null,
      "left": null,
      "margin": null,
      "max_height": null,
      "max_width": null,
      "min_height": null,
      "min_width": null,
      "object_fit": null,
      "object_position": null,
      "order": null,
      "overflow": null,
      "overflow_x": null,
      "overflow_y": null,
      "padding": null,
      "right": null,
      "top": null,
      "visibility": null,
      "width": null
     }
    },
    "4688bb85158f4208ad3ac2032630d3db": {
     "model_module": "@jupyter-widgets/base",
     "model_module_version": "1.2.0",
     "model_name": "LayoutModel",
     "state": {
      "_model_module": "@jupyter-widgets/base",
      "_model_module_version": "1.2.0",
      "_model_name": "LayoutModel",
      "_view_count": null,
      "_view_module": "@jupyter-widgets/base",
      "_view_module_version": "1.2.0",
      "_view_name": "LayoutView",
      "align_content": null,
      "align_items": null,
      "align_self": null,
      "border": null,
      "bottom": null,
      "display": null,
      "flex": null,
      "flex_flow": null,
      "grid_area": null,
      "grid_auto_columns": null,
      "grid_auto_flow": null,
      "grid_auto_rows": null,
      "grid_column": null,
      "grid_gap": null,
      "grid_row": null,
      "grid_template_areas": null,
      "grid_template_columns": null,
      "grid_template_rows": null,
      "height": null,
      "justify_content": null,
      "justify_items": null,
      "left": null,
      "margin": null,
      "max_height": null,
      "max_width": null,
      "min_height": null,
      "min_width": null,
      "object_fit": null,
      "object_position": null,
      "order": null,
      "overflow": null,
      "overflow_x": null,
      "overflow_y": null,
      "padding": null,
      "right": null,
      "top": null,
      "visibility": null,
      "width": null
     }
    },
    "8882b8a8aada43d1be7171f230a24e15": {
     "model_module": "@jupyter-widgets/controls",
     "model_module_version": "1.5.0",
     "model_name": "ProgressStyleModel",
     "state": {
      "_model_module": "@jupyter-widgets/controls",
      "_model_module_version": "1.5.0",
      "_model_name": "ProgressStyleModel",
      "_view_count": null,
      "_view_module": "@jupyter-widgets/base",
      "_view_module_version": "1.2.0",
      "_view_name": "StyleView",
      "bar_color": null,
      "description_width": ""
     }
    },
    "a1cb3e4346194999b027c0a04c7130f5": {
     "model_module": "@jupyter-widgets/controls",
     "model_module_version": "1.5.0",
     "model_name": "FloatProgressModel",
     "state": {
      "_dom_classes": [],
      "_model_module": "@jupyter-widgets/controls",
      "_model_module_version": "1.5.0",
      "_model_name": "FloatProgressModel",
      "_view_count": null,
      "_view_module": "@jupyter-widgets/controls",
      "_view_module_version": "1.5.0",
      "_view_name": "ProgressView",
      "bar_style": "success",
      "description": "",
      "description_tooltip": null,
      "layout": "IPY_MODEL_20267c28236a4e1b9c6dd913caa1a38c",
      "max": 9,
      "min": 0,
      "orientation": "horizontal",
      "style": "IPY_MODEL_1deb43ae31cc4e169b2ef3075c57fb51",
      "value": 9
     }
    },
    "a2039c684d8e4c95adf548aa75e11c69": {
     "model_module": "@jupyter-widgets/controls",
     "model_module_version": "1.5.0",
     "model_name": "DescriptionStyleModel",
     "state": {
      "_model_module": "@jupyter-widgets/controls",
      "_model_module_version": "1.5.0",
      "_model_name": "DescriptionStyleModel",
      "_view_count": null,
      "_view_module": "@jupyter-widgets/base",
      "_view_module_version": "1.2.0",
      "_view_name": "StyleView",
      "description_width": ""
     }
    },
    "bcc4904d2a0945f1b8a7b82f74f0e745": {
     "model_module": "@jupyter-widgets/base",
     "model_module_version": "1.2.0",
     "model_name": "LayoutModel",
     "state": {
      "_model_module": "@jupyter-widgets/base",
      "_model_module_version": "1.2.0",
      "_model_name": "LayoutModel",
      "_view_count": null,
      "_view_module": "@jupyter-widgets/base",
      "_view_module_version": "1.2.0",
      "_view_name": "LayoutView",
      "align_content": null,
      "align_items": null,
      "align_self": null,
      "border": null,
      "bottom": null,
      "display": null,
      "flex": null,
      "flex_flow": null,
      "grid_area": null,
      "grid_auto_columns": null,
      "grid_auto_flow": null,
      "grid_auto_rows": null,
      "grid_column": null,
      "grid_gap": null,
      "grid_row": null,
      "grid_template_areas": null,
      "grid_template_columns": null,
      "grid_template_rows": null,
      "height": null,
      "justify_content": null,
      "justify_items": null,
      "left": null,
      "margin": null,
      "max_height": null,
      "max_width": null,
      "min_height": null,
      "min_width": null,
      "object_fit": null,
      "object_position": null,
      "order": null,
      "overflow": null,
      "overflow_x": null,
      "overflow_y": null,
      "padding": null,
      "right": null,
      "top": null,
      "visibility": null,
      "width": null
     }
    },
    "be3564cf8fbd4fdc812fc30748ac0ef3": {
     "model_module": "@jupyter-widgets/base",
     "model_module_version": "1.2.0",
     "model_name": "LayoutModel",
     "state": {
      "_model_module": "@jupyter-widgets/base",
      "_model_module_version": "1.2.0",
      "_model_name": "LayoutModel",
      "_view_count": null,
      "_view_module": "@jupyter-widgets/base",
      "_view_module_version": "1.2.0",
      "_view_name": "LayoutView",
      "align_content": null,
      "align_items": null,
      "align_self": null,
      "border": null,
      "bottom": null,
      "display": null,
      "flex": null,
      "flex_flow": null,
      "grid_area": null,
      "grid_auto_columns": null,
      "grid_auto_flow": null,
      "grid_auto_rows": null,
      "grid_column": null,
      "grid_gap": null,
      "grid_row": null,
      "grid_template_areas": null,
      "grid_template_columns": null,
      "grid_template_rows": null,
      "height": null,
      "justify_content": null,
      "justify_items": null,
      "left": null,
      "margin": null,
      "max_height": null,
      "max_width": null,
      "min_height": null,
      "min_width": null,
      "object_fit": null,
      "object_position": null,
      "order": null,
      "overflow": null,
      "overflow_x": null,
      "overflow_y": null,
      "padding": null,
      "right": null,
      "top": null,
      "visibility": null,
      "width": null
     }
    },
    "d21be397e6c342f8b5949aea3b58dac6": {
     "model_module": "@jupyter-widgets/controls",
     "model_module_version": "1.5.0",
     "model_name": "HTMLModel",
     "state": {
      "_dom_classes": [],
      "_model_module": "@jupyter-widgets/controls",
      "_model_module_version": "1.5.0",
      "_model_name": "HTMLModel",
      "_view_count": null,
      "_view_module": "@jupyter-widgets/controls",
      "_view_module_version": "1.5.0",
      "_view_name": "HTMLView",
      "description": "",
      "description_tooltip": null,
      "layout": "IPY_MODEL_09462996c2c2452f9434985a4f1a6b81",
      "placeholder": "​",
      "style": "IPY_MODEL_a2039c684d8e4c95adf548aa75e11c69",
      "value": " 9/9 [00:00&lt;00:00, 178.26it/s]"
     }
    },
    "d75958797e3044c08285e629f8b911d3": {
     "model_module": "@jupyter-widgets/controls",
     "model_module_version": "1.5.0",
     "model_name": "DescriptionStyleModel",
     "state": {
      "_model_module": "@jupyter-widgets/controls",
      "_model_module_version": "1.5.0",
      "_model_name": "DescriptionStyleModel",
      "_view_count": null,
      "_view_module": "@jupyter-widgets/base",
      "_view_module_version": "1.2.0",
      "_view_name": "StyleView",
      "description_width": ""
     }
    },
    "ea3efae027354224948451791afd1f99": {
     "model_module": "@jupyter-widgets/base",
     "model_module_version": "1.2.0",
     "model_name": "LayoutModel",
     "state": {
      "_model_module": "@jupyter-widgets/base",
      "_model_module_version": "1.2.0",
      "_model_name": "LayoutModel",
      "_view_count": null,
      "_view_module": "@jupyter-widgets/base",
      "_view_module_version": "1.2.0",
      "_view_name": "LayoutView",
      "align_content": null,
      "align_items": null,
      "align_self": null,
      "border": null,
      "bottom": null,
      "display": null,
      "flex": null,
      "flex_flow": null,
      "grid_area": null,
      "grid_auto_columns": null,
      "grid_auto_flow": null,
      "grid_auto_rows": null,
      "grid_column": null,
      "grid_gap": null,
      "grid_row": null,
      "grid_template_areas": null,
      "grid_template_columns": null,
      "grid_template_rows": null,
      "height": null,
      "justify_content": null,
      "justify_items": null,
      "left": null,
      "margin": null,
      "max_height": null,
      "max_width": null,
      "min_height": null,
      "min_width": null,
      "object_fit": null,
      "object_position": null,
      "order": null,
      "overflow": null,
      "overflow_x": null,
      "overflow_y": null,
      "padding": null,
      "right": null,
      "top": null,
      "visibility": null,
      "width": null
     }
    },
    "f381f72d201b448b81b4d07ab0762cc8": {
     "model_module": "@jupyter-widgets/controls",
     "model_module_version": "1.5.0",
     "model_name": "DescriptionStyleModel",
     "state": {
      "_model_module": "@jupyter-widgets/controls",
      "_model_module_version": "1.5.0",
      "_model_name": "DescriptionStyleModel",
      "_view_count": null,
      "_view_module": "@jupyter-widgets/base",
      "_view_module_version": "1.2.0",
      "_view_name": "StyleView",
      "description_width": ""
     }
    },
    "f6deefc2d4ca47c0a6181dfc267c92f7": {
     "model_module": "@jupyter-widgets/controls",
     "model_module_version": "1.5.0",
     "model_name": "HBoxModel",
     "state": {
      "_dom_classes": [],
      "_model_module": "@jupyter-widgets/controls",
      "_model_module_version": "1.5.0",
      "_model_name": "HBoxModel",
      "_view_count": null,
      "_view_module": "@jupyter-widgets/controls",
      "_view_module_version": "1.5.0",
      "_view_name": "HBoxView",
      "box_style": "",
      "children": [
       "IPY_MODEL_1f1498e72c5f4e538ef43266775fdb0f",
       "IPY_MODEL_feb4f8904b304e4fa729368a125cb9fb",
       "IPY_MODEL_11074ed977964e83b6f2c208313d192d"
      ],
      "layout": "IPY_MODEL_ea3efae027354224948451791afd1f99"
     }
    },
    "fb0dd385be3e44ba8c13edd5e730756a": {
     "model_module": "@jupyter-widgets/controls",
     "model_module_version": "1.5.0",
     "model_name": "DescriptionStyleModel",
     "state": {
      "_model_module": "@jupyter-widgets/controls",
      "_model_module_version": "1.5.0",
      "_model_name": "DescriptionStyleModel",
      "_view_count": null,
      "_view_module": "@jupyter-widgets/base",
      "_view_module_version": "1.2.0",
      "_view_name": "StyleView",
      "description_width": ""
     }
    },
    "feb4f8904b304e4fa729368a125cb9fb": {
     "model_module": "@jupyter-widgets/controls",
     "model_module_version": "1.5.0",
     "model_name": "FloatProgressModel",
     "state": {
      "_dom_classes": [],
      "_model_module": "@jupyter-widgets/controls",
      "_model_module_version": "1.5.0",
      "_model_name": "FloatProgressModel",
      "_view_count": null,
      "_view_module": "@jupyter-widgets/controls",
      "_view_module_version": "1.5.0",
      "_view_name": "ProgressView",
      "bar_style": "success",
      "description": "",
      "description_tooltip": null,
      "layout": "IPY_MODEL_be3564cf8fbd4fdc812fc30748ac0ef3",
      "max": 240,
      "min": 0,
      "orientation": "horizontal",
      "style": "IPY_MODEL_8882b8a8aada43d1be7171f230a24e15",
      "value": 240
     }
    }
   }
  }
 },
 "nbformat": 4,
 "nbformat_minor": 4
}
