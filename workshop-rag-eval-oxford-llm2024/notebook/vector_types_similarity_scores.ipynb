{
 "cells": [
  {
   "cell_type": "markdown",
   "id": "d40d5cbb-7edb-43ea-b37f-3d36c8a668b1",
   "metadata": {},
   "source": [
    "### In this notebook we are going to be taking a look at different embedding types such as :\n",
    "\n",
    "- Dense \n",
    "- Sparse\n",
    "  - Splade\n",
    "  - BM25\n",
    "\n",
    "We are going to be understanding how the magic of semantic understanding works contrary to lexical or token based embeddings."
   ]
  },
  {
   "cell_type": "code",
   "execution_count": 4,
   "id": "cc68487a-a09d-467e-b5e2-e8aee7e489b5",
   "metadata": {},
   "outputs": [],
   "source": [
    "import pandas as pd"
   ]
  },
  {
   "cell_type": "code",
   "execution_count": 3,
   "id": "0a864a02-01d3-40da-9ec2-513d445bf260",
   "metadata": {},
   "outputs": [
    {
     "data": {
      "text/html": [
       "<div>\n",
       "<style scoped>\n",
       "    .dataframe tbody tr th:only-of-type {\n",
       "        vertical-align: middle;\n",
       "    }\n",
       "\n",
       "    .dataframe tbody tr th {\n",
       "        vertical-align: top;\n",
       "    }\n",
       "\n",
       "    .dataframe thead th {\n",
       "        text-align: right;\n",
       "    }\n",
       "</style>\n",
       "<table border=\"1\" class=\"dataframe\">\n",
       "  <thead>\n",
       "    <tr style=\"text-align: right;\">\n",
       "      <th></th>\n",
       "      <th>model</th>\n",
       "      <th>dim</th>\n",
       "      <th>description</th>\n",
       "      <th>size_in_GB</th>\n",
       "      <th>sources</th>\n",
       "      <th>model_file</th>\n",
       "      <th>additional_files</th>\n",
       "    </tr>\n",
       "  </thead>\n",
       "  <tbody>\n",
       "    <tr>\n",
       "      <th>0</th>\n",
       "      <td>BAAI/bge-base-en</td>\n",
       "      <td>768</td>\n",
       "      <td>Text embeddings, Unimodal (text), English, 512...</td>\n",
       "      <td>0.420</td>\n",
       "      <td>{'url': 'https://storage.googleapis.com/qdrant...</td>\n",
       "      <td>model_optimized.onnx</td>\n",
       "      <td>NaN</td>\n",
       "    </tr>\n",
       "    <tr>\n",
       "      <th>1</th>\n",
       "      <td>BAAI/bge-base-en-v1.5</td>\n",
       "      <td>768</td>\n",
       "      <td>Text embeddings, Unimodal (text), English, 512...</td>\n",
       "      <td>0.210</td>\n",
       "      <td>{'url': 'https://storage.googleapis.com/qdrant...</td>\n",
       "      <td>model_optimized.onnx</td>\n",
       "      <td>NaN</td>\n",
       "    </tr>\n",
       "    <tr>\n",
       "      <th>2</th>\n",
       "      <td>BAAI/bge-large-en-v1.5</td>\n",
       "      <td>1024</td>\n",
       "      <td>Text embeddings, Unimodal (text), English, 512...</td>\n",
       "      <td>1.200</td>\n",
       "      <td>{'hf': 'qdrant/bge-large-en-v1.5-onnx'}</td>\n",
       "      <td>model.onnx</td>\n",
       "      <td>NaN</td>\n",
       "    </tr>\n",
       "    <tr>\n",
       "      <th>3</th>\n",
       "      <td>BAAI/bge-small-en</td>\n",
       "      <td>384</td>\n",
       "      <td>Text embeddings, Unimodal (text), English, 512...</td>\n",
       "      <td>0.130</td>\n",
       "      <td>{'url': 'https://storage.googleapis.com/qdrant...</td>\n",
       "      <td>model_optimized.onnx</td>\n",
       "      <td>NaN</td>\n",
       "    </tr>\n",
       "    <tr>\n",
       "      <th>4</th>\n",
       "      <td>BAAI/bge-small-en-v1.5</td>\n",
       "      <td>384</td>\n",
       "      <td>Text embeddings, Unimodal (text), English, 512...</td>\n",
       "      <td>0.067</td>\n",
       "      <td>{'hf': 'qdrant/bge-small-en-v1.5-onnx-q'}</td>\n",
       "      <td>model_optimized.onnx</td>\n",
       "      <td>NaN</td>\n",
       "    </tr>\n",
       "    <tr>\n",
       "      <th>5</th>\n",
       "      <td>BAAI/bge-small-zh-v1.5</td>\n",
       "      <td>512</td>\n",
       "      <td>Text embeddings, Unimodal (text), Chinese, 512...</td>\n",
       "      <td>0.090</td>\n",
       "      <td>{'url': 'https://storage.googleapis.com/qdrant...</td>\n",
       "      <td>model_optimized.onnx</td>\n",
       "      <td>NaN</td>\n",
       "    </tr>\n",
       "    <tr>\n",
       "      <th>6</th>\n",
       "      <td>sentence-transformers/paraphrase-multilingual-...</td>\n",
       "      <td>384</td>\n",
       "      <td>Text embeddings, Unimodal (text), Multilingual...</td>\n",
       "      <td>0.220</td>\n",
       "      <td>{'hf': 'qdrant/paraphrase-multilingual-MiniLM-...</td>\n",
       "      <td>model_optimized.onnx</td>\n",
       "      <td>NaN</td>\n",
       "    </tr>\n",
       "    <tr>\n",
       "      <th>7</th>\n",
       "      <td>thenlper/gte-large</td>\n",
       "      <td>1024</td>\n",
       "      <td>Text embeddings, Unimodal (text), English, 512...</td>\n",
       "      <td>1.200</td>\n",
       "      <td>{'hf': 'qdrant/gte-large-onnx'}</td>\n",
       "      <td>model.onnx</td>\n",
       "      <td>NaN</td>\n",
       "    </tr>\n",
       "    <tr>\n",
       "      <th>8</th>\n",
       "      <td>mixedbread-ai/mxbai-embed-large-v1</td>\n",
       "      <td>1024</td>\n",
       "      <td>Text embeddings, Unimodal (text), English, 512...</td>\n",
       "      <td>0.640</td>\n",
       "      <td>{'hf': 'mixedbread-ai/mxbai-embed-large-v1'}</td>\n",
       "      <td>onnx/model.onnx</td>\n",
       "      <td>NaN</td>\n",
       "    </tr>\n",
       "    <tr>\n",
       "      <th>9</th>\n",
       "      <td>snowflake/snowflake-arctic-embed-xs</td>\n",
       "      <td>384</td>\n",
       "      <td>Text embeddings, Unimodal (text), English, 512...</td>\n",
       "      <td>0.090</td>\n",
       "      <td>{'hf': 'snowflake/snowflake-arctic-embed-xs'}</td>\n",
       "      <td>onnx/model.onnx</td>\n",
       "      <td>NaN</td>\n",
       "    </tr>\n",
       "    <tr>\n",
       "      <th>10</th>\n",
       "      <td>snowflake/snowflake-arctic-embed-s</td>\n",
       "      <td>384</td>\n",
       "      <td>Text embeddings, Unimodal (text), English, 512...</td>\n",
       "      <td>0.130</td>\n",
       "      <td>{'hf': 'snowflake/snowflake-arctic-embed-s'}</td>\n",
       "      <td>onnx/model.onnx</td>\n",
       "      <td>NaN</td>\n",
       "    </tr>\n",
       "    <tr>\n",
       "      <th>11</th>\n",
       "      <td>snowflake/snowflake-arctic-embed-m</td>\n",
       "      <td>768</td>\n",
       "      <td>Text embeddings, Unimodal (text), English, 512...</td>\n",
       "      <td>0.430</td>\n",
       "      <td>{'hf': 'Snowflake/snowflake-arctic-embed-m'}</td>\n",
       "      <td>onnx/model.onnx</td>\n",
       "      <td>NaN</td>\n",
       "    </tr>\n",
       "    <tr>\n",
       "      <th>12</th>\n",
       "      <td>snowflake/snowflake-arctic-embed-m-long</td>\n",
       "      <td>768</td>\n",
       "      <td>Text embeddings, Unimodal (text), English, 204...</td>\n",
       "      <td>0.540</td>\n",
       "      <td>{'hf': 'snowflake/snowflake-arctic-embed-m-long'}</td>\n",
       "      <td>onnx/model.onnx</td>\n",
       "      <td>NaN</td>\n",
       "    </tr>\n",
       "    <tr>\n",
       "      <th>13</th>\n",
       "      <td>snowflake/snowflake-arctic-embed-l</td>\n",
       "      <td>1024</td>\n",
       "      <td>Text embeddings, Unimodal (text), English, 512...</td>\n",
       "      <td>1.020</td>\n",
       "      <td>{'hf': 'snowflake/snowflake-arctic-embed-l'}</td>\n",
       "      <td>onnx/model.onnx</td>\n",
       "      <td>NaN</td>\n",
       "    </tr>\n",
       "    <tr>\n",
       "      <th>14</th>\n",
       "      <td>intfloat/multilingual-e5-large</td>\n",
       "      <td>1024</td>\n",
       "      <td>Text embeddings, Unimodal (text), Multilingual...</td>\n",
       "      <td>2.240</td>\n",
       "      <td>{'url': 'https://storage.googleapis.com/qdrant...</td>\n",
       "      <td>model.onnx</td>\n",
       "      <td>[model.onnx_data]</td>\n",
       "    </tr>\n",
       "    <tr>\n",
       "      <th>15</th>\n",
       "      <td>sentence-transformers/paraphrase-multilingual-...</td>\n",
       "      <td>768</td>\n",
       "      <td>Text embeddings, Unimodal (text), Multilingual...</td>\n",
       "      <td>1.000</td>\n",
       "      <td>{'hf': 'xenova/paraphrase-multilingual-mpnet-b...</td>\n",
       "      <td>onnx/model.onnx</td>\n",
       "      <td>NaN</td>\n",
       "    </tr>\n",
       "    <tr>\n",
       "      <th>16</th>\n",
       "      <td>Qdrant/clip-ViT-B-32-text</td>\n",
       "      <td>512</td>\n",
       "      <td>Text embeddings, Multimodal (text&amp;image), Engl...</td>\n",
       "      <td>0.250</td>\n",
       "      <td>{'hf': 'Qdrant/clip-ViT-B-32-text'}</td>\n",
       "      <td>model.onnx</td>\n",
       "      <td>NaN</td>\n",
       "    </tr>\n",
       "    <tr>\n",
       "      <th>17</th>\n",
       "      <td>sentence-transformers/all-MiniLM-L6-v2</td>\n",
       "      <td>384</td>\n",
       "      <td>Text embeddings, Unimodal (text), English, 256...</td>\n",
       "      <td>0.090</td>\n",
       "      <td>{'url': 'https://storage.googleapis.com/qdrant...</td>\n",
       "      <td>model.onnx</td>\n",
       "      <td>NaN</td>\n",
       "    </tr>\n",
       "    <tr>\n",
       "      <th>18</th>\n",
       "      <td>jinaai/jina-embeddings-v2-base-en</td>\n",
       "      <td>768</td>\n",
       "      <td>Text embeddings, Unimodal (text), English, 819...</td>\n",
       "      <td>0.520</td>\n",
       "      <td>{'hf': 'xenova/jina-embeddings-v2-base-en'}</td>\n",
       "      <td>onnx/model.onnx</td>\n",
       "      <td>NaN</td>\n",
       "    </tr>\n",
       "    <tr>\n",
       "      <th>19</th>\n",
       "      <td>jinaai/jina-embeddings-v2-small-en</td>\n",
       "      <td>512</td>\n",
       "      <td>Text embeddings, Unimodal (text), English, 819...</td>\n",
       "      <td>0.120</td>\n",
       "      <td>{'hf': 'xenova/jina-embeddings-v2-small-en'}</td>\n",
       "      <td>onnx/model.onnx</td>\n",
       "      <td>NaN</td>\n",
       "    </tr>\n",
       "    <tr>\n",
       "      <th>20</th>\n",
       "      <td>jinaai/jina-embeddings-v2-base-de</td>\n",
       "      <td>768</td>\n",
       "      <td>Text embeddings, Unimodal (text), Multilingual...</td>\n",
       "      <td>0.320</td>\n",
       "      <td>{'hf': 'jinaai/jina-embeddings-v2-base-de'}</td>\n",
       "      <td>onnx/model_fp16.onnx</td>\n",
       "      <td>NaN</td>\n",
       "    </tr>\n",
       "    <tr>\n",
       "      <th>21</th>\n",
       "      <td>jinaai/jina-embeddings-v2-base-code</td>\n",
       "      <td>768</td>\n",
       "      <td>Text embeddings, Unimodal (text), Multilingual...</td>\n",
       "      <td>0.640</td>\n",
       "      <td>{'hf': 'jinaai/jina-embeddings-v2-base-code'}</td>\n",
       "      <td>onnx/model.onnx</td>\n",
       "      <td>NaN</td>\n",
       "    </tr>\n",
       "    <tr>\n",
       "      <th>22</th>\n",
       "      <td>nomic-ai/nomic-embed-text-v1.5</td>\n",
       "      <td>768</td>\n",
       "      <td>Text embeddings, Multimodal (text, image), Eng...</td>\n",
       "      <td>0.520</td>\n",
       "      <td>{'hf': 'nomic-ai/nomic-embed-text-v1.5'}</td>\n",
       "      <td>onnx/model.onnx</td>\n",
       "      <td>NaN</td>\n",
       "    </tr>\n",
       "    <tr>\n",
       "      <th>23</th>\n",
       "      <td>nomic-ai/nomic-embed-text-v1.5-Q</td>\n",
       "      <td>768</td>\n",
       "      <td>Text embeddings, Multimodal (text, image), Eng...</td>\n",
       "      <td>0.130</td>\n",
       "      <td>{'hf': 'nomic-ai/nomic-embed-text-v1.5'}</td>\n",
       "      <td>onnx/model_quantized.onnx</td>\n",
       "      <td>NaN</td>\n",
       "    </tr>\n",
       "    <tr>\n",
       "      <th>24</th>\n",
       "      <td>nomic-ai/nomic-embed-text-v1</td>\n",
       "      <td>768</td>\n",
       "      <td>Text embeddings, Multimodal (text, image), Eng...</td>\n",
       "      <td>0.520</td>\n",
       "      <td>{'hf': 'nomic-ai/nomic-embed-text-v1'}</td>\n",
       "      <td>onnx/model.onnx</td>\n",
       "      <td>NaN</td>\n",
       "    </tr>\n",
       "  </tbody>\n",
       "</table>\n",
       "</div>"
      ],
      "text/plain": [
       "                                                model   dim  \\\n",
       "0                                    BAAI/bge-base-en   768   \n",
       "1                               BAAI/bge-base-en-v1.5   768   \n",
       "2                              BAAI/bge-large-en-v1.5  1024   \n",
       "3                                   BAAI/bge-small-en   384   \n",
       "4                              BAAI/bge-small-en-v1.5   384   \n",
       "5                              BAAI/bge-small-zh-v1.5   512   \n",
       "6   sentence-transformers/paraphrase-multilingual-...   384   \n",
       "7                                  thenlper/gte-large  1024   \n",
       "8                  mixedbread-ai/mxbai-embed-large-v1  1024   \n",
       "9                 snowflake/snowflake-arctic-embed-xs   384   \n",
       "10                 snowflake/snowflake-arctic-embed-s   384   \n",
       "11                 snowflake/snowflake-arctic-embed-m   768   \n",
       "12            snowflake/snowflake-arctic-embed-m-long   768   \n",
       "13                 snowflake/snowflake-arctic-embed-l  1024   \n",
       "14                     intfloat/multilingual-e5-large  1024   \n",
       "15  sentence-transformers/paraphrase-multilingual-...   768   \n",
       "16                          Qdrant/clip-ViT-B-32-text   512   \n",
       "17             sentence-transformers/all-MiniLM-L6-v2   384   \n",
       "18                  jinaai/jina-embeddings-v2-base-en   768   \n",
       "19                 jinaai/jina-embeddings-v2-small-en   512   \n",
       "20                  jinaai/jina-embeddings-v2-base-de   768   \n",
       "21                jinaai/jina-embeddings-v2-base-code   768   \n",
       "22                     nomic-ai/nomic-embed-text-v1.5   768   \n",
       "23                   nomic-ai/nomic-embed-text-v1.5-Q   768   \n",
       "24                       nomic-ai/nomic-embed-text-v1   768   \n",
       "\n",
       "                                          description  size_in_GB  \\\n",
       "0   Text embeddings, Unimodal (text), English, 512...       0.420   \n",
       "1   Text embeddings, Unimodal (text), English, 512...       0.210   \n",
       "2   Text embeddings, Unimodal (text), English, 512...       1.200   \n",
       "3   Text embeddings, Unimodal (text), English, 512...       0.130   \n",
       "4   Text embeddings, Unimodal (text), English, 512...       0.067   \n",
       "5   Text embeddings, Unimodal (text), Chinese, 512...       0.090   \n",
       "6   Text embeddings, Unimodal (text), Multilingual...       0.220   \n",
       "7   Text embeddings, Unimodal (text), English, 512...       1.200   \n",
       "8   Text embeddings, Unimodal (text), English, 512...       0.640   \n",
       "9   Text embeddings, Unimodal (text), English, 512...       0.090   \n",
       "10  Text embeddings, Unimodal (text), English, 512...       0.130   \n",
       "11  Text embeddings, Unimodal (text), English, 512...       0.430   \n",
       "12  Text embeddings, Unimodal (text), English, 204...       0.540   \n",
       "13  Text embeddings, Unimodal (text), English, 512...       1.020   \n",
       "14  Text embeddings, Unimodal (text), Multilingual...       2.240   \n",
       "15  Text embeddings, Unimodal (text), Multilingual...       1.000   \n",
       "16  Text embeddings, Multimodal (text&image), Engl...       0.250   \n",
       "17  Text embeddings, Unimodal (text), English, 256...       0.090   \n",
       "18  Text embeddings, Unimodal (text), English, 819...       0.520   \n",
       "19  Text embeddings, Unimodal (text), English, 819...       0.120   \n",
       "20  Text embeddings, Unimodal (text), Multilingual...       0.320   \n",
       "21  Text embeddings, Unimodal (text), Multilingual...       0.640   \n",
       "22  Text embeddings, Multimodal (text, image), Eng...       0.520   \n",
       "23  Text embeddings, Multimodal (text, image), Eng...       0.130   \n",
       "24  Text embeddings, Multimodal (text, image), Eng...       0.520   \n",
       "\n",
       "                                              sources  \\\n",
       "0   {'url': 'https://storage.googleapis.com/qdrant...   \n",
       "1   {'url': 'https://storage.googleapis.com/qdrant...   \n",
       "2             {'hf': 'qdrant/bge-large-en-v1.5-onnx'}   \n",
       "3   {'url': 'https://storage.googleapis.com/qdrant...   \n",
       "4           {'hf': 'qdrant/bge-small-en-v1.5-onnx-q'}   \n",
       "5   {'url': 'https://storage.googleapis.com/qdrant...   \n",
       "6   {'hf': 'qdrant/paraphrase-multilingual-MiniLM-...   \n",
       "7                     {'hf': 'qdrant/gte-large-onnx'}   \n",
       "8        {'hf': 'mixedbread-ai/mxbai-embed-large-v1'}   \n",
       "9       {'hf': 'snowflake/snowflake-arctic-embed-xs'}   \n",
       "10       {'hf': 'snowflake/snowflake-arctic-embed-s'}   \n",
       "11       {'hf': 'Snowflake/snowflake-arctic-embed-m'}   \n",
       "12  {'hf': 'snowflake/snowflake-arctic-embed-m-long'}   \n",
       "13       {'hf': 'snowflake/snowflake-arctic-embed-l'}   \n",
       "14  {'url': 'https://storage.googleapis.com/qdrant...   \n",
       "15  {'hf': 'xenova/paraphrase-multilingual-mpnet-b...   \n",
       "16                {'hf': 'Qdrant/clip-ViT-B-32-text'}   \n",
       "17  {'url': 'https://storage.googleapis.com/qdrant...   \n",
       "18        {'hf': 'xenova/jina-embeddings-v2-base-en'}   \n",
       "19       {'hf': 'xenova/jina-embeddings-v2-small-en'}   \n",
       "20        {'hf': 'jinaai/jina-embeddings-v2-base-de'}   \n",
       "21      {'hf': 'jinaai/jina-embeddings-v2-base-code'}   \n",
       "22           {'hf': 'nomic-ai/nomic-embed-text-v1.5'}   \n",
       "23           {'hf': 'nomic-ai/nomic-embed-text-v1.5'}   \n",
       "24             {'hf': 'nomic-ai/nomic-embed-text-v1'}   \n",
       "\n",
       "                   model_file   additional_files  \n",
       "0        model_optimized.onnx                NaN  \n",
       "1        model_optimized.onnx                NaN  \n",
       "2                  model.onnx                NaN  \n",
       "3        model_optimized.onnx                NaN  \n",
       "4        model_optimized.onnx                NaN  \n",
       "5        model_optimized.onnx                NaN  \n",
       "6        model_optimized.onnx                NaN  \n",
       "7                  model.onnx                NaN  \n",
       "8             onnx/model.onnx                NaN  \n",
       "9             onnx/model.onnx                NaN  \n",
       "10            onnx/model.onnx                NaN  \n",
       "11            onnx/model.onnx                NaN  \n",
       "12            onnx/model.onnx                NaN  \n",
       "13            onnx/model.onnx                NaN  \n",
       "14                 model.onnx  [model.onnx_data]  \n",
       "15            onnx/model.onnx                NaN  \n",
       "16                 model.onnx                NaN  \n",
       "17                 model.onnx                NaN  \n",
       "18            onnx/model.onnx                NaN  \n",
       "19            onnx/model.onnx                NaN  \n",
       "20       onnx/model_fp16.onnx                NaN  \n",
       "21            onnx/model.onnx                NaN  \n",
       "22            onnx/model.onnx                NaN  \n",
       "23  onnx/model_quantized.onnx                NaN  \n",
       "24            onnx/model.onnx                NaN  "
      ]
     },
     "execution_count": 3,
     "metadata": {},
     "output_type": "execute_result"
    }
   ],
   "source": [
    "## Declaring the intended Embedding Model with Fastembed\n",
    "from fastembed.embedding import TextEmbedding\n",
    "\n",
    "pd.DataFrame(TextEmbedding.list_supported_models())"
   ]
  },
  {
   "cell_type": "code",
   "execution_count": 6,
   "id": "f0d17fee-77b5-4f4a-8da6-239f60ae8173",
   "metadata": {},
   "outputs": [
    {
     "data": {
      "application/vnd.jupyter.widget-view+json": {
       "model_id": "c6997fea6ae9453c9815f20ae0dbb29a",
       "version_major": 2,
       "version_minor": 0
      },
      "text/plain": [
       "Fetching 5 files:   0%|          | 0/5 [00:00<?, ?it/s]"
      ]
     },
     "metadata": {},
     "output_type": "display_data"
    },
    {
     "data": {
      "application/vnd.jupyter.widget-view+json": {
       "model_id": "77e7ab58c04b4c9aab01ab775b704f74",
       "version_major": 2,
       "version_minor": 0
      },
      "text/plain": [
       "model_optimized.onnx:   0%|          | 0.00/66.5M [00:00<?, ?B/s]"
      ]
     },
     "metadata": {},
     "output_type": "display_data"
    },
    {
     "data": {
      "application/vnd.jupyter.widget-view+json": {
       "model_id": "bd4558c7632e419385c1031264ade1e3",
       "version_major": 2,
       "version_minor": 0
      },
      "text/plain": [
       "special_tokens_map.json:   0%|          | 0.00/695 [00:00<?, ?B/s]"
      ]
     },
     "metadata": {},
     "output_type": "display_data"
    },
    {
     "data": {
      "application/vnd.jupyter.widget-view+json": {
       "model_id": "045e2711597048dfa80853d7c0791be7",
       "version_major": 2,
       "version_minor": 0
      },
      "text/plain": [
       "config.json:   0%|          | 0.00/706 [00:00<?, ?B/s]"
      ]
     },
     "metadata": {},
     "output_type": "display_data"
    },
    {
     "data": {
      "application/vnd.jupyter.widget-view+json": {
       "model_id": "bc53e0cbd1284d0fad58acc0ff170f1d",
       "version_major": 2,
       "version_minor": 0
      },
      "text/plain": [
       "tokenizer.json:   0%|          | 0.00/711k [00:00<?, ?B/s]"
      ]
     },
     "metadata": {},
     "output_type": "display_data"
    },
    {
     "data": {
      "application/vnd.jupyter.widget-view+json": {
       "model_id": "d449b7e203a64b519d37f800b37de552",
       "version_major": 2,
       "version_minor": 0
      },
      "text/plain": [
       "tokenizer_config.json:   0%|          | 0.00/1.24k [00:00<?, ?B/s]"
      ]
     },
     "metadata": {},
     "output_type": "display_data"
    }
   ],
   "source": [
    "##Initilising embedding model\n",
    "## Using Default Model - BAAI/bge-small-en-v1.5\n",
    "dense_embedding_model = TextEmbedding()"
   ]
  },
  {
   "cell_type": "code",
   "execution_count": 7,
   "id": "bd9d6158-5066-436d-b107-6cd498090841",
   "metadata": {},
   "outputs": [
    {
     "name": "stdout",
     "output_type": "stream",
     "text": [
      "Cosine Similarity: 0.939148485660553\n"
     ]
    }
   ],
   "source": [
    "##Calculating Vector similairty between 2 dense vectors \n",
    "import numpy as np\n",
    "from sklearn.metrics.pairwise import cosine_similarity\n",
    "\n",
    "# Define two vectors\n",
    "vector_a = np.array(list(dense_embedding_model.embed(\"I like films\"))).flatten().reshape(1, -1)\n",
    "vector_b = np.array(list(dense_embedding_model.embed(\"I like movies\"))).flatten().reshape(1, -1)\n",
    "\n",
    "# Calculate cosine similarity using sklearn\n",
    "similarity_score = cosine_similarity(vector_a, vector_b)\n",
    "\n",
    "print(f\"Cosine Similarity: {similarity_score[0][0]}\")\n"
   ]
  },
  {
   "cell_type": "code",
   "execution_count": 8,
   "id": "6bc9498f-fe23-4f56-9b62-670f38f87a3e",
   "metadata": {},
   "outputs": [
    {
     "data": {
      "text/html": [
       "<div>\n",
       "<style scoped>\n",
       "    .dataframe tbody tr th:only-of-type {\n",
       "        vertical-align: middle;\n",
       "    }\n",
       "\n",
       "    .dataframe tbody tr th {\n",
       "        vertical-align: top;\n",
       "    }\n",
       "\n",
       "    .dataframe thead th {\n",
       "        text-align: right;\n",
       "    }\n",
       "</style>\n",
       "<table border=\"1\" class=\"dataframe\">\n",
       "  <thead>\n",
       "    <tr style=\"text-align: right;\">\n",
       "      <th></th>\n",
       "      <th>model</th>\n",
       "      <th>vocab_size</th>\n",
       "      <th>description</th>\n",
       "      <th>size_in_GB</th>\n",
       "      <th>sources</th>\n",
       "      <th>model_file</th>\n",
       "      <th>additional_files</th>\n",
       "      <th>requires_idf</th>\n",
       "    </tr>\n",
       "  </thead>\n",
       "  <tbody>\n",
       "    <tr>\n",
       "      <th>0</th>\n",
       "      <td>prithivida/Splade_PP_en_v1</td>\n",
       "      <td>30522.0</td>\n",
       "      <td>Independent Implementation of SPLADE++ Model f...</td>\n",
       "      <td>0.532</td>\n",
       "      <td>{'hf': 'Qdrant/SPLADE_PP_en_v1'}</td>\n",
       "      <td>model.onnx</td>\n",
       "      <td>NaN</td>\n",
       "      <td>NaN</td>\n",
       "    </tr>\n",
       "    <tr>\n",
       "      <th>1</th>\n",
       "      <td>prithvida/Splade_PP_en_v1</td>\n",
       "      <td>30522.0</td>\n",
       "      <td>Independent Implementation of SPLADE++ Model f...</td>\n",
       "      <td>0.532</td>\n",
       "      <td>{'hf': 'Qdrant/SPLADE_PP_en_v1'}</td>\n",
       "      <td>model.onnx</td>\n",
       "      <td>NaN</td>\n",
       "      <td>NaN</td>\n",
       "    </tr>\n",
       "    <tr>\n",
       "      <th>2</th>\n",
       "      <td>Qdrant/bm42-all-minilm-l6-v2-attentions</td>\n",
       "      <td>30522.0</td>\n",
       "      <td>Light sparse embedding model, which assigns an...</td>\n",
       "      <td>0.090</td>\n",
       "      <td>{'hf': 'Qdrant/all_miniLM_L6_v2_with_attentions'}</td>\n",
       "      <td>model.onnx</td>\n",
       "      <td>[stopwords.txt]</td>\n",
       "      <td>True</td>\n",
       "    </tr>\n",
       "    <tr>\n",
       "      <th>3</th>\n",
       "      <td>Qdrant/bm25</td>\n",
       "      <td>NaN</td>\n",
       "      <td>BM25 as sparse embeddings meant to be used wit...</td>\n",
       "      <td>0.010</td>\n",
       "      <td>{'hf': 'Qdrant/bm25'}</td>\n",
       "      <td>mock.file</td>\n",
       "      <td>[arabic.txt, azerbaijani.txt, basque.txt, beng...</td>\n",
       "      <td>True</td>\n",
       "    </tr>\n",
       "  </tbody>\n",
       "</table>\n",
       "</div>"
      ],
      "text/plain": [
       "                                     model  vocab_size  \\\n",
       "0               prithivida/Splade_PP_en_v1     30522.0   \n",
       "1                prithvida/Splade_PP_en_v1     30522.0   \n",
       "2  Qdrant/bm42-all-minilm-l6-v2-attentions     30522.0   \n",
       "3                              Qdrant/bm25         NaN   \n",
       "\n",
       "                                         description  size_in_GB  \\\n",
       "0  Independent Implementation of SPLADE++ Model f...       0.532   \n",
       "1  Independent Implementation of SPLADE++ Model f...       0.532   \n",
       "2  Light sparse embedding model, which assigns an...       0.090   \n",
       "3  BM25 as sparse embeddings meant to be used wit...       0.010   \n",
       "\n",
       "                                             sources  model_file  \\\n",
       "0                   {'hf': 'Qdrant/SPLADE_PP_en_v1'}  model.onnx   \n",
       "1                   {'hf': 'Qdrant/SPLADE_PP_en_v1'}  model.onnx   \n",
       "2  {'hf': 'Qdrant/all_miniLM_L6_v2_with_attentions'}  model.onnx   \n",
       "3                              {'hf': 'Qdrant/bm25'}   mock.file   \n",
       "\n",
       "                                    additional_files requires_idf  \n",
       "0                                                NaN          NaN  \n",
       "1                                                NaN          NaN  \n",
       "2                                    [stopwords.txt]         True  \n",
       "3  [arabic.txt, azerbaijani.txt, basque.txt, beng...         True  "
      ]
     },
     "execution_count": 8,
     "metadata": {},
     "output_type": "execute_result"
    }
   ],
   "source": [
    "## Declaring the intended Sparse Embedding Model with Fastembed\n",
    "from fastembed import SparseTextEmbedding\n",
    "\n",
    "pd.DataFrame(SparseTextEmbedding.list_supported_models())"
   ]
  },
  {
   "cell_type": "code",
   "execution_count": 9,
   "id": "87b0e20a-af19-41d9-95d9-d2c1b94fefe8",
   "metadata": {},
   "outputs": [
    {
     "data": {
      "application/vnd.jupyter.widget-view+json": {
       "model_id": "01cb5650f1e34ce481fe4c10e5b6bcc3",
       "version_major": 2,
       "version_minor": 0
      },
      "text/plain": [
       "Fetching 5 files:   0%|          | 0/5 [00:00<?, ?it/s]"
      ]
     },
     "metadata": {},
     "output_type": "display_data"
    },
    {
     "data": {
      "application/vnd.jupyter.widget-view+json": {
       "model_id": "f8f2263c0df649b3b81d34830634ad29",
       "version_major": 2,
       "version_minor": 0
      },
      "text/plain": [
       "tokenizer_config.json:   0%|          | 0.00/1.38k [00:00<?, ?B/s]"
      ]
     },
     "metadata": {},
     "output_type": "display_data"
    },
    {
     "data": {
      "application/vnd.jupyter.widget-view+json": {
       "model_id": "092e119dc47d469397790446fcd7d028",
       "version_major": 2,
       "version_minor": 0
      },
      "text/plain": [
       "model.onnx:   0%|          | 0.00/532M [00:00<?, ?B/s]"
      ]
     },
     "metadata": {},
     "output_type": "display_data"
    },
    {
     "data": {
      "application/vnd.jupyter.widget-view+json": {
       "model_id": "8365971c522143e4a4bf9ca5d7a577f3",
       "version_major": 2,
       "version_minor": 0
      },
      "text/plain": [
       "special_tokens_map.json:   0%|          | 0.00/695 [00:00<?, ?B/s]"
      ]
     },
     "metadata": {},
     "output_type": "display_data"
    },
    {
     "data": {
      "application/vnd.jupyter.widget-view+json": {
       "model_id": "2ada1143f5654844829c01c466aa257c",
       "version_major": 2,
       "version_minor": 0
      },
      "text/plain": [
       "tokenizer.json:   0%|          | 0.00/712k [00:00<?, ?B/s]"
      ]
     },
     "metadata": {},
     "output_type": "display_data"
    },
    {
     "data": {
      "application/vnd.jupyter.widget-view+json": {
       "model_id": "249cd4150a3c426a8e7ae4ea68132ddd",
       "version_major": 2,
       "version_minor": 0
      },
      "text/plain": [
       "config.json:   0%|          | 0.00/755 [00:00<?, ?B/s]"
      ]
     },
     "metadata": {},
     "output_type": "display_data"
    }
   ],
   "source": [
    "splade_embedding_model = SparseTextEmbedding(model_name=\"prithivida/Splade_PP_en_v1\", batch_size=32)"
   ]
  },
  {
   "cell_type": "code",
   "execution_count": 11,
   "id": "d074ebf1-45ad-418c-98de-aec54cbdf21c",
   "metadata": {},
   "outputs": [],
   "source": [
    "# Convert vectors to a list of sparse vectors\n",
    "embedding_a = list(splade_embedding_model.embed(\"I like films\"))\n",
    "embedding_b = list(splade_embedding_model.embed(\"I like movies\"))"
   ]
  },
  {
   "cell_type": "code",
   "execution_count": 16,
   "id": "06518cab-f5a9-447e-b110-b53732e9fdde",
   "metadata": {},
   "outputs": [
    {
     "data": {
      "text/plain": [
       "[SparseEmbedding(values=array([0.94623828, 0.39230481, 0.34555048, 0.98629087, 2.32841992,\n",
       "        2.66329169, 0.38755792, 1.01045001, 0.8589344 , 1.55728137,\n",
       "        0.05035508, 0.01486452, 0.07088873, 2.22820854, 2.26132703,\n",
       "        0.03131655, 0.54804105, 0.12744598, 1.21080792, 0.22443028,\n",
       "        0.54885274, 1.65060639, 0.46731812, 0.25375697]), indices=array([1045, 2017, 2026, 2055, 2066, 2143, 2189, 2204, 2215, 2293, 2338,\n",
       "        2396, 2806, 3152, 3185, 3226, 3835, 4368, 4669, 4676, 5223, 5691,\n",
       "        5988, 6907]))]"
      ]
     },
     "execution_count": 16,
     "metadata": {},
     "output_type": "execute_result"
    }
   ],
   "source": [
    "embedding_a"
   ]
  },
  {
   "cell_type": "code",
   "execution_count": 17,
   "id": "e0ca2576-d53b-47eb-b118-c7767fe70969",
   "metadata": {},
   "outputs": [
    {
     "data": {
      "text/plain": [
       "[SparseEmbedding(values=array([0.82452905, 0.2727384 , 0.3407366 , 0.90728402, 2.20379853,\n",
       "        2.21208191, 0.0680519 , 1.08687437, 0.23361236, 0.69847447,\n",
       "        1.52581418, 0.1723327 , 0.19406748, 0.24051629, 0.98372197,\n",
       "        2.58097696, 0.42432949, 0.10421138, 0.97070301, 0.09078193,\n",
       "        0.12890291, 2.3312254 , 0.42535451, 0.2519685 ]), indices=array([1045, 2017, 2026, 2055, 2066, 2143, 2189, 2204, 2208, 2215, 2293,\n",
       "        2338, 2399, 2759, 3152, 3185, 3835, 4368, 4669, 4676, 5223, 5691,\n",
       "        5988, 6907]))]"
      ]
     },
     "execution_count": 17,
     "metadata": {},
     "output_type": "execute_result"
    }
   ],
   "source": [
    "embedding_b"
   ]
  },
  {
   "cell_type": "code",
   "execution_count": 12,
   "id": "e9a43494-77f2-477f-bea0-2f24c48a79f9",
   "metadata": {},
   "outputs": [],
   "source": [
    "import json\n",
    "from tokenizers import Tokenizer\n",
    "index = 0\n",
    "tokenizer = Tokenizer.from_pretrained(SparseTextEmbedding.list_supported_models()[0][\"sources\"][\"hf\"])"
   ]
  },
  {
   "cell_type": "code",
   "execution_count": 13,
   "id": "9cdc5734-407c-4d31-9d16-d9a21cce620b",
   "metadata": {},
   "outputs": [],
   "source": [
    "def get_tokens_and_weights(sparse_embedding, tokenizer):\n",
    "    token_weight_dict = {}\n",
    "    for i in range(len(sparse_embedding.indices)):\n",
    "        token = tokenizer.decode([sparse_embedding.indices[i]])\n",
    "        weight = sparse_embedding.values[i]\n",
    "        token_weight_dict[token] = weight\n",
    "\n",
    "    # Sort the dictionary by weights\n",
    "    token_weight_dict = dict(sorted(token_weight_dict.items(), key=lambda item: item[1], reverse=True))\n",
    "    return token_weight_dict"
   ]
  },
  {
   "cell_type": "code",
   "execution_count": 14,
   "id": "593f4bef-be5f-4274-b44c-b232959ada56",
   "metadata": {},
   "outputs": [
    {
     "name": "stdout",
     "output_type": "stream",
     "text": [
      "{\n",
      "    \"film\": 2.6632916927337646,\n",
      "    \"like\": 2.3284199237823486,\n",
      "    \"movie\": 2.261327028274536,\n",
      "    \"films\": 2.228208541870117,\n",
      "    \"movies\": 1.650606393814087,\n",
      "    \"love\": 1.5572813749313354,\n",
      "    \"liked\": 1.2108079195022583,\n",
      "    \"good\": 1.010450005531311,\n",
      "    \"about\": 0.9862908720970154,\n",
      "    \"i\": 0.9462382793426514,\n",
      "    \"want\": 0.8589344024658203,\n",
      "    \"hate\": 0.5488527417182922,\n",
      "    \"nice\": 0.548041045665741,\n",
      "    \"cinema\": 0.4673181176185608,\n",
      "    \"you\": 0.39230480790138245,\n",
      "    \"music\": 0.3875579237937927,\n",
      "    \"my\": 0.3455504775047302,\n",
      "    \"genre\": 0.25375697016716003,\n",
      "    \"religion\": 0.22443027794361115,\n",
      "    \"sport\": 0.1274459809064865,\n",
      "    \"style\": 0.07088872790336609,\n",
      "    \"book\": 0.05035507678985596,\n",
      "    \"culture\": 0.031316548585891724,\n",
      "    \"art\": 0.014864521101117134\n",
      "}\n"
     ]
    }
   ],
   "source": [
    "# Test the function with the first SparseEmbedding\n",
    "print(json.dumps(get_tokens_and_weights(embedding_a[0], tokenizer), indent=4))"
   ]
  },
  {
   "cell_type": "code",
   "execution_count": 15,
   "id": "df3ca371-3bd9-4957-a65f-4ebcf9c68eff",
   "metadata": {},
   "outputs": [
    {
     "name": "stdout",
     "output_type": "stream",
     "text": [
      "{\n",
      "    \"movie\": 2.580976963043213,\n",
      "    \"movies\": 2.3312253952026367,\n",
      "    \"film\": 2.2120819091796875,\n",
      "    \"like\": 2.203798532485962,\n",
      "    \"love\": 1.525814175605774,\n",
      "    \"good\": 1.0868743658065796,\n",
      "    \"films\": 0.9837219715118408,\n",
      "    \"liked\": 0.9707030057907104,\n",
      "    \"about\": 0.9072840213775635,\n",
      "    \"i\": 0.8245290517807007,\n",
      "    \"want\": 0.6984744668006897,\n",
      "    \"cinema\": 0.4253545105457306,\n",
      "    \"nice\": 0.4243294894695282,\n",
      "    \"my\": 0.34073659777641296,\n",
      "    \"you\": 0.27273839712142944,\n",
      "    \"genre\": 0.25196850299835205,\n",
      "    \"popular\": 0.2405162900686264,\n",
      "    \"game\": 0.23361235857009888,\n",
      "    \"games\": 0.19406747817993164,\n",
      "    \"book\": 0.17233270406723022,\n",
      "    \"hate\": 0.12890291213989258,\n",
      "    \"sport\": 0.10421138256788254,\n",
      "    \"religion\": 0.09078193455934525,\n",
      "    \"music\": 0.06805189698934555\n",
      "}\n"
     ]
    }
   ],
   "source": [
    "# Test the function with the first SparseEmbedding\n",
    "print(json.dumps(get_tokens_and_weights(embedding_b[0], tokenizer), indent=4))"
   ]
  },
  {
   "cell_type": "code",
   "execution_count": 19,
   "id": "1070ccf6-ce78-414e-9d43-c5437fe4f2a5",
   "metadata": {},
   "outputs": [
    {
     "name": "stdout",
     "output_type": "stream",
     "text": [
      "Similarity score: 30.68323275421868\n"
     ]
    }
   ],
   "source": [
    "import numpy as np\n",
    "\n",
    "##This formula calculates the similarity score by multiplying corresponding elements of the document1 and document2 vectors \n",
    "##and summing these products. \n",
    "##This method is particularly effective with sparse vectors, where many elements are zero, \n",
    "##leading to a computationally efficient process. \n",
    "##The higher the score, the greater the similarity between the document1 and the document2, \n",
    "##making it a valuable metric for assessing the similarity of documents.\n",
    "\n",
    "\n",
    "def sparse_vector_similarity(emb1, emb2):\n",
    "    # Convert sparse embeddings to dictionaries for fast lookup\n",
    "    dict_emb1 = dict(zip(emb1.indices, emb1.values))\n",
    "    dict_emb2 = dict(zip(emb2.indices, emb2.values))\n",
    "    \n",
    "    # Find common indices\n",
    "    common_indices = set(dict_emb1.keys()).intersection(dict_emb2.keys())\n",
    "    \n",
    "    # Calculate similarity score by summing the product of corresponding values\n",
    "    similarity_score = sum(dict_emb1[idx] * dict_emb2[idx] for idx in common_indices)\n",
    "    \n",
    "    return similarity_score\n",
    "\n",
    "\n",
    "\n",
    "# Calculate similarity\n",
    "similarity = sparse_vector_similarity(embedding_a[0], embedding_b[0])\n",
    "print(f\"Similarity score: {similarity}\")\n"
   ]
  },
  {
   "cell_type": "code",
   "execution_count": 21,
   "id": "eb7bef72-c117-4ae4-ad1b-ce2cc73a55a8",
   "metadata": {},
   "outputs": [
    {
     "data": {
      "application/vnd.jupyter.widget-view+json": {
       "model_id": "d0c4c53ec3aa4b628ca6af1fabe2f3b1",
       "version_major": 2,
       "version_minor": 0
      },
      "text/plain": [
       "Fetching 29 files:   0%|          | 0/29 [00:00<?, ?it/s]"
      ]
     },
     "metadata": {},
     "output_type": "display_data"
    },
    {
     "data": {
      "application/vnd.jupyter.widget-view+json": {
       "model_id": "723a6e4b72f945d3bef1749731d9cdec",
       "version_major": 2,
       "version_minor": 0
      },
      "text/plain": [
       "chinese.txt:   0%|          | 0.00/5.56k [00:00<?, ?B/s]"
      ]
     },
     "metadata": {},
     "output_type": "display_data"
    },
    {
     "data": {
      "application/vnd.jupyter.widget-view+json": {
       "model_id": "96f5e179776248e3b6f2d2625ec2559c",
       "version_major": 2,
       "version_minor": 0
      },
      "text/plain": [
       "danish.txt:   0%|          | 0.00/424 [00:00<?, ?B/s]"
      ]
     },
     "metadata": {},
     "output_type": "display_data"
    },
    {
     "data": {
      "application/vnd.jupyter.widget-view+json": {
       "model_id": "691e46ee06e441f7a08d83825ce98fe1",
       "version_major": 2,
       "version_minor": 0
      },
      "text/plain": [
       "azerbaijani.txt:   0%|          | 0.00/967 [00:00<?, ?B/s]"
      ]
     },
     "metadata": {},
     "output_type": "display_data"
    },
    {
     "data": {
      "application/vnd.jupyter.widget-view+json": {
       "model_id": "f625152e48dc4f81b41c4d7d4426308b",
       "version_major": 2,
       "version_minor": 0
      },
      "text/plain": [
       "arabic.txt:   0%|          | 0.00/6.35k [00:00<?, ?B/s]"
      ]
     },
     "metadata": {},
     "output_type": "display_data"
    },
    {
     "data": {
      "application/vnd.jupyter.widget-view+json": {
       "model_id": "d40131851be24fefa66b94001663b205",
       "version_major": 2,
       "version_minor": 0
      },
      "text/plain": [
       "basque.txt:   0%|          | 0.00/2.20k [00:00<?, ?B/s]"
      ]
     },
     "metadata": {},
     "output_type": "display_data"
    },
    {
     "data": {
      "application/vnd.jupyter.widget-view+json": {
       "model_id": "120c77944ba44ef78e1ec286203072db",
       "version_major": 2,
       "version_minor": 0
      },
      "text/plain": [
       "catalan.txt:   0%|          | 0.00/1.56k [00:00<?, ?B/s]"
      ]
     },
     "metadata": {},
     "output_type": "display_data"
    },
    {
     "data": {
      "application/vnd.jupyter.widget-view+json": {
       "model_id": "5f6bf4b68cb04d3894f3e9466ad46aba",
       "version_major": 2,
       "version_minor": 0
      },
      "text/plain": [
       "bengali.txt:   0%|          | 0.00/5.44k [00:00<?, ?B/s]"
      ]
     },
     "metadata": {},
     "output_type": "display_data"
    },
    {
     "data": {
      "application/vnd.jupyter.widget-view+json": {
       "model_id": "84642a7183294146b5c9fb92dcd45f7a",
       "version_major": 2,
       "version_minor": 0
      },
      "text/plain": [
       "english.txt:   0%|          | 0.00/936 [00:00<?, ?B/s]"
      ]
     },
     "metadata": {},
     "output_type": "display_data"
    },
    {
     "data": {
      "application/vnd.jupyter.widget-view+json": {
       "model_id": "c96b178f71c64a819eb37297bb2bcd33",
       "version_major": 2,
       "version_minor": 0
      },
      "text/plain": [
       "finnish.txt:   0%|          | 0.00/1.58k [00:00<?, ?B/s]"
      ]
     },
     "metadata": {},
     "output_type": "display_data"
    },
    {
     "data": {
      "application/vnd.jupyter.widget-view+json": {
       "model_id": "f3e98f6ac53d46a098f08cd8b2bff061",
       "version_major": 2,
       "version_minor": 0
      },
      "text/plain": [
       "french.txt:   0%|          | 0.00/813 [00:00<?, ?B/s]"
      ]
     },
     "metadata": {},
     "output_type": "display_data"
    },
    {
     "data": {
      "application/vnd.jupyter.widget-view+json": {
       "model_id": "03f247e6d1a449b2b47a48cace93f43f",
       "version_major": 2,
       "version_minor": 0
      },
      "text/plain": [
       "dutch.txt:   0%|          | 0.00/453 [00:00<?, ?B/s]"
      ]
     },
     "metadata": {},
     "output_type": "display_data"
    },
    {
     "data": {
      "application/vnd.jupyter.widget-view+json": {
       "model_id": "a80aa15d0b85461795f99bfe4ae8186d",
       "version_major": 2,
       "version_minor": 0
      },
      "text/plain": [
       "hinglish.txt:   0%|          | 0.00/5.96k [00:00<?, ?B/s]"
      ]
     },
     "metadata": {},
     "output_type": "display_data"
    },
    {
     "data": {
      "application/vnd.jupyter.widget-view+json": {
       "model_id": "1cf98c62f2cf4aa795d919a9aa8b73db",
       "version_major": 2,
       "version_minor": 0
      },
      "text/plain": [
       "greek.txt:   0%|          | 0.00/2.17k [00:00<?, ?B/s]"
      ]
     },
     "metadata": {},
     "output_type": "display_data"
    },
    {
     "data": {
      "application/vnd.jupyter.widget-view+json": {
       "model_id": "d0f96c730add4ea0b55ff7952fd64ac3",
       "version_major": 2,
       "version_minor": 0
      },
      "text/plain": [
       "hungarian.txt:   0%|          | 0.00/1.23k [00:00<?, ?B/s]"
      ]
     },
     "metadata": {},
     "output_type": "display_data"
    },
    {
     "data": {
      "application/vnd.jupyter.widget-view+json": {
       "model_id": "5858f546eebf4efb8261c5d2cf524f03",
       "version_major": 2,
       "version_minor": 0
      },
      "text/plain": [
       "indonesian.txt:   0%|          | 0.00/6.45k [00:00<?, ?B/s]"
      ]
     },
     "metadata": {},
     "output_type": "display_data"
    },
    {
     "data": {
      "application/vnd.jupyter.widget-view+json": {
       "model_id": "8958addd225e4b3fbdc08552fb318dea",
       "version_major": 2,
       "version_minor": 0
      },
      "text/plain": [
       "italian.txt:   0%|          | 0.00/1.65k [00:00<?, ?B/s]"
      ]
     },
     "metadata": {},
     "output_type": "display_data"
    },
    {
     "data": {
      "application/vnd.jupyter.widget-view+json": {
       "model_id": "bc23da18011c4d6781286a685f9c4e16",
       "version_major": 2,
       "version_minor": 0
      },
      "text/plain": [
       "german.txt:   0%|          | 0.00/1.36k [00:00<?, ?B/s]"
      ]
     },
     "metadata": {},
     "output_type": "display_data"
    },
    {
     "data": {
      "application/vnd.jupyter.widget-view+json": {
       "model_id": "6c8ecf666a1c4645b44ffdff77f79891",
       "version_major": 2,
       "version_minor": 0
      },
      "text/plain": [
       "hebrew.txt:   0%|          | 0.00/1.84k [00:00<?, ?B/s]"
      ]
     },
     "metadata": {},
     "output_type": "display_data"
    },
    {
     "data": {
      "application/vnd.jupyter.widget-view+json": {
       "model_id": "2f645813b44743e6ad6c66b62a6b9c25",
       "version_major": 2,
       "version_minor": 0
      },
      "text/plain": [
       "kazakh.txt:   0%|          | 0.00/3.88k [00:00<?, ?B/s]"
      ]
     },
     "metadata": {},
     "output_type": "display_data"
    },
    {
     "data": {
      "application/vnd.jupyter.widget-view+json": {
       "model_id": "a6274efb22b44b69a5118d2cb08d7490",
       "version_major": 2,
       "version_minor": 0
      },
      "text/plain": [
       "norwegian.txt:   0%|          | 0.00/851 [00:00<?, ?B/s]"
      ]
     },
     "metadata": {},
     "output_type": "display_data"
    },
    {
     "data": {
      "application/vnd.jupyter.widget-view+json": {
       "model_id": "17a4e17498a84fe48cac161be2002b30",
       "version_major": 2,
       "version_minor": 0
      },
      "text/plain": [
       "nepali.txt:   0%|          | 0.00/3.61k [00:00<?, ?B/s]"
      ]
     },
     "metadata": {},
     "output_type": "display_data"
    },
    {
     "data": {
      "application/vnd.jupyter.widget-view+json": {
       "model_id": "d8b3160d9a7744429f371d68037160a0",
       "version_major": 2,
       "version_minor": 0
      },
      "text/plain": [
       "portuguese.txt:   0%|          | 0.00/1.29k [00:00<?, ?B/s]"
      ]
     },
     "metadata": {},
     "output_type": "display_data"
    },
    {
     "data": {
      "application/vnd.jupyter.widget-view+json": {
       "model_id": "15def7a8eb554b0a943313640ebf44a6",
       "version_major": 2,
       "version_minor": 0
      },
      "text/plain": [
       "romanian.txt:   0%|          | 0.00/1.91k [00:00<?, ?B/s]"
      ]
     },
     "metadata": {},
     "output_type": "display_data"
    },
    {
     "data": {
      "application/vnd.jupyter.widget-view+json": {
       "model_id": "4a1deb6d09f34877b7e7ed2a9d4c646d",
       "version_major": 2,
       "version_minor": 0
      },
      "text/plain": [
       "slovene.txt:   0%|          | 0.00/16.0k [00:00<?, ?B/s]"
      ]
     },
     "metadata": {},
     "output_type": "display_data"
    },
    {
     "data": {
      "application/vnd.jupyter.widget-view+json": {
       "model_id": "f3e3824306b548fc93a87bbfbeecf945",
       "version_major": 2,
       "version_minor": 0
      },
      "text/plain": [
       "russian.txt:   0%|          | 0.00/1.24k [00:00<?, ?B/s]"
      ]
     },
     "metadata": {},
     "output_type": "display_data"
    },
    {
     "data": {
      "application/vnd.jupyter.widget-view+json": {
       "model_id": "7af69f5d31c44f6a9def9bed621c3046",
       "version_major": 2,
       "version_minor": 0
      },
      "text/plain": [
       "spanish.txt:   0%|          | 0.00/2.18k [00:00<?, ?B/s]"
      ]
     },
     "metadata": {},
     "output_type": "display_data"
    },
    {
     "data": {
      "application/vnd.jupyter.widget-view+json": {
       "model_id": "5a4c62785c2b4854842c839b1c131839",
       "version_major": 2,
       "version_minor": 0
      },
      "text/plain": [
       "swedish.txt:   0%|          | 0.00/559 [00:00<?, ?B/s]"
      ]
     },
     "metadata": {},
     "output_type": "display_data"
    },
    {
     "data": {
      "application/vnd.jupyter.widget-view+json": {
       "model_id": "e925d4f653c4496aad633d91a535ef46",
       "version_major": 2,
       "version_minor": 0
      },
      "text/plain": [
       "tajik.txt:   0%|          | 0.00/1.82k [00:00<?, ?B/s]"
      ]
     },
     "metadata": {},
     "output_type": "display_data"
    },
    {
     "data": {
      "application/vnd.jupyter.widget-view+json": {
       "model_id": "2128dda4db1d4f1295516f2f425a71c8",
       "version_major": 2,
       "version_minor": 0
      },
      "text/plain": [
       "turkish.txt:   0%|          | 0.00/260 [00:00<?, ?B/s]"
      ]
     },
     "metadata": {},
     "output_type": "display_data"
    }
   ],
   "source": [
    "from fastembed.sparse.bm25 import Bm25\n",
    "bm25_embedding_model = Bm25(\"Qdrant/bm25\")"
   ]
  },
  {
   "cell_type": "code",
   "execution_count": 22,
   "id": "e8cda604-19f4-4cb3-b427-7c257b94c8ff",
   "metadata": {},
   "outputs": [],
   "source": [
    "# Convert vectors to a list of sparse vectors\n",
    "bm25_embedding_a = list(bm25_embedding_model.embed(\"I like films\"))\n",
    "bm25_embedding_b = list(bm25_embedding_model.embed(\"I like movies\"))"
   ]
  },
  {
   "cell_type": "code",
   "execution_count": 23,
   "id": "dc3a62d4-fddd-41b3-9e5a-581fbd3226d0",
   "metadata": {},
   "outputs": [
    {
     "data": {
      "text/plain": [
       "[SparseEmbedding(values=array([1.67868852, 1.67868852, 1.67868852]), indices=array([1418846154,  366928855,  103666345]))]"
      ]
     },
     "execution_count": 23,
     "metadata": {},
     "output_type": "execute_result"
    }
   ],
   "source": [
    "bm25_embedding_a"
   ]
  },
  {
   "cell_type": "code",
   "execution_count": 24,
   "id": "c2e3e1fb-c503-4019-803b-33ccad9a5b2c",
   "metadata": {},
   "outputs": [
    {
     "data": {
      "text/plain": [
       "[SparseEmbedding(values=array([1.67868852, 1.67868852, 1.67868852]), indices=array([1418846154,  366928855,  179795244]))]"
      ]
     },
     "execution_count": 24,
     "metadata": {},
     "output_type": "execute_result"
    }
   ],
   "source": [
    "bm25_embedding_b"
   ]
  },
  {
   "cell_type": "code",
   "execution_count": 25,
   "id": "828ee358-4875-45f3-b26e-de975664122f",
   "metadata": {},
   "outputs": [
    {
     "data": {
      "application/vnd.jupyter.widget-view+json": {
       "model_id": "a37a9134b6c547b0a119c49c5389954e",
       "version_major": 2,
       "version_minor": 0
      },
      "text/plain": [
       "tokenizer.json:   0%|          | 0.00/711k [00:00<?, ?B/s]"
      ]
     },
     "metadata": {},
     "output_type": "display_data"
    }
   ],
   "source": [
    "import json\n",
    "from tokenizers import Tokenizer\n",
    "index = 0\n",
    "tokenizer_bm25 = Tokenizer.from_pretrained(SparseTextEmbedding.list_supported_models()[2][\"sources\"][\"hf\"])"
   ]
  },
  {
   "cell_type": "code",
   "execution_count": 34,
   "id": "2cbfed8a-320f-489f-b27d-b84a6ef6bb09",
   "metadata": {},
   "outputs": [
    {
     "name": "stdout",
     "output_type": "stream",
     "text": [
      "BM25 Similarity score: 5.635990325181404\n"
     ]
    }
   ],
   "source": [
    "similarity_bm25 = sparse_vector_similarity(bm25_embedding_a[0], bm25_embedding_b[0])\n",
    "print(f\"BM25 Similarity score: {similarity_bm25}\")\n"
   ]
  },
  {
   "cell_type": "code",
   "execution_count": null,
   "id": "0e96f3fb-0f07-4ed1-8c80-f4383d2abf3f",
   "metadata": {},
   "outputs": [],
   "source": []
  }
 ],
 "metadata": {
  "kernelspec": {
   "display_name": "Python 3 (ipykernel)",
   "language": "python",
   "name": "python3"
  },
  "language_info": {
   "codemirror_mode": {
    "name": "ipython",
    "version": 3
   },
   "file_extension": ".py",
   "mimetype": "text/x-python",
   "name": "python",
   "nbconvert_exporter": "python",
   "pygments_lexer": "ipython3",
   "version": "3.12.5"
  }
 },
 "nbformat": 4,
 "nbformat_minor": 5
}
